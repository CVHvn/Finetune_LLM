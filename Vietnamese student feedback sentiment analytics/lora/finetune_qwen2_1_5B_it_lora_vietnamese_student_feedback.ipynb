{
  "cells": [
    {
      "cell_type": "markdown",
      "metadata": {
        "_cell_guid": "b1076dfc-b9ad-4769-8c92-a6c4dae69d19",
        "_uuid": "8f2839f25d086af736a60e9eeb907d3b93b6e0e5",
        "id": "jifd1iT9PGTx"
      },
      "source": [
        "# Install library"
      ]
    },
    {
      "cell_type": "code",
      "execution_count": null,
      "metadata": {
        "id": "ZXhnT8XHPGTy",
        "outputId": "ece9fa1c-a7b0-424c-94f8-40acbfe422a4"
      },
      "outputs": [
        {
          "name": "stdout",
          "output_type": "stream",
          "text": [
            "\u001b[33mWARNING: Running pip as the 'root' user can result in broken permissions and conflicting behaviour with the system package manager. It is recommended to use a virtual environment instead: https://pip.pypa.io/warnings/venv\u001b[0m\u001b[33m\n",
            "\u001b[0m\u001b[33mWARNING: Running pip as the 'root' user can result in broken permissions and conflicting behaviour with the system package manager. It is recommended to use a virtual environment instead: https://pip.pypa.io/warnings/venv\u001b[0m\u001b[33m\n",
            "\u001b[0m\u001b[33mWARNING: Running pip as the 'root' user can result in broken permissions and conflicting behaviour with the system package manager. It is recommended to use a virtual environment instead: https://pip.pypa.io/warnings/venv\u001b[0m\u001b[33m\n",
            "\u001b[0m\u001b[33mWARNING: Running pip as the 'root' user can result in broken permissions and conflicting behaviour with the system package manager. It is recommended to use a virtual environment instead: https://pip.pypa.io/warnings/venv\u001b[0m\u001b[33m\n",
            "\u001b[0m\u001b[33mWARNING: Running pip as the 'root' user can result in broken permissions and conflicting behaviour with the system package manager. It is recommended to use a virtual environment instead: https://pip.pypa.io/warnings/venv\u001b[0m\u001b[33m\n",
            "\u001b[0m\u001b[33mWARNING: Running pip as the 'root' user can result in broken permissions and conflicting behaviour with the system package manager. It is recommended to use a virtual environment instead: https://pip.pypa.io/warnings/venv\u001b[0m\u001b[33m\n",
            "\u001b[0m\u001b[33mWARNING: Running pip as the 'root' user can result in broken permissions and conflicting behaviour with the system package manager. It is recommended to use a virtual environment instead: https://pip.pypa.io/warnings/venv\u001b[0m\u001b[33m\n",
            "\u001b[0m\u001b[33mWARNING: Running pip as the 'root' user can result in broken permissions and conflicting behaviour with the system package manager. It is recommended to use a virtual environment instead: https://pip.pypa.io/warnings/venv\u001b[0m\u001b[33m\n",
            "\u001b[0m\u001b[33mWARNING: Running pip as the 'root' user can result in broken permissions and conflicting behaviour with the system package manager. It is recommended to use a virtual environment instead: https://pip.pypa.io/warnings/venv\u001b[0m\u001b[33m\n",
            "\u001b[0m\u001b[33mWARNING: Running pip as the 'root' user can result in broken permissions and conflicting behaviour with the system package manager. It is recommended to use a virtual environment instead: https://pip.pypa.io/warnings/venv\u001b[0m\u001b[33m\n",
            "\u001b[0m"
          ]
        }
      ],
      "source": [
        "!pip install -q datasets==2.16.0\n",
        "!pip install -q bitsandbytes\n",
        "!pip install -q tiktoken\n",
        "!pip install -q peft\n",
        "!pip install -q trl\n",
        "!pip install -q transformers\n",
        "!pip install -q openpyxl\n",
        "!pip install -q pandas\n",
        "!pip install -q scikit-learn\n",
        "!pip install -q flash-attn\n",
        "#pip install -q transformers==4.38.1"
      ]
    },
    {
      "cell_type": "markdown",
      "metadata": {
        "id": "_DSr9kKuPGTz"
      },
      "source": [
        "# Import library"
      ]
    },
    {
      "cell_type": "code",
      "execution_count": null,
      "metadata": {
        "id": "eRGsO_RSPGTz"
      },
      "outputs": [],
      "source": [
        "import json\n",
        "import torch\n",
        "import pandas as pd\n",
        "import numpy as np\n",
        "from datasets import load_dataset\n",
        "from transformers import AutoModelForCausalLM, AutoTokenizer, BitsAndBytesConfig\n",
        "import torch\n",
        "from accelerate import PartialState\n",
        "from peft import LoraConfig, PeftModel, prepare_model_for_kbit_training, get_peft_model\n",
        "from trl import SFTTrainer\n",
        "from peft import prepare_model_for_kbit_training\n",
        "from transformers import TrainingArguments"
      ]
    },
    {
      "cell_type": "markdown",
      "metadata": {
        "id": "I8nDYPC_PGT0"
      },
      "source": [
        "# Hyperparameters"
      ]
    },
    {
      "cell_type": "code",
      "execution_count": null,
      "metadata": {
        "id": "ZB8BnQPtPGT1"
      },
      "outputs": [],
      "source": [
        "modelpath = \"Qwen/Qwen2-1.5B-Instruct\"\n",
        "lr=2e-4      # learning rate\n",
        "bs=16            # batch size\n",
        "bs_eval=16      # batch size for evals\n",
        "ga_steps=1     # gradient acc. steps\n",
        "epochs=4\n",
        "max_length=128      # max. sample length with 24GB VRAM\n",
        "output_dir=\"out\""
      ]
    },
    {
      "cell_type": "markdown",
      "metadata": {
        "id": "718sAXQGPGT2"
      },
      "source": [
        "# Remove old model\n",
        "Because of limited storage, we can't save all models, we need to delete all models in cache by the following code:\n",
        "- rm -r out: delete out folder (because I save finetuned model in out folder), you can change folder name like (rm -r output_folder). If you doesn't have out folder, this commend do not thing.\n",
        "- all pretrained huggingface models will auto save in transformers.TRANSFORMERS_CACHE. I use shutil.rmtree to delete them."
      ]
    },
    {
      "cell_type": "code",
      "execution_count": null,
      "metadata": {
        "id": "LMaJlkaQPGT2"
      },
      "outputs": [],
      "source": [
        "!rm -r out"
      ]
    },
    {
      "cell_type": "code",
      "execution_count": null,
      "metadata": {
        "id": "X0m25NrbPGT2"
      },
      "outputs": [],
      "source": [
        "# from transformers import TRANSFORMERS_CACHE\n",
        "# print(TRANSFORMERS_CACHE)\n",
        "\n",
        "# import shutil\n",
        "# shutil.rmtree(TRANSFORMERS_CACHE)"
      ]
    },
    {
      "cell_type": "markdown",
      "metadata": {
        "id": "uEV431EcPGT2"
      },
      "source": [
        "# Create Dataset\n",
        "Download dataset from [kaggle synthetic-vietnamese-students-feedback-corpus](https://www.kaggle.com/datasets/toreleon/synthetic-vietnamese-students-feedback-corpus/data)\n",
        "\n",
        "We need convert DataFrame to json line (jsonl)."
      ]
    },
    {
      "cell_type": "code",
      "execution_count": null,
      "metadata": {
        "id": "UIIM1H2MPGT3"
      },
      "outputs": [],
      "source": [
        "df_train = pd.read_csv(\"synthetic_train.csv\")\n",
        "df_test = pd.read_csv(\"synthetic_val.csv\")"
      ]
    },
    {
      "cell_type": "code",
      "execution_count": null,
      "metadata": {
        "id": "DwDM2l7ZPGT3",
        "outputId": "4efbd1ed-93ee-4324-e5b1-0a31e03de343"
      },
      "outputs": [
        {
          "data": {
            "text/html": [
              "<div>\n",
              "<style scoped>\n",
              "    .dataframe tbody tr th:only-of-type {\n",
              "        vertical-align: middle;\n",
              "    }\n",
              "\n",
              "    .dataframe tbody tr th {\n",
              "        vertical-align: top;\n",
              "    }\n",
              "\n",
              "    .dataframe thead th {\n",
              "        text-align: right;\n",
              "    }\n",
              "</style>\n",
              "<table border=\"1\" class=\"dataframe\">\n",
              "  <thead>\n",
              "    <tr style=\"text-align: right;\">\n",
              "      <th></th>\n",
              "      <th>sentence</th>\n",
              "      <th>sentiment</th>\n",
              "      <th>topic</th>\n",
              "    </tr>\n",
              "  </thead>\n",
              "  <tbody>\n",
              "    <tr>\n",
              "      <th>0</th>\n",
              "      <td>Đội ngũ bảo trì quá thưa thớt dẫn đến không đả...</td>\n",
              "      <td>negative</td>\n",
              "      <td>facility</td>\n",
              "    </tr>\n",
              "    <tr>\n",
              "      <th>1</th>\n",
              "      <td>The university's musical and artistic faciliti...</td>\n",
              "      <td>neutral</td>\n",
              "      <td>facility</td>\n",
              "    </tr>\n",
              "    <tr>\n",
              "      <th>2</th>\n",
              "      <td>Phương pháp giảng dạy phù hợp với các đối tượn...</td>\n",
              "      <td>neutral</td>\n",
              "      <td>curriculum</td>\n",
              "    </tr>\n",
              "    <tr>\n",
              "      <th>3</th>\n",
              "      <td>Chương trình học giúp tôi trở thành một chuyên...</td>\n",
              "      <td>positive</td>\n",
              "      <td>curriculum</td>\n",
              "    </tr>\n",
              "    <tr>\n",
              "      <th>4</th>\n",
              "      <td>Tôi nghĩ rằng chương trình đào tạo có thể có t...</td>\n",
              "      <td>neutral</td>\n",
              "      <td>curriculum</td>\n",
              "    </tr>\n",
              "  </tbody>\n",
              "</table>\n",
              "</div>"
            ],
            "text/plain": [
              "                                            sentence sentiment       topic\n",
              "0  Đội ngũ bảo trì quá thưa thớt dẫn đến không đả...  negative    facility\n",
              "1  The university's musical and artistic faciliti...   neutral    facility\n",
              "2  Phương pháp giảng dạy phù hợp với các đối tượn...   neutral  curriculum\n",
              "3  Chương trình học giúp tôi trở thành một chuyên...  positive  curriculum\n",
              "4  Tôi nghĩ rằng chương trình đào tạo có thể có t...   neutral  curriculum"
            ]
          },
          "execution_count": 8,
          "metadata": {},
          "output_type": "execute_result"
        }
      ],
      "source": [
        "df_train.head()"
      ]
    },
    {
      "cell_type": "code",
      "execution_count": null,
      "metadata": {
        "id": "KLH4IDfdPGT3",
        "outputId": "2b9c5143-ed1e-4a92-9c88-50d04aff4c30"
      },
      "outputs": [
        {
          "data": {
            "text/html": [
              "<div>\n",
              "<style scoped>\n",
              "    .dataframe tbody tr th:only-of-type {\n",
              "        vertical-align: middle;\n",
              "    }\n",
              "\n",
              "    .dataframe tbody tr th {\n",
              "        vertical-align: top;\n",
              "    }\n",
              "\n",
              "    .dataframe thead th {\n",
              "        text-align: right;\n",
              "    }\n",
              "</style>\n",
              "<table border=\"1\" class=\"dataframe\">\n",
              "  <thead>\n",
              "    <tr style=\"text-align: right;\">\n",
              "      <th></th>\n",
              "      <th>sentence</th>\n",
              "      <th>sentiment</th>\n",
              "      <th>topic</th>\n",
              "    </tr>\n",
              "  </thead>\n",
              "  <tbody>\n",
              "    <tr>\n",
              "      <th>0</th>\n",
              "      <td>Chất lượng vật chất kém.</td>\n",
              "      <td>negative</td>\n",
              "      <td>facility</td>\n",
              "    </tr>\n",
              "    <tr>\n",
              "      <th>1</th>\n",
              "      <td>Phần mềm học tập quá khó sử dụng, khiến sinh v...</td>\n",
              "      <td>negative</td>\n",
              "      <td>facility</td>\n",
              "    </tr>\n",
              "    <tr>\n",
              "      <th>2</th>\n",
              "      <td>Trường tôi thiếu những tiện ích cơ bản như máy...</td>\n",
              "      <td>negative</td>\n",
              "      <td>facility</td>\n",
              "    </tr>\n",
              "    <tr>\n",
              "      <th>3</th>\n",
              "      <td>Cần tạo thêm các hoạt động gắn kết giữa sinh v...</td>\n",
              "      <td>neutral</td>\n",
              "      <td>curriculum</td>\n",
              "    </tr>\n",
              "    <tr>\n",
              "      <th>4</th>\n",
              "      <td>Họ rất khoan dung và lượng giác trong quan điể...</td>\n",
              "      <td>neutral</td>\n",
              "      <td>others</td>\n",
              "    </tr>\n",
              "  </tbody>\n",
              "</table>\n",
              "</div>"
            ],
            "text/plain": [
              "                                            sentence sentiment       topic\n",
              "0                           Chất lượng vật chất kém.  negative    facility\n",
              "1  Phần mềm học tập quá khó sử dụng, khiến sinh v...  negative    facility\n",
              "2  Trường tôi thiếu những tiện ích cơ bản như máy...  negative    facility\n",
              "3  Cần tạo thêm các hoạt động gắn kết giữa sinh v...   neutral  curriculum\n",
              "4  Họ rất khoan dung và lượng giác trong quan điể...   neutral      others"
            ]
          },
          "execution_count": 9,
          "metadata": {},
          "output_type": "execute_result"
        }
      ],
      "source": [
        "df_test.head()"
      ]
    },
    {
      "cell_type": "code",
      "execution_count": null,
      "metadata": {
        "id": "oyXxelgjPGT3",
        "outputId": "8ed56bdb-c983-49c6-8620-ab37f763e0d8"
      },
      "outputs": [
        {
          "data": {
            "text/plain": [
              "sentiment\n",
              "neutral     2724\n",
              "negative    2711\n",
              "positive    2709\n",
              "Name: count, dtype: int64"
            ]
          },
          "execution_count": 10,
          "metadata": {},
          "output_type": "execute_result"
        }
      ],
      "source": [
        "df_train.sentiment.value_counts()"
      ]
    },
    {
      "cell_type": "code",
      "execution_count": null,
      "metadata": {
        "id": "XGUlksAQPGT3",
        "outputId": "d9b1f28e-a755-426f-9a75-64f357956164"
      },
      "outputs": [
        {
          "data": {
            "text/plain": [
              "sentiment\n",
              "negative    686\n",
              "positive    680\n",
              "neutral     670\n",
              "Name: count, dtype: int64"
            ]
          },
          "execution_count": 11,
          "metadata": {},
          "output_type": "execute_result"
        }
      ],
      "source": [
        "df_test.sentiment.value_counts()"
      ]
    },
    {
      "cell_type": "code",
      "execution_count": null,
      "metadata": {
        "id": "BLEpYd_GPGT3"
      },
      "outputs": [],
      "source": [
        "df_train['len'] = df_train.sentence.apply(lambda x: len(str(x).split()))\n",
        "df_test['len'] = df_test.sentence.apply(lambda x: len(str(x).split()))"
      ]
    },
    {
      "cell_type": "code",
      "execution_count": null,
      "metadata": {
        "id": "YrCao-EoPGT4",
        "outputId": "38f2e4a9-2337-47eb-db62-7b1cb3ab3153"
      },
      "outputs": [
        {
          "data": {
            "text/plain": [
              "count    8144.000000\n",
              "mean       15.549730\n",
              "std         5.018764\n",
              "min         3.000000\n",
              "25%        12.000000\n",
              "50%        15.000000\n",
              "75%        18.000000\n",
              "max        43.000000\n",
              "Name: len, dtype: float64"
            ]
          },
          "execution_count": 13,
          "metadata": {},
          "output_type": "execute_result"
        }
      ],
      "source": [
        "df_train['len'].describe()"
      ]
    },
    {
      "cell_type": "code",
      "execution_count": null,
      "metadata": {
        "id": "mPdvQ4k7PGT4",
        "outputId": "f649dce9-2db9-46b1-c905-b42f94780e96"
      },
      "outputs": [
        {
          "data": {
            "text/plain": [
              "count    2036.000000\n",
              "mean       15.694990\n",
              "std         5.185957\n",
              "min         2.000000\n",
              "25%        12.000000\n",
              "50%        15.000000\n",
              "75%        19.000000\n",
              "max        48.000000\n",
              "Name: len, dtype: float64"
            ]
          },
          "execution_count": 14,
          "metadata": {},
          "output_type": "execute_result"
        }
      ],
      "source": [
        "df_test['len'].describe()"
      ]
    },
    {
      "cell_type": "code",
      "execution_count": null,
      "metadata": {
        "id": "97k5pedtPGT4"
      },
      "outputs": [],
      "source": [
        "with open('train.jsonl', 'w') as outfile:\n",
        "    for i, x in df_train.iterrows():\n",
        "        comment = x['sentence']\n",
        "        label = x['sentiment']\n",
        "        #label = 'yes' if label == 'relevance' else 'no'\n",
        "        data = {\n",
        "            \"input\": f'''The sentiment of this comment \"{comment}\" is''',\n",
        "            \"output\": f\"{label}\"\n",
        "        }\n",
        "        json.dump(data, outfile)\n",
        "        outfile.write('\\n')"
      ]
    },
    {
      "cell_type": "code",
      "execution_count": null,
      "metadata": {
        "id": "be9hUtT3PGT4"
      },
      "outputs": [],
      "source": [
        "with open('test.jsonl', 'w') as outfile:\n",
        "    for i, x in df_test.iterrows():\n",
        "        comment = x['sentence']\n",
        "        label = x['sentiment']\n",
        "        #label = 'yes' if label == 'relevance' else 'no'\n",
        "        data = {\n",
        "            \"input\": f'''The sentiment of this comment \"{comment}\" is''',\n",
        "            \"output\": f\"{label}\"\n",
        "        }\n",
        "        json.dump(data, outfile)\n",
        "        outfile.write('\\n')"
      ]
    },
    {
      "cell_type": "code",
      "execution_count": null,
      "metadata": {
        "colab": {
          "referenced_widgets": [
            "de351ba18a3247888d17c07e968db52b",
            "201c3c2c683142ba8299da789606d6f4"
          ]
        },
        "id": "FisUcprhPGT4",
        "outputId": "0aacc3ee-bab0-4d6b-b23f-c7e48ee9da34"
      },
      "outputs": [
        {
          "data": {
            "application/vnd.jupyter.widget-view+json": {
              "model_id": "de351ba18a3247888d17c07e968db52b",
              "version_major": 2,
              "version_minor": 0
            },
            "text/plain": [
              "Generating train split: 0 examples [00:00, ? examples/s]"
            ]
          },
          "metadata": {},
          "output_type": "display_data"
        },
        {
          "data": {
            "application/vnd.jupyter.widget-view+json": {
              "model_id": "201c3c2c683142ba8299da789606d6f4",
              "version_major": 2,
              "version_minor": 0
            },
            "text/plain": [
              "Generating validation split: 0 examples [00:00, ? examples/s]"
            ]
          },
          "metadata": {},
          "output_type": "display_data"
        }
      ],
      "source": [
        "data_files = {\n",
        "    \"train\": \"train.jsonl\",\n",
        "    \"validation\": \"test.jsonl\",\n",
        "}\n",
        "\n",
        "dataset = load_dataset(\"json\", data_files=data_files)"
      ]
    },
    {
      "cell_type": "code",
      "execution_count": null,
      "metadata": {
        "id": "Y3Z5DCCBPGT4",
        "outputId": "03b33efa-830f-4f45-840d-66d149820469"
      },
      "outputs": [
        {
          "data": {
            "text/plain": [
              "DatasetDict({\n",
              "    train: Dataset({\n",
              "        features: ['input', 'output'],\n",
              "        num_rows: 8144\n",
              "    })\n",
              "    validation: Dataset({\n",
              "        features: ['input', 'output'],\n",
              "        num_rows: 2036\n",
              "    })\n",
              "})"
            ]
          },
          "execution_count": 18,
          "metadata": {},
          "output_type": "execute_result"
        }
      ],
      "source": [
        "dataset"
      ]
    },
    {
      "cell_type": "markdown",
      "metadata": {
        "id": "JC0hjBlJPGT4"
      },
      "source": [
        "# Create prompt format\n",
        "Load tokenizer by AutoTokenizer.from_pretrained:\n",
        "- We need create and copy YOUR TOKEN from [huggingface](https://huggingface.co/settings/tokens)\n",
        "- We need use padding_side = 'right' because training library need padding_side = 'right' when training. You can use left padding but you need to make sure the library is not corrupted and check whether performance is affected by left padding!\n",
        "- If you have 1 prompt like \"test thử mô hình\" and want to tokenize it, just you tokenizer(prompt, return_tensors=\"pt\"). You can see output of tokenizer in cell below (output includes input_ids (list index of each token in prompt) and attention mask)\n",
        "- We can use tokenizer.batch_decode to see how tokenizer restore string from token tensor. You can see that it automatically adds the start token \"<bos>\" at the beginning of the string.\n",
        "- To train llm, we only need to pass 1 sentence to llm (including input and desired output) without specifying which is the input and which is the output.\n",
        "- I wrote the function formatting_prompts_func to convert input and output to prompt and tested this function, you can see below.\n",
        "- When predicting, remove the output part to let the model predict itself. See the predict section below later.\n",
        "- we only need to predict some next tokens like A. positive, and B. neutral. We don't care what the model says after sentiment. Then we do not need to add <eos token>. If you fine-tune the model with other tasks, maybe you need to add <eos token> at the end of the prompt:\n",
        "  - use tokenizer.eos_token, tokenizer.eos_token_id to see eos_token of your model and correspond id\n",
        "  - for ex: eos_token is \"<|im_end|>\". You need edit prompt like:\n",
        "    - '''...The correct answer is {output_}.''' --> '''...The correct answer is {output_}. <|im_end|>'''\n",
        "  - for ex: eos_token is \"end_token__\". You need edit prompt like:\n",
        "    - '''...The correct answer is {output_}.''' --> '''...The correct answer is {output_}. end_token__'''"
      ]
    },
    {
      "cell_type": "code",
      "execution_count": null,
      "metadata": {
        "id": "i54Bw_AUPGT4",
        "outputId": "b5450a40-4c07-4a94-a7b0-9b50eff46d90"
      },
      "outputs": [
        {
          "name": "stderr",
          "output_type": "stream",
          "text": [
            "Special tokens have been added in the vocabulary, make sure the associated word embeddings are fine-tuned or trained.\n"
          ]
        }
      ],
      "source": [
        "tokenizer = AutoTokenizer.from_pretrained(\n",
        "    modelpath,\n",
        "    padding_side=\"right\",\n",
        "    # add_eos_token=True,\n",
        "    # add_bos_token=True,\n",
        "    trust_remote_code=True,\n",
        "    token = 'YOUR TOKEN HERE'\n",
        ")"
      ]
    },
    {
      "cell_type": "code",
      "execution_count": null,
      "metadata": {
        "id": "tXBNZRWTPGT5",
        "outputId": "0c346207-9fb1-4897-923b-d998eca11ad7"
      },
      "outputs": [
        {
          "name": "stdout",
          "output_type": "stream",
          "text": [
            "{'input_ids': tensor([[  1944, 131885, 130179, 128338]]), 'attention_mask': tensor([[1, 1, 1, 1]])}\n"
          ]
        },
        {
          "data": {
            "text/plain": [
              "['test', ' thử', ' mô', ' hình']"
            ]
          },
          "execution_count": 20,
          "metadata": {},
          "output_type": "execute_result"
        }
      ],
      "source": [
        "prompt = \"test thử mô hình\"\n",
        "tokens = tokenizer(prompt, return_tensors=\"pt\")\n",
        "print(tokens)\n",
        "tokenizer.batch_decode(tokenizer.encode(prompt))"
      ]
    },
    {
      "cell_type": "code",
      "execution_count": null,
      "metadata": {
        "id": "OzXik36xPGT-"
      },
      "outputs": [],
      "source": [
        "def formatting_prompts_func(example):\n",
        "    output_texts = []\n",
        "    for i in range(len(example['input'])):\n",
        "        input_ = example['input'][i]\n",
        "        output_ = example['output'][i]\n",
        "        output_ = 'A. Positive' if output_ == 'positive' else 'B. Neutral' if output_ == 'neutral' else 'C. Negative'\n",
        "        #text = f\"### Question: {input__}\\n ### Answer: {example['output'][i]}\"\n",
        "        text = f'''{input_}\n",
        "A. Positive\n",
        "B. Neutral\n",
        "C. Negative\n",
        "\n",
        "The correct answer is {output_}.'''\n",
        "\n",
        "        output_texts.append(text)\n",
        "    return output_texts"
      ]
    },
    {
      "cell_type": "code",
      "execution_count": null,
      "metadata": {
        "id": "rIzL2cztPGT-",
        "outputId": "c914982d-7a0a-49cf-97c6-c7fddc4e7477"
      },
      "outputs": [
        {
          "data": {
            "text/plain": [
              "('The sentiment of this comment \"Chất lượng vật chất kém.\" is', 'negative')"
            ]
          },
          "execution_count": 22,
          "metadata": {},
          "output_type": "execute_result"
        }
      ],
      "source": [
        "dataset[\"validation\"]['input'][0], dataset[\"validation\"]['output'][0]"
      ]
    },
    {
      "cell_type": "code",
      "execution_count": null,
      "metadata": {
        "id": "ruFC5SQ0PGT-",
        "outputId": "20ea62d2-3501-4105-bf12-860c311d25fe"
      },
      "outputs": [
        {
          "data": {
            "text/plain": [
              "['The sentiment of this comment \"Chất lượng vật chất kém.\" is\\nA. Positive\\nB. Neutral\\nC. Negative\\n\\nThe correct answer is C. Negative.']"
            ]
          },
          "execution_count": 23,
          "metadata": {},
          "output_type": "execute_result"
        }
      ],
      "source": [
        "formatting_prompts_func({'input': [dataset[\"validation\"]['input'][0]],\n",
        "                         'output': [dataset[\"validation\"]['output'][0]]})"
      ]
    },
    {
      "cell_type": "code",
      "execution_count": null,
      "metadata": {
        "id": "hJcWuzaTPGT-",
        "outputId": "5b5c102d-7e54-463a-9898-605d4be15b01"
      },
      "outputs": [
        {
          "name": "stdout",
          "output_type": "stream",
          "text": [
            "The sentiment of this comment \"Chất lượng vật chất kém.\" is\n",
            "A. Positive\n",
            "B. Neutral\n",
            "C. Negative\n",
            "\n",
            "The correct answer is C. Negative.\n"
          ]
        }
      ],
      "source": [
        "print(formatting_prompts_func({'input': [dataset[\"validation\"]['input'][0]],\n",
        "                         'output': [dataset[\"validation\"]['output'][0]]})[0])"
      ]
    },
    {
      "cell_type": "markdown",
      "metadata": {
        "id": "p7tD48VgPGT_"
      },
      "source": [
        "# Create model"
      ]
    },
    {
      "cell_type": "markdown",
      "metadata": {
        "id": "l1szreiBPGT_"
      },
      "source": [
        "## Load model\n",
        "We use AutoModelForCausalLM.from_pretrained to load model:\n",
        "- device_map = 'auto': auto active gpu.\n",
        "- torch_dtype: use bfloat16, if your gpu don't support bfloat16, set it to float32\n",
        "- attn_implementation: you can use 'flash_attention_2', if you meet bug, maybe your gpu doesn't support it, you need delete this line.\n",
        "- token: you huggingface token like tokenizer above."
      ]
    },
    {
      "cell_type": "code",
      "execution_count": null,
      "metadata": {
        "id": "6GRQc8trPGT_"
      },
      "outputs": [],
      "source": [
        "# bnb_config = BitsAndBytesConfig(\n",
        "#     load_in_4bit=True,\n",
        "#     bnb_4bit_use_double_quant=True,\n",
        "#     bnb_4bit_quant_type=\"nf4\",\n",
        "#     bnb_4bit_compute_dtype=torch.bfloat16,\n",
        "# )\n",
        "\n",
        "model = AutoModelForCausalLM.from_pretrained(\n",
        "    modelpath,\n",
        "    device_map=\"auto\",\n",
        "    torch_dtype=torch.bfloat16,\n",
        "    #torch_dtype=torch.float32,\n",
        "    #quantization_config=bnb_config,\n",
        "    attn_implementation=\"flash_attention_2\",\n",
        "    trust_remote_code=True,\n",
        "    token = 'YOUR TOKEN HERE'\n",
        ")"
      ]
    },
    {
      "cell_type": "code",
      "execution_count": null,
      "metadata": {
        "id": "s9HUMTsNPGUA",
        "outputId": "32bd4fad-5dd8-4d8e-8412-5cf566c91bf6"
      },
      "outputs": [
        {
          "data": {
            "text/plain": [
              "Qwen2ForCausalLM(\n",
              "  (model): Qwen2Model(\n",
              "    (embed_tokens): Embedding(151936, 1536)\n",
              "    (layers): ModuleList(\n",
              "      (0-27): 28 x Qwen2DecoderLayer(\n",
              "        (self_attn): Qwen2FlashAttention2(\n",
              "          (q_proj): Linear(in_features=1536, out_features=1536, bias=True)\n",
              "          (k_proj): Linear(in_features=1536, out_features=256, bias=True)\n",
              "          (v_proj): Linear(in_features=1536, out_features=256, bias=True)\n",
              "          (o_proj): Linear(in_features=1536, out_features=1536, bias=False)\n",
              "          (rotary_emb): Qwen2RotaryEmbedding()\n",
              "        )\n",
              "        (mlp): Qwen2MLP(\n",
              "          (gate_proj): Linear(in_features=1536, out_features=8960, bias=False)\n",
              "          (up_proj): Linear(in_features=1536, out_features=8960, bias=False)\n",
              "          (down_proj): Linear(in_features=8960, out_features=1536, bias=False)\n",
              "          (act_fn): SiLU()\n",
              "        )\n",
              "        (input_layernorm): Qwen2RMSNorm()\n",
              "        (post_attention_layernorm): Qwen2RMSNorm()\n",
              "      )\n",
              "    )\n",
              "    (norm): Qwen2RMSNorm()\n",
              "  )\n",
              "  (lm_head): Linear(in_features=1536, out_features=151936, bias=False)\n",
              ")"
            ]
          },
          "execution_count": 26,
          "metadata": {},
          "output_type": "execute_result"
        }
      ],
      "source": [
        "model"
      ]
    },
    {
      "cell_type": "markdown",
      "metadata": {
        "id": "5u1vDZs2PGUA"
      },
      "source": [
        "## Create peft\n",
        "For lora training, we need create LoraConfig:\n",
        "  - lora_alpha, r, dropout is basic hyperarameter.\n",
        "  - almost LLM use bias = 'none' when finetune then we set is to None\n",
        "  - target_modules are list of layer we want to finetune, I set it to 'all-linear', then all linear layers will be finetuned. If you just finetune some layers like q_proj, k_proj, you can pass list ['q_proj', 'k_proj'].\n",
        "  - modules_to_save is other layers we want to finetune (but don't use lora), in my experience, finetune all embedding layers will make model work betters than I set modules_to_save as list of all embedding layers."
      ]
    },
    {
      "cell_type": "code",
      "execution_count": null,
      "metadata": {
        "id": "-0qjr-a9PGUA"
      },
      "outputs": [],
      "source": [
        "#model.print_trainable_parameters()"
      ]
    },
    {
      "cell_type": "code",
      "execution_count": null,
      "metadata": {
        "id": "s6PerdANPGUA"
      },
      "outputs": [],
      "source": [
        "peft_config = LoraConfig(\n",
        "    lora_alpha=32,\n",
        "    lora_dropout=0.1,\n",
        "    r=8,\n",
        "    bias=\"none\",\n",
        "    task_type=\"CAUSAL_LM\",\n",
        "    target_modules = 'all-linear',\n",
        "#     target_modules=[\"q_proj\",\n",
        "#         \"k_proj\",\n",
        "#         \"v_proj\",\n",
        "#         \"o_proj\",\n",
        "#         \"gate_proj\",\n",
        "#         \"up_proj\",\n",
        "#         \"down_proj\",\n",
        "#         \"lm_head\",],\n",
        "    modules_to_save=[\"embed_tokens\", \"rotary_emb\"]\n",
        "                     #\"input_layernorm\", \"post_attention_layernorm\", \"norm\"]\n",
        ")\n",
        "model = get_peft_model(model, peft_config)"
      ]
    },
    {
      "cell_type": "code",
      "execution_count": null,
      "metadata": {
        "id": "sKruJfQmPGUA"
      },
      "outputs": [],
      "source": [
        "#lora_model.print_trainable_parameters()"
      ]
    },
    {
      "cell_type": "code",
      "execution_count": null,
      "metadata": {
        "id": "f2HHDkOYPGUA"
      },
      "outputs": [],
      "source": [
        "#lora_model.print_trainable_parameters() #\"embed_tokens\""
      ]
    },
    {
      "cell_type": "code",
      "execution_count": null,
      "metadata": {
        "id": "Akzyq5daPGUB",
        "outputId": "946e9c37-670e-4789-b816-341c85b87f1d"
      },
      "outputs": [
        {
          "name": "stdout",
          "output_type": "stream",
          "text": [
            "trainable params: 242,606,080 || all params: 1,786,320,384 || trainable%: 13.5813\n"
          ]
        }
      ],
      "source": [
        "model.print_trainable_parameters() #"
      ]
    },
    {
      "cell_type": "markdown",
      "source": [
        "## Eval model before training\n",
        "We use create_prompt function to generate prompt (without output), our model will predict output. We will eval model before finetune. You can see some predict below.\n",
        "\n",
        "You can see that pretrained model has poor performance"
      ],
      "metadata": {
        "id": "4-fDJHnSPWKv"
      }
    },
    {
      "cell_type": "code",
      "execution_count": null,
      "metadata": {
        "id": "Dj-VeOXoPGUB",
        "outputId": "d3df635a-c8e3-4712-b366-498911cc2295"
      },
      "outputs": [
        {
          "name": "stderr",
          "output_type": "stream",
          "text": [
            "/opt/conda/lib/python3.10/site-packages/transformers/generation/configuration_utils.py:540: UserWarning: `do_sample` is set to `False`. However, `temperature` is set to `0.1` -- this flag is only used in sample-based generation modes. You should set `do_sample=True` or unset `temperature`.\n",
            "  warnings.warn(\n",
            "/opt/conda/lib/python3.10/site-packages/transformers/generation/configuration_utils.py:545: UserWarning: `do_sample` is set to `False`. However, `top_p` is set to `0.8` -- this flag is only used in sample-based generation modes. You should set `do_sample=True` or unset `top_p`.\n",
            "  warnings.warn(\n",
            "/opt/conda/lib/python3.10/site-packages/transformers/generation/configuration_utils.py:562: UserWarning: `do_sample` is set to `False`. However, `top_k` is set to `20` -- this flag is only used in sample-based generation modes. You should set `do_sample=True` or unset `top_k`.\n",
            "  warnings.warn(\n",
            "The attention mask is not set and cannot be inferred from input because pad token is same as eos token.As a consequence, you may observe unexpected behavior. Please pass your input's `attention_mask` to obtain reliable results.\n"
          ]
        },
        {
          "name": "stdout",
          "output_type": "stream",
          "text": [
            "The sentiment of this comment: \"món ăn rất ngon\" is\n",
            "A. Positive\n",
            "B. Neutral\n",
            "C. Negative\n",
            "\n",
            "The correct answer is\n",
            "The sentiment of this comment: \"món ăn rất ngon\" is\n",
            "A. Positive\n",
            "B. Neutral\n",
            "C. Negative\n",
            "\n",
            "The correct answer is A. Positive.\n",
            "\n",
            "The phrase \"món ăn rất ngon\" translates to \"delicious food\" in English, which indicates a positive sentiment towards the food being described. The use of \"không\" (not) at the end of the\n"
          ]
        }
      ],
      "source": [
        "def create_prompt(input_, output_):\n",
        "    output_ = 'A. Positive' if output_ == 'positive' else 'B. Neutral' if output_ == 'neutral' else 'C. Negative'\n",
        "        #text = f\"### Question: {input__}\\n ### Answer: {example['output'][i]}\"\n",
        "    text = f'''{input_}\n",
        "A. Positive\n",
        "B. Neutral\n",
        "C. Negative\n",
        "\n",
        "The correct answer is'''\n",
        "\n",
        "    return text\n",
        "\n",
        "sentence = 'món ăn rất ngon'\n",
        "input_ = f'''The sentiment of this comment: \"{sentence}\" is'''\n",
        "prompt = create_prompt(input_, \"\")\n",
        "print(prompt)\n",
        "\n",
        "inputs = torch.tensor([tokenizer.encode(prompt)])\n",
        "\n",
        "tokens = model.generate(\n",
        "    inputs.to(model.device),\n",
        "    max_new_tokens=50,\n",
        "    temperature=0.1,\n",
        "    do_sample=False\n",
        ")\n",
        "print(tokenizer.decode(tokens[0], skip_special_tokens=False))"
      ]
    },
    {
      "cell_type": "code",
      "execution_count": null,
      "metadata": {
        "id": "dS4Zt7UKPGUB",
        "outputId": "a8c44934-d79e-410d-f717-3f04b88bcee2"
      },
      "outputs": [
        {
          "name": "stdout",
          "output_type": "stream",
          "text": [
            "0 100.0 0:00:00.121622 0:00:00.121624\n",
            "100 69.3069306930693 0:00:12.179419 0:00:00.120588\n",
            "200 70.64676616915423 0:00:24.347871 0:00:00.121134\n",
            "300 67.77408637873754 0:00:36.492047 0:00:00.121236\n",
            "400 68.5785536159601 0:00:48.678283 0:00:00.121392\n",
            "500 69.26147704590818 0:01:00.780316 0:00:00.121318\n",
            "600 67.55407653910149 0:01:12.851168 0:00:00.121217\n",
            "700 66.76176890156918 0:01:24.998305 0:00:00.121253\n",
            "800 67.41573033707866 0:01:37.215684 0:00:00.121368\n",
            "900 66.48168701442842 0:01:49.254118 0:00:00.121259\n",
            "1000 66.53346653346654 0:02:01.415417 0:00:00.121294\n",
            "1100 66.03088101725703 0:02:13.598444 0:00:00.121343\n",
            "1200 65.69525395503747 0:02:25.695514 0:00:00.121312\n",
            "1300 66.10299769408148 0:02:37.724233 0:00:00.121233\n",
            "1400 66.38115631691649 0:02:49.795400 0:00:00.121196\n",
            "1500 66.35576282478348 0:03:01.936345 0:00:00.121210\n",
            "1600 66.70830730793254 0:03:14.046403 0:00:00.121203\n",
            "1700 66.84303350970018 0:03:26.051836 0:00:00.121136\n",
            "1800 67.01832315380344 0:03:38.173664 0:00:00.121140\n",
            "1900 66.964755391899 0:03:50.214584 0:00:00.121102\n",
            "2000 66.96651674162919 0:04:02.355218 0:00:00.121117\n"
          ]
        }
      ],
      "source": [
        "from datetime import datetime\n",
        "\n",
        "start = datetime.now()\n",
        "\n",
        "prediction = []\n",
        "response = []\n",
        "accuracy = []\n",
        "labels = []\n",
        "\n",
        "for i, x in df_test.iterrows():\n",
        "    sentence = x['sentence']\n",
        "    label = x['sentiment']\n",
        "    input_ = f'''The sentiment of this comment: \"{sentence}\" is'''\n",
        "    prompt = create_prompt(input_, label)\n",
        "\n",
        "    inputs = tokenizer.encode(\n",
        "        prompt,\n",
        "        # add_generation_prompt=True,\n",
        "        return_tensors='pt'\n",
        "    )\n",
        "\n",
        "    tokens = model.generate(\n",
        "        inputs.to(model.device),\n",
        "        max_new_tokens=3,\n",
        "        temperature=0.1,\n",
        "        do_sample=False,\n",
        "        pad_token_id=tokenizer.eos_token_id\n",
        "    )\n",
        "    #break\n",
        "\n",
        "    answer = tokenizer.decode(tokens[0], skip_special_tokens=False).split(\"The correct answer is \")[-1]\n",
        "    answer = 'positive' if 'positive' in answer.lower() else 'negative' if 'negative' in answer.lower() else 'neutral'\n",
        "    prediction.append(answer.lower())\n",
        "    response.append(tokenizer.decode(tokens[0], skip_special_tokens=False))\n",
        "\n",
        "    accuracy.append(prediction[-1] == label)\n",
        "    labels.append(label)\n",
        "\n",
        "    if i % 100 == 0:\n",
        "        print(i, np.array(accuracy).sum()/len(prediction)*100, datetime.now() - start, (datetime.now() - start)/len(prediction))"
      ]
    },
    {
      "cell_type": "code",
      "execution_count": null,
      "metadata": {
        "id": "OCU5jNfRPGUB",
        "outputId": "59c805ae-42d5-42ad-fff0-371e8fea1c7f"
      },
      "outputs": [
        {
          "name": "stdout",
          "output_type": "stream",
          "text": [
            "              precision    recall  f1-score   support\n",
            "\n",
            "    negative     0.9503    0.9752    0.9626       686\n",
            "     neutral     0.7647    0.0194    0.0378       670\n",
            "    positive     0.5163    0.9985    0.6807       680\n",
            "\n",
            "    accuracy                         0.6685      2036\n",
            "   macro avg     0.7438    0.6644    0.5604      2036\n",
            "weighted avg     0.7443    0.6685    0.5641      2036\n",
            "\n"
          ]
        }
      ],
      "source": [
        "from sklearn.metrics import classification_report, f1_score\n",
        "import sklearn\n",
        "\n",
        "print(sklearn.metrics.classification_report(labels, prediction, digits=4))"
      ]
    },
    {
      "cell_type": "code",
      "execution_count": null,
      "metadata": {
        "id": "Aba-trW_PGUB",
        "outputId": "6685f3ca-a512-4034-b6a5-9902d3904889"
      },
      "outputs": [
        {
          "name": "stdout",
          "output_type": "stream",
          "text": [
            "The sentiment of this comment: \"The facilities of the university are versatile and helpful.\" is\n",
            "A. Positive\n",
            "B. Neutral\n",
            "C. Negative\n",
            "\n",
            "The correct answer is A. Positive\n",
            "\n",
            "\n",
            "The sentiment of this comment: \"Mấy bạn đó hay đòi hỏi nhưng không bao giờ giúp đỡ người khác.\" is\n",
            "A. Positive\n",
            "B. Neutral\n",
            "C. Negative\n",
            "\n",
            "The correct answer is C. Negative\n",
            "\n",
            "\n",
            "The sentiment of this comment: \"Cậu ấy rất có kỹ năng về sáng tạo và nghệ thuật.\" is\n",
            "A. Positive\n",
            "B. Neutral\n",
            "C. Negative\n",
            "\n",
            "The correct answer is A. Positive\n",
            "\n",
            "\n",
            "The sentiment of this comment: \"Giảng viên này không nhàm chán.\" is\n",
            "A. Positive\n",
            "B. Neutral\n",
            "C. Negative\n",
            "\n",
            "The correct answer is A. Positive\n",
            "\n",
            "\n",
            "The sentiment of this comment: \"Anh ta là một người rất tỉ mỉ và cẩn thận.\" is\n",
            "A. Positive\n",
            "B. Neutral\n",
            "C. Negative\n",
            "\n",
            "The correct answer is A. Positive\n",
            "\n",
            "\n",
            "The sentiment of this comment: \"Giáo viên đưa ra các phương tiện hỗ trợ giảng dạy rất tốt và hiệu quả.\" is\n",
            "A. Positive\n",
            "B. Neutral\n",
            "C. Negative\n",
            "\n",
            "The correct answer is A. Positive\n",
            "\n",
            "\n",
            "The sentiment of this comment: \"The university's computer facilities are up-to-date and well-maintained.\" is\n",
            "A. Positive\n",
            "B. Neutral\n",
            "C. Negative\n",
            "\n",
            "The correct answer is A. Positive\n",
            "\n",
            "\n",
            "The sentiment of this comment: \"Thiếu tính linh hoạt trong hình thức giảng dạy và đánh giá kết quả học tập.\" is\n",
            "A. Positive\n",
            "B. Neutral\n",
            "C. Negative\n",
            "\n",
            "The correct answer is C. Negative\n",
            "\n",
            "\n",
            "The sentiment of this comment: \"Cô ấy rất sắc sảo và có khả năng phân tích chi tiết rất tốt.\" is\n",
            "A. Positive\n",
            "B. Neutral\n",
            "C. Negative\n",
            "\n",
            "The correct answer is A. Positive\n",
            "\n",
            "\n",
            "The sentiment of this comment: \"Anh ấy có tài năng về âm nhạc và luôn tìm cách tạo ra các bản nhạc mới, giúp nhóm thêm hoàn hảo và đa dạng hơn.\" is\n",
            "A. Positive\n",
            "B. Neutral\n",
            "C. Negative\n",
            "\n",
            "The correct answer is A. Positive\n",
            "\n",
            "\n"
          ]
        }
      ],
      "source": [
        "for x in response[-10:]:\n",
        "    print(x)\n",
        "    print(\"\\n\")"
      ]
    },
    {
      "cell_type": "markdown",
      "metadata": {
        "id": "7NgbLBSDPGUC"
      },
      "source": [
        "## Create TrainingArguments"
      ]
    },
    {
      "cell_type": "code",
      "execution_count": null,
      "metadata": {
        "id": "FKAMMwZIPGUC",
        "outputId": "dc70373a-65f2-4685-d79b-034255ef8fc0"
      },
      "outputs": [
        {
          "name": "stdout",
          "output_type": "stream",
          "text": [
            "509\n"
          ]
        }
      ],
      "source": [
        "print(len(df_train)//bs//ga_steps*epochs//4)"
      ]
    },
    {
      "cell_type": "code",
      "execution_count": null,
      "metadata": {
        "id": "2ova_IHLPGUC",
        "outputId": "3908ad0d-8739-4b4d-97af-6540007290dc"
      },
      "outputs": [
        {
          "name": "stdout",
          "output_type": "stream",
          "text": [
            "509\n"
          ]
        }
      ],
      "source": [
        "save_step = len(df_train)//bs//ga_steps*epochs//4\n",
        "print(save_step)"
      ]
    },
    {
      "cell_type": "code",
      "execution_count": null,
      "metadata": {
        "id": "uwFM7bkuPGUC",
        "outputId": "310078d1-27a0-4448-9916-96b208ad8d29"
      },
      "outputs": [
        {
          "name": "stderr",
          "output_type": "stream",
          "text": [
            "/opt/conda/lib/python3.10/site-packages/transformers/training_args.py:1494: FutureWarning: `evaluation_strategy` is deprecated and will be removed in version 4.46 of 🤗 Transformers. Use `eval_strategy` instead\n",
            "  warnings.warn(\n"
          ]
        }
      ],
      "source": [
        "training_arguments = TrainingArguments(\n",
        "    output_dir=output_dir,\n",
        "    num_train_epochs=epochs,\n",
        "    per_device_train_batch_size=bs,\n",
        "    per_device_eval_batch_size=bs_eval,\n",
        "    evaluation_strategy=\"steps\",\n",
        "    eval_steps=save_step,\n",
        "    gradient_accumulation_steps=ga_steps,\n",
        "    optim=\"paged_adamw_32bit\",\n",
        "    save_steps=save_step,\n",
        "    save_strategy=\"steps\",\n",
        "    logging_steps=save_step,\n",
        "    learning_rate=lr,\n",
        "    weight_decay=0.001,\n",
        "    fp16=False,\n",
        "    bf16=True,\n",
        "    max_grad_norm=0.3,\n",
        "    max_steps=-1,\n",
        "    warmup_ratio=0.03,\n",
        "    group_by_length=True,\n",
        "    lr_scheduler_type=\"constant\",\n",
        "    report_to=\"none\",\n",
        "    save_total_limit=1,\n",
        "    #load_best_model_at_end=True\n",
        ")"
      ]
    },
    {
      "cell_type": "markdown",
      "metadata": {
        "id": "J3jp3IhOPGUC"
      },
      "source": [
        "## Create trainer"
      ]
    },
    {
      "cell_type": "code",
      "execution_count": null,
      "metadata": {
        "colab": {
          "referenced_widgets": [
            "f61915c391954991aae9fdb21246eee3",
            "184b7048ee1a44e7b7697d1667270bd6"
          ]
        },
        "id": "irqNA3TQPGUC",
        "outputId": "3da89a79-f0f8-4b64-dba3-2bc4367d3dc6"
      },
      "outputs": [
        {
          "name": "stderr",
          "output_type": "stream",
          "text": [
            "/opt/conda/lib/python3.10/site-packages/huggingface_hub/utils/_deprecation.py:100: FutureWarning: Deprecated argument(s) used in '__init__': max_seq_length. Will not be supported from version '1.0.0'.\n",
            "\n",
            "Deprecated positional argument(s) used in SFTTrainer, please use the SFTConfig to set these arguments instead.\n",
            "  warnings.warn(message, FutureWarning)\n",
            "/opt/conda/lib/python3.10/site-packages/transformers/training_args.py:1494: FutureWarning: `evaluation_strategy` is deprecated and will be removed in version 4.46 of 🤗 Transformers. Use `eval_strategy` instead\n",
            "  warnings.warn(\n",
            "/opt/conda/lib/python3.10/site-packages/transformers/training_args.py:1961: FutureWarning: `--push_to_hub_token` is deprecated and will be removed in version 5 of 🤗 Transformers. Use `--hub_token` instead.\n",
            "  warnings.warn(\n",
            "/opt/conda/lib/python3.10/site-packages/trl/trainer/sft_trainer.py:269: UserWarning: You passed a `max_seq_length` argument to the SFTTrainer, the value you passed will override the one in the `SFTConfig`.\n",
            "  warnings.warn(\n"
          ]
        },
        {
          "data": {
            "application/vnd.jupyter.widget-view+json": {
              "model_id": "f61915c391954991aae9fdb21246eee3",
              "version_major": 2,
              "version_minor": 0
            },
            "text/plain": [
              "Map:   0%|          | 0/8144 [00:00<?, ? examples/s]"
            ]
          },
          "metadata": {},
          "output_type": "display_data"
        },
        {
          "data": {
            "application/vnd.jupyter.widget-view+json": {
              "model_id": "184b7048ee1a44e7b7697d1667270bd6",
              "version_major": 2,
              "version_minor": 0
            },
            "text/plain": [
              "Map:   0%|          | 0/2036 [00:00<?, ? examples/s]"
            ]
          },
          "metadata": {},
          "output_type": "display_data"
        },
        {
          "name": "stderr",
          "output_type": "stream",
          "text": [
            "Detected kernel version 5.4.0, which is below the recommended minimum of 5.5.0; this can cause the process to hang. It is recommended to upgrade the kernel to the minimum version or higher.\n"
          ]
        }
      ],
      "source": [
        "trainer = SFTTrainer(\n",
        "    model=model,\n",
        "    train_dataset=dataset[\"train\"],\n",
        "    eval_dataset=dataset[\"validation\"],\n",
        "    peft_config=peft_config,\n",
        "    max_seq_length= 128,\n",
        "    #dataset_text_field=[\"input\", \"output\"],\n",
        "    tokenizer=tokenizer,\n",
        "    args=training_arguments,\n",
        "    packing= False,\n",
        "    formatting_func = formatting_prompts_func,\n",
        "    #data_collator=collator\n",
        ")"
      ]
    },
    {
      "cell_type": "markdown",
      "metadata": {
        "id": "GUtcItlpPGUC"
      },
      "source": [
        "# Train"
      ]
    },
    {
      "cell_type": "code",
      "execution_count": null,
      "metadata": {
        "id": "MAgMFmqVPGUC",
        "outputId": "d5c773d1-7884-4a9e-ab3d-5fd28bd04f61"
      },
      "outputs": [
        {
          "name": "stderr",
          "output_type": "stream",
          "text": [
            "We detected that you are passing `past_key_values` as a tuple and this is deprecated and will be removed in v4.43. Please use an appropriate `Cache` class (https://huggingface.co/docs/transformers/v4.41.3/en/internal/generation_utils#transformers.Cache)\n"
          ]
        },
        {
          "data": {
            "text/html": [
              "\n",
              "    <div>\n",
              "      \n",
              "      <progress value='2036' max='2036' style='width:300px; height:20px; vertical-align: middle;'></progress>\n",
              "      [2036/2036 06:28, Epoch 4/4]\n",
              "    </div>\n",
              "    <table border=\"1\" class=\"dataframe\">\n",
              "  <thead>\n",
              " <tr style=\"text-align: left;\">\n",
              "      <th>Step</th>\n",
              "      <th>Training Loss</th>\n",
              "      <th>Validation Loss</th>\n",
              "    </tr>\n",
              "  </thead>\n",
              "  <tbody>\n",
              "    <tr>\n",
              "      <td>509</td>\n",
              "      <td>0.783000</td>\n",
              "      <td>0.742862</td>\n",
              "    </tr>\n",
              "    <tr>\n",
              "      <td>1018</td>\n",
              "      <td>0.672800</td>\n",
              "      <td>0.740708</td>\n",
              "    </tr>\n",
              "    <tr>\n",
              "      <td>1527</td>\n",
              "      <td>0.600800</td>\n",
              "      <td>0.759789</td>\n",
              "    </tr>\n",
              "    <tr>\n",
              "      <td>2036</td>\n",
              "      <td>0.530600</td>\n",
              "      <td>0.793977</td>\n",
              "    </tr>\n",
              "  </tbody>\n",
              "</table><p>"
            ],
            "text/plain": [
              "<IPython.core.display.HTML object>"
            ]
          },
          "metadata": {},
          "output_type": "display_data"
        },
        {
          "data": {
            "text/plain": [
              "TrainOutput(global_step=2036, training_loss=0.6467708295361232, metrics={'train_runtime': 389.3988, 'train_samples_per_second': 83.657, 'train_steps_per_second': 5.229, 'total_flos': 1.2091384561287168e+16, 'train_loss': 0.6467708295361232, 'epoch': 4.0})"
            ]
          },
          "execution_count": 41,
          "metadata": {},
          "output_type": "execute_result"
        }
      ],
      "source": [
        "trainer.train()"
      ]
    },
    {
      "cell_type": "markdown",
      "metadata": {
        "id": "fpNRsTahPGUD"
      },
      "source": [
        "# Eval\n",
        "- If you save the model to the output_dir folder, the training code above will automatically save the model to output_dir/checkpoint-{save_step} (in my case: out/checkpoint-2036). We will load the model from this folder:\n",
        "  - I calculate _id = save_step * num_epoch = 509 * 4 = 2036\n",
        "  - My model will saved at \"{output_dir}/checkpoint-{_id}\"\n",
        "- I use del model, gc.collect() and torch.cuda.empty_cache() to release trained model (save gpu memory).\n",
        "- We use PeftConfig.from_pretrained to lead peft config (this is the same as peft config at training)\n",
        "- we load pretrained model like before.\n",
        "- We load the tokenizer in this folder by passing the saved folder to AutoTokenizer.from_pretrained()\n",
        "- We use PeftModel.from_pretrained(model, peft_model_id) to merge pre-trained model with finetuned lora model (note that when we use peft lora, training code only saves lora model, this saves our storage and saving time)"
      ]
    },
    {
      "cell_type": "code",
      "execution_count": null,
      "metadata": {
        "id": "eZ8TEezZPGUD",
        "outputId": "4099a534-6e6d-4d8b-d4e7-c13e208c3a82"
      },
      "outputs": [
        {
          "name": "stdout",
          "output_type": "stream",
          "text": [
            "509\n"
          ]
        }
      ],
      "source": [
        "save_step = len(df_train)//bs//ga_steps*epochs//4\n",
        "print(save_step)"
      ]
    },
    {
      "cell_type": "code",
      "execution_count": null,
      "metadata": {
        "id": "YbRGBPfNPGUD"
      },
      "outputs": [],
      "source": [
        "import gc\n",
        "\n",
        "del model\n",
        "gc.collect()\n",
        "torch.cuda.empty_cache()"
      ]
    },
    {
      "cell_type": "code",
      "execution_count": null,
      "metadata": {
        "id": "YpcEuTa6PGUD",
        "outputId": "5cf78ef7-92a2-423c-85a0-e018d1a3c314"
      },
      "outputs": [
        {
          "name": "stderr",
          "output_type": "stream",
          "text": [
            "Special tokens have been added in the vocabulary, make sure the associated word embeddings are fine-tuned or trained.\n"
          ]
        }
      ],
      "source": [
        "from peft import PeftModel, PeftConfig\n",
        "from transformers import AutoModelForCausalLM, AutoTokenizer\n",
        "import torch\n",
        "\n",
        "_id = save_step*4\n",
        "\n",
        "peft_model_id = f\"{output_dir}/checkpoint-{_id}\"\n",
        "\n",
        "config = PeftConfig.from_pretrained(peft_model_id)\n",
        "\n",
        "# bnb_config = BitsAndBytesConfig(\n",
        "#     load_in_4bit=True,\n",
        "#     bnb_4bit_use_double_quant=False,\n",
        "#     bnb_4bit_quant_type=\"nf4\",\n",
        "#     bnb_4bit_compute_dtype=torch.float16,\n",
        "# )\n",
        "\n",
        "model = AutoModelForCausalLM.from_pretrained(\n",
        "    modelpath,\n",
        "    device_map=\"auto\",\n",
        "    #torch_dtype=torch.float16,\n",
        "    torch_dtype=torch.bfloat16,\n",
        "    #quantization_config=bnb_config,\n",
        "    attn_implementation=\"flash_attention_2\",\n",
        "    trust_remote_code=True,\n",
        "    token = 'YOUR TOKEN HERE'\n",
        ")\n",
        "\n",
        "tokenizer = AutoTokenizer.from_pretrained(f\"{output_dir}/checkpoint-{_id}\",\n",
        "                                          trust_remote_code=True,\n",
        "                                          padding_side='left',\n",
        "                                          token='YOUR TOKEN HERE')\n",
        "\n",
        "# Load the Lora model\n",
        "model = PeftModel.from_pretrained(model, peft_model_id)"
      ]
    },
    {
      "cell_type": "code",
      "execution_count": null,
      "metadata": {
        "id": "pRC2RWJSPGUD"
      },
      "outputs": [],
      "source": [
        "def create_prompt(input_, output_):\n",
        "    output_ = 'A. Positive' if output_ == 'positive' else 'B. Neutral' if output_ == 'neutral' else 'C. Negative'\n",
        "        #text = f\"### Question: {input__}\\n ### Answer: {example['output'][i]}\"\n",
        "    text = f'''{input_}\n",
        "A. Positive\n",
        "B. Neutral\n",
        "C. Negative\n",
        "\n",
        "The correct answer is'''\n",
        "\n",
        "    return text"
      ]
    },
    {
      "cell_type": "code",
      "execution_count": null,
      "metadata": {
        "id": "ro6waIBOPGUD",
        "outputId": "6621d59d-907c-4446-c17c-997d75adca43"
      },
      "outputs": [
        {
          "name": "stdout",
          "output_type": "stream",
          "text": [
            "The sentiment of this comment: \"món ăn rất ngon\" is\n",
            "A. Positive\n",
            "B. Neutral\n",
            "C. Negative\n",
            "\n",
            "The correct answer is\n"
          ]
        }
      ],
      "source": [
        "sentence = 'món ăn rất ngon'\n",
        "input_ = f'''The sentiment of this comment: \"{sentence}\" is'''\n",
        "prompt = create_prompt(input_, \"\")\n",
        "print(prompt)"
      ]
    },
    {
      "cell_type": "code",
      "execution_count": null,
      "metadata": {
        "id": "cGe-gk41PGUD",
        "outputId": "4e89abda-3298-4480-8613-a7245eb29677"
      },
      "outputs": [
        {
          "data": {
            "text/plain": [
              "tensor([[   785,  25975,    315,    419,   3980,     25,    330,     76,   3165,\n",
              "         128442, 128323,   7777,    263,      1,    374,    198,     32,     13,\n",
              "          43903,    198,     33,     13,  58694,    198,     34,     13,  50857,\n",
              "            271,    785,   4396,   4226,    374]])"
            ]
          },
          "execution_count": 47,
          "metadata": {},
          "output_type": "execute_result"
        }
      ],
      "source": [
        "inputs = torch.tensor([tokenizer.encode(prompt)])\n",
        "inputs"
      ]
    },
    {
      "cell_type": "code",
      "execution_count": null,
      "metadata": {
        "id": "V6hMhnB0PGUE"
      },
      "outputs": [],
      "source": [
        "tokens = model.generate(\n",
        "    inputs.to(model.device),\n",
        "    max_new_tokens=50,\n",
        "    temperature=0.1,\n",
        "    do_sample=True\n",
        ")"
      ]
    },
    {
      "cell_type": "code",
      "execution_count": null,
      "metadata": {
        "id": "obpJUme8PGUE",
        "outputId": "2c1d765a-1615-4cd3-8f4d-f659337c95ec"
      },
      "outputs": [
        {
          "name": "stdout",
          "output_type": "stream",
          "text": [
            "The sentiment of this comment: \"món ăn rất ngon\" is\n",
            "A. Positive\n",
            "B. Neutral\n",
            "C. Negative\n",
            "\n",
            "The correct answer is B. Neutral. The comment \"môn ăn rất ngon\" is a positive comment on the food served in the cafeteria. However, it does not provide any information about the quality of the food itself. Therefore, it cannot be classified as either\n"
          ]
        }
      ],
      "source": [
        "print(tokenizer.decode(tokens[0], skip_special_tokens=False))"
      ]
    },
    {
      "cell_type": "code",
      "execution_count": null,
      "metadata": {
        "id": "k_ngE17PPGUE",
        "outputId": "e0d92411-d366-454c-f5d9-6277bcdb68a7"
      },
      "outputs": [
        {
          "name": "stdout",
          "output_type": "stream",
          "text": [
            "The sentiment of this comment: \"món ăn rất ngon\" is\n",
            "A. Positive\n",
            "B. Neutral\n",
            "C. Negative\n",
            "\n",
            "The correct answer is B. Neutral\n"
          ]
        },
        {
          "name": "stderr",
          "output_type": "stream",
          "text": [
            "/opt/conda/lib/python3.10/site-packages/transformers/generation/configuration_utils.py:540: UserWarning: `do_sample` is set to `False`. However, `temperature` is set to `0.1` -- this flag is only used in sample-based generation modes. You should set `do_sample=True` or unset `temperature`.\n",
            "  warnings.warn(\n",
            "/opt/conda/lib/python3.10/site-packages/transformers/generation/configuration_utils.py:545: UserWarning: `do_sample` is set to `False`. However, `top_p` is set to `0.8` -- this flag is only used in sample-based generation modes. You should set `do_sample=True` or unset `top_p`.\n",
            "  warnings.warn(\n",
            "/opt/conda/lib/python3.10/site-packages/transformers/generation/configuration_utils.py:562: UserWarning: `do_sample` is set to `False`. However, `top_k` is set to `20` -- this flag is only used in sample-based generation modes. You should set `do_sample=True` or unset `top_k`.\n",
            "  warnings.warn(\n"
          ]
        }
      ],
      "source": [
        "tokens = model.generate(\n",
        "    inputs.to(model.device),\n",
        "    max_new_tokens=3,\n",
        "    temperature=0.1,\n",
        "    do_sample=False\n",
        ")\n",
        "print(tokenizer.decode(tokens[0], skip_special_tokens=False))"
      ]
    },
    {
      "cell_type": "code",
      "execution_count": null,
      "metadata": {
        "id": "_zooN6vFPGUE",
        "outputId": "38b6399d-baaf-4576-a4c3-795d8fbdd0a8"
      },
      "outputs": [
        {
          "name": "stdout",
          "output_type": "stream",
          "text": [
            "0 100.0 0:00:00.117085 0:00:00.117088\n",
            "100 87.12871287128714 0:00:11.459762 0:00:00.113463\n",
            "200 86.06965174129353 0:00:22.732505 0:00:00.113097\n",
            "300 87.37541528239203 0:00:34.022894 0:00:00.113033\n",
            "400 85.53615960099751 0:00:45.343768 0:00:00.113077\n",
            "500 85.82834331337325 0:00:56.750492 0:00:00.113274\n",
            "600 86.02329450915141 0:01:08.133723 0:00:00.113367\n",
            "700 85.73466476462197 0:01:19.426894 0:00:00.113305\n",
            "800 86.14232209737828 0:01:30.704837 0:00:00.113240\n",
            "900 86.12652608213097 0:01:42.046285 0:00:00.113259\n",
            "1000 86.21378621378622 0:01:53.524557 0:00:00.113411\n",
            "1100 86.28519527702089 0:02:04.847799 0:00:00.113395\n",
            "1200 85.34554537885096 0:02:16.278358 0:00:00.113471\n",
            "1300 85.54957724827055 0:02:27.701936 0:00:00.113530\n",
            "1400 85.58172733761599 0:02:39.057269 0:00:00.113531\n",
            "1500 85.27648234510326 0:02:50.385303 0:00:00.113515\n",
            "1600 85.32167395377888 0:03:01.627965 0:00:00.113447\n",
            "1700 85.71428571428571 0:03:12.845191 0:00:00.113372\n",
            "1800 85.8411993337035 0:03:24.085562 0:00:00.113318\n",
            "1900 85.63913729615992 0:03:35.337574 0:00:00.113276\n",
            "2000 85.6071964017991 0:03:46.673662 0:00:00.113280\n"
          ]
        }
      ],
      "source": [
        "from datetime import datetime\n",
        "\n",
        "start = datetime.now()\n",
        "\n",
        "prediction = []\n",
        "response = []\n",
        "accuracy = []\n",
        "labels = []\n",
        "\n",
        "for i, x in df_test.iterrows():\n",
        "    sentence = x['sentence']\n",
        "    label = x['sentiment']\n",
        "    input_ = f'''The sentiment of this comment: \"{sentence}\" is'''\n",
        "    prompt = create_prompt(input_, label)\n",
        "\n",
        "    inputs = tokenizer.encode(\n",
        "        prompt,\n",
        "        # add_generation_prompt=True,\n",
        "        return_tensors='pt'\n",
        "    )\n",
        "\n",
        "    tokens = model.generate(\n",
        "        inputs.to(model.device),\n",
        "        max_new_tokens=3,\n",
        "        temperature=0.1,\n",
        "        do_sample=False,\n",
        "        pad_token_id=tokenizer.eos_token_id\n",
        "    )\n",
        "    #break\n",
        "\n",
        "    answer = tokenizer.decode(tokens[0], skip_special_tokens=False).split(\"The correct answer is \")[-1]\n",
        "    answer = 'positive' if 'positive' in answer.lower() else 'negative' if 'negative' in answer.lower() else 'neutral'\n",
        "    prediction.append(answer.lower())\n",
        "    response.append(tokenizer.decode(tokens[0], skip_special_tokens=False))\n",
        "\n",
        "    accuracy.append(prediction[-1] == label)\n",
        "    labels.append(label)\n",
        "\n",
        "    if i % 100 == 0:\n",
        "        print(i, np.array(accuracy).sum()/len(prediction)*100, datetime.now() - start, (datetime.now() - start)/len(prediction))"
      ]
    },
    {
      "cell_type": "code",
      "execution_count": null,
      "metadata": {
        "id": "45S3wNIDPGUE",
        "outputId": "87c6bb02-5f1b-4042-b075-5fcbdca96c9e"
      },
      "outputs": [
        {
          "name": "stdout",
          "output_type": "stream",
          "text": [
            "              precision    recall  f1-score   support\n",
            "\n",
            "    negative     0.9714    0.9913    0.9812       686\n",
            "     neutral     0.7972    0.7567    0.7764       670\n",
            "    positive     0.7914    0.8147    0.8029       680\n",
            "\n",
            "    accuracy                         0.8551      2036\n",
            "   macro avg     0.8533    0.8542    0.8535      2036\n",
            "weighted avg     0.8540    0.8551    0.8543      2036\n",
            "\n"
          ]
        }
      ],
      "source": [
        "from sklearn.metrics import classification_report, f1_score\n",
        "import sklearn\n",
        "\n",
        "print(sklearn.metrics.classification_report(labels, prediction, digits=4))"
      ]
    },
    {
      "cell_type": "markdown",
      "metadata": {
        "id": "7k1jQSOxPGUE"
      },
      "source": [
        "# Check results\n",
        "- I print all sentences have wrong prediction and see that almost cases is bug.\n",
        "- Conclusion, dataset is not clean than finetune LLM can't better than finetune roberta (~89..90%), because roberta will overfit even in test dataset.\n",
        "- In additionally, when I print example: \"món ăn này rất ngon\", we can see that model before finetune work better. Model after finetune only think about school (because finetune dataset is about school) and it don't know about food review. Than I think we only need finetune for special cases and finetune dataset need be clean and large enough."
      ]
    },
    {
      "cell_type": "code",
      "execution_count": null,
      "metadata": {
        "id": "Mbpht-nmPGUE"
      },
      "outputs": [],
      "source": [
        "df_test['predict'] = prediction"
      ]
    },
    {
      "cell_type": "code",
      "execution_count": null,
      "metadata": {
        "id": "8LgfIEmoPGUF",
        "outputId": "b0240db8-5d57-4022-881b-36afffa07884"
      },
      "outputs": [
        {
          "name": "stdout",
          "output_type": "stream",
          "text": [
            "Giảng viên luôn đồng hành với sinh viên trên quá trình học tập. positive neutral\n",
            "Tôi có thể ứng dụng các kiến thức có được từ chương trình đào tạo vào công việc của mình. neutral positive\n",
            "Giảng viên rất tài năng và có nhiều kinh nghiệm trong công tác giảng dạy. positive neutral\n",
            "Được học tập với các giáo viên giàu kinh nghiệm và thực tiễn. positive neutral\n",
            "Nhà hàng và các cửa hàng tiện lợi ở gần trường rất đa dạng và phong phú. neutral positive\n",
            "Chị ấy rất giỏi quản lý thời gian và luôn hoàn thành công việc đúng tiến độ. positive neutral\n",
            "Anh ấy có một tầm nhìn đỉnh cao và khả năng giải quyết vấn đề tốt. positive neutral\n",
            "Các cửa hàng tiện lợi gần đó thường xuyên được mở cửa cho sinh viên. negative neutral\n",
            "Trường đại học này đóng góp một phần quan trọng trong việc phát triển kinh tế và xã hội địa phương. positive neutral\n",
            "Có nhiều hoạt động ngoại khóa và phong phú cho sinh viên. neutral positive\n",
            "Khu vực đặt máy bán thức uống rất tiện lợi cho sinh viên. neutral positive\n",
            "Chương trình học giúp tôi cảm thấy mình có mục tiêu rõ ràng hơn. neutral positive\n",
            "Phòng học được trang bị đầy đủ tiện nghi giúp sinh viên luôn dễ dàng tiếp cận tài liệu và thông tin liên quan. positive neutral\n",
            "Thầy dạy rất chuyên nghiệp và nhiệt tình. neutral positive\n",
            "Đại học này có nhiều hội thảo và khóa tập huấn giúp sinh viên trau dồi kiến thức và kỹ năng. neutral positive\n",
            "Các phòng thí nghiệm được trang bị đầy đủ các thiết bị cần thiết. positive neutral\n",
            "Khu vực học tập tại thư viện rất yên tĩnh và thoải mái. neutral positive\n",
            "Thầy/cô đánh giá và đề xuất những ý kiến xây dựng tích cực giúp sinh viên phát triển hơn. neutral positive\n",
            "Giảng viên rất chân thành và nhiệt tình. neutral positive\n",
            "Hệ thống thư viện và tài nguyên học tập rất đầy đủ và tiện lợi. positive neutral\n",
            "Chương trình đào tạo có nhiều tính ứng dụng giúp sinh viên tự tin và thành công trong công việc. neutral positive\n",
            "Trường cần có chính sách hỗ trợ chi phí học tập phù hợp cho sinh viên. neutral negative\n",
            "Thầy cho học sinh một cái nhìn tổng quan về chuyên ngành của mình. neutral positive\n",
            "Các phòng học được trang bị đầy đủ tiện nghi và thiết bị. positive neutral\n",
            "Chương trình đào tạo rất đa dạng về cả nội dung lẫn hình thức đào tạo. neutral positive\n",
            "Trường đại học cung cấp nhiều chương trình học bổng hỗ trợ cho sinh viên khó khăn kinh tế. neutral positive\n",
            "Các dịch vụ bảo vệ trong trường rất chuyên nghiệp và đảm bảo an toàn cho sinh viên. positive neutral\n",
            "Khu vực sống động của trường rất thú vị cho sinh viên. positive neutral\n",
            "Giảng viên rất am hiểu và từng bước hướng dẫn sinh viên đi đến thành công. positive neutral\n",
            "Thầy giải thích cặn kẽ và dễ hiểu. neutral positive\n",
            "Thầy cô giảng dạy đều rất nhiệt tình và có kinh nghiệm trong lĩnh vực đang giảng dạy. neutral positive\n",
            "Có rất nhiều phòng học tại trường để sinh viên có thể lựa chọn và sử dụng. neutral positive\n",
            "Tôi rất ấn tượng với sự trang trí trong trường, chúng tạo cảm giác thoải mái và thư giãn cho sinh viên. positive neutral\n",
            "Cô ấy luôn sẵn sàng giúp đỡ và hỗ trợ người khác. positive neutral\n",
            "Trường có hệ thống thông tin quản lý hiện đại và đáp ứng được các yêu cầu của sinh viên. positive neutral\n",
            "Giảng viên đưa ra những câu hỏi thú vị và khó giải quyết, giúp sinh viên rèn luyện kỹ năng suy luận và phân tích. positive neutral\n",
            "Thầy luôn khuyến khích tôi cải thiện khả năng tổ chức thời gian và hoàn thành nhiệm vụ. neutral positive\n",
            "Khu vực ăn uống của trường có nhiều món ăn ngon và đa dạng. neutral positive\n",
            "Bạn của em là người dễ thương và trẻ trung. positive neutral\n",
            "Môn học đầy đủ và bám sát với thực tiễn, giúp sinh viên nắm vững kiến thức chuyên ngành. neutral positive\n",
            "Chị ấy là người thật sự tận tâm và dành trọn tâm huyết cho công việc. positive neutral\n",
            "Giáo viên của tôi dạy lí thuyết và thực hành về quyền sở hữu trí tuệ và bảo vệ nhãn hiệu. neutral positive\n",
            "Chương trình đào tạo giúp tôi phát triển mối quan hệ với các sinh viên khác và các giảng viên. neutral positive\n",
            "Tôi rất thích những khu vực xanh trong trường, chúng tạo cảm giác thoải mái và gần gũi với thiên nhiên. positive neutral\n",
            "Nàng có sự tập trung cao độ và luôn đạt được những thành tích tốt. positive neutral\n",
            "Phòng học được bố trí nhiều ánh sáng tự nhiên giúp sinh viên tiết kiệm được điện trong quá trình học tập. neutral positive\n",
            "Các khu vực sinh hoạt của trường cần được xây dựng lại để đáp ứng nhu cầu của sinh viên. negative neutral\n",
            "Tôi rất đánh giá cao sự chuẩn bị và bố trí của các môn học trong chương trình. neutral positive\n",
            "Anh ấy là một người học nhanh và có khả năng tìm kiếm thông tin một cách hiệu quả. positive neutral\n",
            "Thư viện đầy đủ sách vở cần thiết. neutral positive\n",
            "Tôi rất thích kết hợp của một số môn học cơ bản và những chủ đề thú vị và lạ lẫm. neutral positive\n",
            "Các môn học giúp sinh viên phát triển tư duy phản biện và độc lập trong tư duy. neutral positive\n",
            "Anh ta là một người đáng tin cậy và luôn giữ lời hứa của mình. positive neutral\n",
            "Anh ấy rất thấu hiểu và giúp đỡ những người gặp khó khăn. positive neutral\n",
            "Giảng viên có thể sử dụng nhiều phương pháp giảng dạy khác nhau để thu hút sinh viên học tập. neutral positive\n",
            "Thầy giúp đỡ sinh viên định hướng nghề nghiệp và phát triển bản thân. positive neutral\n",
            "Các phòng học được trang bị đầy đủ vật dụng và thiết bị để đáp ứng nhu cầu học tập. positive neutral\n",
            "Cô ấy luôn tỏ ra thân thiện và tạo ra không khí làm việc tốt trong nhóm. positive neutral\n",
            "Tôi rất thích lối thiết kế và trang trí của trường, nó cực kỳ ấn tượng và sáng tạo. positive neutral\n",
            "Lớp học được đưa ra một cách sinh động, hấp dẫn và đầy đủ kiến thức chuyên môn. positive neutral\n",
            "Thầy cung cấp cho chúng tôi nhiều tài liệu và bài giảng hữu ích. neutral positive\n",
            "Em thấy bạn của mình rất nhanh nhẹn và chăm chỉ học. positive neutral\n",
            "Khu vực sinh hoạt của sinh viên được quản lý tốt, an ninh. neutral positive\n",
            "Cơ hội để thực tập trong một môi trường thực tế. neutral positive\n",
            "Chương trình học rất thú vị và đa dạng. neutral positive\n",
            "Đội ngũ giảng viên chuyên nghiệp và thân thiện. neutral positive\n",
            "Thầy giảng dạy rất chu đáo và chuyên nghiệp. neutral positive\n",
            "Giáo viên rất nhiệt tình và giúp đỡ sinh viên trong quá trình học tập. positive neutral\n",
            "Bạn của tôi là người rất duyên dáng và sành điệu. positive neutral\n",
            "Môn học trong chương trình đào tạo được giảng dạy bởi những giáo viên giỏi và có chuyên môn cao. positive neutral\n",
            "Trường cung cấp nhiều điện thoại công cộng tại khuôn viên. negative neutral\n",
            "Anh ấy là một người học tập tích cực và đam mê trong việc tìm hiểu kiến thức mới. positive neutral\n",
            "Thầy luôn đưa ra những ví dụ cụ thể và minh hoạ để giúp sinh viên hiểu bài tập. neutral positive\n",
            "Anh ấy luôn có những ý tưởng khác biệt với những người khác trong nhóm. positive negative\n",
            "Thầy là một giảng viên rất giỏi trong việc truyền đạt kiến thức và kỹ năng cho sinh viên. positive neutral\n",
            "Bạn của tôi rất chăm chỉ và luôn đúng giờ. positive neutral\n",
            "Những bài kiểm tra và đánh giá đầy thử thách trong chương trình đào tạo giúp tôi trở nên chuyên nghiệp hơn. neutral positive\n",
            "Cô ấy rất năng động và thân thiện đối với mọi người trong lớp. positive neutral\n",
            "Anh ấy là một người giỏi về công nghệ và có khả năng giải quyết vấn đề kỹ thuật. positive neutral\n",
            "Số lượng giáo viên nước ngoài được giảng dạy trong chương trình đào tạo là rất ít. negative neutral\n",
            "Chương trình đào tạo giúp tôi trang bị những kỹ năng mềm cần thiết để thành công trong tương lai. positive neutral\n",
            "Các khu vực tiếp khách của trường được bố trí thông thoáng và chuyên nghiệp. neutral positive\n",
            "Công nghệ và trang thiết bị của đại học tốt hơn so với nhiều trường khác. positive neutral\n",
            "Giảng viên này dạy rất tốt và truyền cảm hứng cho học sinh. neutral positive\n",
            "Giảng viên này biết cách tạo ra một sự cần thám nhìn mạnh mẽ và đáng chú ý trong bài giảng của mình. positive neutral\n",
            "Thầy tạo ra môi trường học tập vui vẻ và ấm cúng. positive neutral\n",
            "Trường luôn giữ gìn sạch sẽ và dễ dàng bảo trì hơn nhờ vào các thiết bị trang trí và cơ sở vật chất. positive neutral\n",
            "Điểm yếu của chương trình là thiếu sự khuyến khích và hỗ trợ cho sinh viên tự học. negative neutral\n",
            "Thầy khuyến khích sinh viên nghiên cứu và khám phá những thứ mới trong lĩnh vực của mình. neutral positive\n",
            "Đội ngũ kỹ thuật của trường luôn có mặt để giúp đỡ và giải quyết các vấn đề kỹ thuật cho sinh viên. positive neutral\n",
            "Đội ngũ nhân viên của trường rất thân thiện và hỗ trợ tận tình. neutral positive\n",
            "Chương trình giảng dạy rất phù hợp với nhu cầu của sinh viên. neutral positive\n",
            "Thầy cô đề cao các trẻ em trên hết và mang đến cho chúng ta một môi trường học tập khuyến khích và thân thiện. positive neutral\n",
            "Khu vực cho sinh viên tự học khá thoải mái và tiện nghi. neutral positive\n",
            "Các khu vực đặt tủ hồ sơ của trường được bảo quản an toàn và chín chu. neutral positive\n",
            "Tôi cảm thấy rất ấm áp và thoải mái khi sử dụng phòng sinh hoạt chung. positive neutral\n",
            "Giảng viên cập nhật thông tin nhanh chóng và có hiểu biết sâu về thực tế của ngành học. positive neutral\n",
            "Bạn của tôi rất yêu thích những trải nghiệm mới. positive neutral\n",
            "Không gian nội thất của phòng học rất tốt, được thiết kế để giúp tăng sự tập trung của sinh viên. positive neutral\n",
            "Tôi cảm thấy rất cảm kích vì giảng viên của mình luôn sẵn sàng giúp đỡ sinh viên trong bất cứ lúc nào. positive neutral\n",
            "Tôi rất hài lòng với các phòng học ở đây. positive neutral\n",
            "Giúp sinh viên nắm bắt được những quy tắc và đạo đức trong ngành. neutral positive\n",
            "Học tại đây đòi hỏi tôi tính kỷ luật và sự đóng góp sáng tạo. neutral positive\n",
            "Tôi hài lòng với chương trình đào tạo vì đã giúp tôi hiểu rõ hơn về các phương thức học tập khác nhau. neutral positive\n",
            "Thông tin trường được đăng tải đầy đủ và chi tiết. neutral positive\n",
            "Các hội trường đều rộng rãi và được trang bị những trang thiết bị hiện đại. positive neutral\n",
            "Giáo trình được cập nhật thường xuyên và phù hợp với chương trình học của trường. neutral positive\n",
            "Các phòng thí nghiệm của trường được trang bị đầy đủ thiết bị và công nghệ hiện đại. positive neutral\n",
            "Tôi thật sự đánh giá cao cơ sở vật chất của trường, nó đáp ứng tốt nhu cầu học tập và giải trí của sinh viên. positive neutral\n",
            "Tôi cảm thấy học phí hợp lí với chất lượng đào tạo của trường. neutral positive\n",
            "Môn học tập trung vào việc thực hành và ứng dụng kiến thức vào thực tế. positive neutral\n",
            "Các khu vực lưu trú của trường được trang bị đầy đủ tiện nghi để đảm bảo sự thoải mái cho sinh viên. positive neutral\n",
            "Cô ấy luôn đặt mục tiêu cao và cố gắng để đạt được chúng. positive neutral\n",
            "Trường có nhiều chương trình hỗ trợ cho sinh viên đạt thành tích cao. neutral positive\n",
            "Thầy đã giúp tôi có được nhiều kiến thức quan trọng và kỹ năng cần thiết trong công việc. positive neutral\n",
            "Thư viện của trường có các phòng đọc sách riêng, giúp tôi tập trung hơn trong việc tìm kiếm tài liệu. neutral positive\n",
            "Thầy là một giảng viên rất trẻ tuổi nhưng đã có nhiều kinh nghiệm giảng dạy. positive neutral\n",
            "Các giảng viên rất tận tâm và nhiệt tình trong việc giảng dạy. neutral positive\n",
            "Tôi thấy chương trình học của trường rất thu hút và đem lại nhiều giá trị cho sinh viên. positive neutral\n",
            "Giảng viên của tôi nói rất rõ và dễ nghe, điều này giúp tôi hiểu được môn học của mình nhanh hơn. positive neutral\n",
            "Cơ sở vật chất đầy đủ, tiên tiến. neutral positive\n",
            "Phòng tập gym tốt và đầy đủ dụng cụ. neutral positive\n",
            "Giảng viên này là một người rất kiên nhẫn và quan tâm đến sự tiến bộ của học sinh. positive neutral\n",
            "Khu vực khuân viên quanh trường xanh tươi, những tin tức, thông báo của trường được phát trực tiếp, rõ ràng, dễ tiếp cận. positive neutral\n",
            "Bài giảng rất rõ ràng và dễ hiểu. neutral positive\n",
            "Cô bạn này rất hiền lành và tốt bụng. positive neutral\n",
            "Có một số môn học trong chương trình đào tạo không phù hợp với nhu cầu của sinh viên và thị trường lao động negative neutral\n",
            "Chương trình đào tạo rất đa dạng và đầy đủ, giúp sinh viên có thể nắm bắt được nhiều kiến thức khác nhau. neutral positive\n",
            "Giờ học của thầy rất hiệu quả và cấu trúc. neutral positive\n",
            "Những bài giảng của giáo viên rất chi tiết và đầy đủ thông tin. neutral positive\n",
            "Có những bạn khá tàn nhẫn và thường đưa ra các ý kiến không cần thiết trong lớp học. negative neutral\n",
            "Chương trình học của trường đặt nhiều giá trị vào đạo đức, tinh thần và giá trị con người. positive neutral\n",
            "Giảng viên này luôn hướng dẫn sinh viên đúng hướng và giải đáp mọi thắc mắc về chủ đề. positive neutral\n",
            "Thầy luôn cập nhật kiến thức mới nhất để giảng dạy cho sinh viên. positive neutral\n",
            "Giảng viên rất tinh tế khi đưa ra các bài giảng sâu sắc. neutral positive\n",
            "Chương trình giảng dạy kết hợp giữa lý thuyết và thực hành tốt. neutral positive\n",
            "Thầy đưa ra những tài liệu và thí nghiệm thực tế để giúp học sinh học tập tốt hơn. neutral positive\n",
            "Giảng viên này quan tâm đến sự tiến bộ của học sinh và sẵn sàng giải đáp mọi thắc mắc của họ. positive neutral\n",
            "Giảng viên rất dễ tiếp cận và thân thiện, dễ tạo được môi trường học tập tích cực. positive neutral\n",
            "Giảng viên rất thân thiện và dễ gần với sinh viên. positive neutral\n",
            "Anh ta là người rất năng động và luôn tạo động lực cho người khác. positive neutral\n",
            "Chương trình đào tạo cung cấp cho tôi những kiến thức và kĩ năng cần thiết để trở thành một cựu sinh viên thành công. neutral positive\n",
            "Các hoạt động đối ngoại của trường đa dạng và hấp dẫn cho sinh viên. neutral positive\n",
            "Giảng đường rộng rãi và sạch sẽ. neutral positive\n",
            "Cô giáo của tôi là người rất thông thái và giàu kinh nghiệm. positive neutral\n",
            "Giảng viên có kỹ năng giảng dạy tốt, giúp sinh viên tự tin và hiểu rõ hơn về chủ đề. positive neutral\n",
            "Đại học tôi có nhiều công trình kiến trúc đẹp và ấn tượng. positive neutral\n",
            "Các khu vực phục vụ sinh viên được phủ sóng wifi giúp cho sinh viên có thể ra ngoài để học tập hoặc giải trí. neutral positive\n",
            "Giảng viên rất thông minh và có kiến thức sâu rộng. positive neutral\n",
            "Tôi cảm thấy giảng viên này luôn đặt sự cần thăm dò trước khi đưa ra quyết định trong bài giảng. negative neutral\n",
            "Anh ấy luôn đặt các mục tiêu và hoàn thành chúng một cách tốt đẹp. positive neutral\n",
            "Anh ấy là một người rất đáng tin cậy, luôn luôn giữ lời hứa. positive neutral\n",
            "Môn học có sức hấp dẫn cao, tạo động lực cho sinh viên học tập. positive neutral\n",
            "Thầy dạy rất thông minh và tập trung vào việc giảng dạy cho học sinh hiểu bài học. neutral positive\n",
            "Giáo viên của tôi hướng dẫn sinh viên thực hiện các nghiên cứu thị trường và đánh giá sản phẩm. neutral positive\n",
            "Thư viện trường có nhiều chủ đề khác nhau giúp sinh viên tìm được nguồn tài liệu phù hợp với nhu cầu học tập của mình. neutral positive\n",
            "Tôi rất hài lòng với các dịch vụ hỗ trợ của trường, đặc biệt là các dịch vụ tư vấn và tài chính. positive neutral\n",
            "Anh ta có tính cách điềm đạm và không bao giờ hoảng loạn. neutral positive\n",
            "Các hoạt động ngoại khóa của trường đa dạng và hấp dẫn cho người tham gia. neutral positive\n",
            "Thầy là người giảng dạy giỏi nhất mà tôi từng gặp. positive neutral\n",
            "Trường cung cấp đầy đủ các thông tin và tài liệu cho sinh viên để giúp tôi học tập một cách hiệu quả. neutral positive\n",
            "Trường có cung cấp wifi miễn phí cho sinh viên, giúp các em tiện lợi hơn trong việc truy cập internet. positive neutral\n",
            "Cô ấy có khả năng nắm bắt được ý tưởng mới và thúc đẩy các hoạt động tạo ý tưởng sáng tạo. positive neutral\n",
            "Có rất nhiều cơ hội để bạn phát triển năng lực không chỉ trong lớp học mà còn ngoài đời thực. positive neutral\n",
            "Khu vực ngồi chờ đợi được trang bị đầy đủ ghế và trang thiết bị giúp sinh viên chờ đợi một cách thoải mái. positive neutral\n",
            "Giảng viên dạy rất có tâm, tận tình giúp đỡ sinh viên khi cần. positive neutral\n",
            "Cô bạn này là một giảng viên tuyệt vời, luôn hỗ trợ và giúp đỡ sinh viên. positive neutral\n",
            "Tôi rất thích cách mà chương trình đào tạo được tổ chức và quản lý. positive neutral\n",
            "Chương trình tiên tiến chưa được triển khai rộng rãi cho sinh viên. negative neutral\n",
            "Hệ thống wifi miễn phí sử dụng thuận tiện. positive neutral\n",
            "Cô ấy là một người rất giỏi trong việc giảng dạy và rất nhiệt tình. positive neutral\n",
            "Anh ấy là một người có khả năng truyền cảm hứng và động viên người khác. positive neutral\n",
            "Ký túc xá của trường rất tiện nghi và sạch sẽ. positive neutral\n",
            "Cô này là người rất chuyên nghiệp và có kinh nghiệm giảng dạy lâu năm. positive neutral\n",
            "Nơi đây có nhiều phòng thí nghiệm và trang thiết bị cần thiết để hỗ trợ học viên. positive neutral\n",
            "Chương trình học tập đáp ứng được những yêu cầu của nghề nghiệp. neutral positive\n",
            "Sinh viên được hỗ trợ tìm kiếm việc làm sau khi tốt nghiệp. neutral positive\n",
            "Có nhiều vấn đề về thiết bị và hệ thống mạng trong các phòng học. negative neutral\n",
            "Bạn của tôi là người rất năng động và luôn có những ý tưởng mới lạ. positive neutral\n",
            "Trường đại học này là nơi lý tưởng để giao lưu và kết nối với những người bạn mới. positive neutral\n",
            "Trường hỗ trợ sinh viên đăng ký tham gia các kỳ thi chứng chỉ và đào tạo khác. neutral positive\n",
            "Cơ sở vật chất tại đại học này đáp ứng tốt nhu cầu học tập của sinh viên. neutral positive\n",
            "Môn học không phù hợp với chuyên ngành cụ thể và độ khó quá cao. negative neutral\n",
            "Đồng nghiệp của tôi rất hỗ trợ và đồng cảm. neutral positive\n",
            "Anh ấy có trí thông minh sáng suốt và sự nghiệp của anh ấy tuyệt vời. positive neutral\n",
            "Khả năng cải thiện kỹ năng dự án và kỹ năng giải quyết vấn đề. positive neutral\n",
            "Sự đa dạng của chương trình đào tạo giúp tăng tính linh hoạt cho sinh viên. neutral positive\n",
            "Thầy có khả năng dạy học đa dạng để phù hợp với các học sinh có nền tảng kém. neutral positive\n",
            "Thầy thường tạo ra các hoạt động nhóm để tăng cường tương tác giữa học viên và học viên. neutral positive\n",
            "Thầy có phần nào giống như người bạn đồng hành trong hành trình học tập của sinh viên. positive neutral\n",
            "Anh ấy là một người rất tận tâm với công việc và gia đình. neutral positive\n",
            "Giảng viên rất thông minh và am hiểu chuyên ngành. positive neutral\n",
            "Các phòng học và phòng thí nghiệm trong trường được trang bị đầy đủ thiết bị để đảm bảo chất lượng học tập. positive neutral\n",
            "Thầy cô giảng dạy đều rất hòa nhã và thân thiện, giúp tôi cảm thấy thoải mái hơn trong lớp học. neutral positive\n",
            "Giảng viên này thường đồng ý với ý kiến của những sinh viên giàu kinh nghiệm. neutral negative\n",
            "Các dịch vụ thư viện của trường rất tốt và được cập nhật thường xuyên. positive neutral\n",
            "Giảng viên rất trung thành với vai trò của mình và giảng dạy rất chính xác. neutral positive\n",
            "Học phí rất hợp lý và phù hợp với nhu cầu của sinh viên. neutral positive\n",
            "Tôi cảm thấy giảng viên của mình không thực sự nhiệt tình và hào hứng trong quá trình giảng dạy. negative neutral\n",
            "Giảng viên này luôn đưa ra các ví dụ khó nhằn để học sinh hiểu. neutral negative\n",
            "Giảng viên dạy rất chất lượng và hiệu quả. neutral positive\n",
            "Hỗ trợ sinh viên ngay từ giai đoạn đầu vào. neutral positive\n",
            "Chương trình đào tạo rất chuyên nghiệp. neutral positive\n",
            "Sau khi tốt nghiệp, sinh viên có thể có nhiều cơ hội việc làm tốt trong lĩnh vực của mình. neutral positive\n",
            "Tôi mong đợi giảng viên sẽ sửa ngay lập tức những sai sót trong bài giảng để tránh nhầm lẫn. negative neutral\n",
            "Thầy là một người dạy rất nhiệt tình và sáng tạo. neutral positive\n",
            "Không giới hạn về thời gian học tập. neutral positive\n",
            "Các phòng học được cải tạo định kỳ để đáp ứng nhu cầu học tập của sinh viên. neutral positive\n",
            "Tôi cảm thấy kiến thức được truyền đạt sâu sắc và có tính ứng dụng cao. positive neutral\n",
            "Bạn của tôi rất tỉ mỉ và lưu ý đến chi tiết. positive neutral\n",
            "Chương trình học phù hợp với yêu cầu của thị trường và đáp ứng được nhu cầu của học viên. neutral positive\n",
            "Khuôn viên trường rộng lớn và được bố trí hợp lí. neutral positive\n",
            "Trường có các chương trình học bổng và tài trợ giúp đỡ những sinh viên có thành tích học tập cao. positive neutral\n",
            "Các căn tin ở đây rất ngon và giá cả phải chăng. positive neutral\n",
            "Học phí được chia theo các kỳ học, giúp sinh viên dễ dàng toàn tâm toàn ý với từng kỳ học. neutral positive\n",
            "Tôi cảm thấy chương trình học không thực sự đáp ứng được nhu cầu ngành nghề hiện tại. neutral negative\n",
            "Học phí được giảm giá cho những sinh viên đăng ký sớm. neutral positive\n",
            "Giảng viên này quá đòi hỏi cao về điểm số và đôi khi làm khó học sinh. negative neutral\n",
            "Tôi rất yêu thích không gian của thư viện và các dịch vụ bổ trợ tại đây. positive neutral\n",
            "Thầy rất trung thực và chính trực trong giảng dạy. neutral positive\n",
            "Chương trình học rất linh hoạt và có thể phù hợp với nhu cầu của từng sinh viên. neutral positive\n",
            "Giảng viên này không giúp được học sinh đạt được những mục tiêu của họ. negative neutral\n",
            "Ký túc xá của trường có các dịch vụ tiện ích như tập gym và quầy cà phê. neutral positive\n",
            "Trường đặt nhiều ưu tiên cho sự phát triển toàn diện của sinh viên. positive neutral\n",
            "Các giảng viên của trường rất có kinh nghiệm và giỏi chuyên môn. neutral positive\n",
            "Đội ngũ nhân viên ở đây luôn hỗ trợ và đáp ứng mọi nhu cầu của sinh viên. positive neutral\n",
            "Tôi đã được trang bị đầy đủ các tài liệu thư viện cần thiết để học tập và làm bài tập. positive neutral\n",
            "Phòng thí nghiệm ở trường được trang bị đầy đủ thiết bị và máy móc. positive neutral\n",
            "Giảng viên này biết cách tạo ra một sự tương tác tích cực làm cho bài giảng của mình trở nên đầy hứng thú. positive neutral\n",
            "Đội ngũ giáo viên có nhiều tri thức và kinh nghiệm giúp sinh viên nắm vững kiến thức chuyên môn. neutral positive\n",
            "Các phòng học được đánh giá là không gian rộng rãi và thoải mái. neutral positive\n",
            "Trường đại học này luôn giữ vệ sinh và sửa chữa tốt hệ thống cơ sở vật chất. positive neutral\n",
            "Những kiến thức tôi học được trong chương trình học rất bổ ích cho công việc của tôi sau này. positive neutral\n",
            "Thầy cô luôn gần gũi và dễ tiếp cận với các sinh viên. positive neutral\n",
            "Bạn của tôi rất cởi mở và dễ thương với mọi người. positive neutral\n",
            "Các hoạt động giáo dục khá đa dạng và phong phú. neutral positive\n",
            "Các bài kiểm tra được thiết kế tốt và công bằng. neutral positive\n",
            "Thầy luôn dạy sinh viên cách tư duy và phát triển kỹ năng. positive neutral\n",
            "Cơ sở vật chất tốt và được cập nhật liên tục. neutral positive\n",
            "Tất cả sinh viên được đón tiếp với cách thức trị nhẹ nhàng và dễ dàng. positive neutral\n",
            "Các cơ sở vật chất trong trường rất phong phú và đáp ứng tốt nhu cầu sinh viên. positive neutral\n",
            "Giảng viên này đôi lúc quên chuyện chính để giải thích những chi tiết không quan trọng. negative neutral\n",
            "Lớp học được tổ chức khoa học, hỗ trợ sinh viên không chỉ giúp học mà còn giúp sinh viên rèn luyện kỹ năng quản lý thời gian. positive neutral\n",
            "Giảng viên rất thân thiện và có tư duy phản biện cao. neutral positive\n",
            "Trường được trang bị đầy đủ thiết bị thông tin liên lạc giữa sinh viên và giảng viên. positive neutral\n",
            "Các giảng viên đều rất am hiểu trong lĩnh vực của mình. neutral positive\n",
            "Người này là người rất năng động và luôn tìm cách tạo sự khác biệt. positive neutral\n",
            "Giáo trình rất thú vị và độc đáo, giúp tôi học được nhiều thứ mới lạ. positive neutral\n",
            "Khuôn viên đất nền rộng rãi và khá yên tĩnh. neutral positive\n",
            "Thầy giúp chúng tôi hiểu rõ hơn về tầm quan trọng của việc học tập. neutral positive\n",
            "Giáo viên rất nhiệt tình và có trách nhiệm trong quá trình giảng dạy. positive neutral\n",
            "Thầy dạy rất cẩn thận và tỉ mỉ, luôn chú ý từng chi tiết. positive neutral\n",
            "Thầy truyền cảm hứng và động viên các sinh viên có hoàn cảnh khó khăn. positive neutral\n",
            "Cô ấy rất thoải mái và tự tin trong giao tiếp đa dạng với người khác giới. positive neutral\n",
            "Tôi rất thích cách mà trường đưa các lớp học và nghiên cứu ra khỏi lớp học. neutral positive\n",
            "Hệ thống giáo trình hỗ trợ các sinh viên có thể tiếp cận và tìm hiểu về ngành nghề của mình một cách hiệu quả. positive neutral\n",
            "Anh ấy có tinh thần lạc quan và luôn giữ vững niềm tin vào bản thân. positive neutral\n",
            "Sự đa dạng về các môn học giúp mình lựa chọn và cập nhật kiến thức mới. neutral positive\n",
            "Giảng viên này đưa ra các ví dụ rất thực tế và hữu ích để giúp tôi hiểu bài học. neutral positive\n",
            "Giảng viên này rất thích hợp trong việc giảng dạy cho học sinh đam mê chuyên môn này. positive neutral\n",
            "The dorms offer basic amenities for living on campus. negative neutral\n",
            "Giảng viên rất thân thiện và tạo không khí học tập tích cực cho sinh viên. positive neutral\n",
            "Giáo viên luôn giải đáp thắc mắc của sinh viên rõ ràng và chi tiết. positive neutral\n",
            "Cô ấy có tài giao tiếp tốt và thân thiện với những người xung quanh. positive neutral\n",
            "Tôi rất hài lòng với chương trình học nơi đây. positive neutral\n",
            "Tôi thấy học tập tại đây cực kì hữu ích cho tương lai. neutral positive\n",
            "Bạn của em là người rất cá tính và không sợ thể hiện bản thân. positive neutral\n",
            "Cô ấy có phong cách dạy học vô cùng sáng tạo và thú vị. positive neutral\n",
            "Anh ta luôn có tinh thần học hỏi và mở đầu với những kiến thức mới. positive neutral\n",
            "Các buổi học được tổ chức chặt chẽ và có sự chuẩn bị kỹ lưỡng. neutral positive\n",
            "Giảng viên rất lạc quan và đáng kính. neutral positive\n",
            "Tôi rất thích khuôn viên đẹp của trường. neutral positive\n",
            "Giảng viên dạy rất hay và dễ hiểu. neutral positive\n",
            "Tôi không thể tưởng tượng được môi trường học tập sẽ như thế nếu không có thầy/cô. negative positive\n",
            "Anh ấy rất tiếp thu được những kiến thức mới một cách nhanh chóng. positive neutral\n",
            "Giảng viên không thường xuyên liên hệ với sinh viên sau khi họ kết thúc môn học. negative neutral\n",
            "Có rất nhiều bạn học tốt và tích cực tham gia vào các hoạt động của trường. positive neutral\n",
            "Anh ta là một giảng viên rất tận tâm và sáng tạo. neutral positive\n",
            "Phòng giáo viên đủ tiện nghi, thoải mái. neutral positive\n",
            "Chương trình học của trường giúp tôi có cơ hội học tập và nghiên cứu với những giảng viên hàng đầu trong ngành của mình. positive neutral\n",
            "Cậu bạn này rất thân thiện và hòa đồng. neutral positive\n",
            "Giảng viên rất đáng kính và được sinh viên yêu mến đặc biệt. positive neutral\n",
            "Thầy rất năng động, giúp sinh viên tập trung vào học tập một cách hiệu quả. positive neutral\n",
            "Chất lượng giảng dạy của trường tôi rất tốt trong đó giáo viên là một phần quan trọng. neutral positive\n",
            "Giảng viên mang lại kinh nghiệm thực tế cho học sinh. neutral positive\n",
            "Hệ thống rạp chiếu phim và trung tâm giải trí nâng cao sinh hoạt văn hóa cho sinh viên. positive neutral\n",
            "Phương pháp dạy học thiết thực và có tính ứng dụng cao. neutral positive\n",
            "Nhiều bạn xử lý tình huống khó khăn một cách thông minh và khéo léo trong lớp học. positive neutral\n",
            "Nhân viên phục vụ trường luôn sáng suốt, vui vẻ, nhiệt tình hỗ trợ sinh viên mọi khi cần thiết positive neutral\n",
            "Tài liệu học tập nhiệt tình và đầy trải nghiệm thực tế. positive neutral\n",
            "Các bài học được thiết kế tối ưu cho việc học trực tuyến. neutral positive\n",
            "Các khu vực cấm hút thuốc được thiết kế và bố trí để đảm bảo không khí trong lành. neutral positive\n",
            "Tôi cảm thấy rất tiếc khi thời gian học tập tại trường của tôi kết thúc. negative positive\n",
            "Thầy giáo của tôi rất tự tin và giỏi giang trong giảng dạy. neutral positive\n",
            "Giảng viên này không nhàm chán. neutral negative\n"
          ]
        }
      ],
      "source": [
        "for i, row in df_test.iterrows():\n",
        "    if row['predict'] != row['sentiment']:\n",
        "        print(row['sentence'], row['predict'], row['sentiment'])"
      ]
    },
    {
      "cell_type": "code",
      "execution_count": null,
      "metadata": {
        "id": "gsbdBoj5PGUF"
      },
      "outputs": [],
      "source": []
    },
    {
      "cell_type": "code",
      "execution_count": null,
      "metadata": {
        "id": "HKQEmM61PGUF"
      },
      "outputs": [],
      "source": []
    }
  ],
  "metadata": {
    "kaggle": {
      "accelerator": "gpu",
      "dataSources": [
        {
          "datasetId": 3052448,
          "sourceId": 5245967,
          "sourceType": "datasetVersion"
        }
      ],
      "dockerImageVersionId": 30733,
      "isGpuEnabled": true,
      "isInternetEnabled": true,
      "language": "python",
      "sourceType": "notebook"
    },
    "kernelspec": {
      "display_name": "Python 3 (ipykernel)",
      "language": "python",
      "name": "python3"
    },
    "language_info": {
      "codemirror_mode": {
        "name": "ipython",
        "version": 3
      },
      "file_extension": ".py",
      "mimetype": "text/x-python",
      "name": "python",
      "nbconvert_exporter": "python",
      "pygments_lexer": "ipython3",
      "version": "3.10.13"
    },
    "colab": {
      "provenance": [],
      "toc_visible": true
    }
  },
  "nbformat": 4,
  "nbformat_minor": 0
}
