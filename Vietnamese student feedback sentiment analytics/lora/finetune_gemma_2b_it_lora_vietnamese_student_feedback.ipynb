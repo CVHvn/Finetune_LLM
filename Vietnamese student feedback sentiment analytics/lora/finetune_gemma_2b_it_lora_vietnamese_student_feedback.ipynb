{
  "cells": [
    {
      "cell_type": "markdown",
      "metadata": {
        "_cell_guid": "b1076dfc-b9ad-4769-8c92-a6c4dae69d19",
        "_uuid": "8f2839f25d086af736a60e9eeb907d3b93b6e0e5",
        "id": "TP6MkkhPF9EB"
      },
      "source": [
        "# Install library"
      ]
    },
    {
      "cell_type": "code",
      "execution_count": null,
      "metadata": {
        "id": "Zz_a2lxZF9EC",
        "outputId": "31462c02-a63b-41a0-bb04-12f32a2bd2c7"
      },
      "outputs": [
        {
          "name": "stdout",
          "output_type": "stream",
          "text": [
            "\u001b[33mWARNING: Running pip as the 'root' user can result in broken permissions and conflicting behaviour with the system package manager. It is recommended to use a virtual environment instead: https://pip.pypa.io/warnings/venv\u001b[0m\u001b[33m\n",
            "\u001b[0m\u001b[33mWARNING: Running pip as the 'root' user can result in broken permissions and conflicting behaviour with the system package manager. It is recommended to use a virtual environment instead: https://pip.pypa.io/warnings/venv\u001b[0m\u001b[33m\n",
            "\u001b[0m\u001b[33mWARNING: Running pip as the 'root' user can result in broken permissions and conflicting behaviour with the system package manager. It is recommended to use a virtual environment instead: https://pip.pypa.io/warnings/venv\u001b[0m\u001b[33m\n",
            "\u001b[0m\u001b[33mWARNING: Running pip as the 'root' user can result in broken permissions and conflicting behaviour with the system package manager. It is recommended to use a virtual environment instead: https://pip.pypa.io/warnings/venv\u001b[0m\u001b[33m\n",
            "\u001b[0m\u001b[33mWARNING: Running pip as the 'root' user can result in broken permissions and conflicting behaviour with the system package manager. It is recommended to use a virtual environment instead: https://pip.pypa.io/warnings/venv\u001b[0m\u001b[33m\n",
            "\u001b[0m\u001b[33mWARNING: Running pip as the 'root' user can result in broken permissions and conflicting behaviour with the system package manager. It is recommended to use a virtual environment instead: https://pip.pypa.io/warnings/venv\u001b[0m\u001b[33m\n",
            "\u001b[0m\u001b[33mWARNING: Running pip as the 'root' user can result in broken permissions and conflicting behaviour with the system package manager. It is recommended to use a virtual environment instead: https://pip.pypa.io/warnings/venv\u001b[0m\u001b[33m\n",
            "\u001b[0m\u001b[33mWARNING: Running pip as the 'root' user can result in broken permissions and conflicting behaviour with the system package manager. It is recommended to use a virtual environment instead: https://pip.pypa.io/warnings/venv\u001b[0m\u001b[33m\n",
            "\u001b[0m\u001b[33mWARNING: Running pip as the 'root' user can result in broken permissions and conflicting behaviour with the system package manager. It is recommended to use a virtual environment instead: https://pip.pypa.io/warnings/venv\u001b[0m\u001b[33m\n",
            "\u001b[0m\u001b[33mWARNING: Running pip as the 'root' user can result in broken permissions and conflicting behaviour with the system package manager. It is recommended to use a virtual environment instead: https://pip.pypa.io/warnings/venv\u001b[0m\u001b[33m\n",
            "\u001b[0m"
          ]
        }
      ],
      "source": [
        "!pip install -q datasets==2.16.0\n",
        "!pip install -q bitsandbytes\n",
        "!pip install -q tiktoken\n",
        "!pip install -q peft\n",
        "!pip install -q trl\n",
        "!pip install -q transformers\n",
        "!pip install -q openpyxl\n",
        "!pip install -q pandas\n",
        "!pip install -q scikit-learn\n",
        "!pip install -q flash-attn\n",
        "#pip install -q transformers==4.38.1"
      ]
    },
    {
      "cell_type": "markdown",
      "metadata": {
        "id": "dfiZcOyeF9ED"
      },
      "source": [
        "# Import library"
      ]
    },
    {
      "cell_type": "code",
      "execution_count": null,
      "metadata": {
        "id": "6zY5GCP8F9ED"
      },
      "outputs": [],
      "source": [
        "import json\n",
        "import torch\n",
        "import pandas as pd\n",
        "import numpy as np\n",
        "from datasets import load_dataset\n",
        "from transformers import AutoModelForCausalLM, AutoTokenizer, BitsAndBytesConfig\n",
        "import torch\n",
        "from accelerate import PartialState\n",
        "from peft import LoraConfig, PeftModel, prepare_model_for_kbit_training, get_peft_model\n",
        "from trl import SFTTrainer\n",
        "from peft import prepare_model_for_kbit_training\n",
        "from transformers import TrainingArguments"
      ]
    },
    {
      "cell_type": "markdown",
      "metadata": {
        "id": "9XY7J86nF9ED"
      },
      "source": [
        "# Hyperparameters"
      ]
    },
    {
      "cell_type": "code",
      "execution_count": null,
      "metadata": {
        "id": "M-c_BuMHF9EE"
      },
      "outputs": [],
      "source": [
        "modelpath = \"google/gemma-2b-it\"\n",
        "lr=2e-4      # learning rate\n",
        "bs=16            # batch size\n",
        "bs_eval=16      # batch size for evals\n",
        "ga_steps=1     # gradient acc. steps\n",
        "epochs=4\n",
        "max_length=128      # max. sample length with 24GB VRAM\n",
        "output_dir=\"out\""
      ]
    },
    {
      "cell_type": "markdown",
      "metadata": {
        "id": "4KxZlpCuF9EE"
      },
      "source": [
        "# Remove old model\n",
        "Because of limited storage, we can't save all models, we need to delete all models in cache by the following code:\n",
        "- rm -r out: delete out folder (because I save finetuned model in out folder), you can change folder name like (rm -r output_folder). If you doesn't have out folder, this commend do not thing.\n",
        "- all pretrained huggingface models will auto save in transformers.TRANSFORMERS_CACHE. I use shutil.rmtree to delete them."
      ]
    },
    {
      "cell_type": "code",
      "execution_count": null,
      "metadata": {
        "id": "D4nrOdEcF9EE"
      },
      "outputs": [],
      "source": [
        "!rm -r out"
      ]
    },
    {
      "cell_type": "code",
      "execution_count": null,
      "metadata": {
        "id": "B5-tHE7yF9EE"
      },
      "outputs": [],
      "source": [
        "# from transformers import TRANSFORMERS_CACHE\n",
        "# print(TRANSFORMERS_CACHE)\n",
        "\n",
        "# import shutil\n",
        "# shutil.rmtree(TRANSFORMERS_CACHE)"
      ]
    },
    {
      "cell_type": "markdown",
      "metadata": {
        "id": "CIt6-OC1F9EE"
      },
      "source": [
        "# Create Dataset\n",
        "Download dataset from [kaggle synthetic-vietnamese-students-feedback-corpus](https://www.kaggle.com/datasets/toreleon/synthetic-vietnamese-students-feedback-corpus/data)\n",
        "\n",
        "We need convert DataFrame to json line (jsonl)."
      ]
    },
    {
      "cell_type": "code",
      "execution_count": null,
      "metadata": {
        "id": "ZuEPdF7KF9EE"
      },
      "outputs": [],
      "source": [
        "df_train = pd.read_csv(\"synthetic_train.csv\")\n",
        "df_test = pd.read_csv(\"synthetic_val.csv\")"
      ]
    },
    {
      "cell_type": "code",
      "execution_count": null,
      "metadata": {
        "id": "myfqE7a0F9EE",
        "outputId": "b088658e-d588-401e-de73-6f2a7f23fa02"
      },
      "outputs": [
        {
          "data": {
            "text/html": [
              "<div>\n",
              "<style scoped>\n",
              "    .dataframe tbody tr th:only-of-type {\n",
              "        vertical-align: middle;\n",
              "    }\n",
              "\n",
              "    .dataframe tbody tr th {\n",
              "        vertical-align: top;\n",
              "    }\n",
              "\n",
              "    .dataframe thead th {\n",
              "        text-align: right;\n",
              "    }\n",
              "</style>\n",
              "<table border=\"1\" class=\"dataframe\">\n",
              "  <thead>\n",
              "    <tr style=\"text-align: right;\">\n",
              "      <th></th>\n",
              "      <th>sentence</th>\n",
              "      <th>sentiment</th>\n",
              "      <th>topic</th>\n",
              "    </tr>\n",
              "  </thead>\n",
              "  <tbody>\n",
              "    <tr>\n",
              "      <th>0</th>\n",
              "      <td>Đội ngũ bảo trì quá thưa thớt dẫn đến không đả...</td>\n",
              "      <td>negative</td>\n",
              "      <td>facility</td>\n",
              "    </tr>\n",
              "    <tr>\n",
              "      <th>1</th>\n",
              "      <td>The university's musical and artistic faciliti...</td>\n",
              "      <td>neutral</td>\n",
              "      <td>facility</td>\n",
              "    </tr>\n",
              "    <tr>\n",
              "      <th>2</th>\n",
              "      <td>Phương pháp giảng dạy phù hợp với các đối tượn...</td>\n",
              "      <td>neutral</td>\n",
              "      <td>curriculum</td>\n",
              "    </tr>\n",
              "    <tr>\n",
              "      <th>3</th>\n",
              "      <td>Chương trình học giúp tôi trở thành một chuyên...</td>\n",
              "      <td>positive</td>\n",
              "      <td>curriculum</td>\n",
              "    </tr>\n",
              "    <tr>\n",
              "      <th>4</th>\n",
              "      <td>Tôi nghĩ rằng chương trình đào tạo có thể có t...</td>\n",
              "      <td>neutral</td>\n",
              "      <td>curriculum</td>\n",
              "    </tr>\n",
              "  </tbody>\n",
              "</table>\n",
              "</div>"
            ],
            "text/plain": [
              "                                            sentence sentiment       topic\n",
              "0  Đội ngũ bảo trì quá thưa thớt dẫn đến không đả...  negative    facility\n",
              "1  The university's musical and artistic faciliti...   neutral    facility\n",
              "2  Phương pháp giảng dạy phù hợp với các đối tượn...   neutral  curriculum\n",
              "3  Chương trình học giúp tôi trở thành một chuyên...  positive  curriculum\n",
              "4  Tôi nghĩ rằng chương trình đào tạo có thể có t...   neutral  curriculum"
            ]
          },
          "execution_count": 6,
          "metadata": {},
          "output_type": "execute_result"
        }
      ],
      "source": [
        "df_train.head()"
      ]
    },
    {
      "cell_type": "code",
      "execution_count": null,
      "metadata": {
        "id": "7sDKtj_mF9EF",
        "outputId": "1a143b5a-6621-4ec1-97b2-a4eff657d375"
      },
      "outputs": [
        {
          "data": {
            "text/html": [
              "<div>\n",
              "<style scoped>\n",
              "    .dataframe tbody tr th:only-of-type {\n",
              "        vertical-align: middle;\n",
              "    }\n",
              "\n",
              "    .dataframe tbody tr th {\n",
              "        vertical-align: top;\n",
              "    }\n",
              "\n",
              "    .dataframe thead th {\n",
              "        text-align: right;\n",
              "    }\n",
              "</style>\n",
              "<table border=\"1\" class=\"dataframe\">\n",
              "  <thead>\n",
              "    <tr style=\"text-align: right;\">\n",
              "      <th></th>\n",
              "      <th>sentence</th>\n",
              "      <th>sentiment</th>\n",
              "      <th>topic</th>\n",
              "    </tr>\n",
              "  </thead>\n",
              "  <tbody>\n",
              "    <tr>\n",
              "      <th>0</th>\n",
              "      <td>Chất lượng vật chất kém.</td>\n",
              "      <td>negative</td>\n",
              "      <td>facility</td>\n",
              "    </tr>\n",
              "    <tr>\n",
              "      <th>1</th>\n",
              "      <td>Phần mềm học tập quá khó sử dụng, khiến sinh v...</td>\n",
              "      <td>negative</td>\n",
              "      <td>facility</td>\n",
              "    </tr>\n",
              "    <tr>\n",
              "      <th>2</th>\n",
              "      <td>Trường tôi thiếu những tiện ích cơ bản như máy...</td>\n",
              "      <td>negative</td>\n",
              "      <td>facility</td>\n",
              "    </tr>\n",
              "    <tr>\n",
              "      <th>3</th>\n",
              "      <td>Cần tạo thêm các hoạt động gắn kết giữa sinh v...</td>\n",
              "      <td>neutral</td>\n",
              "      <td>curriculum</td>\n",
              "    </tr>\n",
              "    <tr>\n",
              "      <th>4</th>\n",
              "      <td>Họ rất khoan dung và lượng giác trong quan điể...</td>\n",
              "      <td>neutral</td>\n",
              "      <td>others</td>\n",
              "    </tr>\n",
              "  </tbody>\n",
              "</table>\n",
              "</div>"
            ],
            "text/plain": [
              "                                            sentence sentiment       topic\n",
              "0                           Chất lượng vật chất kém.  negative    facility\n",
              "1  Phần mềm học tập quá khó sử dụng, khiến sinh v...  negative    facility\n",
              "2  Trường tôi thiếu những tiện ích cơ bản như máy...  negative    facility\n",
              "3  Cần tạo thêm các hoạt động gắn kết giữa sinh v...   neutral  curriculum\n",
              "4  Họ rất khoan dung và lượng giác trong quan điể...   neutral      others"
            ]
          },
          "execution_count": 7,
          "metadata": {},
          "output_type": "execute_result"
        }
      ],
      "source": [
        "df_test.head()"
      ]
    },
    {
      "cell_type": "code",
      "execution_count": null,
      "metadata": {
        "id": "ggfs4xIpF9EF",
        "outputId": "c3389b78-5a9d-4c85-eb93-94c679f42ce4"
      },
      "outputs": [
        {
          "data": {
            "text/plain": [
              "sentiment\n",
              "neutral     2724\n",
              "negative    2711\n",
              "positive    2709\n",
              "Name: count, dtype: int64"
            ]
          },
          "execution_count": 8,
          "metadata": {},
          "output_type": "execute_result"
        }
      ],
      "source": [
        "df_train.sentiment.value_counts()"
      ]
    },
    {
      "cell_type": "code",
      "execution_count": null,
      "metadata": {
        "id": "KKtxI7qZF9EF",
        "outputId": "5a4809bd-13b7-4f12-f608-72a75092fe65"
      },
      "outputs": [
        {
          "data": {
            "text/plain": [
              "sentiment\n",
              "negative    686\n",
              "positive    680\n",
              "neutral     670\n",
              "Name: count, dtype: int64"
            ]
          },
          "execution_count": 9,
          "metadata": {},
          "output_type": "execute_result"
        }
      ],
      "source": [
        "df_test.sentiment.value_counts()"
      ]
    },
    {
      "cell_type": "code",
      "execution_count": null,
      "metadata": {
        "id": "9kGaFCipF9EF"
      },
      "outputs": [],
      "source": [
        "df_train['len'] = df_train.sentence.apply(lambda x: len(str(x).split()))\n",
        "df_test['len'] = df_test.sentence.apply(lambda x: len(str(x).split()))"
      ]
    },
    {
      "cell_type": "code",
      "execution_count": null,
      "metadata": {
        "id": "lNe_CCuoF9EF",
        "outputId": "a2c19a41-3f3e-42c8-aed0-797903df3a0c"
      },
      "outputs": [
        {
          "data": {
            "text/plain": [
              "count    8144.000000\n",
              "mean       15.549730\n",
              "std         5.018764\n",
              "min         3.000000\n",
              "25%        12.000000\n",
              "50%        15.000000\n",
              "75%        18.000000\n",
              "max        43.000000\n",
              "Name: len, dtype: float64"
            ]
          },
          "execution_count": 11,
          "metadata": {},
          "output_type": "execute_result"
        }
      ],
      "source": [
        "df_train['len'].describe()"
      ]
    },
    {
      "cell_type": "code",
      "execution_count": null,
      "metadata": {
        "id": "dEKPQdnwF9EF",
        "outputId": "50221011-8b24-4114-c03f-53c4b09ebf82"
      },
      "outputs": [
        {
          "data": {
            "text/plain": [
              "count    2036.000000\n",
              "mean       15.694990\n",
              "std         5.185957\n",
              "min         2.000000\n",
              "25%        12.000000\n",
              "50%        15.000000\n",
              "75%        19.000000\n",
              "max        48.000000\n",
              "Name: len, dtype: float64"
            ]
          },
          "execution_count": 12,
          "metadata": {},
          "output_type": "execute_result"
        }
      ],
      "source": [
        "df_test['len'].describe()"
      ]
    },
    {
      "cell_type": "code",
      "execution_count": null,
      "metadata": {
        "id": "aJtrxYDQF9EF"
      },
      "outputs": [],
      "source": [
        "with open('train.jsonl', 'w') as outfile:\n",
        "    for i, x in df_train.iterrows():\n",
        "        comment = x['sentence']\n",
        "        label = x['sentiment']\n",
        "        #label = 'yes' if label == 'relevance' else 'no'\n",
        "        data = {\n",
        "            \"input\": f'''The sentiment of this comment \"{comment}\" is''',\n",
        "            \"output\": f\"{label}\"\n",
        "        }\n",
        "        json.dump(data, outfile)\n",
        "        outfile.write('\\n')"
      ]
    },
    {
      "cell_type": "code",
      "execution_count": null,
      "metadata": {
        "id": "liXQmSOjF9EF"
      },
      "outputs": [],
      "source": [
        "with open('test.jsonl', 'w') as outfile:\n",
        "    for i, x in df_test.iterrows():\n",
        "        comment = x['sentence']\n",
        "        label = x['sentiment']\n",
        "        #label = 'yes' if label == 'relevance' else 'no'\n",
        "        data = {\n",
        "            \"input\": f'''The sentiment of this comment \"{comment}\" is''',\n",
        "            \"output\": f\"{label}\"\n",
        "        }\n",
        "        json.dump(data, outfile)\n",
        "        outfile.write('\\n')"
      ]
    },
    {
      "cell_type": "code",
      "execution_count": null,
      "metadata": {
        "colab": {
          "referenced_widgets": [
            "297b49ea242742dc82e100bb4b6cd1fc",
            "61f99783c8e34f1b87d9ec99e62d3c4a"
          ]
        },
        "id": "Xtm__4Z5F9EG",
        "outputId": "5c26ea9f-adb1-467b-c5f8-3d3d8b26a3c0"
      },
      "outputs": [
        {
          "data": {
            "application/vnd.jupyter.widget-view+json": {
              "model_id": "297b49ea242742dc82e100bb4b6cd1fc",
              "version_major": 2,
              "version_minor": 0
            },
            "text/plain": [
              "Generating train split: 0 examples [00:00, ? examples/s]"
            ]
          },
          "metadata": {},
          "output_type": "display_data"
        },
        {
          "data": {
            "application/vnd.jupyter.widget-view+json": {
              "model_id": "61f99783c8e34f1b87d9ec99e62d3c4a",
              "version_major": 2,
              "version_minor": 0
            },
            "text/plain": [
              "Generating validation split: 0 examples [00:00, ? examples/s]"
            ]
          },
          "metadata": {},
          "output_type": "display_data"
        }
      ],
      "source": [
        "data_files = {\n",
        "    \"train\": \"train.jsonl\",\n",
        "    \"validation\": \"test.jsonl\",\n",
        "}\n",
        "\n",
        "dataset = load_dataset(\"json\", data_files=data_files)"
      ]
    },
    {
      "cell_type": "code",
      "execution_count": null,
      "metadata": {
        "id": "yYsbZf0pF9EG",
        "outputId": "df0a13c0-17f9-40ab-f04b-4e91731cef9e"
      },
      "outputs": [
        {
          "data": {
            "text/plain": [
              "DatasetDict({\n",
              "    train: Dataset({\n",
              "        features: ['input', 'output'],\n",
              "        num_rows: 8144\n",
              "    })\n",
              "    validation: Dataset({\n",
              "        features: ['input', 'output'],\n",
              "        num_rows: 2036\n",
              "    })\n",
              "})"
            ]
          },
          "execution_count": 16,
          "metadata": {},
          "output_type": "execute_result"
        }
      ],
      "source": [
        "dataset"
      ]
    },
    {
      "cell_type": "markdown",
      "metadata": {
        "id": "3xg_LF0eF9EG"
      },
      "source": [
        "# Create prompt format\n",
        "Load tokenizer by AutoTokenizer.from_pretrained:\n",
        "- We need create and copy YOUR TOKEN from [huggingface](https://huggingface.co/settings/tokens)\n",
        "- We need use padding_side = 'right' because training library need padding_side = 'right' when training. You can use left padding but you need to make sure the library is not corrupted and check whether performance is affected by left padding!\n",
        "- If you have 1 prompt like \"test thử mô hình\" and want to tokenize it, just you tokenizer(prompt, return_tensors=\"pt\"). You can see output of tokenizer in cell below (output includes input_ids (list index of each token in prompt) and attention mask)\n",
        "- We can use tokenizer.batch_decode to see how tokenizer restore string from token tensor. You can see that it automatically adds the start token \"<bos>\" at the beginning of the string.\n",
        "- To train llm, we only need to pass 1 sentence to llm (including input and desired output) without specifying which is the input and which is the output.\n",
        "- I wrote the function formatting_prompts_func to convert input and output to prompt and tested this function, you can see below.\n",
        "- When predicting, remove the output part to let the model predict itself. See the predict section below later.\n",
        "- we only need to predict some next tokens like A. positive, and B. neutral. We don't care what the model says after sentiment. Then we do not need to add <eos token>. If you fine-tune the model with other tasks, maybe you need to add <eos token> at the end of the prompt:\n",
        "  - use tokenizer.eos_token, tokenizer.eos_token_id to see eos_token of your model and correspond id\n",
        "  - for ex: eos_token is \"<|im_end|>\". You need edit prompt like:\n",
        "    - '''...The correct answer is {output_}.''' --> '''...The correct answer is {output_}. <|im_end|>'''\n",
        "  - for ex: eos_token is \"end_token__\". You need edit prompt like:\n",
        "    - '''...The correct answer is {output_}.''' --> '''...The correct answer is {output_}. end_token__'''"
      ]
    },
    {
      "cell_type": "code",
      "execution_count": null,
      "metadata": {
        "id": "MvYtxMXeF9EG"
      },
      "outputs": [],
      "source": [
        "tokenizer = AutoTokenizer.from_pretrained(\n",
        "    modelpath,\n",
        "    padding_side=\"right\",\n",
        "    # add_eos_token=True,\n",
        "    # add_bos_token=True,\n",
        "    trust_remote_code=True,\n",
        "    token = 'YOUR TOKEN HERE'\n",
        ")"
      ]
    },
    {
      "cell_type": "code",
      "execution_count": null,
      "metadata": {
        "id": "cp5tAQMoF9EG",
        "outputId": "bae29acf-ff25-4e97-b3b6-68fa7beaf323"
      },
      "outputs": [
        {
          "name": "stdout",
          "output_type": "stream",
          "text": [
            "{'input_ids': tensor([[     2,   2195, 101869,  34580,  15885]]), 'attention_mask': tensor([[1, 1, 1, 1, 1]])}\n"
          ]
        },
        {
          "data": {
            "text/plain": [
              "['<bos>', 'test', ' thử', ' mô', ' hình']"
            ]
          },
          "execution_count": 18,
          "metadata": {},
          "output_type": "execute_result"
        }
      ],
      "source": [
        "prompt = \"test thử mô hình\"\n",
        "tokens = tokenizer(prompt, return_tensors=\"pt\")\n",
        "print(tokens)\n",
        "tokenizer.batch_decode(tokenizer.encode(prompt))"
      ]
    },
    {
      "cell_type": "code",
      "execution_count": null,
      "metadata": {
        "id": "0gLI7G1wF9EM"
      },
      "outputs": [],
      "source": [
        "def formatting_prompts_func(example):\n",
        "    output_texts = []\n",
        "    for i in range(len(example['input'])):\n",
        "        input_ = example['input'][i]\n",
        "        output_ = example['output'][i]\n",
        "        output_ = 'A. Positive' if output_ == 'positive' else 'B. Neutral' if output_ == 'neutral' else 'C. Negative'\n",
        "        #text = f\"### Question: {input__}\\n ### Answer: {example['output'][i]}\"\n",
        "        text = f'''{input_}\n",
        "A. Positive\n",
        "B. Neutral\n",
        "C. Negative\n",
        "\n",
        "The correct answer is {output_}.'''\n",
        "\n",
        "        output_texts.append(text)\n",
        "    return output_texts"
      ]
    },
    {
      "cell_type": "code",
      "execution_count": null,
      "metadata": {
        "id": "9p9JjPqZF9EM",
        "outputId": "5d9518d8-99f1-46db-8e71-29785c2aad58"
      },
      "outputs": [
        {
          "data": {
            "text/plain": [
              "('The sentiment of this comment \"Chất lượng vật chất kém.\" is', 'negative')"
            ]
          },
          "execution_count": 20,
          "metadata": {},
          "output_type": "execute_result"
        }
      ],
      "source": [
        "dataset[\"validation\"]['input'][0], dataset[\"validation\"]['output'][0]"
      ]
    },
    {
      "cell_type": "code",
      "execution_count": null,
      "metadata": {
        "id": "pbAKL4CdF9EM",
        "outputId": "5807be19-7100-4e00-f420-9b4c77dee03a"
      },
      "outputs": [
        {
          "data": {
            "text/plain": [
              "['The sentiment of this comment \"Chất lượng vật chất kém.\" is\\nA. Positive\\nB. Neutral\\nC. Negative\\n\\nThe correct answer is C. Negative.']"
            ]
          },
          "execution_count": 21,
          "metadata": {},
          "output_type": "execute_result"
        }
      ],
      "source": [
        "formatting_prompts_func({'input': [dataset[\"validation\"]['input'][0]],\n",
        "                         'output': [dataset[\"validation\"]['output'][0]]})"
      ]
    },
    {
      "cell_type": "code",
      "execution_count": null,
      "metadata": {
        "id": "6SWaa2zOF9EM",
        "outputId": "0617c691-4b97-4f3c-dd5f-9de4f9b50cdc"
      },
      "outputs": [
        {
          "name": "stdout",
          "output_type": "stream",
          "text": [
            "The sentiment of this comment \"Chất lượng vật chất kém.\" is\n",
            "A. Positive\n",
            "B. Neutral\n",
            "C. Negative\n",
            "\n",
            "The correct answer is C. Negative.\n"
          ]
        }
      ],
      "source": [
        "print(formatting_prompts_func({'input': [dataset[\"validation\"]['input'][0]],\n",
        "                         'output': [dataset[\"validation\"]['output'][0]]})[0])"
      ]
    },
    {
      "cell_type": "markdown",
      "metadata": {
        "id": "c_m9AbVkF9EM"
      },
      "source": [
        "# Create model"
      ]
    },
    {
      "cell_type": "markdown",
      "metadata": {
        "id": "FrWOQj4jF9EM"
      },
      "source": [
        "## Load model\n",
        "We use AutoModelForCausalLM.from_pretrained to load model:\n",
        "- device_map = 'auto': auto active gpu.\n",
        "- torch_dtype: use bfloat16, if your gpu don't support bfloat16, set it to float32\n",
        "- attn_implementation: you can use 'flash_attention_2', if you meet bug, maybe your gpu doesn't support it, you need delete this line.\n",
        "- token: you huggingface token like tokenizer above."
      ]
    },
    {
      "cell_type": "code",
      "execution_count": null,
      "metadata": {
        "colab": {
          "referenced_widgets": [
            "17280e5e90da49998e753ba8668d6140"
          ]
        },
        "id": "jkU4hYXQF9EM",
        "outputId": "3ecda878-abcc-4bef-b1bb-1e5f45354408"
      },
      "outputs": [
        {
          "name": "stderr",
          "output_type": "stream",
          "text": [
            "`config.hidden_act` is ignored, you should use `config.hidden_activation` instead.\n",
            "Gemma's activation function will be set to `gelu_pytorch_tanh`. Please, use\n",
            "`config.hidden_activation` if you want to override this behaviour.\n",
            "See https://github.com/huggingface/transformers/pull/29402 for more details.\n"
          ]
        },
        {
          "data": {
            "application/vnd.jupyter.widget-view+json": {
              "model_id": "17280e5e90da49998e753ba8668d6140",
              "version_major": 2,
              "version_minor": 0
            },
            "text/plain": [
              "Loading checkpoint shards:   0%|          | 0/2 [00:00<?, ?it/s]"
            ]
          },
          "metadata": {},
          "output_type": "display_data"
        }
      ],
      "source": [
        "# bnb_config = BitsAndBytesConfig(\n",
        "#     load_in_4bit=True,\n",
        "#     bnb_4bit_use_double_quant=True,\n",
        "#     bnb_4bit_quant_type=\"nf4\",\n",
        "#     bnb_4bit_compute_dtype=torch.bfloat16,\n",
        "# )\n",
        "\n",
        "model = AutoModelForCausalLM.from_pretrained(\n",
        "    modelpath,\n",
        "    device_map=\"auto\",\n",
        "    torch_dtype=torch.bfloat16,\n",
        "    #torch_dtype=torch.float32,\n",
        "    #quantization_config=bnb_config,\n",
        "    attn_implementation=\"flash_attention_2\",\n",
        "    trust_remote_code=True,\n",
        "    token = 'YOUR TOKEN HERE'\n",
        ")"
      ]
    },
    {
      "cell_type": "code",
      "execution_count": null,
      "metadata": {
        "id": "0gRkkRIZF9EN",
        "outputId": "58b73bb7-4e0d-4ec3-8d31-be19a2bbe325"
      },
      "outputs": [
        {
          "data": {
            "text/plain": [
              "GemmaForCausalLM(\n",
              "  (model): GemmaModel(\n",
              "    (embed_tokens): Embedding(256000, 2048, padding_idx=0)\n",
              "    (layers): ModuleList(\n",
              "      (0-17): 18 x GemmaDecoderLayer(\n",
              "        (self_attn): GemmaFlashAttention2(\n",
              "          (q_proj): Linear(in_features=2048, out_features=2048, bias=False)\n",
              "          (k_proj): Linear(in_features=2048, out_features=256, bias=False)\n",
              "          (v_proj): Linear(in_features=2048, out_features=256, bias=False)\n",
              "          (o_proj): Linear(in_features=2048, out_features=2048, bias=False)\n",
              "          (rotary_emb): GemmaRotaryEmbedding()\n",
              "        )\n",
              "        (mlp): GemmaMLP(\n",
              "          (gate_proj): Linear(in_features=2048, out_features=16384, bias=False)\n",
              "          (up_proj): Linear(in_features=2048, out_features=16384, bias=False)\n",
              "          (down_proj): Linear(in_features=16384, out_features=2048, bias=False)\n",
              "          (act_fn): PytorchGELUTanh()\n",
              "        )\n",
              "        (input_layernorm): GemmaRMSNorm()\n",
              "        (post_attention_layernorm): GemmaRMSNorm()\n",
              "      )\n",
              "    )\n",
              "    (norm): GemmaRMSNorm()\n",
              "  )\n",
              "  (lm_head): Linear(in_features=2048, out_features=256000, bias=False)\n",
              ")"
            ]
          },
          "execution_count": 24,
          "metadata": {},
          "output_type": "execute_result"
        }
      ],
      "source": [
        "model"
      ]
    },
    {
      "cell_type": "markdown",
      "metadata": {
        "id": "D06AoNalF9EN"
      },
      "source": [
        "## Eval model before training\n",
        "We use create_prompt function to generate prompt (without output), our model will predict output. We will eval model before finetune. You can see some predict below.\n",
        "\n",
        "You can see that pretrained model has poor performance"
      ]
    },
    {
      "cell_type": "code",
      "execution_count": null,
      "metadata": {
        "id": "wspTleOHF9EN",
        "outputId": "2215b064-d621-41c7-98f9-82e746696b11"
      },
      "outputs": [
        {
          "name": "stdout",
          "output_type": "stream",
          "text": [
            "The sentiment of this comment: \"món ăn rất ngon\" is\n",
            "A. Positive\n",
            "B. Neutral\n",
            "C. Negative\n",
            "\n",
            "The correct answer is\n"
          ]
        },
        {
          "name": "stderr",
          "output_type": "stream",
          "text": [
            "/opt/conda/lib/python3.10/site-packages/transformers/generation/configuration_utils.py:540: UserWarning: `do_sample` is set to `False`. However, `temperature` is set to `0.1` -- this flag is only used in sample-based generation modes. You should set `do_sample=True` or unset `temperature`.\n",
            "  warnings.warn(\n"
          ]
        },
        {
          "name": "stdout",
          "output_type": "stream",
          "text": [
            "<bos>The sentiment of this comment: \"món ăn rất ngon\" is\n",
            "A. Positive\n",
            "B. Neutral\n",
            "C. Negative\n",
            "\n",
            "The correct answer is A. Positive.\n",
            "\n",
            "\"Mon ăn rất ngon\" means \"I eat very well\". It is a positive sentiment.<eos>\n"
          ]
        }
      ],
      "source": [
        "def create_prompt(input_, output_):\n",
        "    output_ = 'A. Positive' if output_ == 'positive' else 'B. Neutral' if output_ == 'neutral' else 'C. Negative'\n",
        "        #text = f\"### Question: {input__}\\n ### Answer: {example['output'][i]}\"\n",
        "    text = f'''{input_}\n",
        "A. Positive\n",
        "B. Neutral\n",
        "C. Negative\n",
        "\n",
        "The correct answer is'''\n",
        "\n",
        "    return text\n",
        "\n",
        "sentence = 'món ăn rất ngon'\n",
        "input_ = f'''The sentiment of this comment: \"{sentence}\" is'''\n",
        "prompt = create_prompt(input_, \"\")\n",
        "print(prompt)\n",
        "\n",
        "inputs = torch.tensor([tokenizer.encode(prompt)])\n",
        "\n",
        "tokens = model.generate(\n",
        "    inputs.to(model.device),\n",
        "    max_new_tokens=50,\n",
        "    temperature=0.1,\n",
        "    do_sample=False\n",
        ")\n",
        "print(tokenizer.decode(tokens[0], skip_special_tokens=False))"
      ]
    },
    {
      "cell_type": "code",
      "execution_count": null,
      "metadata": {
        "id": "OvxBMiPuF9EN",
        "outputId": "57a1fedf-8199-4051-d77b-c05bab08e707"
      },
      "outputs": [
        {
          "name": "stderr",
          "output_type": "stream",
          "text": [
            "The attention mask is not set and cannot be inferred from input because pad token is same as eos token.As a consequence, you may observe unexpected behavior. Please pass your input's `attention_mask` to obtain reliable results.\n"
          ]
        },
        {
          "name": "stdout",
          "output_type": "stream",
          "text": [
            "0 100.0 0:00:00.047259 0:00:00.047261\n",
            "100 64.35643564356435 0:00:04.590000 0:00:00.045446\n",
            "200 66.16915422885572 0:00:09.125947 0:00:00.045403\n",
            "300 64.11960132890366 0:00:13.633852 0:00:00.045295\n",
            "400 65.33665835411472 0:00:18.165904 0:00:00.045302\n",
            "500 66.06786427145708 0:00:22.669066 0:00:00.045248\n",
            "600 64.39267886855241 0:00:27.198225 0:00:00.045255\n",
            "700 63.48074179743224 0:00:31.708645 0:00:00.045233\n",
            "800 64.41947565543072 0:00:36.240826 0:00:00.045244\n",
            "900 63.374028856825745 0:00:40.769665 0:00:00.045249\n",
            "1000 63.536463536463536 0:00:45.290881 0:00:00.045246\n",
            "1100 63.03360581289736 0:00:49.851445 0:00:00.045278\n",
            "1200 62.614487926727726 0:00:54.371535 0:00:00.045272\n",
            "1300 63.02843966179862 0:00:58.902764 0:00:00.045275\n",
            "1400 63.097787294789434 0:01:03.420205 0:00:00.045268\n",
            "1500 63.35776149233844 0:01:07.989346 0:00:00.045296\n",
            "1600 63.772642098688316 0:01:12.526595 0:00:00.045301\n",
            "1700 63.72721928277484 0:01:17.058861 0:00:00.045302\n",
            "1800 63.90893947806774 0:01:21.597925 0:00:00.045307\n",
            "1900 63.913729615991585 0:01:26.161601 0:00:00.045324\n",
            "2000 63.618190904547724 0:01:30.691721 0:00:00.045323\n"
          ]
        }
      ],
      "source": [
        "from datetime import datetime\n",
        "\n",
        "start = datetime.now()\n",
        "\n",
        "prediction = []\n",
        "response = []\n",
        "accuracy = []\n",
        "labels = []\n",
        "\n",
        "for i, x in df_test.iterrows():\n",
        "    sentence = x['sentence']\n",
        "    label = x['sentiment']\n",
        "    input_ = f'''The sentiment of this comment: \"{sentence}\" is'''\n",
        "    prompt = create_prompt(input_, label)\n",
        "\n",
        "    inputs = tokenizer.encode(\n",
        "        prompt,\n",
        "        # add_generation_prompt=True,\n",
        "        return_tensors='pt'\n",
        "    )\n",
        "\n",
        "    tokens = model.generate(\n",
        "        inputs.to(model.device),\n",
        "        max_new_tokens=3,\n",
        "        temperature=0.1,\n",
        "        do_sample=False,\n",
        "        pad_token_id=tokenizer.eos_token_id\n",
        "    )\n",
        "    #break\n",
        "\n",
        "    answer = tokenizer.decode(tokens[0], skip_special_tokens=False).split(\"The correct answer is \")[-1]\n",
        "    answer = 'positive' if 'positive' in answer.lower() else 'negative' if 'negative' in answer.lower() else 'neutral'\n",
        "    prediction.append(answer.lower())\n",
        "    response.append(tokenizer.decode(tokens[0], skip_special_tokens=False))\n",
        "\n",
        "    accuracy.append(prediction[-1] == label)\n",
        "    labels.append(label)\n",
        "\n",
        "    if i % 100 == 0:\n",
        "        print(i, np.array(accuracy).sum()/len(prediction)*100, datetime.now() - start, (datetime.now() - start)/len(prediction))"
      ]
    },
    {
      "cell_type": "code",
      "execution_count": null,
      "metadata": {
        "id": "TnsyjHSWF9EN",
        "outputId": "a9aa4e2e-18ff-4dcb-d4a0-b893c9afb98f"
      },
      "outputs": [
        {
          "name": "stdout",
          "output_type": "stream",
          "text": [
            "              precision    recall  f1-score   support\n",
            "\n",
            "    negative     0.9655    0.8965    0.9297       686\n",
            "     neutral     0.0000    0.0000    0.0000       670\n",
            "    positive     0.4853    0.9985    0.6532       680\n",
            "\n",
            "    accuracy                         0.6356      2036\n",
            "   macro avg     0.4836    0.6317    0.5276      2036\n",
            "weighted avg     0.4874    0.6356    0.5314      2036\n",
            "\n"
          ]
        },
        {
          "name": "stderr",
          "output_type": "stream",
          "text": [
            "/opt/conda/lib/python3.10/site-packages/sklearn/metrics/_classification.py:1517: UndefinedMetricWarning: Precision is ill-defined and being set to 0.0 in labels with no predicted samples. Use `zero_division` parameter to control this behavior.\n",
            "  _warn_prf(average, modifier, f\"{metric.capitalize()} is\", len(result))\n",
            "/opt/conda/lib/python3.10/site-packages/sklearn/metrics/_classification.py:1517: UndefinedMetricWarning: Precision is ill-defined and being set to 0.0 in labels with no predicted samples. Use `zero_division` parameter to control this behavior.\n",
            "  _warn_prf(average, modifier, f\"{metric.capitalize()} is\", len(result))\n",
            "/opt/conda/lib/python3.10/site-packages/sklearn/metrics/_classification.py:1517: UndefinedMetricWarning: Precision is ill-defined and being set to 0.0 in labels with no predicted samples. Use `zero_division` parameter to control this behavior.\n",
            "  _warn_prf(average, modifier, f\"{metric.capitalize()} is\", len(result))\n"
          ]
        }
      ],
      "source": [
        "from sklearn.metrics import classification_report, f1_score\n",
        "import sklearn\n",
        "\n",
        "print(sklearn.metrics.classification_report(labels, prediction, digits=4))"
      ]
    },
    {
      "cell_type": "code",
      "execution_count": null,
      "metadata": {
        "id": "DZMeckPTF9EN",
        "outputId": "246a6de4-2230-45af-8a52-0ccd69cb2656"
      },
      "outputs": [
        {
          "name": "stdout",
          "output_type": "stream",
          "text": [
            "<bos>The sentiment of this comment: \"The facilities of the university are versatile and helpful.\" is\n",
            "A. Positive\n",
            "B. Neutral\n",
            "C. Negative\n",
            "\n",
            "The correct answer is A. Positive\n",
            "\n",
            "\n",
            "<bos>The sentiment of this comment: \"Mấy bạn đó hay đòi hỏi nhưng không bao giờ giúp đỡ người khác.\" is\n",
            "A. Positive\n",
            "B. Neutral\n",
            "C. Negative\n",
            "\n",
            "The correct answer is C. Negative\n",
            "\n",
            "\n",
            "<bos>The sentiment of this comment: \"Cậu ấy rất có kỹ năng về sáng tạo và nghệ thuật.\" is\n",
            "A. Positive\n",
            "B. Neutral\n",
            "C. Negative\n",
            "\n",
            "The correct answer is A. Positive\n",
            "\n",
            "\n",
            "<bos>The sentiment of this comment: \"Giảng viên này không nhàm chán.\" is\n",
            "A. Positive\n",
            "B. Neutral\n",
            "C. Negative\n",
            "\n",
            "The correct answer is A. Positive\n",
            "\n",
            "\n",
            "<bos>The sentiment of this comment: \"Anh ta là một người rất tỉ mỉ và cẩn thận.\" is\n",
            "A. Positive\n",
            "B. Neutral\n",
            "C. Negative\n",
            "\n",
            "The correct answer is A. Positive\n",
            "\n",
            "\n",
            "<bos>The sentiment of this comment: \"Giáo viên đưa ra các phương tiện hỗ trợ giảng dạy rất tốt và hiệu quả.\" is\n",
            "A. Positive\n",
            "B. Neutral\n",
            "C. Negative\n",
            "\n",
            "The correct answer is A. Positive\n",
            "\n",
            "\n",
            "<bos>The sentiment of this comment: \"The university's computer facilities are up-to-date and well-maintained.\" is\n",
            "A. Positive\n",
            "B. Neutral\n",
            "C. Negative\n",
            "\n",
            "The correct answer is A. Positive\n",
            "\n",
            "\n",
            "<bos>The sentiment of this comment: \"Thiếu tính linh hoạt trong hình thức giảng dạy và đánh giá kết quả học tập.\" is\n",
            "A. Positive\n",
            "B. Neutral\n",
            "C. Negative\n",
            "\n",
            "The correct answer is C. Negative\n",
            "\n",
            "\n",
            "<bos>The sentiment of this comment: \"Cô ấy rất sắc sảo và có khả năng phân tích chi tiết rất tốt.\" is\n",
            "A. Positive\n",
            "B. Neutral\n",
            "C. Negative\n",
            "\n",
            "The correct answer is A. Positive\n",
            "\n",
            "\n",
            "<bos>The sentiment of this comment: \"Anh ấy có tài năng về âm nhạc và luôn tìm cách tạo ra các bản nhạc mới, giúp nhóm thêm hoàn hảo và đa dạng hơn.\" is\n",
            "A. Positive\n",
            "B. Neutral\n",
            "C. Negative\n",
            "\n",
            "The correct answer is A. Positive\n",
            "\n",
            "\n"
          ]
        }
      ],
      "source": [
        "for x in response[-10:]:\n",
        "    print(x)\n",
        "    print(\"\\n\")"
      ]
    },
    {
      "cell_type": "markdown",
      "source": [
        "## Create peft\n",
        "For lora training, we need create LoraConfig:\n",
        "  - lora_alpha, r, dropout is basic hyperarameter.\n",
        "  - almost LLM use bias = 'none' when finetune then we set is to None\n",
        "  - target_modules are list of layer we want to finetune, I set it to 'all-linear', then all linear layers will be finetuned. If you just finetune some layers like q_proj, k_proj, you can pass list ['q_proj', 'k_proj'].\n",
        "  - modules_to_save is other layers we want to finetune (but don't use lora), in my experience, finetune all embedding layers will make model work betters than I set modules_to_save as list of all embedding layers."
      ],
      "metadata": {
        "id": "EKu2eyWTGWLy"
      }
    },
    {
      "cell_type": "code",
      "execution_count": null,
      "metadata": {
        "id": "plUNi-7XF9EQ",
        "outputId": "25984267-3dac-42e4-8978-08019b99e3de"
      },
      "outputs": [
        {
          "name": "stdout",
          "output_type": "stream",
          "text": [
            "trainable params: 534,093,824 || all params: 3,040,266,240 || trainable%: 17.5673\n"
          ]
        }
      ],
      "source": [
        "peft_config = LoraConfig(\n",
        "    lora_alpha=32,\n",
        "    lora_dropout=0.1,\n",
        "    r=8,\n",
        "    bias=\"none\",\n",
        "    task_type=\"CAUSAL_LM\",\n",
        "    target_modules = 'all-linear',\n",
        "#     target_modules=[\"q_proj\",\n",
        "#         \"k_proj\",\n",
        "#         \"v_proj\",\n",
        "#         \"o_proj\",\n",
        "#         \"gate_proj\",\n",
        "#         \"up_proj\",\n",
        "#         \"down_proj\",\n",
        "#         \"lm_head\",],\n",
        "    modules_to_save=[\"embed_tokens\", \"rotary_emb\"]\n",
        "                     #\"input_layernorm\", \"post_attention_layernorm\", \"norm\"]\n",
        ")\n",
        "model = get_peft_model(model, peft_config)\n",
        "\n",
        "model.print_trainable_parameters() #"
      ]
    },
    {
      "cell_type": "markdown",
      "metadata": {
        "id": "CueNJeQwF9EQ"
      },
      "source": [
        "## Create TrainingArguments"
      ]
    },
    {
      "cell_type": "code",
      "execution_count": null,
      "metadata": {
        "id": "-_c3uow7F9EQ",
        "outputId": "13b3ae9e-2a1b-473d-e6a0-ac3fc6fd7805"
      },
      "outputs": [
        {
          "name": "stdout",
          "output_type": "stream",
          "text": [
            "509\n"
          ]
        }
      ],
      "source": [
        "print(len(df_train)//bs//ga_steps*epochs//4)"
      ]
    },
    {
      "cell_type": "code",
      "execution_count": null,
      "metadata": {
        "id": "HHH7g29jF9EQ",
        "outputId": "86c51951-2fe2-4939-aab5-85995ced8136"
      },
      "outputs": [
        {
          "name": "stdout",
          "output_type": "stream",
          "text": [
            "509\n"
          ]
        }
      ],
      "source": [
        "save_step = len(df_train)//bs//ga_steps*epochs//4\n",
        "print(save_step)"
      ]
    },
    {
      "cell_type": "code",
      "execution_count": null,
      "metadata": {
        "id": "zCgiOctoF9EQ",
        "outputId": "1d87998c-ee52-418c-9b12-92a97664b9a9"
      },
      "outputs": [
        {
          "name": "stderr",
          "output_type": "stream",
          "text": [
            "/opt/conda/lib/python3.10/site-packages/transformers/training_args.py:1494: FutureWarning: `evaluation_strategy` is deprecated and will be removed in version 4.46 of 🤗 Transformers. Use `eval_strategy` instead\n",
            "  warnings.warn(\n"
          ]
        }
      ],
      "source": [
        "training_arguments = TrainingArguments(\n",
        "    output_dir=output_dir,\n",
        "    num_train_epochs=epochs,\n",
        "    per_device_train_batch_size=bs,\n",
        "    per_device_eval_batch_size=bs_eval,\n",
        "    evaluation_strategy=\"steps\",\n",
        "    eval_steps=save_step,\n",
        "    gradient_accumulation_steps=ga_steps,\n",
        "    optim=\"paged_adamw_32bit\",\n",
        "    save_steps=save_step,\n",
        "    save_strategy=\"steps\",\n",
        "    logging_steps=save_step,\n",
        "    learning_rate=lr,\n",
        "    weight_decay=0.001,\n",
        "    fp16=False,\n",
        "    bf16=True,\n",
        "    max_grad_norm=0.3,\n",
        "    max_steps=-1,\n",
        "    warmup_ratio=0.03,\n",
        "    group_by_length=True,\n",
        "    lr_scheduler_type=\"constant\",\n",
        "    report_to=\"none\",\n",
        "    save_total_limit=1,\n",
        "    #load_best_model_at_end=True\n",
        ")"
      ]
    },
    {
      "cell_type": "markdown",
      "metadata": {
        "id": "GObHcjYPF9ER"
      },
      "source": [
        "## Create trainer"
      ]
    },
    {
      "cell_type": "code",
      "execution_count": null,
      "metadata": {
        "colab": {
          "referenced_widgets": [
            "4341f52d24c84111a93f9f8b9ea522c5",
            "c7a1e75230a446d68bbd927689aa97e0"
          ]
        },
        "id": "22V_au7BF9ER",
        "outputId": "b59980f7-e7fb-42db-dcd6-396ccc04e4d3"
      },
      "outputs": [
        {
          "name": "stderr",
          "output_type": "stream",
          "text": [
            "/opt/conda/lib/python3.10/site-packages/huggingface_hub/utils/_deprecation.py:100: FutureWarning: Deprecated argument(s) used in '__init__': max_seq_length. Will not be supported from version '1.0.0'.\n",
            "\n",
            "Deprecated positional argument(s) used in SFTTrainer, please use the SFTConfig to set these arguments instead.\n",
            "  warnings.warn(message, FutureWarning)\n",
            "/opt/conda/lib/python3.10/site-packages/transformers/training_args.py:1494: FutureWarning: `evaluation_strategy` is deprecated and will be removed in version 4.46 of 🤗 Transformers. Use `eval_strategy` instead\n",
            "  warnings.warn(\n",
            "/opt/conda/lib/python3.10/site-packages/transformers/training_args.py:1961: FutureWarning: `--push_to_hub_token` is deprecated and will be removed in version 5 of 🤗 Transformers. Use `--hub_token` instead.\n",
            "  warnings.warn(\n",
            "/opt/conda/lib/python3.10/site-packages/trl/trainer/sft_trainer.py:269: UserWarning: You passed a `max_seq_length` argument to the SFTTrainer, the value you passed will override the one in the `SFTConfig`.\n",
            "  warnings.warn(\n"
          ]
        },
        {
          "data": {
            "application/vnd.jupyter.widget-view+json": {
              "model_id": "4341f52d24c84111a93f9f8b9ea522c5",
              "version_major": 2,
              "version_minor": 0
            },
            "text/plain": [
              "Map:   0%|          | 0/8144 [00:00<?, ? examples/s]"
            ]
          },
          "metadata": {},
          "output_type": "display_data"
        },
        {
          "data": {
            "application/vnd.jupyter.widget-view+json": {
              "model_id": "c7a1e75230a446d68bbd927689aa97e0",
              "version_major": 2,
              "version_minor": 0
            },
            "text/plain": [
              "Map:   0%|          | 0/2036 [00:00<?, ? examples/s]"
            ]
          },
          "metadata": {},
          "output_type": "display_data"
        },
        {
          "name": "stderr",
          "output_type": "stream",
          "text": [
            "Detected kernel version 5.4.0, which is below the recommended minimum of 5.5.0; this can cause the process to hang. It is recommended to upgrade the kernel to the minimum version or higher.\n"
          ]
        }
      ],
      "source": [
        "trainer = SFTTrainer(\n",
        "    model=model,\n",
        "    train_dataset=dataset[\"train\"],\n",
        "    eval_dataset=dataset[\"validation\"],\n",
        "    peft_config=peft_config,\n",
        "    max_seq_length= 128,\n",
        "    #dataset_text_field=[\"input\", \"output\"],\n",
        "    tokenizer=tokenizer,\n",
        "    args=training_arguments,\n",
        "    packing= False,\n",
        "    formatting_func = formatting_prompts_func,\n",
        "    #data_collator=collator\n",
        ")"
      ]
    },
    {
      "cell_type": "markdown",
      "metadata": {
        "id": "F2jx6WerF9ER"
      },
      "source": [
        "# Train"
      ]
    },
    {
      "cell_type": "code",
      "execution_count": null,
      "metadata": {
        "id": "swG3nyB7F9ER",
        "outputId": "d5a830e1-516f-4258-8dce-4f9bcbb022e1"
      },
      "outputs": [
        {
          "data": {
            "text/html": [
              "\n",
              "    <div>\n",
              "      \n",
              "      <progress value='2036' max='2036' style='width:300px; height:20px; vertical-align: middle;'></progress>\n",
              "      [2036/2036 05:57, Epoch 4/4]\n",
              "    </div>\n",
              "    <table border=\"1\" class=\"dataframe\">\n",
              "  <thead>\n",
              " <tr style=\"text-align: left;\">\n",
              "      <th>Step</th>\n",
              "      <th>Training Loss</th>\n",
              "      <th>Validation Loss</th>\n",
              "    </tr>\n",
              "  </thead>\n",
              "  <tbody>\n",
              "    <tr>\n",
              "      <td>509</td>\n",
              "      <td>0.832000</td>\n",
              "      <td>0.772138</td>\n",
              "    </tr>\n",
              "    <tr>\n",
              "      <td>1018</td>\n",
              "      <td>0.677500</td>\n",
              "      <td>0.775478</td>\n",
              "    </tr>\n",
              "    <tr>\n",
              "      <td>1527</td>\n",
              "      <td>0.582000</td>\n",
              "      <td>0.793018</td>\n",
              "    </tr>\n",
              "    <tr>\n",
              "      <td>2036</td>\n",
              "      <td>0.504100</td>\n",
              "      <td>0.853091</td>\n",
              "    </tr>\n",
              "  </tbody>\n",
              "</table><p>"
            ],
            "text/plain": [
              "<IPython.core.display.HTML object>"
            ]
          },
          "metadata": {},
          "output_type": "display_data"
        },
        {
          "name": "stderr",
          "output_type": "stream",
          "text": [
            "/opt/conda/lib/python3.10/site-packages/peft/utils/other.py:611: UserWarning: Unable to fetch remote file due to the following error 401 Client Error. (Request ID: Root=1-667e8d36-380122221f182e823e1292f9;2bd0cb3c-f2d7-4c49-b219-64abfc82e02d)\n",
            "\n",
            "Cannot access gated repo for url https://huggingface.co/google/gemma-2b-it/resolve/main/config.json.\n",
            "Access to model google/gemma-2b-it is restricted. You must be authenticated to access it. - silently ignoring the lookup for the file config.json in google/gemma-2b-it.\n",
            "  warnings.warn(\n",
            "/opt/conda/lib/python3.10/site-packages/peft/utils/save_and_load.py:195: UserWarning: Could not find a config file in google/gemma-2b-it - will assume that the vocabulary was not modified.\n",
            "  warnings.warn(\n",
            "/opt/conda/lib/python3.10/site-packages/peft/utils/other.py:611: UserWarning: Unable to fetch remote file due to the following error 401 Client Error. (Request ID: Root=1-667e8d90-652e315637ea219426a28e88;ebab7078-dd18-4af3-99e0-5e95edd430e6)\n",
            "\n",
            "Cannot access gated repo for url https://huggingface.co/google/gemma-2b-it/resolve/main/config.json.\n",
            "Access to model google/gemma-2b-it is restricted. You must be authenticated to access it. - silently ignoring the lookup for the file config.json in google/gemma-2b-it.\n",
            "  warnings.warn(\n",
            "/opt/conda/lib/python3.10/site-packages/peft/utils/save_and_load.py:195: UserWarning: Could not find a config file in google/gemma-2b-it - will assume that the vocabulary was not modified.\n",
            "  warnings.warn(\n",
            "/opt/conda/lib/python3.10/site-packages/peft/utils/other.py:611: UserWarning: Unable to fetch remote file due to the following error 401 Client Error. (Request ID: Root=1-667e8de9-2dbdca5c506bb8ab7728e249;5614ef23-e30a-4af2-8e3d-f1ee45935e25)\n",
            "\n",
            "Cannot access gated repo for url https://huggingface.co/google/gemma-2b-it/resolve/main/config.json.\n",
            "Access to model google/gemma-2b-it is restricted. You must be authenticated to access it. - silently ignoring the lookup for the file config.json in google/gemma-2b-it.\n",
            "  warnings.warn(\n",
            "/opt/conda/lib/python3.10/site-packages/peft/utils/save_and_load.py:195: UserWarning: Could not find a config file in google/gemma-2b-it - will assume that the vocabulary was not modified.\n",
            "  warnings.warn(\n",
            "/opt/conda/lib/python3.10/site-packages/peft/utils/other.py:611: UserWarning: Unable to fetch remote file due to the following error 401 Client Error. (Request ID: Root=1-667e8e43-79398f1548ab26e322b3aec8;b19410b6-8b70-4aa1-b129-8d4d6fc78748)\n",
            "\n",
            "Cannot access gated repo for url https://huggingface.co/google/gemma-2b-it/resolve/main/config.json.\n",
            "Access to model google/gemma-2b-it is restricted. You must be authenticated to access it. - silently ignoring the lookup for the file config.json in google/gemma-2b-it.\n",
            "  warnings.warn(\n",
            "/opt/conda/lib/python3.10/site-packages/peft/utils/save_and_load.py:195: UserWarning: Could not find a config file in google/gemma-2b-it - will assume that the vocabulary was not modified.\n",
            "  warnings.warn(\n"
          ]
        },
        {
          "data": {
            "text/plain": [
              "TrainOutput(global_step=2036, training_loss=0.6488756730654853, metrics={'train_runtime': 358.2137, 'train_samples_per_second': 90.94, 'train_steps_per_second': 5.684, 'total_flos': 1.834279790247936e+16, 'train_loss': 0.6488756730654853, 'epoch': 4.0})"
            ]
          },
          "execution_count": 36,
          "metadata": {},
          "output_type": "execute_result"
        }
      ],
      "source": [
        "trainer.train()"
      ]
    },
    {
      "cell_type": "markdown",
      "metadata": {
        "id": "L-COENdjF9ER"
      },
      "source": [
        "# Eval\n",
        "- If you save the model to the output_dir folder, the training code above will automatically save the model to output_dir/checkpoint-{save_step} (in my case: out/checkpoint-2036). We will load the model from this folder:\n",
        "  - I calculate _id = save_step * num_epoch = 509 * 4 = 2036\n",
        "  - My model will saved at \"{output_dir}/checkpoint-{_id}\"\n",
        "- I use del model, gc.collect() and torch.cuda.empty_cache() to release trained model (save gpu memory).\n",
        "- We use PeftConfig.from_pretrained to lead peft config (this is the same as peft config at training)\n",
        "- we load pretrained model like before.\n",
        "- We load the tokenizer in this folder by passing the saved folder to AutoTokenizer.from_pretrained()\n",
        "- We use PeftModel.from_pretrained(model, peft_model_id) to merge pre-trained model with finetuned lora model (note that when we use peft lora, training code only saves lora model, this saves our storage and saving time)"
      ]
    },
    {
      "cell_type": "code",
      "execution_count": null,
      "metadata": {
        "id": "tirP5esFF9ER",
        "outputId": "39b4e6e6-3470-4845-86c5-d946e460ebb3"
      },
      "outputs": [
        {
          "name": "stdout",
          "output_type": "stream",
          "text": [
            "509\n"
          ]
        }
      ],
      "source": [
        "save_step = len(df_train)//bs//ga_steps*epochs//4\n",
        "print(save_step)"
      ]
    },
    {
      "cell_type": "code",
      "execution_count": null,
      "metadata": {
        "id": "iCevflvsF9ER"
      },
      "outputs": [],
      "source": [
        "import gc\n",
        "\n",
        "del model\n",
        "gc.collect()\n",
        "torch.cuda.empty_cache()"
      ]
    },
    {
      "cell_type": "code",
      "execution_count": null,
      "metadata": {
        "colab": {
          "referenced_widgets": [
            "fde38881ac8b4035b0e95755374f4479"
          ]
        },
        "id": "ZkOKYKAbF9ER",
        "outputId": "12ed791b-aa90-4c80-9bd5-d9c4fd0f8b6b"
      },
      "outputs": [
        {
          "data": {
            "application/vnd.jupyter.widget-view+json": {
              "model_id": "fde38881ac8b4035b0e95755374f4479",
              "version_major": 2,
              "version_minor": 0
            },
            "text/plain": [
              "Loading checkpoint shards:   0%|          | 0/2 [00:00<?, ?it/s]"
            ]
          },
          "metadata": {},
          "output_type": "display_data"
        }
      ],
      "source": [
        "from peft import PeftModel, PeftConfig\n",
        "from transformers import AutoModelForCausalLM, AutoTokenizer\n",
        "import torch\n",
        "\n",
        "_id = save_step*4\n",
        "\n",
        "peft_model_id = f\"{output_dir}/checkpoint-{_id}\"\n",
        "\n",
        "config = PeftConfig.from_pretrained(peft_model_id)\n",
        "\n",
        "# bnb_config = BitsAndBytesConfig(\n",
        "#     load_in_4bit=True,\n",
        "#     bnb_4bit_use_double_quant=False,\n",
        "#     bnb_4bit_quant_type=\"nf4\",\n",
        "#     bnb_4bit_compute_dtype=torch.float16,\n",
        "# )\n",
        "\n",
        "model = AutoModelForCausalLM.from_pretrained(\n",
        "    modelpath,\n",
        "    device_map=\"auto\",\n",
        "    #torch_dtype=torch.float16,\n",
        "    torch_dtype=torch.bfloat16,\n",
        "    #quantization_config=bnb_config,\n",
        "    attn_implementation=\"flash_attention_2\",\n",
        "    trust_remote_code=True,\n",
        "    token = 'YOUR TOKEN HERE'\n",
        ")\n",
        "\n",
        "tokenizer = AutoTokenizer.from_pretrained(f\"{output_dir}/checkpoint-{_id}\",\n",
        "                                          trust_remote_code=True,\n",
        "                                          padding_side='left',\n",
        "                                          token='YOUR TOKEN HERE')\n",
        "\n",
        "# Load the Lora model\n",
        "model = PeftModel.from_pretrained(model, peft_model_id)"
      ]
    },
    {
      "cell_type": "code",
      "execution_count": null,
      "metadata": {
        "id": "hR26uLqFF9ER"
      },
      "outputs": [],
      "source": [
        "def create_prompt(input_, output_):\n",
        "    output_ = 'A. Positive' if output_ == 'positive' else 'B. Neutral' if output_ == 'neutral' else 'C. Negative'\n",
        "        #text = f\"### Question: {input__}\\n ### Answer: {example['output'][i]}\"\n",
        "    text = f'''{input_}\n",
        "A. Positive\n",
        "B. Neutral\n",
        "C. Negative\n",
        "\n",
        "The correct answer is'''\n",
        "\n",
        "    return text"
      ]
    },
    {
      "cell_type": "code",
      "execution_count": null,
      "metadata": {
        "id": "V4smx8GlF9ES",
        "outputId": "7dd0cc4d-e098-4cdb-8cb3-745cb451df5e"
      },
      "outputs": [
        {
          "name": "stdout",
          "output_type": "stream",
          "text": [
            "The sentiment of this comment: \"món ăn rất ngon\" is\n",
            "A. Positive\n",
            "B. Neutral\n",
            "C. Negative\n",
            "\n",
            "The correct answer is\n"
          ]
        }
      ],
      "source": [
        "sentence = 'món ăn rất ngon'\n",
        "input_ = f'''The sentiment of this comment: \"{sentence}\" is'''\n",
        "prompt = create_prompt(input_, \"\")\n",
        "print(prompt)"
      ]
    },
    {
      "cell_type": "code",
      "execution_count": null,
      "metadata": {
        "id": "SgnA3NyTF9ES",
        "outputId": "4464299e-031f-4daf-c762-cca68b99feed"
      },
      "outputs": [
        {
          "data": {
            "text/plain": [
              "tensor([[     2,    651,  25627,    576,    736,   4986, 235292,    664,  92020,\n",
              "          28644,  31085,  60774, 235281,    603,    108, 235280, 235265,  40695,\n",
              "            108, 235305, 235265,  62407,    108, 235288, 235265,  48314,    109,\n",
              "            651,   5112,   3448,    603]])"
            ]
          },
          "execution_count": 42,
          "metadata": {},
          "output_type": "execute_result"
        }
      ],
      "source": [
        "inputs = torch.tensor([tokenizer.encode(prompt)])\n",
        "inputs"
      ]
    },
    {
      "cell_type": "code",
      "execution_count": null,
      "metadata": {
        "id": "9c9Zu5MOF9ES"
      },
      "outputs": [],
      "source": [
        "tokens = model.generate(\n",
        "    inputs.to(model.device),\n",
        "    max_new_tokens=50,\n",
        "    temperature=0.1,\n",
        "    do_sample=True\n",
        ")"
      ]
    },
    {
      "cell_type": "code",
      "execution_count": null,
      "metadata": {
        "id": "ddDlR7FjF9EU",
        "outputId": "b7af3581-8d44-45a1-be4f-19bbad166a6c"
      },
      "outputs": [
        {
          "name": "stdout",
          "output_type": "stream",
          "text": [
            "<bos>The sentiment of this comment: \"món ăn rất ngon\" is\n",
            "A. Positive\n",
            "B. Neutral\n",
            "C. Negative\n",
            "\n",
            "The correct answer is B. Neutral.\n",
            "\n",
            "Neutral is a neutral tone that is neither positive nor negative. Neutral is often used to indicate that a statement is not a fact or a claim.<eos>\n"
          ]
        }
      ],
      "source": [
        "print(tokenizer.decode(tokens[0], skip_special_tokens=False))"
      ]
    },
    {
      "cell_type": "code",
      "execution_count": null,
      "metadata": {
        "id": "bHSN4bE1F9EU",
        "outputId": "44314145-477b-44cc-80df-07b4763cce7f"
      },
      "outputs": [
        {
          "name": "stdout",
          "output_type": "stream",
          "text": [
            "<bos>The sentiment of this comment: \"món ăn rất ngon\" is\n",
            "A. Positive\n",
            "B. Neutral\n",
            "C. Negative\n",
            "\n",
            "The correct answer is B. Neutral\n"
          ]
        },
        {
          "name": "stderr",
          "output_type": "stream",
          "text": [
            "/opt/conda/lib/python3.10/site-packages/transformers/generation/configuration_utils.py:540: UserWarning: `do_sample` is set to `False`. However, `temperature` is set to `0.1` -- this flag is only used in sample-based generation modes. You should set `do_sample=True` or unset `temperature`.\n",
            "  warnings.warn(\n"
          ]
        }
      ],
      "source": [
        "tokens = model.generate(\n",
        "    inputs.to(model.device),\n",
        "    max_new_tokens=3,\n",
        "    temperature=0.1,\n",
        "    do_sample=False\n",
        ")\n",
        "print(tokenizer.decode(tokens[0], skip_special_tokens=False))"
      ]
    },
    {
      "cell_type": "code",
      "execution_count": null,
      "metadata": {
        "id": "nWv94usoF9EU",
        "outputId": "367932d2-5bea-4f63-aa04-701eda81eb91"
      },
      "outputs": [
        {
          "name": "stdout",
          "output_type": "stream",
          "text": [
            "0 100.0 0:00:00.077170 0:00:00.077172\n",
            "100 87.12871287128714 0:00:07.690365 0:00:00.076142\n",
            "200 86.56716417910447 0:00:15.376521 0:00:00.076500\n",
            "300 85.71428571428571 0:00:22.959424 0:00:00.076277\n",
            "400 85.785536159601 0:00:30.582669 0:00:00.076266\n",
            "500 86.02794411177645 0:00:38.193031 0:00:00.076234\n",
            "600 86.35607321131448 0:00:45.769709 0:00:00.076156\n",
            "700 86.16262482168331 0:00:53.328889 0:00:00.076075\n",
            "800 86.51685393258427 0:01:00.944671 0:00:00.076086\n",
            "900 87.12541620421753 0:01:08.518870 0:00:00.076048\n",
            "1000 87.21278721278722 0:01:16.138717 0:00:00.076063\n",
            "1100 87.19346049046321 0:01:23.717418 0:00:00.076038\n",
            "1200 86.59450457951708 0:01:31.285913 0:00:00.076008\n",
            "1300 86.70253651037663 0:01:38.897066 0:00:00.076016\n",
            "1400 86.79514632405426 0:01:46.516628 0:00:00.076029\n",
            "1500 86.47568287808129 0:01:54.073709 0:00:00.075998\n",
            "1600 86.57089319175515 0:02:01.638044 0:00:00.075976\n",
            "1700 86.71369782480893 0:02:09.197713 0:00:00.075954\n",
            "1800 86.89616879511382 0:02:16.784352 0:00:00.075949\n",
            "1900 86.90163072067332 0:02:24.293360 0:00:00.075904\n",
            "2000 87.05647176411794 0:02:31.851176 0:00:00.075888\n"
          ]
        }
      ],
      "source": [
        "from datetime import datetime\n",
        "\n",
        "start = datetime.now()\n",
        "\n",
        "prediction = []\n",
        "response = []\n",
        "accuracy = []\n",
        "labels = []\n",
        "\n",
        "for i, x in df_test.iterrows():\n",
        "    sentence = x['sentence']\n",
        "    label = x['sentiment']\n",
        "    input_ = f'''The sentiment of this comment: \"{sentence}\" is'''\n",
        "    prompt = create_prompt(input_, label)\n",
        "\n",
        "    inputs = tokenizer.encode(\n",
        "        prompt,\n",
        "        # add_generation_prompt=True,\n",
        "        return_tensors='pt'\n",
        "    )\n",
        "\n",
        "    tokens = model.generate(\n",
        "        inputs.to(model.device),\n",
        "        max_new_tokens=3,\n",
        "        temperature=0.1,\n",
        "        do_sample=False,\n",
        "        pad_token_id=tokenizer.eos_token_id\n",
        "    )\n",
        "    #break\n",
        "\n",
        "    answer = tokenizer.decode(tokens[0], skip_special_tokens=False).split(\"The correct answer is \")[-1]\n",
        "    answer = 'positive' if 'positive' in answer.lower() else 'negative' if 'negative' in answer.lower() else 'neutral'\n",
        "    prediction.append(answer.lower())\n",
        "    response.append(tokenizer.decode(tokens[0], skip_special_tokens=False))\n",
        "\n",
        "    accuracy.append(prediction[-1] == label)\n",
        "    labels.append(label)\n",
        "\n",
        "    if i % 100 == 0:\n",
        "        print(i, np.array(accuracy).sum()/len(prediction)*100, datetime.now() - start, (datetime.now() - start)/len(prediction))"
      ]
    },
    {
      "cell_type": "code",
      "execution_count": null,
      "metadata": {
        "id": "DJlgh58KF9EU",
        "outputId": "6e2da368-654d-4e5e-9dfe-1d8e50eb0f44"
      },
      "outputs": [
        {
          "name": "stdout",
          "output_type": "stream",
          "text": [
            "              precision    recall  f1-score   support\n",
            "\n",
            "    negative     0.9854    0.9869    0.9862       686\n",
            "     neutral     0.8325    0.7567    0.7928       670\n",
            "    positive     0.7905    0.8603    0.8239       680\n",
            "\n",
            "    accuracy                         0.8689      2036\n",
            "   macro avg     0.8695    0.8680    0.8676      2036\n",
            "weighted avg     0.8700    0.8689    0.8684      2036\n",
            "\n"
          ]
        }
      ],
      "source": [
        "from sklearn.metrics import classification_report, f1_score\n",
        "import sklearn\n",
        "\n",
        "print(sklearn.metrics.classification_report(labels, prediction, digits=4))"
      ]
    },
    {
      "cell_type": "markdown",
      "metadata": {
        "id": "c4kR-uACF9EU"
      },
      "source": [
        "# Check results\n",
        "- I print all sentences have wrong prediction and see that almost cases is bug.\n",
        "- Conclusion, dataset is not clean than finetune LLM can't better than finetune roberta (~89..90%), because roberta will overfit even in test dataset.\n",
        "- In additionally, when I print example: \"món ăn này rất ngon\", we can see that model before finetune work better. Model after finetune only think about school (because finetune dataset is about school) and it don't know about food review. Than I think we only need finetune for special cases and finetune dataset need be clean and large enough."
      ]
    },
    {
      "cell_type": "code",
      "execution_count": null,
      "metadata": {
        "id": "OZlWXMkeF9EV"
      },
      "outputs": [],
      "source": [
        "df_test['predict'] = prediction"
      ]
    },
    {
      "cell_type": "code",
      "execution_count": null,
      "metadata": {
        "id": "RNF3ztmyF9EV",
        "outputId": "a7ec3302-de8d-41ed-fb06-b4177f0f8986"
      },
      "outputs": [
        {
          "name": "stdout",
          "output_type": "stream",
          "text": [
            "Giảng viên luôn đồng hành với sinh viên trên quá trình học tập. positive neutral\n",
            "Tôi có thể ứng dụng các kiến thức có được từ chương trình đào tạo vào công việc của mình. neutral positive\n",
            "Giảng viên rất tài năng và có nhiều kinh nghiệm trong công tác giảng dạy. positive neutral\n",
            "Được học tập với các giáo viên giàu kinh nghiệm và thực tiễn. positive neutral\n",
            "Nhà hàng và các cửa hàng tiện lợi ở gần trường rất đa dạng và phong phú. neutral positive\n",
            "Chị ấy rất giỏi quản lý thời gian và luôn hoàn thành công việc đúng tiến độ. positive neutral\n",
            "Cô ấy là một giáo viên rất thông minh và chuyên nghiệp. neutral positive\n",
            "Anh ấy có một tầm nhìn đỉnh cao và khả năng giải quyết vấn đề tốt. positive neutral\n",
            "Trường đại học này đóng góp một phần quan trọng trong việc phát triển kinh tế và xã hội địa phương. positive neutral\n",
            "Có nhiều hoạt động ngoại khóa và phong phú cho sinh viên. neutral positive\n",
            "Khu vực đặt máy bán thức uống rất tiện lợi cho sinh viên. neutral positive\n",
            "Sân cỏ của trường được tu bổ và định hướng riêng cho các hoạt động thể thao. positive neutral\n",
            "Phòng học được trang bị đầy đủ tiện nghi giúp sinh viên luôn dễ dàng tiếp cận tài liệu và thông tin liên quan. positive neutral\n",
            "Thầy dạy rất chuyên nghiệp và nhiệt tình. neutral positive\n",
            "Các phòng thí nghiệm được trang bị đầy đủ các thiết bị cần thiết. positive neutral\n",
            "Khu vực học tập tại thư viện rất yên tĩnh và thoải mái. neutral positive\n",
            "Thầy/cô đánh giá và đề xuất những ý kiến xây dựng tích cực giúp sinh viên phát triển hơn. neutral positive\n",
            "Giảng viên rất chân thành và nhiệt tình. neutral positive\n",
            "Hệ thống thư viện và tài nguyên học tập rất đầy đủ và tiện lợi. positive neutral\n",
            "Chương trình đào tạo có nhiều tính ứng dụng giúp sinh viên tự tin và thành công trong công việc. neutral positive\n",
            "Trường cần có chính sách hỗ trợ chi phí học tập phù hợp cho sinh viên. neutral negative\n",
            "Thầy cho học sinh một cái nhìn tổng quan về chuyên ngành của mình. neutral positive\n",
            "Giáo trình là một sự kết hợp giữa lý thuyết và thực tế rất đồng bộ. positive neutral\n",
            "Các phòng học được trang bị đầy đủ tiện nghi và thiết bị. positive neutral\n",
            "Chương trình đào tạo rất đa dạng về cả nội dung lẫn hình thức đào tạo. neutral positive\n",
            "Trường đại học cung cấp nhiều chương trình học bổng hỗ trợ cho sinh viên khó khăn kinh tế. neutral positive\n",
            "Khu vực sống động của trường rất thú vị cho sinh viên. positive neutral\n",
            "Thư viện của trường có nhiều tài liệu bổ ích và đa dạng. positive neutral\n",
            "Giảng viên rất am hiểu và từng bước hướng dẫn sinh viên đi đến thành công. positive neutral\n",
            "Hệ thống an ninh tại trường rất chặt chẽ và đảm bảo an toàn cho sinh viên. neutral positive\n",
            "Thầy giải thích cặn kẽ và dễ hiểu. neutral positive\n",
            "Thầy cô giảng dạy đều rất nhiệt tình và có kinh nghiệm trong lĩnh vực đang giảng dạy. neutral positive\n",
            "Có rất nhiều phòng học tại trường để sinh viên có thể lựa chọn và sử dụng. neutral positive\n",
            "Tôi rất ấn tượng với sự trang trí trong trường, chúng tạo cảm giác thoải mái và thư giãn cho sinh viên. positive neutral\n",
            "Lớp học được tổ chức ngắn gọn, thực tế và có tính ứng dụng cao. positive neutral\n",
            "Cơ sở hạ tầng ở đây rất đáp ứng nhu cầu học tập của sinh viên. positive neutral\n",
            "Trường có hệ thống thông tin quản lý hiện đại và đáp ứng được các yêu cầu của sinh viên. positive neutral\n",
            "Thầy sử dụng phương pháp đổi mới và kĩ thuật số để tăng cường hiệu quả học tập. positive neutral\n",
            "Anh ấy rất lịch sự và tôn trọng người khác. positive neutral\n",
            "Giảng viên đưa ra những câu hỏi thú vị và khó giải quyết, giúp sinh viên rèn luyện kỹ năng suy luận và phân tích. positive neutral\n",
            "Khu vực ăn uống của trường có nhiều món ăn ngon và đa dạng. neutral positive\n",
            "Cô ấy luôn thể hiện sự nghiêm túc và tâm huyết trong việc học tập và giảng dạy. positive neutral\n",
            "Cô này là người chăm chỉ và có tinh thần trách nhiệm cao. positive neutral\n",
            "Bạn của em là người dễ thương và trẻ trung. positive neutral\n",
            "Chị ấy là người thật sự tận tâm và dành trọn tâm huyết cho công việc. positive neutral\n",
            "Cô ấy rất sáng tạo và nghệ thuật. positive neutral\n",
            "Giáo viên của tôi dạy lí thuyết và thực hành về quyền sở hữu trí tuệ và bảo vệ nhãn hiệu. neutral positive\n",
            "Nàng có sự tập trung cao độ và luôn đạt được những thành tích tốt. positive neutral\n",
            "Phòng học được bố trí nhiều ánh sáng tự nhiên giúp sinh viên tiết kiệm được điện trong quá trình học tập. neutral positive\n",
            "Một số bạn khá giỏi nhưng lúc làm việc chậm như rùa neutral negative\n",
            "Anh ấy là một người học nhanh và có khả năng tìm kiếm thông tin một cách hiệu quả. positive neutral\n",
            "Tôi rất thích kết hợp của một số môn học cơ bản và những chủ đề thú vị và lạ lẫm. neutral positive\n",
            "Anh ta là một người đáng tin cậy và luôn giữ lời hứa của mình. positive neutral\n",
            "Anh ấy rất thấu hiểu và giúp đỡ những người gặp khó khăn. positive neutral\n",
            "Giảng viên có thể sử dụng nhiều phương pháp giảng dạy khác nhau để thu hút sinh viên học tập. neutral positive\n",
            "Thầy giúp đỡ sinh viên định hướng nghề nghiệp và phát triển bản thân. positive neutral\n",
            "Các phòng học được trang bị đầy đủ vật dụng và thiết bị để đáp ứng nhu cầu học tập. positive neutral\n",
            "Khuôn viên có đủ chỗ ngồi nghỉ ngơi và thư giãn. positive neutral\n",
            "Tôi rất thích lối thiết kế và trang trí của trường, nó cực kỳ ấn tượng và sáng tạo. positive neutral\n",
            "Lớp học được đưa ra một cách sinh động, hấp dẫn và đầy đủ kiến thức chuyên môn. positive neutral\n",
            "Giảng viên hướng dẫn giỏi với lượng kinh nghiệm thực tiễn phong phú. neutral positive\n",
            "Em thấy bạn của mình rất nhanh nhẹn và chăm chỉ học. positive neutral\n",
            "Khu vực sinh hoạt của sinh viên được quản lý tốt, an ninh. neutral positive\n",
            "Cơ hội để thực tập trong một môi trường thực tế. neutral positive\n",
            "Chương trình học rất thú vị và đa dạng. neutral positive\n",
            "Cách đánh giá và phương pháp giảng dạy của trường rất khuyến khích và tạo động lực cho học sinh. neutral positive\n",
            "Thầy giảng dạy rất chu đáo và chuyên nghiệp. neutral positive\n",
            "Giáo viên rất nhiệt tình và giúp đỡ sinh viên trong quá trình học tập. positive neutral\n",
            "Bạn của tôi là người rất duyên dáng và sành điệu. positive neutral\n",
            "Môn học trong chương trình đào tạo được giảng dạy bởi những giáo viên giỏi và có chuyên môn cao. positive neutral\n",
            "Anh ấy là một người học tập tích cực và đam mê trong việc tìm hiểu kiến thức mới. positive neutral\n",
            "Cơ sở vật chất của trường được trang bị hiện đại và chất lượng. positive neutral\n",
            "Anh ấy luôn có những ý tưởng khác biệt với những người khác trong nhóm. neutral negative\n",
            "Bạn của tôi rất chăm chỉ và luôn đúng giờ. positive neutral\n",
            "Những bài kiểm tra và đánh giá đầy thử thách trong chương trình đào tạo giúp tôi trở nên chuyên nghiệp hơn. neutral positive\n",
            "Cô ấy rất năng động và thân thiện đối với mọi người trong lớp. positive neutral\n",
            "Anh ấy là một người giỏi về công nghệ và có khả năng giải quyết vấn đề kỹ thuật. positive neutral\n",
            "Anh bạn cùng lớp rất hòa đồng và dễ gần. positive neutral\n",
            "Chương trình đào tạo giúp tôi trang bị những kỹ năng mềm cần thiết để thành công trong tương lai. positive neutral\n",
            "Các khu vực tiếp khách của trường được bố trí thông thoáng và chuyên nghiệp. neutral positive\n",
            "Công nghệ và trang thiết bị của đại học tốt hơn so với nhiều trường khác. positive neutral\n",
            "Giảng viên này dạy rất tốt và truyền cảm hứng cho học sinh. neutral positive\n",
            "Thầy tạo ra môi trường học tập vui vẻ và ấm cúng. positive neutral\n",
            "Trường luôn giữ gìn sạch sẽ và dễ dàng bảo trì hơn nhờ vào các thiết bị trang trí và cơ sở vật chất. positive neutral\n",
            "Đội ngũ kỹ thuật của trường luôn có mặt để giúp đỡ và giải quyết các vấn đề kỹ thuật cho sinh viên. positive neutral\n",
            "Đội ngũ nhân viên của trường rất thân thiện và hỗ trợ tận tình. neutral positive\n",
            "Chương trình giảng dạy rất phù hợp với nhu cầu của sinh viên. neutral positive\n",
            "Cô ấy rất nhạy cảm và tâm lý trong giảng dạy. positive neutral\n",
            "Thầy cô đề cao các trẻ em trên hết và mang đến cho chúng ta một môi trường học tập khuyến khích và thân thiện. positive neutral\n",
            "Khu vực cho sinh viên tự học khá thoải mái và tiện nghi. neutral positive\n",
            "Các khu vực đặt tủ hồ sơ của trường được bảo quản an toàn và chín chu. neutral positive\n",
            "Tôi cảm thấy rất ấm áp và thoải mái khi sử dụng phòng sinh hoạt chung. positive neutral\n",
            "Giảng viên cập nhật thông tin nhanh chóng và có hiểu biết sâu về thực tế của ngành học. positive neutral\n",
            "Cậu ấy rất cẩn thận và tỉ mỉ trong công việc. positive neutral\n",
            "Bạn của tôi rất yêu thích những trải nghiệm mới. positive neutral\n",
            "Không gian nội thất của phòng học rất tốt, được thiết kế để giúp tăng sự tập trung của sinh viên. positive neutral\n",
            "Tôi cảm thấy rất cảm kích vì giảng viên của mình luôn sẵn sàng giúp đỡ sinh viên trong bất cứ lúc nào. positive neutral\n",
            "Tôi rất hài lòng với các phòng học ở đây. positive neutral\n",
            "Giảng viên giúp sinh viên hình thành phương pháp học tập hiệu quả. positive neutral\n",
            "Tôi hài lòng với chương trình đào tạo vì đã giúp tôi hiểu rõ hơn về các phương thức học tập khác nhau. neutral positive\n",
            "Thông tin trường được đăng tải đầy đủ và chi tiết. neutral positive\n",
            "Phòng thực hành có trang thiết bị và công cụ hiện đại. positive neutral\n",
            "Các phòng thí nghiệm của trường được trang bị đầy đủ thiết bị và công nghệ hiện đại. positive neutral\n",
            "Tôi thật sự đánh giá cao cơ sở vật chất của trường, nó đáp ứng tốt nhu cầu học tập và giải trí của sinh viên. positive neutral\n",
            "Tôi cảm thấy học phí hợp lí với chất lượng đào tạo của trường. neutral positive\n",
            "Cơ hội để đi du học và tham gia các chương trình trao đổi với các trường đại học nước ngoài. neutral positive\n",
            "Chương trình đào tạo giúp tôi phát triển những kỹ năng mà tôi cần. positive neutral\n",
            "Môn học tập trung vào việc thực hành và ứng dụng kiến thức vào thực tế. positive neutral\n",
            "Các khu vực lưu trú của trường được trang bị đầy đủ tiện nghi để đảm bảo sự thoải mái cho sinh viên. positive neutral\n",
            "Môn học giúp sinh viên phát triển tư duy phán đoán và xử lý tình huống trong công việc. positive neutral\n",
            "Trường có nhiều chương trình hỗ trợ cho sinh viên đạt thành tích cao. neutral positive\n",
            "Anh ta là một người vui tính và dễ gần. positive neutral\n",
            "Thầy đã giúp tôi có được nhiều kiến thức quan trọng và kỹ năng cần thiết trong công việc. positive neutral\n",
            "Giáo trình rất thực tiễn và đáp ứng được yêu cầu của công việc hiện nay. positive neutral\n",
            "Đội ngũ nhân viên bảo trì trường luôn hỗ trợ và sử dụng các tiện ích tốt nhất. positive neutral\n",
            "Khu vực khuân viên quanh trường xanh tươi, những tin tức, thông báo của trường được phát trực tiếp, rõ ràng, dễ tiếp cận. positive neutral\n",
            "Cô bạn này rất hiền lành và tốt bụng. positive neutral\n",
            "Giảng viên thường đưa ra những câu hỏi khó để thúc đẩy học sinh nghiên cứu thêm. negative neutral\n",
            "Các bài giảng dễ hiểu và hỗ trợ học tập tốt. positive neutral\n",
            "Chương trình đào tạo giúp sinh viên phát triển kỹ năng quản lý thời gian và tự chủ trong học tập. positive neutral\n",
            "Thầy luôn cập nhật kiến thức mới nhất để giảng dạy cho sinh viên. positive neutral\n",
            "Giáo viên này không tương tác với sinh viên nhiều lắm trong lớp học. neutral negative\n",
            "Giảng viên này luôn kiểm tra những bài tập tự làm của sinh viên. neutral negative\n",
            "Chương trình giảng dạy kết hợp giữa lý thuyết và thực hành tốt. neutral positive\n",
            "Thầy dạy cho sinh viên cách suy nghĩ đa chiều và phân tích dữ liệu một cách nâng cao. positive neutral\n",
            "Thầy đưa ra những tài liệu và thí nghiệm thực tế để giúp học sinh học tập tốt hơn. neutral positive\n",
            "Thiết bị và phương tiện giảng dạy của trường cần được nâng cấp. neutral negative\n",
            "Giảng viên này quan tâm đến sự tiến bộ của học sinh và sẵn sàng giải đáp mọi thắc mắc của họ. positive neutral\n",
            "Giảng viên rất dễ tiếp cận và thân thiện, dễ tạo được môi trường học tập tích cực. positive neutral\n",
            "Cô bạn này rất lịch sự và tế nhị. positive neutral\n",
            "Anh ta là người rất năng động và luôn tạo động lực cho người khác. positive neutral\n",
            "Anh ta là một người thân thiện và luôn lắng nghe người khác. positive neutral\n",
            "Các hoạt động đối ngoại của trường đa dạng và hấp dẫn cho sinh viên. neutral positive\n",
            "Giảng đường rộng rãi và sạch sẽ. neutral positive\n",
            "Cô giáo của tôi là người rất thông thái và giàu kinh nghiệm. positive neutral\n",
            "Đại học tôi có nhiều công trình kiến trúc đẹp và ấn tượng. positive neutral\n",
            "Các khu vực phục vụ sinh viên được phủ sóng wifi giúp cho sinh viên có thể ra ngoài để học tập hoặc giải trí. neutral positive\n",
            "Anh ấy là người luôn dành thời gian cho sự nghiệp và học tập của mình. positive neutral\n",
            "Tôi rất ngưỡng mộ khả năng làm việc của anh ấy. positive neutral\n",
            "Giảng viên rất thông minh và có kiến thức sâu rộng. positive neutral\n",
            "Tôi cảm thấy giảng viên này luôn đặt sự cần thăm dò trước khi đưa ra quyết định trong bài giảng. negative neutral\n",
            "Anh ấy là một người rất đáng tin cậy, luôn luôn giữ lời hứa. positive neutral\n",
            "Thầy dạy rất thông minh và tập trung vào việc giảng dạy cho học sinh hiểu bài học. neutral positive\n",
            "Thư viện trường có nhiều chủ đề khác nhau giúp sinh viên tìm được nguồn tài liệu phù hợp với nhu cầu học tập của mình. neutral positive\n",
            "Tôi rất hài lòng với các dịch vụ hỗ trợ của trường, đặc biệt là các dịch vụ tư vấn và tài chính. positive neutral\n",
            "Thầy cung cấp cho sinh viên các tài nguyên và công cụ hỗ trợ giảng dạy hiệu quả. neutral positive\n",
            "Thầy là người giảng dạy giỏi nhất mà tôi từng gặp. positive neutral\n",
            "Trường cung cấp đầy đủ các thông tin và tài liệu cho sinh viên để giúp tôi học tập một cách hiệu quả. neutral positive\n",
            "Trường có cung cấp wifi miễn phí cho sinh viên, giúp các em tiện lợi hơn trong việc truy cập internet. positive neutral\n",
            "Thầy dạy rất tâm huyết và có nhiều đóng góp cho sự phát triển của sinh viên. positive neutral\n",
            "Khu vực ngồi chờ đợi được trang bị đầy đủ ghế và trang thiết bị giúp sinh viên chờ đợi một cách thoải mái. positive neutral\n",
            "Giảng viên này đưa ra những bài giảng rõ ràng và hấp dẫn, giúp cho học sinh hiểu bài học dễ dàng hơn. neutral positive\n",
            "Cô bạn này là một giảng viên tuyệt vời, luôn hỗ trợ và giúp đỡ sinh viên. positive neutral\n",
            "Các phòng học được trang bị máy chiếu và bảng trắng giúp giảng viên giảng dạy tốt hơn. positive neutral\n",
            "Tôi rất thích cách mà chương trình đào tạo được tổ chức và quản lý. positive neutral\n",
            "Hệ thống wifi miễn phí sử dụng thuận tiện. positive neutral\n",
            "Cô ấy là một người rất giỏi trong việc giảng dạy và rất nhiệt tình. positive neutral\n",
            "Ký túc xá của trường rất tiện nghi và sạch sẽ. positive neutral\n",
            "Cô này là người rất chuyên nghiệp và có kinh nghiệm giảng dạy lâu năm. positive neutral\n",
            "Giảng viên luôn tạo điều kiện để sinh viên có thể tự tìm hiểu và tốt hơn trong học tập. neutral positive\n",
            "Chương trình học tập đáp ứng được những yêu cầu của nghề nghiệp. neutral positive\n",
            "Hệ thống camera an ninh hoạt động tốt và đảm bảo an toàn cho sinh viên. positive neutral\n",
            "Có nhiều vấn đề về thiết bị và hệ thống mạng trong các phòng học. negative neutral\n",
            "Bạn của tôi là người rất năng động và luôn có những ý tưởng mới lạ. positive neutral\n",
            "Thầy rất nhiệt tình với các câu hỏi của sinh viên. neutral positive\n",
            "Trường đại học này là nơi lý tưởng để giao lưu và kết nối với những người bạn mới. positive neutral\n",
            "Trường hỗ trợ sinh viên đăng ký tham gia các kỳ thi chứng chỉ và đào tạo khác. neutral positive\n",
            "Môn học không phù hợp với chuyên ngành cụ thể và độ khó quá cao. negative neutral\n",
            "Cô ấy thông minh và có khả năng tư duy phản biện. positive neutral\n",
            "Đồng nghiệp của tôi rất hỗ trợ và đồng cảm. neutral positive\n",
            "Anh ấy có trí thông minh sáng suốt và sự nghiệp của anh ấy tuyệt vời. positive neutral\n",
            "Sự đa dạng của chương trình đào tạo giúp tăng tính linh hoạt cho sinh viên. neutral positive\n",
            "Thầy có khả năng dạy học đa dạng để phù hợp với các học sinh có nền tảng kém. neutral positive\n",
            "Thầy thường tạo ra các hoạt động nhóm để tăng cường tương tác giữa học viên và học viên. neutral positive\n",
            "Bạn sẽ không thể tìm thấy một giảng viên tốt hơn ở bất kỳ nơi nào khác. negative positive\n",
            "Thầy có phần nào giống như người bạn đồng hành trong hành trình học tập của sinh viên. positive neutral\n",
            "Giảng viên rất thông minh và am hiểu chuyên ngành. positive neutral\n",
            "Cậu ấy rất quan tâm đến việc học tập và phát triển bản thân. positive neutral\n",
            "Các phòng học và phòng thí nghiệm trong trường được trang bị đầy đủ thiết bị để đảm bảo chất lượng học tập. positive neutral\n",
            "Giảng viên là một người có tác phong và phong cách giảng dạy rất chuyên nghiệp. neutral positive\n",
            "Thầy cô giảng dạy đều rất hòa nhã và thân thiện, giúp tôi cảm thấy thoải mái hơn trong lớp học. neutral positive\n",
            "Các dịch vụ thư viện của trường rất tốt và được cập nhật thường xuyên. positive neutral\n",
            "Giảng viên rất trung thành với vai trò của mình và giảng dạy rất chính xác. neutral positive\n",
            "Giảng viên dạy rất chất lượng và hiệu quả. neutral positive\n",
            "Tôi hi vọng trường tôi sẽ dành nhiều thời gian hơn để cải thiện cơ sở vật chất và nâng cao chất lượng giảng dạy. neutral negative\n",
            "Chương trình đào tạo rất chuyên nghiệp. neutral positive\n",
            "Giảng viên này có khả năng đồng cảm và hiểu được những khó khăn sinh viên đang gặp phải. positive neutral\n",
            "Sau khi tốt nghiệp, sinh viên có thể có nhiều cơ hội việc làm tốt trong lĩnh vực của mình. neutral positive\n",
            "Tôi mong đợi giảng viên sẽ sửa ngay lập tức những sai sót trong bài giảng để tránh nhầm lẫn. negative neutral\n",
            "Không giới hạn về thời gian học tập. neutral positive\n",
            "Giảng viên rất lịch sự và tôn trọng sinh viên. positive neutral\n",
            "Tôi cảm thấy kiến thức được truyền đạt sâu sắc và có tính ứng dụng cao. positive neutral\n",
            "Bạn của tôi rất tỉ mỉ và lưu ý đến chi tiết. positive neutral\n",
            "Chương trình học phù hợp với yêu cầu của thị trường và đáp ứng được nhu cầu của học viên. neutral positive\n",
            "Khuôn viên trường rộng lớn và được bố trí hợp lí. neutral positive\n",
            "Trường có các chương trình học bổng và tài trợ giúp đỡ những sinh viên có thành tích học tập cao. positive neutral\n",
            "Các căn tin ở đây rất ngon và giá cả phải chăng. positive neutral\n",
            "Tôi cảm thấy chương trình học không thực sự đáp ứng được nhu cầu ngành nghề hiện tại. neutral negative\n",
            "Thầy này tổ chức và quản lý giảng dạy rất tốt. neutral positive\n",
            "Giảng viên này quá đòi hỏi cao về điểm số và đôi khi làm khó học sinh. negative neutral\n",
            "Tôi rất yêu thích không gian của thư viện và các dịch vụ bổ trợ tại đây. positive neutral\n",
            "Các phòng học được trang bị tiện nghi và đầy đủ thiết bị. positive neutral\n",
            "Chương trình học rất linh hoạt và có thể phù hợp với nhu cầu của từng sinh viên. neutral positive\n",
            "Thầy này lắng nghe học sinh rất chu đáo. neutral positive\n",
            "Giảng viên này không giúp được học sinh đạt được những mục tiêu của họ. negative neutral\n",
            "Ký túc xá của trường có các dịch vụ tiện ích như tập gym và quầy cà phê. neutral positive\n",
            "Trường đặt nhiều ưu tiên cho sự phát triển toàn diện của sinh viên. positive neutral\n",
            "Đội ngũ nhân viên ở đây luôn hỗ trợ và đáp ứng mọi nhu cầu của sinh viên. positive neutral\n",
            "Tôi hướng đến mục tiêu của bản thân với sự giúp đỡ của giảng viên. neutral positive\n",
            "Phòng thí nghiệm ở trường được trang bị đầy đủ thiết bị và máy móc. positive neutral\n",
            "Đội ngũ giáo viên có nhiều tri thức và kinh nghiệm giúp sinh viên nắm vững kiến thức chuyên môn. neutral positive\n",
            "Các phòng học được đánh giá là không gian rộng rãi và thoải mái. neutral positive\n",
            "Trường đại học này luôn giữ vệ sinh và sửa chữa tốt hệ thống cơ sở vật chất. positive neutral\n",
            "Bạn của tôi rất cởi mở và dễ thương với mọi người. positive neutral\n",
            "Bãi đỗ xe của trường rộng rãi và an toàn. positive neutral\n",
            "Giảng viên giúp sinh viên phát triển và rèn luyện kỹ năng sáng tạo. positive neutral\n",
            "Thầy là một giảng viên rất thân thiện và luôn sẵn sàng trợ giúp sinh viên. neutral positive\n",
            "Giảng viên này là người rất chu đáo và nhiệt tình. positive neutral\n",
            "Phòng học được trang bị sản phẩm đánh giá như máy chiếu, máy tính, tivi, loa, đệm ngồi, ... positive neutral\n",
            "Các hoạt động giáo dục khá đa dạng và phong phú. neutral positive\n",
            "Các bài kiểm tra được thiết kế tốt và công bằng. neutral positive\n",
            "Thầy luôn dạy sinh viên cách tư duy và phát triển kỹ năng. positive neutral\n",
            "Tất cả sinh viên được đón tiếp với cách thức trị nhẹ nhàng và dễ dàng. positive neutral\n",
            "Giảng viên này đôi lúc quên chuyện chính để giải thích những chi tiết không quan trọng. negative neutral\n",
            "Lớp học được tổ chức khoa học, hỗ trợ sinh viên không chỉ giúp học mà còn giúp sinh viên rèn luyện kỹ năng quản lý thời gian. positive neutral\n",
            "Bạn của tôi rất giỏi quản lý thời gian. positive neutral\n",
            "Trường cung cấp rất nhiều thiết bị và phần mềm hữu ích cho việc học tập và nghiên cứu. neutral positive\n",
            "Cô ấy có khả năng đưa ra quyết định một cách đúng đắn và hiệu quả. neutral positive\n",
            "Các giảng viên đều rất am hiểu trong lĩnh vực của mình. neutral positive\n",
            "Giáo trình rất thú vị và độc đáo, giúp tôi học được nhiều thứ mới lạ. positive neutral\n",
            "Khuôn viên đất nền rộng rãi và khá yên tĩnh. neutral positive\n",
            "Nhiều cơ hội được thực tập từ các doanh nghiệp nổi tiếng. neutral positive\n",
            "Giáo viên rất nhiệt tình và có trách nhiệm trong quá trình giảng dạy. positive neutral\n",
            "Giảng viên này đưa ra những giải pháp đột phá và sáng tạo cho việc học tập. neutral positive\n",
            "Thầy truyền cảm hứng và động viên các sinh viên có hoàn cảnh khó khăn. positive neutral\n",
            "Cô ấy rất thoải mái và tự tin trong giao tiếp đa dạng với người khác giới. positive neutral\n",
            "Sự đa dạng về các môn học giúp mình lựa chọn và cập nhật kiến thức mới. neutral positive\n",
            "Giảng viên hướng dẫn sinh viên tạo ra một mục tiêu cho bản thân và đạt được nó. positive neutral\n",
            "Giảng viên này đưa ra các ví dụ rất thực tế và hữu ích để giúp tôi hiểu bài học. neutral positive\n",
            "Cảm ơn giảng viên đã giúp tôi có những bước tiến thật lớn trong quá trình học tập. neutral positive\n",
            "Giảng viên rất thân thiện và tạo không khí học tập tích cực cho sinh viên. positive neutral\n",
            "Giáo viên luôn giải đáp thắc mắc của sinh viên rõ ràng và chi tiết. positive neutral\n",
            "Cô ấy có tài giao tiếp tốt và thân thiện với những người xung quanh. positive neutral\n",
            "Tôi rất hài lòng với chương trình học nơi đây. positive neutral\n",
            "Bạn của em là người rất cá tính và không sợ thể hiện bản thân. positive neutral\n",
            "Cô ấy có phong cách dạy học vô cùng sáng tạo và thú vị. positive neutral\n",
            "Có rất nhiều nguồn tài nguyên hỗ trợ học viên trong quá trình học tập. neutral positive\n",
            "Anh ta luôn có tinh thần học hỏi và mở đầu với những kiến thức mới. positive neutral\n",
            "Các buổi học được tổ chức chặt chẽ và có sự chuẩn bị kỹ lưỡng. neutral positive\n",
            "Phòng học được bố trí đồng nhất và gọn gàng, giúp cho sinh viên học tập tập trung hơn. positive neutral\n",
            "Có rất nhiều bạn học tốt và tích cực tham gia vào các hoạt động của trường. positive neutral\n",
            "Anh ta là một giảng viên rất tận tâm và sáng tạo. neutral positive\n",
            "Chương trình học của trường giúp tôi có cơ hội học tập và nghiên cứu với những giảng viên hàng đầu trong ngành của mình. positive neutral\n",
            "Giảng viên rất đáng kính và được sinh viên yêu mến đặc biệt. positive neutral\n",
            "Thầy rất năng động, giúp sinh viên tập trung vào học tập một cách hiệu quả. positive neutral\n",
            "Môn học giúp sinh viên hiểu rõ hơn về quy trình và chiến lược phát triển kinh doanh. positive neutral\n",
            "Giảng viên mang lại kinh nghiệm thực tế cho học sinh. neutral positive\n",
            "Hệ thống rạp chiếu phim và trung tâm giải trí nâng cao sinh hoạt văn hóa cho sinh viên. positive neutral\n",
            "Phương pháp dạy học thiết thực và có tính ứng dụng cao. neutral positive\n",
            "Các phòng thí nghiệm được trang bị hệ thống giám sát hoạt động tốt. positive neutral\n",
            "Nhân viên phục vụ trường luôn sáng suốt, vui vẻ, nhiệt tình hỗ trợ sinh viên mọi khi cần thiết positive neutral\n",
            "Tài liệu học tập nhiệt tình và đầy trải nghiệm thực tế. positive neutral\n",
            "Các bài học được thiết kế tối ưu cho việc học trực tuyến. neutral positive\n",
            "Các khu vực cấm hút thuốc được thiết kế và bố trí để đảm bảo không khí trong lành. neutral positive\n",
            "Tôi cảm thấy rất tiếc khi thời gian học tập tại trường của tôi kết thúc. negative positive\n",
            "Cậu ấy rất có kỹ năng về sáng tạo và nghệ thuật. positive neutral\n",
            "Giảng viên này không nhàm chán. neutral negative\n"
          ]
        }
      ],
      "source": [
        "for i, row in df_test.iterrows():\n",
        "    if row['predict'] != row['sentiment']:\n",
        "        print(row['sentence'], row['predict'], row['sentiment'])"
      ]
    },
    {
      "cell_type": "code",
      "execution_count": null,
      "metadata": {
        "id": "zxttyK-MF9EV"
      },
      "outputs": [],
      "source": []
    },
    {
      "cell_type": "code",
      "execution_count": null,
      "metadata": {
        "id": "7E7s3WMOF9EV"
      },
      "outputs": [],
      "source": []
    }
  ],
  "metadata": {
    "kaggle": {
      "accelerator": "gpu",
      "dataSources": [
        {
          "datasetId": 3052448,
          "sourceId": 5245967,
          "sourceType": "datasetVersion"
        }
      ],
      "dockerImageVersionId": 30733,
      "isGpuEnabled": true,
      "isInternetEnabled": true,
      "language": "python",
      "sourceType": "notebook"
    },
    "kernelspec": {
      "display_name": "Python 3 (ipykernel)",
      "language": "python",
      "name": "python3"
    },
    "language_info": {
      "codemirror_mode": {
        "name": "ipython",
        "version": 3
      },
      "file_extension": ".py",
      "mimetype": "text/x-python",
      "name": "python",
      "nbconvert_exporter": "python",
      "pygments_lexer": "ipython3",
      "version": "3.10.13"
    },
    "colab": {
      "provenance": [],
      "toc_visible": true
    }
  },
  "nbformat": 4,
  "nbformat_minor": 0
}