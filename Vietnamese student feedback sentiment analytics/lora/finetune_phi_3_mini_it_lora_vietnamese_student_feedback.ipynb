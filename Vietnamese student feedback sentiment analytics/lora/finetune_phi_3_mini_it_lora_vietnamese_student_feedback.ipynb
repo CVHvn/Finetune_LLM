{
  "cells": [
    {
      "cell_type": "markdown",
      "metadata": {
        "_cell_guid": "b1076dfc-b9ad-4769-8c92-a6c4dae69d19",
        "_uuid": "8f2839f25d086af736a60e9eeb907d3b93b6e0e5",
        "id": "1cQcmlAKIyHF"
      },
      "source": [
        "# Install library"
      ]
    },
    {
      "cell_type": "code",
      "execution_count": null,
      "metadata": {
        "id": "dgl4LnndIyHG",
        "outputId": "6ef0989d-7f7e-4170-b52d-745aac15557b"
      },
      "outputs": [
        {
          "name": "stdout",
          "output_type": "stream",
          "text": [
            "\u001b[33mWARNING: Running pip as the 'root' user can result in broken permissions and conflicting behaviour with the system package manager. It is recommended to use a virtual environment instead: https://pip.pypa.io/warnings/venv\u001b[0m\u001b[33m\n",
            "\u001b[0m\u001b[33mWARNING: Running pip as the 'root' user can result in broken permissions and conflicting behaviour with the system package manager. It is recommended to use a virtual environment instead: https://pip.pypa.io/warnings/venv\u001b[0m\u001b[33m\n",
            "\u001b[0m\u001b[33mWARNING: Running pip as the 'root' user can result in broken permissions and conflicting behaviour with the system package manager. It is recommended to use a virtual environment instead: https://pip.pypa.io/warnings/venv\u001b[0m\u001b[33m\n",
            "\u001b[0m\u001b[33mWARNING: Running pip as the 'root' user can result in broken permissions and conflicting behaviour with the system package manager. It is recommended to use a virtual environment instead: https://pip.pypa.io/warnings/venv\u001b[0m\u001b[33m\n",
            "\u001b[0m\u001b[33mWARNING: Running pip as the 'root' user can result in broken permissions and conflicting behaviour with the system package manager. It is recommended to use a virtual environment instead: https://pip.pypa.io/warnings/venv\u001b[0m\u001b[33m\n",
            "\u001b[0m\u001b[33mWARNING: Running pip as the 'root' user can result in broken permissions and conflicting behaviour with the system package manager. It is recommended to use a virtual environment instead: https://pip.pypa.io/warnings/venv\u001b[0m\u001b[33m\n",
            "\u001b[0m\u001b[33mWARNING: Running pip as the 'root' user can result in broken permissions and conflicting behaviour with the system package manager. It is recommended to use a virtual environment instead: https://pip.pypa.io/warnings/venv\u001b[0m\u001b[33m\n",
            "\u001b[0m\u001b[33mWARNING: Running pip as the 'root' user can result in broken permissions and conflicting behaviour with the system package manager. It is recommended to use a virtual environment instead: https://pip.pypa.io/warnings/venv\u001b[0m\u001b[33m\n",
            "\u001b[0m\u001b[33mWARNING: Running pip as the 'root' user can result in broken permissions and conflicting behaviour with the system package manager. It is recommended to use a virtual environment instead: https://pip.pypa.io/warnings/venv\u001b[0m\u001b[33m\n",
            "\u001b[0m\u001b[33mWARNING: Running pip as the 'root' user can result in broken permissions and conflicting behaviour with the system package manager. It is recommended to use a virtual environment instead: https://pip.pypa.io/warnings/venv\u001b[0m\u001b[33m\n",
            "\u001b[0m"
          ]
        }
      ],
      "source": [
        "!pip install -q datasets==2.16.0\n",
        "!pip install -q bitsandbytes\n",
        "!pip install -q tiktoken\n",
        "!pip install -q peft\n",
        "!pip install -q trl\n",
        "!pip install -q transformers\n",
        "!pip install -q openpyxl\n",
        "!pip install -q pandas\n",
        "!pip install -q scikit-learn\n",
        "!pip install -q flash-attn\n",
        "#pip install -q transformers==4.38.1"
      ]
    },
    {
      "cell_type": "markdown",
      "metadata": {
        "id": "sLUduw7xIyHI"
      },
      "source": [
        "# Import library"
      ]
    },
    {
      "cell_type": "code",
      "execution_count": null,
      "metadata": {
        "id": "yxa0x2IeIyHI"
      },
      "outputs": [],
      "source": [
        "import json\n",
        "import torch\n",
        "import pandas as pd\n",
        "import numpy as np\n",
        "from datasets import load_dataset\n",
        "from transformers import AutoModelForCausalLM, AutoTokenizer, BitsAndBytesConfig\n",
        "import torch\n",
        "from accelerate import PartialState\n",
        "from peft import LoraConfig, PeftModel, prepare_model_for_kbit_training, get_peft_model\n",
        "from trl import SFTTrainer\n",
        "from peft import prepare_model_for_kbit_training\n",
        "from transformers import TrainingArguments"
      ]
    },
    {
      "cell_type": "markdown",
      "metadata": {
        "id": "_fczAxFNIyHI"
      },
      "source": [
        "# Hyperparameters"
      ]
    },
    {
      "cell_type": "code",
      "execution_count": null,
      "metadata": {
        "id": "N_vsxC6vIyHI"
      },
      "outputs": [],
      "source": [
        "modelpath = \"microsoft/Phi-3-mini-4k-instruct\"\n",
        "lr=2e-4      # learning rate\n",
        "bs=8            # batch size\n",
        "bs_eval=8      # batch size for evals\n",
        "ga_steps=2     # gradient acc. steps\n",
        "epochs=4\n",
        "max_length=128      # max. sample length with 24GB VRAM\n",
        "output_dir=\"out\""
      ]
    },
    {
      "cell_type": "markdown",
      "metadata": {
        "id": "V8_AKI1cIyHI"
      },
      "source": [
        "# Remove old model\n",
        "Because of limited storage, we can't save all models, we need to delete all models in cache by the following code:\n",
        "- rm -r out: delete out folder (because I save finetuned model in out folder), you can change folder name like (rm -r output_folder). If you doesn't have out folder, this commend do not thing.\n",
        "- all pretrained huggingface models will auto save in transformers.TRANSFORMERS_CACHE. I use shutil.rmtree to delete them."
      ]
    },
    {
      "cell_type": "code",
      "execution_count": null,
      "metadata": {
        "id": "dECc5nJWIyHJ"
      },
      "outputs": [],
      "source": [
        "!rm -r out"
      ]
    },
    {
      "cell_type": "code",
      "execution_count": null,
      "metadata": {
        "id": "DH5yjS4QIyHJ"
      },
      "outputs": [],
      "source": [
        "# from transformers import TRANSFORMERS_CACHE\n",
        "# print(TRANSFORMERS_CACHE)\n",
        "\n",
        "# import shutil\n",
        "# shutil.rmtree(TRANSFORMERS_CACHE)"
      ]
    },
    {
      "cell_type": "markdown",
      "metadata": {
        "id": "z64dnKY-IyHJ"
      },
      "source": [
        "# Create Dataset\n",
        "Download dataset from [kaggle synthetic-vietnamese-students-feedback-corpus](https://www.kaggle.com/datasets/toreleon/synthetic-vietnamese-students-feedback-corpus/data)\n",
        "\n",
        "We need convert DataFrame to json line (jsonl)."
      ]
    },
    {
      "cell_type": "code",
      "execution_count": null,
      "metadata": {
        "id": "Tgju4mCRIyHJ"
      },
      "outputs": [],
      "source": [
        "df_train = pd.read_csv(\"synthetic_train.csv\")\n",
        "df_test = pd.read_csv(\"synthetic_val.csv\")"
      ]
    },
    {
      "cell_type": "code",
      "execution_count": null,
      "metadata": {
        "id": "Tpt-dZZcIyHJ",
        "outputId": "f628c7ea-d76a-42e7-c42a-8b03d2456669"
      },
      "outputs": [
        {
          "data": {
            "text/html": [
              "<div>\n",
              "<style scoped>\n",
              "    .dataframe tbody tr th:only-of-type {\n",
              "        vertical-align: middle;\n",
              "    }\n",
              "\n",
              "    .dataframe tbody tr th {\n",
              "        vertical-align: top;\n",
              "    }\n",
              "\n",
              "    .dataframe thead th {\n",
              "        text-align: right;\n",
              "    }\n",
              "</style>\n",
              "<table border=\"1\" class=\"dataframe\">\n",
              "  <thead>\n",
              "    <tr style=\"text-align: right;\">\n",
              "      <th></th>\n",
              "      <th>sentence</th>\n",
              "      <th>sentiment</th>\n",
              "      <th>topic</th>\n",
              "    </tr>\n",
              "  </thead>\n",
              "  <tbody>\n",
              "    <tr>\n",
              "      <th>0</th>\n",
              "      <td>Đội ngũ bảo trì quá thưa thớt dẫn đến không đả...</td>\n",
              "      <td>negative</td>\n",
              "      <td>facility</td>\n",
              "    </tr>\n",
              "    <tr>\n",
              "      <th>1</th>\n",
              "      <td>The university's musical and artistic faciliti...</td>\n",
              "      <td>neutral</td>\n",
              "      <td>facility</td>\n",
              "    </tr>\n",
              "    <tr>\n",
              "      <th>2</th>\n",
              "      <td>Phương pháp giảng dạy phù hợp với các đối tượn...</td>\n",
              "      <td>neutral</td>\n",
              "      <td>curriculum</td>\n",
              "    </tr>\n",
              "    <tr>\n",
              "      <th>3</th>\n",
              "      <td>Chương trình học giúp tôi trở thành một chuyên...</td>\n",
              "      <td>positive</td>\n",
              "      <td>curriculum</td>\n",
              "    </tr>\n",
              "    <tr>\n",
              "      <th>4</th>\n",
              "      <td>Tôi nghĩ rằng chương trình đào tạo có thể có t...</td>\n",
              "      <td>neutral</td>\n",
              "      <td>curriculum</td>\n",
              "    </tr>\n",
              "  </tbody>\n",
              "</table>\n",
              "</div>"
            ],
            "text/plain": [
              "                                            sentence sentiment       topic\n",
              "0  Đội ngũ bảo trì quá thưa thớt dẫn đến không đả...  negative    facility\n",
              "1  The university's musical and artistic faciliti...   neutral    facility\n",
              "2  Phương pháp giảng dạy phù hợp với các đối tượn...   neutral  curriculum\n",
              "3  Chương trình học giúp tôi trở thành một chuyên...  positive  curriculum\n",
              "4  Tôi nghĩ rằng chương trình đào tạo có thể có t...   neutral  curriculum"
            ]
          },
          "execution_count": 7,
          "metadata": {},
          "output_type": "execute_result"
        }
      ],
      "source": [
        "df_train.head()"
      ]
    },
    {
      "cell_type": "code",
      "execution_count": null,
      "metadata": {
        "id": "RCIRHu5IIyHJ",
        "outputId": "94cafab5-f3f2-4245-c2a9-9307f2dd355d"
      },
      "outputs": [
        {
          "data": {
            "text/html": [
              "<div>\n",
              "<style scoped>\n",
              "    .dataframe tbody tr th:only-of-type {\n",
              "        vertical-align: middle;\n",
              "    }\n",
              "\n",
              "    .dataframe tbody tr th {\n",
              "        vertical-align: top;\n",
              "    }\n",
              "\n",
              "    .dataframe thead th {\n",
              "        text-align: right;\n",
              "    }\n",
              "</style>\n",
              "<table border=\"1\" class=\"dataframe\">\n",
              "  <thead>\n",
              "    <tr style=\"text-align: right;\">\n",
              "      <th></th>\n",
              "      <th>sentence</th>\n",
              "      <th>sentiment</th>\n",
              "      <th>topic</th>\n",
              "    </tr>\n",
              "  </thead>\n",
              "  <tbody>\n",
              "    <tr>\n",
              "      <th>0</th>\n",
              "      <td>Chất lượng vật chất kém.</td>\n",
              "      <td>negative</td>\n",
              "      <td>facility</td>\n",
              "    </tr>\n",
              "    <tr>\n",
              "      <th>1</th>\n",
              "      <td>Phần mềm học tập quá khó sử dụng, khiến sinh v...</td>\n",
              "      <td>negative</td>\n",
              "      <td>facility</td>\n",
              "    </tr>\n",
              "    <tr>\n",
              "      <th>2</th>\n",
              "      <td>Trường tôi thiếu những tiện ích cơ bản như máy...</td>\n",
              "      <td>negative</td>\n",
              "      <td>facility</td>\n",
              "    </tr>\n",
              "    <tr>\n",
              "      <th>3</th>\n",
              "      <td>Cần tạo thêm các hoạt động gắn kết giữa sinh v...</td>\n",
              "      <td>neutral</td>\n",
              "      <td>curriculum</td>\n",
              "    </tr>\n",
              "    <tr>\n",
              "      <th>4</th>\n",
              "      <td>Họ rất khoan dung và lượng giác trong quan điể...</td>\n",
              "      <td>neutral</td>\n",
              "      <td>others</td>\n",
              "    </tr>\n",
              "  </tbody>\n",
              "</table>\n",
              "</div>"
            ],
            "text/plain": [
              "                                            sentence sentiment       topic\n",
              "0                           Chất lượng vật chất kém.  negative    facility\n",
              "1  Phần mềm học tập quá khó sử dụng, khiến sinh v...  negative    facility\n",
              "2  Trường tôi thiếu những tiện ích cơ bản như máy...  negative    facility\n",
              "3  Cần tạo thêm các hoạt động gắn kết giữa sinh v...   neutral  curriculum\n",
              "4  Họ rất khoan dung và lượng giác trong quan điể...   neutral      others"
            ]
          },
          "execution_count": 8,
          "metadata": {},
          "output_type": "execute_result"
        }
      ],
      "source": [
        "df_test.head()"
      ]
    },
    {
      "cell_type": "code",
      "execution_count": null,
      "metadata": {
        "id": "ci7toWvpIyHJ",
        "outputId": "f0ce7574-dfca-42c3-a099-b2da757cad03"
      },
      "outputs": [
        {
          "data": {
            "text/plain": [
              "sentiment\n",
              "neutral     2724\n",
              "negative    2711\n",
              "positive    2709\n",
              "Name: count, dtype: int64"
            ]
          },
          "execution_count": 9,
          "metadata": {},
          "output_type": "execute_result"
        }
      ],
      "source": [
        "df_train.sentiment.value_counts()"
      ]
    },
    {
      "cell_type": "code",
      "execution_count": null,
      "metadata": {
        "id": "7gHmccqLIyHK",
        "outputId": "59e54c80-560a-4687-cc73-f2a0969d3705"
      },
      "outputs": [
        {
          "data": {
            "text/plain": [
              "sentiment\n",
              "negative    686\n",
              "positive    680\n",
              "neutral     670\n",
              "Name: count, dtype: int64"
            ]
          },
          "execution_count": 10,
          "metadata": {},
          "output_type": "execute_result"
        }
      ],
      "source": [
        "df_test.sentiment.value_counts()"
      ]
    },
    {
      "cell_type": "code",
      "execution_count": null,
      "metadata": {
        "id": "CqHKMOnOIyHK"
      },
      "outputs": [],
      "source": [
        "df_train['len'] = df_train.sentence.apply(lambda x: len(str(x).split()))\n",
        "df_test['len'] = df_test.sentence.apply(lambda x: len(str(x).split()))"
      ]
    },
    {
      "cell_type": "code",
      "execution_count": null,
      "metadata": {
        "id": "NUIDNX_9IyHK",
        "outputId": "44d37fbb-36ac-4954-eb10-30ff8dc84e3a"
      },
      "outputs": [
        {
          "data": {
            "text/plain": [
              "count    8144.000000\n",
              "mean       15.549730\n",
              "std         5.018764\n",
              "min         3.000000\n",
              "25%        12.000000\n",
              "50%        15.000000\n",
              "75%        18.000000\n",
              "max        43.000000\n",
              "Name: len, dtype: float64"
            ]
          },
          "execution_count": 12,
          "metadata": {},
          "output_type": "execute_result"
        }
      ],
      "source": [
        "df_train['len'].describe()"
      ]
    },
    {
      "cell_type": "code",
      "execution_count": null,
      "metadata": {
        "id": "TaBwx9b9IyHK",
        "outputId": "3d775819-2c5f-4f45-ee7b-4212b70f6b13"
      },
      "outputs": [
        {
          "data": {
            "text/plain": [
              "count    2036.000000\n",
              "mean       15.694990\n",
              "std         5.185957\n",
              "min         2.000000\n",
              "25%        12.000000\n",
              "50%        15.000000\n",
              "75%        19.000000\n",
              "max        48.000000\n",
              "Name: len, dtype: float64"
            ]
          },
          "execution_count": 13,
          "metadata": {},
          "output_type": "execute_result"
        }
      ],
      "source": [
        "df_test['len'].describe()"
      ]
    },
    {
      "cell_type": "code",
      "execution_count": null,
      "metadata": {
        "id": "sWonupw9IyHK"
      },
      "outputs": [],
      "source": [
        "with open('train.jsonl', 'w') as outfile:\n",
        "    for i, x in df_train.iterrows():\n",
        "        comment = x['sentence']\n",
        "        label = x['sentiment']\n",
        "        #label = 'yes' if label == 'relevance' else 'no'\n",
        "        data = {\n",
        "            \"input\": f'''The sentiment of this comment \"{comment}\" is''',\n",
        "            \"output\": f\"{label}\"\n",
        "        }\n",
        "        json.dump(data, outfile)\n",
        "        outfile.write('\\n')"
      ]
    },
    {
      "cell_type": "code",
      "execution_count": null,
      "metadata": {
        "id": "7DuGwx2bIyHK"
      },
      "outputs": [],
      "source": [
        "with open('test.jsonl', 'w') as outfile:\n",
        "    for i, x in df_test.iterrows():\n",
        "        comment = x['sentence']\n",
        "        label = x['sentiment']\n",
        "        #label = 'yes' if label == 'relevance' else 'no'\n",
        "        data = {\n",
        "            \"input\": f'''The sentiment of this comment \"{comment}\" is''',\n",
        "            \"output\": f\"{label}\"\n",
        "        }\n",
        "        json.dump(data, outfile)\n",
        "        outfile.write('\\n')"
      ]
    },
    {
      "cell_type": "code",
      "execution_count": null,
      "metadata": {
        "colab": {
          "referenced_widgets": [
            "3e725dda10294bb4a4524c97a87b703d",
            "27a150e15941408583f8a904b0a393c8"
          ]
        },
        "id": "CfpZ440BIyHL",
        "outputId": "62d17db5-c867-4d15-a754-70f6a3f996d3"
      },
      "outputs": [
        {
          "data": {
            "application/vnd.jupyter.widget-view+json": {
              "model_id": "3e725dda10294bb4a4524c97a87b703d",
              "version_major": 2,
              "version_minor": 0
            },
            "text/plain": [
              "Generating train split: 0 examples [00:00, ? examples/s]"
            ]
          },
          "metadata": {},
          "output_type": "display_data"
        },
        {
          "data": {
            "application/vnd.jupyter.widget-view+json": {
              "model_id": "27a150e15941408583f8a904b0a393c8",
              "version_major": 2,
              "version_minor": 0
            },
            "text/plain": [
              "Generating validation split: 0 examples [00:00, ? examples/s]"
            ]
          },
          "metadata": {},
          "output_type": "display_data"
        }
      ],
      "source": [
        "data_files = {\n",
        "    \"train\": \"train.jsonl\",\n",
        "    \"validation\": \"test.jsonl\",\n",
        "}\n",
        "\n",
        "dataset = load_dataset(\"json\", data_files=data_files)"
      ]
    },
    {
      "cell_type": "code",
      "execution_count": null,
      "metadata": {
        "id": "rnywuFQ0IyHL",
        "outputId": "da2b0116-74e6-416b-e5a7-2e6186933407"
      },
      "outputs": [
        {
          "data": {
            "text/plain": [
              "DatasetDict({\n",
              "    train: Dataset({\n",
              "        features: ['input', 'output'],\n",
              "        num_rows: 8144\n",
              "    })\n",
              "    validation: Dataset({\n",
              "        features: ['input', 'output'],\n",
              "        num_rows: 2036\n",
              "    })\n",
              "})"
            ]
          },
          "execution_count": 17,
          "metadata": {},
          "output_type": "execute_result"
        }
      ],
      "source": [
        "dataset"
      ]
    },
    {
      "cell_type": "markdown",
      "metadata": {
        "id": "5t18myx9IyHL"
      },
      "source": [
        "# Create prompt format\n",
        "Load tokenizer by AutoTokenizer.from_pretrained:\n",
        "- We need create and copy YOUR TOKEN from [huggingface](https://huggingface.co/settings/tokens)\n",
        "- We need use padding_side = 'right' because training library need padding_side = 'right' when training. You can use left padding but you need to make sure the library is not corrupted and check whether performance is affected by left padding!\n",
        "- If you have 1 prompt like \"test thử mô hình\" and want to tokenize it, just you tokenizer(prompt, return_tensors=\"pt\"). You can see output of tokenizer in cell below (output includes input_ids (list index of each token in prompt) and attention mask)\n",
        "- We can use tokenizer.batch_decode to see how tokenizer restore string from token tensor. You can see that it automatically adds the start token \"<bos>\" at the beginning of the string.\n",
        "- To train llm, we only need to pass 1 sentence to llm (including input and desired output) without specifying which is the input and which is the output.\n",
        "- I wrote the function formatting_prompts_func to convert input and output to prompt and tested this function, you can see below.\n",
        "- When predicting, remove the output part to let the model predict itself. See the predict section below later.\n",
        "- we only need to predict some next tokens like A. positive, and B. neutral. We don't care what the model says after sentiment. Then we do not need to add <eos token>. If you fine-tune the model with other tasks, maybe you need to add <eos token> at the end of the prompt:\n",
        "  - use tokenizer.eos_token, tokenizer.eos_token_id to see eos_token of your model and correspond id\n",
        "  - for ex: eos_token is \"<|im_end|>\". You need edit prompt like:\n",
        "    - '''...The correct answer is {output_}.''' --> '''...The correct answer is {output_}. <|im_end|>'''\n",
        "  - for ex: eos_token is \"end_token__\". You need edit prompt like:\n",
        "    - '''...The correct answer is {output_}.''' --> '''...The correct answer is {output_}. end_token__'''"
      ]
    },
    {
      "cell_type": "code",
      "execution_count": null,
      "metadata": {
        "id": "5MphHgspIyHL",
        "outputId": "6bff3807-ebf2-4d2d-8cce-704c7958ac0b"
      },
      "outputs": [
        {
          "name": "stderr",
          "output_type": "stream",
          "text": [
            "Special tokens have been added in the vocabulary, make sure the associated word embeddings are fine-tuned or trained.\n"
          ]
        }
      ],
      "source": [
        "tokenizer = AutoTokenizer.from_pretrained(\n",
        "    modelpath,\n",
        "    padding_side=\"right\",\n",
        "    # add_eos_token=True,\n",
        "    # add_bos_token=True,\n",
        "    trust_remote_code=True,\n",
        "    token = 'YOUR TOKEN HERE'\n",
        ")"
      ]
    },
    {
      "cell_type": "code",
      "execution_count": null,
      "metadata": {
        "id": "HP3SFmUNIyHL",
        "outputId": "64651c94-3bb7-44be-9d35-3a3eb128a54a"
      },
      "outputs": [
        {
          "name": "stdout",
          "output_type": "stream",
          "text": [
            "{'input_ids': tensor([[    1,  1243,   266,   228,   190,   176,   286, 30069,   298, 30097,\n",
            "         29876, 29882]]), 'attention_mask': tensor([[1, 1, 1, 1, 1, 1, 1, 1, 1, 1, 1, 1]])}\n"
          ]
        },
        {
          "data": {
            "text/plain": [
              "['<s>', 'test', 'th', '�', '�', '�', 'm', 'ô', 'h', 'ì', 'n', 'h']"
            ]
          },
          "execution_count": 19,
          "metadata": {},
          "output_type": "execute_result"
        }
      ],
      "source": [
        "prompt = \"test thử mô hình\"\n",
        "tokens = tokenizer(prompt, return_tensors=\"pt\")\n",
        "print(tokens)\n",
        "tokenizer.batch_decode(tokenizer.encode(prompt))"
      ]
    },
    {
      "cell_type": "code",
      "execution_count": null,
      "metadata": {
        "id": "2ZWJInjcIyHL"
      },
      "outputs": [],
      "source": [
        "def formatting_prompts_func(example):\n",
        "    output_texts = []\n",
        "    for i in range(len(example['input'])):\n",
        "        input_ = example['input'][i]\n",
        "        output_ = example['output'][i]\n",
        "        output_ = 'A. Positive' if output_ == 'positive' else 'B. Neutral' if output_ == 'neutral' else 'C. Negative'\n",
        "        #text = f\"### Question: {input__}\\n ### Answer: {example['output'][i]}\"\n",
        "        text = f'''{input_}\n",
        "A. Positive\n",
        "B. Neutral\n",
        "C. Negative\n",
        "\n",
        "The correct answer is {output_}.'''\n",
        "\n",
        "        output_texts.append(text)\n",
        "    return output_texts"
      ]
    },
    {
      "cell_type": "code",
      "execution_count": null,
      "metadata": {
        "id": "Gu9Mggy-IyHL",
        "outputId": "bf914d1e-bade-4357-9eb7-a2024ff0847f"
      },
      "outputs": [
        {
          "data": {
            "text/plain": [
              "('The sentiment of this comment \"Chất lượng vật chất kém.\" is', 'negative')"
            ]
          },
          "execution_count": 21,
          "metadata": {},
          "output_type": "execute_result"
        }
      ],
      "source": [
        "dataset[\"validation\"]['input'][0], dataset[\"validation\"]['output'][0]"
      ]
    },
    {
      "cell_type": "code",
      "execution_count": null,
      "metadata": {
        "id": "k9Rcx5nqIyHM",
        "outputId": "5d658629-0bef-4d5e-9619-8a5193b9832e"
      },
      "outputs": [
        {
          "data": {
            "text/plain": [
              "['The sentiment of this comment \"Chất lượng vật chất kém.\" is\\nA. Positive\\nB. Neutral\\nC. Negative\\n\\nThe correct answer is C. Negative.']"
            ]
          },
          "execution_count": 22,
          "metadata": {},
          "output_type": "execute_result"
        }
      ],
      "source": [
        "formatting_prompts_func({'input': [dataset[\"validation\"]['input'][0]],\n",
        "                         'output': [dataset[\"validation\"]['output'][0]]})"
      ]
    },
    {
      "cell_type": "code",
      "execution_count": null,
      "metadata": {
        "id": "Ct1oktBFIyHM",
        "outputId": "c8aacea8-f538-4e76-9166-3566ee4d6f34"
      },
      "outputs": [
        {
          "name": "stdout",
          "output_type": "stream",
          "text": [
            "The sentiment of this comment \"Chất lượng vật chất kém.\" is\n",
            "A. Positive\n",
            "B. Neutral\n",
            "C. Negative\n",
            "\n",
            "The correct answer is C. Negative.\n"
          ]
        }
      ],
      "source": [
        "print(formatting_prompts_func({'input': [dataset[\"validation\"]['input'][0]],\n",
        "                         'output': [dataset[\"validation\"]['output'][0]]})[0])"
      ]
    },
    {
      "cell_type": "markdown",
      "metadata": {
        "id": "BNFMj3HAIyHM"
      },
      "source": [
        "# Create model"
      ]
    },
    {
      "cell_type": "markdown",
      "metadata": {
        "id": "MTRykggoIyHM"
      },
      "source": [
        "## Load model\n",
        "We use AutoModelForCausalLM.from_pretrained to load model:\n",
        "- device_map = 'auto': auto active gpu.\n",
        "- torch_dtype: use bfloat16, if your gpu don't support bfloat16, set it to float32\n",
        "- attn_implementation: you can use 'flash_attention_2', if you meet bug, maybe your gpu doesn't support it, you need delete this line.\n",
        "- token: you huggingface token like tokenizer above."
      ]
    },
    {
      "cell_type": "code",
      "execution_count": null,
      "metadata": {
        "colab": {
          "referenced_widgets": [
            "c394e9209080492dac9ce358b4d92d41"
          ]
        },
        "id": "E1swkGDEIyHM",
        "outputId": "b15e1e74-e011-46e2-90c9-6d468ac3e6ed"
      },
      "outputs": [
        {
          "data": {
            "application/vnd.jupyter.widget-view+json": {
              "model_id": "c394e9209080492dac9ce358b4d92d41",
              "version_major": 2,
              "version_minor": 0
            },
            "text/plain": [
              "Loading checkpoint shards:   0%|          | 0/2 [00:00<?, ?it/s]"
            ]
          },
          "metadata": {},
          "output_type": "display_data"
        }
      ],
      "source": [
        "# bnb_config = BitsAndBytesConfig(\n",
        "#     load_in_4bit=True,\n",
        "#     bnb_4bit_use_double_quant=True,\n",
        "#     bnb_4bit_quant_type=\"nf4\",\n",
        "#     bnb_4bit_compute_dtype=torch.bfloat16,\n",
        "# )\n",
        "\n",
        "model = AutoModelForCausalLM.from_pretrained(\n",
        "    modelpath,\n",
        "    device_map=\"auto\",\n",
        "    torch_dtype=torch.bfloat16,\n",
        "    #torch_dtype=torch.float32,\n",
        "    #quantization_config=bnb_config,\n",
        "    #attn_implementation=\"flash_attention_2\",\n",
        "    trust_remote_code=True,\n",
        "    token = 'YOUR TOKEN HERE'\n",
        ")"
      ]
    },
    {
      "cell_type": "code",
      "execution_count": null,
      "metadata": {
        "id": "7h9Zxw8jIyHM",
        "outputId": "747302b9-be77-470a-a893-bb752fc68f7c"
      },
      "outputs": [
        {
          "data": {
            "text/plain": [
              "Phi3ForCausalLM(\n",
              "  (model): Phi3Model(\n",
              "    (embed_tokens): Embedding(32064, 3072, padding_idx=32000)\n",
              "    (embed_dropout): Dropout(p=0.0, inplace=False)\n",
              "    (layers): ModuleList(\n",
              "      (0-31): 32 x Phi3DecoderLayer(\n",
              "        (self_attn): Phi3Attention(\n",
              "          (o_proj): Linear(in_features=3072, out_features=3072, bias=False)\n",
              "          (qkv_proj): Linear(in_features=3072, out_features=9216, bias=False)\n",
              "          (rotary_emb): Phi3RotaryEmbedding()\n",
              "        )\n",
              "        (mlp): Phi3MLP(\n",
              "          (gate_up_proj): Linear(in_features=3072, out_features=16384, bias=False)\n",
              "          (down_proj): Linear(in_features=8192, out_features=3072, bias=False)\n",
              "          (activation_fn): SiLU()\n",
              "        )\n",
              "        (input_layernorm): Phi3RMSNorm()\n",
              "        (resid_attn_dropout): Dropout(p=0.0, inplace=False)\n",
              "        (resid_mlp_dropout): Dropout(p=0.0, inplace=False)\n",
              "        (post_attention_layernorm): Phi3RMSNorm()\n",
              "      )\n",
              "    )\n",
              "    (norm): Phi3RMSNorm()\n",
              "  )\n",
              "  (lm_head): Linear(in_features=3072, out_features=32064, bias=False)\n",
              ")"
            ]
          },
          "execution_count": 25,
          "metadata": {},
          "output_type": "execute_result"
        }
      ],
      "source": [
        "model"
      ]
    },
    {
      "cell_type": "code",
      "execution_count": null,
      "metadata": {
        "id": "hgniEpz_IyHM"
      },
      "outputs": [],
      "source": [
        "# from peft import prepare_model_for_kbit_training\n",
        "\n",
        "# model = prepare_model_for_kbit_training(model)"
      ]
    },
    {
      "cell_type": "markdown",
      "metadata": {
        "id": "l42mCdsHIyHN"
      },
      "source": [
        "## Eval model before training\n",
        "We use create_prompt function to generate prompt (without output), our model will predict output. We will eval model before finetune. You can see some predict below.\n",
        "\n",
        "You can see that pretrained model has poor performance"
      ]
    },
    {
      "cell_type": "code",
      "execution_count": null,
      "metadata": {
        "id": "rk8rQdQrIyHN",
        "outputId": "4c29093c-84cc-465e-84d8-8d4bfc563675"
      },
      "outputs": [
        {
          "name": "stderr",
          "output_type": "stream",
          "text": [
            "/opt/conda/lib/python3.10/site-packages/transformers/generation/configuration_utils.py:540: UserWarning: `do_sample` is set to `False`. However, `temperature` is set to `0.1` -- this flag is only used in sample-based generation modes. You should set `do_sample=True` or unset `temperature`.\n",
            "  warnings.warn(\n",
            "The attention mask is not set and cannot be inferred from input because pad token is same as eos token.As a consequence, you may observe unexpected behavior. Please pass your input's `attention_mask` to obtain reliable results.\n",
            "The `seen_tokens` attribute is deprecated and will be removed in v4.41. Use the `cache_position` model input instead.\n"
          ]
        },
        {
          "name": "stdout",
          "output_type": "stream",
          "text": [
            "The sentiment of this comment: \"món ăn rất ngon\" is\n",
            "A. Positive\n",
            "B. Neutral\n",
            "C. Negative\n",
            "\n",
            "The correct answer is\n"
          ]
        },
        {
          "name": "stderr",
          "output_type": "stream",
          "text": [
            "You are not running the flash-attention implementation, expect numerical differences.\n"
          ]
        },
        {
          "name": "stdout",
          "output_type": "stream",
          "text": [
            "<s> The sentiment of this comment: \"món ăn rất ngon\" is\n",
            "A. Positive\n",
            "B. Neutral\n",
            "C. Negative\n",
            "\n",
            "The correct answer is:\n",
            "A. Positive\n",
            "\n",
            "In Vietnamese, \"món ăn rất ngon\" translates to \"the food is very delicious\" in English. The word \"ngon\" (delicious) conve\n"
          ]
        }
      ],
      "source": [
        "def create_prompt(input_, output_):\n",
        "    output_ = 'A. Positive' if output_ == 'positive' else 'B. Neutral' if output_ == 'neutral' else 'C. Negative'\n",
        "        #text = f\"### Question: {input__}\\n ### Answer: {example['output'][i]}\"\n",
        "    text = f'''{input_}\n",
        "A. Positive\n",
        "B. Neutral\n",
        "C. Negative\n",
        "\n",
        "The correct answer is'''\n",
        "\n",
        "    return text\n",
        "\n",
        "sentence = 'món ăn rất ngon'\n",
        "input_ = f'''The sentiment of this comment: \"{sentence}\" is'''\n",
        "prompt = create_prompt(input_, \"\")\n",
        "print(prompt)\n",
        "\n",
        "inputs = torch.tensor([tokenizer.encode(prompt)])\n",
        "\n",
        "tokens = model.generate(\n",
        "    inputs.to(model.device),\n",
        "    max_new_tokens=50,\n",
        "    temperature=0.1,\n",
        "    do_sample=False\n",
        ")\n",
        "print(tokenizer.decode(tokens[0], skip_special_tokens=False))"
      ]
    },
    {
      "cell_type": "code",
      "execution_count": null,
      "metadata": {
        "id": "YS5JGGTjIyHN",
        "outputId": "ac8e53e9-26c2-474e-9bba-f56394d3e22d"
      },
      "outputs": [
        {
          "name": "stdout",
          "output_type": "stream",
          "text": [
            "0 0.0 0:00:00.133112 0:00:00.133115\n",
            "100 39.603960396039604 0:00:12.657178 0:00:00.125319\n",
            "200 44.27860696517413 0:00:25.104341 0:00:00.124897\n",
            "300 42.857142857142854 0:00:37.515966 0:00:00.124638\n",
            "400 42.8927680798005 0:00:49.847339 0:00:00.124308\n",
            "500 42.51497005988024 0:01:02.228128 0:00:00.124208\n",
            "600 41.43094841930117 0:01:14.670952 0:00:00.124245\n",
            "700 40.798858773181166 0:01:27.137105 0:00:00.124304\n",
            "800 41.07365792759051 0:01:39.664338 0:00:00.124425\n",
            "900 41.06548279689235 0:01:52.168834 0:00:00.124494\n",
            "1000 41.35864135864136 0:02:04.708219 0:00:00.124584\n",
            "1100 40.32697547683924 0:02:17.236723 0:00:00.124647\n",
            "1200 40.38301415487094 0:02:29.578600 0:00:00.124545\n",
            "1300 40.430438124519604 0:02:42.076432 0:00:00.124578\n",
            "1400 40.18558172733761 0:02:54.372631 0:00:00.124463\n",
            "1500 40.37308461025983 0:03:06.820666 0:00:00.124464\n",
            "1600 40.28732042473454 0:03:19.363464 0:00:00.124524\n",
            "1700 39.623750734861844 0:03:31.811416 0:00:00.124522\n",
            "1800 39.922265408106604 0:03:44.272585 0:00:00.124527\n",
            "1900 40.084166228300894 0:03:56.640560 0:00:00.124482\n",
            "2000 39.78010994502748 0:04:09.132630 0:00:00.124504\n"
          ]
        }
      ],
      "source": [
        "from datetime import datetime\n",
        "\n",
        "start = datetime.now()\n",
        "\n",
        "prediction = []\n",
        "response = []\n",
        "accuracy = []\n",
        "labels = []\n",
        "\n",
        "for i, x in df_test.iterrows():\n",
        "    sentence = x['sentence']\n",
        "    label = x['sentiment']\n",
        "    input_ = f'''The sentiment of this comment: \"{sentence}\" is'''\n",
        "    prompt = create_prompt(input_, label)\n",
        "\n",
        "    inputs = tokenizer.encode(\n",
        "        prompt,\n",
        "        # add_generation_prompt=True,\n",
        "        return_tensors='pt'\n",
        "    )\n",
        "\n",
        "    tokens = model.generate(\n",
        "        inputs.to(model.device),\n",
        "        max_new_tokens=5,\n",
        "        temperature=0.1,\n",
        "        do_sample=False,\n",
        "        pad_token_id=tokenizer.eos_token_id\n",
        "    )\n",
        "    #break\n",
        "\n",
        "    answer = tokenizer.decode(tokens[0], skip_special_tokens=False).split(\"The correct answer is \")[-1]\n",
        "    answer = 'positive' if 'positive' in answer.lower() else 'negative' if 'negative' in answer.lower() else 'neutral'\n",
        "    prediction.append(answer.lower())\n",
        "    response.append(tokenizer.decode(tokens[0], skip_special_tokens=False))\n",
        "\n",
        "    accuracy.append(prediction[-1] == label)\n",
        "    labels.append(label)\n",
        "\n",
        "    if i % 100 == 0:\n",
        "        print(i, np.array(accuracy).sum()/len(prediction)*100, datetime.now() - start, (datetime.now() - start)/len(prediction))"
      ]
    },
    {
      "cell_type": "code",
      "execution_count": null,
      "metadata": {
        "id": "zZezmVUjIyHN",
        "outputId": "c3d6dbf7-5e98-4879-e2bb-fdc8f879b8b3"
      },
      "outputs": [
        {
          "name": "stdout",
          "output_type": "stream",
          "text": [
            "              precision    recall  f1-score   support\n",
            "\n",
            "    negative     0.7699    0.1268    0.2178       686\n",
            "     neutral     0.6364    0.1254    0.2095       670\n",
            "    positive     0.3540    0.9324    0.5132       680\n",
            "\n",
            "    accuracy                         0.3954      2036\n",
            "   macro avg     0.5868    0.3948    0.3135      2036\n",
            "weighted avg     0.5871    0.3954    0.3137      2036\n",
            "\n"
          ]
        }
      ],
      "source": [
        "from sklearn.metrics import classification_report, f1_score\n",
        "import sklearn\n",
        "\n",
        "print(sklearn.metrics.classification_report(labels, prediction, digits=4))"
      ]
    },
    {
      "cell_type": "code",
      "execution_count": null,
      "metadata": {
        "id": "Mm3PimTWIyHN",
        "outputId": "c71ce6c9-62f5-4070-f4b6-7d2b9f7c5dfd"
      },
      "outputs": [
        {
          "name": "stdout",
          "output_type": "stream",
          "text": [
            "<s> The sentiment of this comment: \"The facilities of the university are versatile and helpful.\" is\n",
            "A. Positive\n",
            "B. Neutral\n",
            "C. Negative\n",
            "\n",
            "The correct answer is: A. Positive\n",
            "\n",
            "\n",
            "<s> The sentiment of this comment: \"Mấy bạn đó hay đòi hỏi nhưng không bao giờ giúp đỡ người khác.\" is\n",
            "A. Positive\n",
            "B. Neutral\n",
            "C. Negative\n",
            "\n",
            "The correct answer is:\n",
            "C. Neg\n",
            "\n",
            "\n",
            "<s> The sentiment of this comment: \"Cậu ấy rất có kỹ năng về sáng tạo và nghệ thuật.\" is\n",
            "A. Positive\n",
            "B. Neutral\n",
            "C. Negative\n",
            "\n",
            "The correct answer is:\n",
            "A. Pos\n",
            "\n",
            "\n",
            "<s> The sentiment of this comment: \"Giảng viên này không nhàm chán.\" is\n",
            "A. Positive\n",
            "B. Neutral\n",
            "C. Negative\n",
            "\n",
            "The correct answer is C. Negative.\n",
            "\n",
            "\n",
            "<s> The sentiment of this comment: \"Anh ta là một người rất tỉ mỉ và cẩn thận.\" is\n",
            "A. Positive\n",
            "B. Neutral\n",
            "C. Negative\n",
            "\n",
            "The correct answer is A. Positive.\n",
            "\n",
            "\n",
            "<s> The sentiment of this comment: \"Giáo viên đưa ra các phương tiện hỗ trợ giảng dạy rất tốt và hiệu quả.\" is\n",
            "A. Positive\n",
            "B. Neutral\n",
            "C. Negative\n",
            "\n",
            "The correct answer is:\n",
            "A. Pos\n",
            "\n",
            "\n",
            "<s> The sentiment of this comment: \"The university's computer facilities are up-to-date and well-maintained.\" is\n",
            "A. Positive\n",
            "B. Neutral\n",
            "C. Negative\n",
            "\n",
            "The correct answer is: A. Positive\n",
            "\n",
            "\n",
            "<s> The sentiment of this comment: \"Thiếu tính linh hoạt trong hình thức giảng dạy và đánh giá kết quả học tập.\" is\n",
            "A. Positive\n",
            "B. Neutral\n",
            "C. Negative\n",
            "\n",
            "The correct answer is:\n",
            "C. Neg\n",
            "\n",
            "\n",
            "<s> The sentiment of this comment: \"Cô ấy rất sắc sảo và có khả năng phân tích chi tiết rất tốt.\" is\n",
            "A. Positive\n",
            "B. Neutral\n",
            "C. Negative\n",
            "\n",
            "The correct answer is:\n",
            "A. Pos\n",
            "\n",
            "\n",
            "<s> The sentiment of this comment: \"Anh ấy có tài năng về âm nhạc và luôn tìm cách tạo ra các bản nhạc mới, giúp nhóm thêm hoàn hảo và đa dạng hơn.\" is\n",
            "A. Positive\n",
            "B. Neutral\n",
            "C. Negative\n",
            "\n",
            "The correct answer is:\n",
            "\n",
            "A.\n",
            "\n",
            "\n"
          ]
        }
      ],
      "source": [
        "for x in response[-10:]:\n",
        "    print(x)\n",
        "    print(\"\\n\")"
      ]
    },
    {
      "cell_type": "markdown",
      "source": [
        "## Create peft\n",
        "For lora training, we need create LoraConfig:\n",
        "  - lora_alpha, r, dropout is basic hyperarameter.\n",
        "  - almost LLM use bias = 'none' when finetune then we set is to None\n",
        "  - target_modules are list of layer we want to finetune, I set it to 'all-linear', then all linear layers will be finetuned. If you just finetune some layers like q_proj, k_proj, you can pass list ['q_proj', 'k_proj'].\n",
        "  - modules_to_save is other layers we want to finetune (but don't use lora), in my experience, finetune all embedding layers will make model work betters than I set modules_to_save as list of all embedding layers."
      ],
      "metadata": {
        "id": "Gq61EuwNJNd3"
      }
    },
    {
      "cell_type": "code",
      "execution_count": null,
      "metadata": {
        "id": "PRikvXKjIyHQ",
        "outputId": "3676c760-4edb-4b73-da93-6ae7d3a4858f"
      },
      "outputs": [
        {
          "name": "stdout",
          "output_type": "stream",
          "text": [
            "trainable params: 111,083,520 || all params: 3,932,163,072 || trainable%: 2.8250\n"
          ]
        }
      ],
      "source": [
        "peft_config = LoraConfig(\n",
        "    lora_alpha=32,\n",
        "    lora_dropout=0.1,\n",
        "    r=8,\n",
        "    bias=\"none\",\n",
        "    task_type=\"CAUSAL_LM\",\n",
        "    target_modules = 'all-linear',\n",
        "#     target_modules=[\"q_proj\",\n",
        "#         \"k_proj\",\n",
        "#         \"v_proj\",\n",
        "#         \"o_proj\",\n",
        "#         \"gate_proj\",\n",
        "#         \"up_proj\",\n",
        "#         \"down_proj\",\n",
        "#         \"lm_head\",],\n",
        "    modules_to_save=[\"embed_tokens\", \"rotary_emb\"]\n",
        "                     #\"input_layernorm\", \"post_attention_layernorm\", \"norm\"]\n",
        ")\n",
        "model = get_peft_model(model, peft_config)\n",
        "\n",
        "model.print_trainable_parameters() #"
      ]
    },
    {
      "cell_type": "markdown",
      "metadata": {
        "id": "Y_h4EnOJIyHQ"
      },
      "source": [
        "## Create TrainingArguments"
      ]
    },
    {
      "cell_type": "code",
      "execution_count": null,
      "metadata": {
        "id": "OpQKtzmIIyHR",
        "outputId": "4ce32bad-9250-4302-87aa-c2066750e60a"
      },
      "outputs": [
        {
          "name": "stdout",
          "output_type": "stream",
          "text": [
            "509\n"
          ]
        }
      ],
      "source": [
        "print(len(df_train)//bs//ga_steps*epochs//4)"
      ]
    },
    {
      "cell_type": "code",
      "execution_count": null,
      "metadata": {
        "id": "OBZmBhx7IyHR",
        "outputId": "2558d22f-accc-41ad-d275-bce48218b4bd"
      },
      "outputs": [
        {
          "name": "stdout",
          "output_type": "stream",
          "text": [
            "509\n"
          ]
        }
      ],
      "source": [
        "save_step = len(df_train)//bs//ga_steps*epochs//4\n",
        "print(save_step)"
      ]
    },
    {
      "cell_type": "code",
      "execution_count": null,
      "metadata": {
        "id": "fVsihVR1IyHR",
        "outputId": "a934fbd5-d9b1-4b7b-aa17-fa358a88913a"
      },
      "outputs": [
        {
          "name": "stderr",
          "output_type": "stream",
          "text": [
            "/opt/conda/lib/python3.10/site-packages/transformers/training_args.py:1494: FutureWarning: `evaluation_strategy` is deprecated and will be removed in version 4.46 of 🤗 Transformers. Use `eval_strategy` instead\n",
            "  warnings.warn(\n"
          ]
        }
      ],
      "source": [
        "training_arguments = TrainingArguments(\n",
        "    output_dir=output_dir,\n",
        "    num_train_epochs=epochs,\n",
        "    per_device_train_batch_size=bs,\n",
        "    per_device_eval_batch_size=bs_eval,\n",
        "    evaluation_strategy=\"steps\",\n",
        "    eval_steps=save_step,\n",
        "    gradient_accumulation_steps=ga_steps,\n",
        "    optim=\"paged_adamw_32bit\",\n",
        "    save_steps=save_step,\n",
        "    save_strategy=\"steps\",\n",
        "    logging_steps=save_step,\n",
        "    learning_rate=lr,\n",
        "    weight_decay=0.001,\n",
        "    fp16=False,\n",
        "    bf16=True,\n",
        "    max_grad_norm=0.3,\n",
        "    max_steps=-1,\n",
        "    warmup_ratio=0.03,\n",
        "    group_by_length=True,\n",
        "    lr_scheduler_type=\"constant\",\n",
        "    report_to=\"none\",\n",
        "    save_total_limit=1,\n",
        "    #load_best_model_at_end=True\n",
        ")"
      ]
    },
    {
      "cell_type": "markdown",
      "metadata": {
        "id": "lpDFiyjaIyHR"
      },
      "source": [
        "## Create trainer"
      ]
    },
    {
      "cell_type": "code",
      "execution_count": null,
      "metadata": {
        "colab": {
          "referenced_widgets": [
            "42492bdfa24a4117b7f11c75270b5767",
            "0dc003619c514ba99a073a6dc726c753"
          ]
        },
        "id": "vA-CgnK8IyHR",
        "outputId": "70be2e7b-0b55-4f42-aed5-3e908cc06219"
      },
      "outputs": [
        {
          "name": "stderr",
          "output_type": "stream",
          "text": [
            "/opt/conda/lib/python3.10/site-packages/huggingface_hub/utils/_deprecation.py:100: FutureWarning: Deprecated argument(s) used in '__init__': max_seq_length. Will not be supported from version '1.0.0'.\n",
            "\n",
            "Deprecated positional argument(s) used in SFTTrainer, please use the SFTConfig to set these arguments instead.\n",
            "  warnings.warn(message, FutureWarning)\n",
            "/opt/conda/lib/python3.10/site-packages/transformers/training_args.py:1494: FutureWarning: `evaluation_strategy` is deprecated and will be removed in version 4.46 of 🤗 Transformers. Use `eval_strategy` instead\n",
            "  warnings.warn(\n",
            "/opt/conda/lib/python3.10/site-packages/transformers/training_args.py:1961: FutureWarning: `--push_to_hub_token` is deprecated and will be removed in version 5 of 🤗 Transformers. Use `--hub_token` instead.\n",
            "  warnings.warn(\n",
            "/opt/conda/lib/python3.10/site-packages/trl/trainer/sft_trainer.py:269: UserWarning: You passed a `max_seq_length` argument to the SFTTrainer, the value you passed will override the one in the `SFTConfig`.\n",
            "  warnings.warn(\n"
          ]
        },
        {
          "data": {
            "application/vnd.jupyter.widget-view+json": {
              "model_id": "42492bdfa24a4117b7f11c75270b5767",
              "version_major": 2,
              "version_minor": 0
            },
            "text/plain": [
              "Map:   0%|          | 0/8144 [00:00<?, ? examples/s]"
            ]
          },
          "metadata": {},
          "output_type": "display_data"
        },
        {
          "data": {
            "application/vnd.jupyter.widget-view+json": {
              "model_id": "0dc003619c514ba99a073a6dc726c753",
              "version_major": 2,
              "version_minor": 0
            },
            "text/plain": [
              "Map:   0%|          | 0/2036 [00:00<?, ? examples/s]"
            ]
          },
          "metadata": {},
          "output_type": "display_data"
        },
        {
          "name": "stderr",
          "output_type": "stream",
          "text": [
            "Detected kernel version 5.4.0, which is below the recommended minimum of 5.5.0; this can cause the process to hang. It is recommended to upgrade the kernel to the minimum version or higher.\n"
          ]
        }
      ],
      "source": [
        "trainer = SFTTrainer(\n",
        "    model=model,\n",
        "    train_dataset=dataset[\"train\"],\n",
        "    eval_dataset=dataset[\"validation\"],\n",
        "    peft_config=peft_config,\n",
        "    max_seq_length= 128,\n",
        "    #dataset_text_field=[\"input\", \"output\"],\n",
        "    tokenizer=tokenizer,\n",
        "    args=training_arguments,\n",
        "    packing= False,\n",
        "    formatting_func = formatting_prompts_func,\n",
        "    #data_collator=collator\n",
        ")"
      ]
    },
    {
      "cell_type": "markdown",
      "metadata": {
        "id": "SbKeEL3MIyHR"
      },
      "source": [
        "# Train"
      ]
    },
    {
      "cell_type": "code",
      "execution_count": null,
      "metadata": {
        "id": "55lp38jJIyHR",
        "outputId": "ba39d0df-8d0d-4dfd-e8a9-dd6e94bb3347"
      },
      "outputs": [
        {
          "data": {
            "text/html": [
              "\n",
              "    <div>\n",
              "      \n",
              "      <progress value='2036' max='2036' style='width:300px; height:20px; vertical-align: middle;'></progress>\n",
              "      [2036/2036 10:49, Epoch 4/4]\n",
              "    </div>\n",
              "    <table border=\"1\" class=\"dataframe\">\n",
              "  <thead>\n",
              " <tr style=\"text-align: left;\">\n",
              "      <th>Step</th>\n",
              "      <th>Training Loss</th>\n",
              "      <th>Validation Loss</th>\n",
              "    </tr>\n",
              "  </thead>\n",
              "  <tbody>\n",
              "    <tr>\n",
              "      <td>509</td>\n",
              "      <td>0.602900</td>\n",
              "      <td>0.541972</td>\n",
              "    </tr>\n",
              "    <tr>\n",
              "      <td>1018</td>\n",
              "      <td>0.479900</td>\n",
              "      <td>0.508893</td>\n",
              "    </tr>\n",
              "    <tr>\n",
              "      <td>1527</td>\n",
              "      <td>0.414700</td>\n",
              "      <td>0.507738</td>\n",
              "    </tr>\n",
              "    <tr>\n",
              "      <td>2036</td>\n",
              "      <td>0.359800</td>\n",
              "      <td>0.519350</td>\n",
              "    </tr>\n",
              "  </tbody>\n",
              "</table><p>"
            ],
            "text/plain": [
              "<IPython.core.display.HTML object>"
            ]
          },
          "metadata": {},
          "output_type": "display_data"
        },
        {
          "data": {
            "text/plain": [
              "TrainOutput(global_step=2036, training_loss=0.46430372676587056, metrics={'train_runtime': 649.7591, 'train_samples_per_second': 50.136, 'train_steps_per_second': 3.133, 'total_flos': 5.89094787280896e+16, 'train_loss': 0.46430372676587056, 'epoch': 4.0})"
            ]
          },
          "execution_count": 36,
          "metadata": {},
          "output_type": "execute_result"
        }
      ],
      "source": [
        "trainer.train()"
      ]
    },
    {
      "cell_type": "markdown",
      "metadata": {
        "id": "O3pjrgOMIyHS"
      },
      "source": [
        "# Eval\n",
        "- If you save the model to the output_dir folder, the training code above will automatically save the model to output_dir/checkpoint-{save_step} (in my case: out/checkpoint-2036). We will load the model from this folder:\n",
        "  - I calculate _id = save_step * num_epoch = 509 * 4 = 2036\n",
        "  - My model will saved at \"{output_dir}/checkpoint-{_id}\"\n",
        "- I use del model, gc.collect() and torch.cuda.empty_cache() to release trained model (save gpu memory).\n",
        "- We use PeftConfig.from_pretrained to lead peft config (this is the same as peft config at training)\n",
        "- we load pretrained model like before.\n",
        "- We load the tokenizer in this folder by passing the saved folder to AutoTokenizer.from_pretrained()\n",
        "- We use PeftModel.from_pretrained(model, peft_model_id) to merge pre-trained model with finetuned lora model (note that when we use peft lora, training code only saves lora model, this saves our storage and saving time)"
      ]
    },
    {
      "cell_type": "code",
      "execution_count": null,
      "metadata": {
        "id": "f6afZigtIyHS",
        "outputId": "cba45cd3-9160-407f-df4b-f88e63764f78"
      },
      "outputs": [
        {
          "name": "stdout",
          "output_type": "stream",
          "text": [
            "509\n"
          ]
        }
      ],
      "source": [
        "save_step = len(df_train)//bs//ga_steps*epochs//4\n",
        "print(save_step)"
      ]
    },
    {
      "cell_type": "code",
      "execution_count": null,
      "metadata": {
        "id": "JUtzk-S6IyHS"
      },
      "outputs": [],
      "source": [
        "import gc\n",
        "\n",
        "del model\n",
        "gc.collect()\n",
        "torch.cuda.empty_cache()"
      ]
    },
    {
      "cell_type": "code",
      "execution_count": null,
      "metadata": {
        "colab": {
          "referenced_widgets": [
            "0f1c4797eedf4a0c84d79f845e5b02b2"
          ]
        },
        "id": "ELYwk1ugIyHS",
        "outputId": "1df7a238-8323-4ad9-a457-27dc47299aca"
      },
      "outputs": [
        {
          "data": {
            "application/vnd.jupyter.widget-view+json": {
              "model_id": "0f1c4797eedf4a0c84d79f845e5b02b2",
              "version_major": 2,
              "version_minor": 0
            },
            "text/plain": [
              "Loading checkpoint shards:   0%|          | 0/2 [00:00<?, ?it/s]"
            ]
          },
          "metadata": {},
          "output_type": "display_data"
        },
        {
          "name": "stderr",
          "output_type": "stream",
          "text": [
            "Special tokens have been added in the vocabulary, make sure the associated word embeddings are fine-tuned or trained.\n"
          ]
        }
      ],
      "source": [
        "from peft import PeftModel, PeftConfig\n",
        "from transformers import AutoModelForCausalLM, AutoTokenizer\n",
        "import torch\n",
        "\n",
        "_id = save_step*4\n",
        "\n",
        "peft_model_id = f\"{output_dir}/checkpoint-{_id}\"\n",
        "\n",
        "config = PeftConfig.from_pretrained(peft_model_id)\n",
        "\n",
        "# bnb_config = BitsAndBytesConfig(\n",
        "#     load_in_4bit=True,\n",
        "#     bnb_4bit_use_double_quant=False,\n",
        "#     bnb_4bit_quant_type=\"nf4\",\n",
        "#     bnb_4bit_compute_dtype=torch.float16,\n",
        "# )\n",
        "\n",
        "model = AutoModelForCausalLM.from_pretrained(\n",
        "    modelpath,\n",
        "    device_map=\"auto\",\n",
        "    #torch_dtype=torch.float16,\n",
        "    torch_dtype=torch.bfloat16,\n",
        "    #quantization_config=bnb_config,\n",
        "    attn_implementation=\"flash_attention_2\",\n",
        "    trust_remote_code=True,\n",
        "    token = 'YOUR TOKEN HERE'\n",
        ")\n",
        "\n",
        "tokenizer = AutoTokenizer.from_pretrained(f\"{output_dir}/checkpoint-{_id}\",\n",
        "                                          trust_remote_code=True,\n",
        "                                          padding_side='left',\n",
        "                                          token='YOUR TOKEN HERE')\n",
        "\n",
        "# Load the Lora model\n",
        "model = PeftModel.from_pretrained(model, peft_model_id)"
      ]
    },
    {
      "cell_type": "code",
      "execution_count": null,
      "metadata": {
        "id": "ihcSnZD_IyHS"
      },
      "outputs": [],
      "source": [
        "def create_prompt(input_, output_):\n",
        "    output_ = 'A. Positive' if output_ == 'positive' else 'B. Neutral' if output_ == 'neutral' else 'C. Negative'\n",
        "        #text = f\"### Question: {input__}\\n ### Answer: {example['output'][i]}\"\n",
        "    text = f'''{input_}\n",
        "A. Positive\n",
        "B. Neutral\n",
        "C. Negative\n",
        "\n",
        "The correct answer is'''\n",
        "\n",
        "    return text"
      ]
    },
    {
      "cell_type": "code",
      "execution_count": null,
      "metadata": {
        "id": "nTV9Zfo2IyHS",
        "outputId": "87d20d57-2af7-4295-dcf9-a2c28fb7d763"
      },
      "outputs": [
        {
          "name": "stdout",
          "output_type": "stream",
          "text": [
            "The sentiment of this comment: \"món ăn rất ngon\" is\n",
            "A. Positive\n",
            "B. Neutral\n",
            "C. Negative\n",
            "\n",
            "The correct answer is\n"
          ]
        }
      ],
      "source": [
        "sentence = 'món ăn rất ngon'\n",
        "input_ = f'''The sentiment of this comment: \"{sentence}\" is'''\n",
        "prompt = create_prompt(input_, \"\")\n",
        "print(prompt)"
      ]
    },
    {
      "cell_type": "code",
      "execution_count": null,
      "metadata": {
        "id": "yEX2ldieIyHS",
        "outputId": "06776938-1b2b-435e-fb14-2bb9aae6a79b"
      },
      "outputs": [
        {
          "data": {
            "text/plain": [
              "tensor([[    1,   450, 19688,   310,   445,  3440, 29901,   376, 29885,   888,\n",
              "         29871, 30035, 29876,   364, 31145, 29873,  8736,   265, 29908,   338,\n",
              "            13, 29909, 29889, 10321,  3321,    13, 29933, 29889,  2448,   329,\n",
              "          1705,    13, 29907, 29889, 12610,  1230,    13,    13,  1576,  1959,\n",
              "          1234,   338]])"
            ]
          },
          "execution_count": 42,
          "metadata": {},
          "output_type": "execute_result"
        }
      ],
      "source": [
        "inputs = torch.tensor([tokenizer.encode(prompt)])\n",
        "inputs"
      ]
    },
    {
      "cell_type": "code",
      "execution_count": null,
      "metadata": {
        "id": "1PH94ChIIyHT"
      },
      "outputs": [],
      "source": [
        "tokens = model.generate(\n",
        "    inputs.to(model.device),\n",
        "    max_new_tokens=50,\n",
        "    temperature=0.1,\n",
        "    do_sample=True\n",
        ")"
      ]
    },
    {
      "cell_type": "code",
      "execution_count": null,
      "metadata": {
        "id": "FGQBveZaIyHT",
        "outputId": "49bdc786-6eb0-4271-8f8a-98187956b4aa"
      },
      "outputs": [
        {
          "name": "stdout",
          "output_type": "stream",
          "text": [
            "<s> The sentiment of this comment: \"món ăn rất ngon\" is\n",
            "A. Positive\n",
            "B. Neutral\n",
            "C. Negative\n",
            "\n",
            "The correct answer is B. Neutral.\n",
            "\n",
            "The comment \"Thầy rất tận tâm và nhiệt tình giảng dạy.\" is\n",
            "A. Positive\n",
            "B. Ne\n"
          ]
        }
      ],
      "source": [
        "print(tokenizer.decode(tokens[0], skip_special_tokens=False))"
      ]
    },
    {
      "cell_type": "code",
      "execution_count": null,
      "metadata": {
        "id": "15mj7h2SIyHT",
        "outputId": "3cfd9b97-7f9e-406b-9424-315733184ec4"
      },
      "outputs": [
        {
          "name": "stdout",
          "output_type": "stream",
          "text": [
            "<s> The sentiment of this comment: \"món ăn rất ngon\" is\n",
            "A. Positive\n",
            "B. Neutral\n",
            "C. Negative\n",
            "\n",
            "The correct answer is B. Neutral\n"
          ]
        },
        {
          "name": "stderr",
          "output_type": "stream",
          "text": [
            "/opt/conda/lib/python3.10/site-packages/transformers/generation/configuration_utils.py:540: UserWarning: `do_sample` is set to `False`. However, `temperature` is set to `0.1` -- this flag is only used in sample-based generation modes. You should set `do_sample=True` or unset `temperature`.\n",
            "  warnings.warn(\n"
          ]
        }
      ],
      "source": [
        "tokens = model.generate(\n",
        "    inputs.to(model.device),\n",
        "    max_new_tokens=5,\n",
        "    temperature=0.1,\n",
        "    do_sample=False\n",
        ")\n",
        "print(tokenizer.decode(tokens[0], skip_special_tokens=False))"
      ]
    },
    {
      "cell_type": "code",
      "execution_count": null,
      "metadata": {
        "id": "8xNdDTXhIyHT",
        "outputId": "4e0de4e7-4274-4319-dc4a-06e64f37ad4c"
      },
      "outputs": [
        {
          "name": "stdout",
          "output_type": "stream",
          "text": [
            "0 100.0 0:00:00.175634 0:00:00.175636\n",
            "100 90.0990099009901 0:00:17.732860 0:00:00.175573\n",
            "200 86.06965174129353 0:00:35.411545 0:00:00.176177\n",
            "300 85.38205980066445 0:00:52.919201 0:00:00.175811\n",
            "400 83.54114713216958 0:01:10.508683 0:00:00.175832\n",
            "500 84.63073852295409 0:01:28.156922 0:00:00.175962\n",
            "600 84.8585690515807 0:01:45.914910 0:00:00.176231\n",
            "700 84.59343794579172 0:02:03.466465 0:00:00.176129\n",
            "800 84.76903870162296 0:02:21.004927 0:00:00.176036\n",
            "900 85.23862375138734 0:02:38.580991 0:00:00.176006\n",
            "1000 85.21478521478521 0:02:56.346342 0:00:00.176170\n",
            "1100 85.1952770208901 0:03:13.941590 0:00:00.176150\n",
            "1200 84.17985012489592 0:03:31.588979 0:00:00.176177\n",
            "1300 84.78093774019985 0:03:49.275507 0:00:00.176230\n",
            "1400 84.86795146324054 0:04:06.862447 0:00:00.176204\n",
            "1500 84.94337108594272 0:04:24.444146 0:00:00.176179\n",
            "1600 84.57214241099314 0:04:41.961426 0:00:00.176116\n",
            "1700 84.77366255144034 0:04:59.660889 0:00:00.176167\n",
            "1800 84.95280399777901 0:05:17.301308 0:00:00.176181\n",
            "1900 84.9026827985271 0:05:34.885396 0:00:00.176163\n",
            "2000 84.55772113943029 0:05:52.521781 0:00:00.176173\n"
          ]
        }
      ],
      "source": [
        "from datetime import datetime\n",
        "\n",
        "start = datetime.now()\n",
        "\n",
        "prediction = []\n",
        "response = []\n",
        "accuracy = []\n",
        "labels = []\n",
        "\n",
        "for i, x in df_test.iterrows():\n",
        "    sentence = x['sentence']\n",
        "    label = x['sentiment']\n",
        "    input_ = f'''The sentiment of this comment: \"{sentence}\" is'''\n",
        "    prompt = create_prompt(input_, label)\n",
        "\n",
        "    inputs = tokenizer.encode(\n",
        "        prompt,\n",
        "        # add_generation_prompt=True,\n",
        "        return_tensors='pt'\n",
        "    )\n",
        "\n",
        "    tokens = model.generate(\n",
        "        inputs.to(model.device),\n",
        "        max_new_tokens=5,\n",
        "        temperature=0.1,\n",
        "        do_sample=False,\n",
        "        pad_token_id=tokenizer.eos_token_id\n",
        "    )\n",
        "    #break\n",
        "\n",
        "    answer = tokenizer.decode(tokens[0], skip_special_tokens=False).split(\"The correct answer is \")[-1]\n",
        "    answer = 'positive' if 'positive' in answer.lower() else 'negative' if 'negative' in answer.lower() else 'neutral'\n",
        "    prediction.append(answer.lower())\n",
        "    response.append(tokenizer.decode(tokens[0], skip_special_tokens=False))\n",
        "\n",
        "    accuracy.append(prediction[-1] == label)\n",
        "    labels.append(label)\n",
        "\n",
        "    if i % 100 == 0:\n",
        "        print(i, np.array(accuracy).sum()/len(prediction)*100, datetime.now() - start, (datetime.now() - start)/len(prediction))"
      ]
    },
    {
      "cell_type": "code",
      "execution_count": null,
      "metadata": {
        "id": "7zrTmpH4IyHT",
        "outputId": "ec0c76b1-59cb-4e05-c761-d349190fccb3"
      },
      "outputs": [
        {
          "name": "stdout",
          "output_type": "stream",
          "text": [
            "              precision    recall  f1-score   support\n",
            "\n",
            "    negative     0.9809    0.9738    0.9773       686\n",
            "     neutral     0.8193    0.6836    0.7453       670\n",
            "    positive     0.7450    0.8721    0.8035       680\n",
            "\n",
            "    accuracy                         0.8443      2036\n",
            "   macro avg     0.8484    0.8431    0.8421      2036\n",
            "weighted avg     0.8489    0.8443    0.8429      2036\n",
            "\n"
          ]
        }
      ],
      "source": [
        "from sklearn.metrics import classification_report, f1_score\n",
        "import sklearn\n",
        "\n",
        "print(sklearn.metrics.classification_report(labels, prediction, digits=4))"
      ]
    },
    {
      "cell_type": "markdown",
      "metadata": {
        "id": "Aaxlk9VAIyHT"
      },
      "source": [
        "# Check results\n",
        "- I print all sentences have wrong prediction and see that almost cases is bug.\n",
        "- Conclusion, dataset is not clean than finetune LLM can't better than finetune roberta (~89..90%), because roberta will overfit even in test dataset.\n",
        "- In additionally, when I print example: \"món ăn này rất ngon\", we can see that model before finetune work better. Model after finetune only think about school (because finetune dataset is about school) and it don't know about food review. Than I think we only need finetune for special cases and finetune dataset need be clean and large enough."
      ]
    },
    {
      "cell_type": "code",
      "execution_count": null,
      "metadata": {
        "id": "f_iC8oEzIyHU"
      },
      "outputs": [],
      "source": [
        "df_test['predict'] = prediction"
      ]
    },
    {
      "cell_type": "code",
      "execution_count": null,
      "metadata": {
        "id": "Cy2eyv0qIyHU",
        "outputId": "171743e5-2af5-489e-8a8a-048cdb985f2d"
      },
      "outputs": [
        {
          "name": "stdout",
          "output_type": "stream",
          "text": [
            "Giảng viên rất tài năng và có nhiều kinh nghiệm trong công tác giảng dạy. positive neutral\n",
            "Được học tập với các giáo viên giàu kinh nghiệm và thực tiễn. positive neutral\n",
            "Hệ thống hỗ trợ học tập trực tuyến rất tốt. positive neutral\n",
            "Chị ấy rất giỏi quản lý thời gian và luôn hoàn thành công việc đúng tiến độ. positive neutral\n",
            "Anh ấy có một tầm nhìn đỉnh cao và khả năng giải quyết vấn đề tốt. positive neutral\n",
            "Các cửa hàng tiện lợi gần đó thường xuyên được mở cửa cho sinh viên. positive neutral\n",
            "Có nhiều hoạt động ngoại khóa và phong phú cho sinh viên. neutral positive\n",
            "Sân cỏ của trường được tu bổ và định hướng riêng cho các hoạt động thể thao. positive neutral\n",
            "Cậu bạn này rất tập trung và cẩn trọng. positive neutral\n",
            "Phòng học được trang bị đầy đủ tiện nghi giúp sinh viên luôn dễ dàng tiếp cận tài liệu và thông tin liên quan. positive neutral\n",
            "Thầy dạy rất chuyên nghiệp và nhiệt tình. neutral positive\n",
            "Đại học này có nhiều hội thảo và khóa tập huấn giúp sinh viên trau dồi kiến thức và kỹ năng. neutral positive\n",
            "Các khu vực để tập thể dục trong trường rất đa dạng và thuận tiện. positive neutral\n",
            "Thầy/cô giảng cẩn thận, đầy đủ kiến thức và kinh nghiệm. positive neutral\n",
            "Các phòng thí nghiệm được trang bị đầy đủ các thiết bị cần thiết. positive neutral\n",
            "Cô ấy là một người rất chủ động và năng động. positive neutral\n",
            "Thầy/cô đánh giá và đề xuất những ý kiến xây dựng tích cực giúp sinh viên phát triển hơn. neutral positive\n",
            "Giảng viên này có tâm huyết công việc và đam mê với nghề giảng dạy. neutral positive\n",
            "Hệ thống thư viện và tài nguyên học tập rất đầy đủ và tiện lợi. positive neutral\n",
            "Chương trình đào tạo có nhiều tính ứng dụng giúp sinh viên tự tin và thành công trong công việc. neutral positive\n",
            "Không gian học tập chuyên nghiệp negative neutral\n",
            "Trường cần có chính sách hỗ trợ chi phí học tập phù hợp cho sinh viên. neutral negative\n",
            "Sinh viên được khuyến khích tham gia các hoạt động trường đoản cú và hội thảo. positive neutral\n",
            "Chương trình đào tạo rất đa dạng về cả nội dung lẫn hình thức đào tạo. neutral positive\n",
            "Trường cung cấp cho tôi nhiều cơ hội học tập trực tuyến và giúp tôi tiết kiệm thời gian. positive neutral\n",
            "Môi trường học tập ô nhiễm, không có không khí trong lành. positive negative\n",
            "Trường đại học cung cấp nhiều chương trình học bổng hỗ trợ cho sinh viên khó khăn kinh tế. neutral positive\n",
            "Khu vực sống động của trường rất thú vị cho sinh viên. positive neutral\n",
            "Thư viện của trường có nhiều tài liệu bổ ích và đa dạng. positive neutral\n",
            "Giảng viên rất am hiểu và từng bước hướng dẫn sinh viên đi đến thành công. positive neutral\n",
            "Thầy giải thích cặn kẽ và dễ hiểu. neutral positive\n",
            "Thầy cô giảng dạy đều rất nhiệt tình và có kinh nghiệm trong lĩnh vực đang giảng dạy. neutral positive\n",
            "Có rất nhiều phòng học tại trường để sinh viên có thể lựa chọn và sử dụng. neutral positive\n",
            "Tôi thích những khu vực xanh tốt cho sức khỏe trong trường của mình. positive neutral\n",
            "Cậu ấy rất nhạy bén và có sức phân tích tốt trong những vấn đề phức tạp. neutral positive\n",
            "Tôi rất ấn tượng với sự trang trí trong trường, chúng tạo cảm giác thoải mái và thư giãn cho sinh viên. positive neutral\n",
            "Lớp học được tổ chức ngắn gọn, thực tế và có tính ứng dụng cao. positive neutral\n",
            "Cô ấy luôn sẵn sàng giúp đỡ và hỗ trợ người khác. positive neutral\n",
            "Cô bạn này rất tự lập và độc lập. positive neutral\n",
            "Tự do để quản lý thời gian học tập. positive neutral\n",
            "Cơ sở hạ tầng ở đây rất đáp ứng nhu cầu học tập của sinh viên. positive neutral\n",
            "Anh ấy rất lịch sự và tôn trọng người khác. positive neutral\n",
            "Cô ấy luôn thể hiện sự nghiêm túc và tâm huyết trong việc học tập và giảng dạy. positive neutral\n",
            "Cô này là người chăm chỉ và có tinh thần trách nhiệm cao. positive neutral\n",
            "Bạn của em là người dễ thương và trẻ trung. positive neutral\n",
            "Chị ấy là người thật sự tận tâm và dành trọn tâm huyết cho công việc. positive neutral\n",
            "Cô ấy rất sáng tạo và nghệ thuật. positive neutral\n",
            "Giáo viên của tôi dạy lí thuyết và thực hành về quyền sở hữu trí tuệ và bảo vệ nhãn hiệu. neutral positive\n",
            "Chương trình đào tạo giúp tôi phát triển mối quan hệ với các sinh viên khác và các giảng viên. neutral positive\n",
            "Tôi rất thích những khu vực xanh trong trường, chúng tạo cảm giác thoải mái và gần gũi với thiên nhiên. positive neutral\n",
            "Nàng có sự tập trung cao độ và luôn đạt được những thành tích tốt. positive neutral\n",
            "Giảng viên luôn truyền đạt những câu hỏi để sinh viên cảm thấy tò mò và quan tâm đến bản thân. positive neutral\n",
            "Một số bạn khá giỏi nhưng lúc làm việc chậm như rùa neutral negative\n",
            "Các khu vực sinh hoạt của trường cần được xây dựng lại để đáp ứng nhu cầu của sinh viên. negative neutral\n",
            "Anh ấy là một người học nhanh và có khả năng tìm kiếm thông tin một cách hiệu quả. positive neutral\n",
            "Thư viện đầy đủ sách vở cần thiết. neutral positive\n",
            "Tôi rất hài lòng với chương trình đào tạo vì có cả các môn học ngắn hạn cho sinh viên. neutral positive\n",
            "Khu vực bắn pháo hoa và mừng lễ quá gần trường, đặc biệt vào dịp Tết Nguyên Đán, dẫn đến ảnh hưởng nghiêm trọng đến việc học của sinh viên. positive negative\n",
            "Các môn học giúp sinh viên phát triển tư duy phản biện và độc lập trong tư duy. neutral positive\n",
            "Tôi rất cảm kích vì sự hỗ trợ của anh ấy. positive neutral\n",
            "Anh ta là một người đáng tin cậy và luôn giữ lời hứa của mình. positive neutral\n",
            "Anh ấy rất thấu hiểu và giúp đỡ những người gặp khó khăn. positive neutral\n",
            "Giảng viên có thể sử dụng nhiều phương pháp giảng dạy khác nhau để thu hút sinh viên học tập. neutral positive\n",
            "Giảng viên nhận xét đánh giá của tôi là chưa đủ chi tiết khi tôi đã cố gắng làm hết. neutral negative\n",
            "Thầy giúp đỡ sinh viên định hướng nghề nghiệp và phát triển bản thân. positive neutral\n",
            "Cô ấy luôn tỏ ra thân thiện và tạo ra không khí làm việc tốt trong nhóm. positive neutral\n",
            "Việc thiếu giảng viên chuyên nghiệp tại một số vùng đất có thể là một nhược điểm của chương trình. negative neutral\n",
            "Tôi rất thích lối thiết kế và trang trí của trường, nó cực kỳ ấn tượng và sáng tạo. positive neutral\n",
            "Lớp học được đưa ra một cách sinh động, hấp dẫn và đầy đủ kiến thức chuyên môn. positive neutral\n",
            "Giảng viên hướng dẫn giỏi với lượng kinh nghiệm thực tiễn phong phú. neutral positive\n",
            "Thầy cung cấp cho chúng tôi nhiều tài liệu và bài giảng hữu ích. neutral positive\n",
            "Em thấy bạn của mình rất nhanh nhẹn và chăm chỉ học. positive neutral\n",
            "Đội ngũ giảng viên chuyên nghiệp và thân thiện. neutral positive\n",
            "Cách đánh giá và phương pháp giảng dạy của trường rất khuyến khích và tạo động lực cho học sinh. neutral positive\n",
            "Thầy giảng dạy rất chu đáo và chuyên nghiệp. neutral positive\n",
            "Giáo viên rất nhiệt tình và giúp đỡ sinh viên trong quá trình học tập. positive neutral\n",
            "Bạn của tôi là người rất duyên dáng và sành điệu. positive neutral\n",
            "Anh ấy là một người học tập tích cực và đam mê trong việc tìm hiểu kiến thức mới. positive neutral\n",
            "Học phí tăng một cách không đáng kể, không đáp ứng giá trị của chương trình đào tạo. neutral negative\n",
            "Cơ sở vật chất của trường được trang bị hiện đại và chất lượng. positive neutral\n",
            "Anh ấy luôn có những ý tưởng khác biệt với những người khác trong nhóm. neutral negative\n",
            "Cô bạn này rất chăm chỉ học tập. positive neutral\n",
            "Thầy là một giảng viên rất giỏi trong việc truyền đạt kiến thức và kỹ năng cho sinh viên. positive neutral\n",
            "Bạn của tôi rất chăm chỉ và luôn đúng giờ. positive neutral\n",
            "Trường đại học có những khuôn viên xanh rất đẹp và thoáng mát. positive neutral\n",
            "Cô ấy rất năng động và thân thiện đối với mọi người trong lớp. positive neutral\n",
            "Anh ấy là một người giỏi về công nghệ và có khả năng giải quyết vấn đề kỹ thuật. positive neutral\n",
            "Anh bạn cùng lớp rất hòa đồng và dễ gần. positive neutral\n",
            "Chương trình đào tạo giúp tôi trang bị những kỹ năng mềm cần thiết để thành công trong tương lai. positive neutral\n",
            "Công nghệ và trang thiết bị của đại học tốt hơn so với nhiều trường khác. positive neutral\n",
            "Giảng viên này dạy rất tốt và truyền cảm hứng cho học sinh. neutral positive\n",
            "Thầy tạo ra môi trường học tập vui vẻ và ấm cúng. positive neutral\n",
            "Đường đi lại trong trường được bố trí rất hợp lý và thuận tiện cho sinh viên. positive neutral\n",
            "Trường luôn giữ gìn sạch sẽ và dễ dàng bảo trì hơn nhờ vào các thiết bị trang trí và cơ sở vật chất. positive neutral\n",
            "Đội ngũ kỹ thuật của trường luôn có mặt để giúp đỡ và giải quyết các vấn đề kỹ thuật cho sinh viên. positive neutral\n",
            "Thầy/cô có khả năng tương tác tốt với sinh viên. positive neutral\n",
            "Đội ngũ nhân viên của trường rất thân thiện và hỗ trợ tận tình. neutral positive\n",
            "Thầy/cô tạo điều kiện thuận lợi cho sinh viên trao đổi và thảo luận ý kiến. positive neutral\n",
            "Chương trình giảng dạy rất phù hợp với nhu cầu của sinh viên. neutral positive\n",
            "Thầy cô đề cao các trẻ em trên hết và mang đến cho chúng ta một môi trường học tập khuyến khích và thân thiện. positive neutral\n",
            "Các khu vực đặt tủ hồ sơ của trường được bảo quản an toàn và chín chu. neutral positive\n",
            "Tôi cảm thấy rất ấm áp và thoải mái khi sử dụng phòng sinh hoạt chung. positive neutral\n",
            "Chương trình học của trường giúp tôi thiết lập kế hoạch học tập cá nhân. positive neutral\n",
            "Thầy có khả năng phát hiện và giải quyết các vấn đề của học viên trong quá trình học tập. neutral positive\n",
            "Giảng viên cập nhật thông tin nhanh chóng và có hiểu biết sâu về thực tế của ngành học. positive neutral\n",
            "Bạn của tôi rất yêu thích những trải nghiệm mới. positive neutral\n",
            "Không gian nội thất của phòng học rất tốt, được thiết kế để giúp tăng sự tập trung của sinh viên. positive neutral\n",
            "Tôi cảm thấy rất cảm kích vì giảng viên của mình luôn sẵn sàng giúp đỡ sinh viên trong bất cứ lúc nào. positive neutral\n",
            "Giảng đường của trường rộng rãi và thoải mái cho việc học tập. positive neutral\n",
            "Tôi rất hài lòng với các phòng học ở đây. positive neutral\n",
            "Giảng viên giúp sinh viên hình thành phương pháp học tập hiệu quả. positive neutral\n",
            "Học tại đây đòi hỏi tôi tính kỷ luật và sự đóng góp sáng tạo. neutral positive\n",
            "Thông tin trường được đăng tải đầy đủ và chi tiết. neutral positive\n",
            "Giáo trình được cập nhật thường xuyên và phù hợp với chương trình học của trường. neutral positive\n",
            "Phòng thực hành có trang thiết bị và công cụ hiện đại. positive neutral\n",
            "Có nhiều tài liệu tham khảo và tài nguyên học tập miễn phí. positive neutral\n",
            "Các phòng thí nghiệm của trường được trang bị đầy đủ thiết bị và công nghệ hiện đại. positive neutral\n",
            "Tôi thật sự đánh giá cao cơ sở vật chất của trường, nó đáp ứng tốt nhu cầu học tập và giải trí của sinh viên. positive neutral\n",
            "Tôi cảm thấy học phí hợp lí với chất lượng đào tạo của trường. neutral positive\n",
            "Chương trình đào tạo giúp tôi có cơ hội học tập và trau dồi kinh nghiệm ngoài lớp học. positive neutral\n",
            "Chương trình đào tạo giúp tôi phát triển những kỹ năng mà tôi cần. positive neutral\n",
            "Môn học tập trung vào việc thực hành và ứng dụng kiến thức vào thực tế. positive neutral\n",
            "Anh ta là một người vui tính và dễ gần. positive neutral\n",
            "Thầy đã giúp tôi có được nhiều kiến thức quan trọng và kỹ năng cần thiết trong công việc. positive neutral\n",
            "Giáo trình rất thực tiễn và đáp ứng được yêu cầu của công việc hiện nay. positive neutral\n",
            "Chương trình học của trường cung cấp cho tôi kiến thức thiết thực và có giá trị. positive neutral\n",
            "Các giảng viên rất tận tâm và nhiệt tình trong việc giảng dạy. neutral positive\n",
            "Đội ngũ nhân viên bảo trì trường luôn hỗ trợ và sử dụng các tiện ích tốt nhất. positive neutral\n",
            "Giảng viên của tôi nói rất rõ và dễ nghe, điều này giúp tôi hiểu được môn học của mình nhanh hơn. positive neutral\n",
            "Giảng viên này là một người rất kiên nhẫn và quan tâm đến sự tiến bộ của học sinh. positive neutral\n",
            "Khu vực khuân viên quanh trường xanh tươi, những tin tức, thông báo của trường được phát trực tiếp, rõ ràng, dễ tiếp cận. positive neutral\n",
            "Các môn học về ứng dụng công nghệ thông tin trong kinh doanh rất hữu ích. positive neutral\n",
            "Bài giảng rất rõ ràng và dễ hiểu. neutral positive\n",
            "Cô bạn này rất hiền lành và tốt bụng. positive neutral\n",
            "Họ luôn dành thời gian cho sinh viên nếu chúng ta có bất kỳ câu hỏi nào. negative neutral\n",
            "Giờ học của thầy rất hiệu quả và cấu trúc. neutral positive\n",
            "Tôi cảm thấy rất vui khi học với giảng viên này. positive neutral\n",
            "Các bài giảng dễ hiểu và hỗ trợ học tập tốt. positive neutral\n",
            "Những bài giảng của giáo viên rất chi tiết và đầy đủ thông tin. neutral positive\n",
            "Chương trình học của trường đặt nhiều giá trị vào đạo đức, tinh thần và giá trị con người. positive neutral\n",
            "Thầy luôn cập nhật kiến thức mới nhất để giảng dạy cho sinh viên. positive neutral\n",
            "Giảng viên này luôn kiểm tra những bài tập tự làm của sinh viên. neutral negative\n",
            "Giảng viên rất tinh tế khi đưa ra các bài giảng sâu sắc. neutral positive\n",
            "Chương trình giảng dạy kết hợp giữa lý thuyết và thực hành tốt. neutral positive\n",
            "Có các hoạt động thể thao và nghệ thuật cho sinh viên tham gia. positive neutral\n",
            "Thầy đưa ra những tài liệu và thí nghiệm thực tế để giúp học sinh học tập tốt hơn. neutral positive\n",
            "Thiết bị và phương tiện giảng dạy của trường cần được nâng cấp. neutral negative\n",
            "Giảng viên này quan tâm đến sự tiến bộ của học sinh và sẵn sàng giải đáp mọi thắc mắc của họ. positive neutral\n",
            "Giảng viên rất dễ tiếp cận và thân thiện, dễ tạo được môi trường học tập tích cực. positive neutral\n",
            "Cô bạn này rất lịch sự và tế nhị. positive neutral\n",
            "Anh ta là người rất năng động và luôn tạo động lực cho người khác. positive neutral\n",
            "Các kiến thức được truyền đạt rõ ràng và dễ tiếp thu. positive neutral\n",
            "Anh ta là một người thân thiện và luôn lắng nghe người khác. positive neutral\n",
            "Cô ấy khá năng động và luôn có ý tưởng sáng tạo. positive neutral\n",
            "Cô giáo của tôi là người rất thông thái và giàu kinh nghiệm. positive neutral\n",
            "Giảng viên có kỹ năng giảng dạy tốt, giúp sinh viên tự tin và hiểu rõ hơn về chủ đề. positive neutral\n",
            "Đại học tôi có nhiều công trình kiến trúc đẹp và ấn tượng. positive neutral\n",
            "Nội dung học phong phú, đa dạng và cập nhật. positive neutral\n",
            "Anh ấy là người luôn dành thời gian cho sự nghiệp và học tập của mình. positive neutral\n",
            "Tôi rất ngưỡng mộ khả năng làm việc của anh ấy. positive neutral\n",
            "Giảng viên rất thông minh và có kiến thức sâu rộng. positive neutral\n",
            "Trường đại học của tôi có nhiều khu vực sinh hoạt chung để sinh viên có cơ hội giao lưu và học hỏi. positive neutral\n",
            "Anh ấy luôn đặt các mục tiêu và hoàn thành chúng một cách tốt đẹp. positive neutral\n",
            "Anh ấy là một người ổn định và có khả năng tập trung vào mục tiêu. positive neutral\n",
            "Anh ấy là một người rất đáng tin cậy, luôn luôn giữ lời hứa. positive neutral\n",
            "Môn học có sức hấp dẫn cao, tạo động lực cho sinh viên học tập. positive neutral\n",
            "Giáo viên của tôi hướng dẫn sinh viên thực hiện các nghiên cứu thị trường và đánh giá sản phẩm. neutral positive\n",
            "Thư viện trường có nhiều chủ đề khác nhau giúp sinh viên tìm được nguồn tài liệu phù hợp với nhu cầu học tập của mình. neutral positive\n",
            "Tôi rất hài lòng với các dịch vụ hỗ trợ của trường, đặc biệt là các dịch vụ tư vấn và tài chính. positive neutral\n",
            "Anh ta có tính cách điềm đạm và không bao giờ hoảng loạn. neutral positive\n",
            "Thầy cung cấp cho sinh viên các tài nguyên và công cụ hỗ trợ giảng dạy hiệu quả. neutral positive\n",
            "Thầy là người giảng dạy giỏi nhất mà tôi từng gặp. positive neutral\n",
            "Trường cung cấp đầy đủ các thông tin và tài liệu cho sinh viên để giúp tôi học tập một cách hiệu quả. neutral positive\n",
            "Trường có cung cấp wifi miễn phí cho sinh viên, giúp các em tiện lợi hơn trong việc truy cập internet. positive neutral\n",
            "Cô ấy có khả năng nắm bắt được ý tưởng mới và thúc đẩy các hoạt động tạo ý tưởng sáng tạo. positive neutral\n",
            "Thầy dạy rất tâm huyết và có nhiều đóng góp cho sự phát triển của sinh viên. positive neutral\n",
            "Có rất nhiều cơ hội để bạn phát triển năng lực không chỉ trong lớp học mà còn ngoài đời thực. positive neutral\n",
            "Khu vực ngồi chờ đợi được trang bị đầy đủ ghế và trang thiết bị giúp sinh viên chờ đợi một cách thoải mái. positive neutral\n",
            "Giảng viên dạy rất có tâm, tận tình giúp đỡ sinh viên khi cần. positive neutral\n",
            "Cô bạn này là một giảng viên tuyệt vời, luôn hỗ trợ và giúp đỡ sinh viên. positive neutral\n",
            "Tôi rất thích cách mà chương trình đào tạo được tổ chức và quản lý. positive neutral\n",
            "Chương trình tiên tiến chưa được triển khai rộng rãi cho sinh viên. negative neutral\n",
            "Hệ thống wifi miễn phí sử dụng thuận tiện. positive neutral\n",
            "Cô ấy là một người rất giỏi trong việc giảng dạy và rất nhiệt tình. positive neutral\n",
            "Anh ấy là một người có khả năng truyền cảm hứng và động viên người khác. positive neutral\n",
            "Chương trình học của trường giúp tôi có cơ hội tham gia các hoạt động ngoại khóa và thể thao. positive neutral\n",
            "Bạn của tôi rất thân thiện. positive neutral\n",
            "Ký túc xá của trường rất tiện nghi và sạch sẽ. positive neutral\n",
            "Cô này là người rất chuyên nghiệp và có kinh nghiệm giảng dạy lâu năm. positive neutral\n",
            "Nơi đây có nhiều phòng thí nghiệm và trang thiết bị cần thiết để hỗ trợ học viên. positive neutral\n",
            "Môn học củ thể chắc chắn sẽ không bao giờ buồn tẻ với thầy. neutral positive\n",
            "Có nhiều vấn đề về thiết bị và hệ thống mạng trong các phòng học. negative neutral\n",
            "Bạn của tôi là người rất năng động và luôn có những ý tưởng mới lạ. positive neutral\n",
            "Trường đại học này là nơi lý tưởng để giao lưu và kết nối với những người bạn mới. positive neutral\n",
            "Cơ sở vật chất tại đại học này đáp ứng tốt nhu cầu học tập của sinh viên. neutral positive\n",
            "Môn học không phù hợp với chuyên ngành cụ thể và độ khó quá cao. negative neutral\n",
            "Anh ấy có trí thông minh sáng suốt và sự nghiệp của anh ấy tuyệt vời. positive neutral\n",
            "Thầy có khả năng dạy học đa dạng để phù hợp với các học sinh có nền tảng kém. neutral positive\n",
            "Có những bạn rất năng động và thích tham gia các hoạt động của trường. positive neutral\n",
            "Bạn sẽ không thể tìm thấy một giảng viên tốt hơn ở bất kỳ nơi nào khác. negative positive\n",
            "Cô ấy có tính cách vui vẻ và thân thiện. positive neutral\n",
            "Giảng viên rất thông minh và am hiểu chuyên ngành. positive neutral\n",
            "Cậu ấy rất quan tâm đến việc học tập và phát triển bản thân. positive neutral\n",
            "Những buổi học thực tế giúp sinh viên hiểu rõ hơn về ngành học. positive neutral\n",
            "Giảng viên là một người có tác phong và phong cách giảng dạy rất chuyên nghiệp. neutral positive\n",
            "Giảng viên này thường đồng ý với ý kiến của những sinh viên giàu kinh nghiệm. neutral negative\n",
            "Giảng viên rất trung thành với vai trò của mình và giảng dạy rất chính xác. neutral positive\n",
            "Giảng viên rất nhiệt tình trong việc trao đổi và thảo luận để giải quyết những khó khăn trong quá trình học tập. neutral positive\n",
            "Học phí rất hợp lý và phù hợp với nhu cầu của sinh viên. neutral positive\n",
            "Giảng viên này luôn đưa ra các ví dụ khó nhằn để học sinh hiểu. neutral negative\n",
            "Giảng viên dạy rất chất lượng và hiệu quả. neutral positive\n",
            "Tôi hi vọng trường tôi sẽ dành nhiều thời gian hơn để cải thiện cơ sở vật chất và nâng cao chất lượng giảng dạy. neutral negative\n",
            "Chương trình đào tạo rất chuyên nghiệp. neutral positive\n",
            "Không giới hạn về thời gian học tập. neutral positive\n",
            "Tôi cảm thấy kiến thức được truyền đạt sâu sắc và có tính ứng dụng cao. positive neutral\n",
            "Bạn của tôi rất tỉ mỉ và lưu ý đến chi tiết. positive neutral\n",
            "Chương trình học phù hợp với yêu cầu của thị trường và đáp ứng được nhu cầu của học viên. neutral positive\n",
            "Trường có các chương trình học bổng và tài trợ giúp đỡ những sinh viên có thành tích học tập cao. positive neutral\n",
            "Tôi cảm thấy chương trình học không thực sự đáp ứng được nhu cầu ngành nghề hiện tại. neutral negative\n",
            "Chương trình đào tạo giúp tôi có cơ hội tiếp cận với các dự án nghiên cứu trong ngành học của mình. positive neutral\n",
            "Học phí được giảm giá cho những sinh viên đăng ký sớm. neutral positive\n",
            "Thầy này tổ chức và quản lý giảng dạy rất tốt. neutral positive\n",
            "Giảng viên này quá đòi hỏi cao về điểm số và đôi khi làm khó học sinh. negative neutral\n",
            "Tôi rất yêu thích không gian của thư viện và các dịch vụ bổ trợ tại đây. positive neutral\n",
            "Công nghệ đang sử dụng trong quá trình giảng dạy chưa đáp ứng được nhu cầu của thời đại. neutral negative\n",
            "Chương trình học rất linh hoạt và có thể phù hợp với nhu cầu của từng sinh viên. neutral positive\n",
            "Giáo viên rất thông minh và nhiệt tình giảng dạy. neutral positive\n",
            "Thầy này lắng nghe học sinh rất chu đáo. neutral positive\n",
            "Giảng viên này không giúp được học sinh đạt được những mục tiêu của họ. negative neutral\n",
            "Trường đặt nhiều ưu tiên cho sự phát triển toàn diện của sinh viên. positive neutral\n",
            "Các giảng viên của trường rất có kinh nghiệm và giỏi chuyên môn. neutral positive\n",
            "Số lượng bài tập và bài kiểm tra quá nhiều so với khả năng của sinh viên. neutral negative\n",
            "Đội ngũ nhân viên ở đây luôn hỗ trợ và đáp ứng mọi nhu cầu của sinh viên. positive neutral\n",
            "Tôi đã được trang bị đầy đủ các tài liệu thư viện cần thiết để học tập và làm bài tập. positive neutral\n",
            "Phòng thí nghiệm ở trường được trang bị đầy đủ thiết bị và máy móc. positive neutral\n",
            "Thầy luôn đưa ra các gợi ý để sinh viên có thể nâng cao năng lực học tập của mình. positive neutral\n",
            "Giảng viên này biết cách tạo ra một sự tương tác tích cực làm cho bài giảng của mình trở nên đầy hứng thú. positive neutral\n",
            "Thầy giảng dạy rất tập trung vào khả năng phát triển của sinh viên hơn là chỉ hướng dẫn kiến thức. positive neutral\n",
            "Đội ngũ giáo viên có nhiều tri thức và kinh nghiệm giúp sinh viên nắm vững kiến thức chuyên môn. neutral positive\n",
            "Các phòng học được đánh giá là không gian rộng rãi và thoải mái. neutral positive\n",
            "Trường đại học này luôn giữ vệ sinh và sửa chữa tốt hệ thống cơ sở vật chất. positive neutral\n",
            "Những kiến thức tôi học được trong chương trình học rất bổ ích cho công việc của tôi sau này. positive neutral\n",
            "Giáo viên chuyên để ý đến những sinh viên xuất sắc, bỏ quên những sinh viên yếu kém. neutral negative\n",
            "Thầy cô luôn gần gũi và dễ tiếp cận với các sinh viên. positive neutral\n",
            "Bạn của tôi rất cởi mở và dễ thương với mọi người. positive neutral\n",
            "Tôi cảm thấy trường đang phát triển và đi theo xu hướng mới nhất trong giáo dục. neutral positive\n",
            "Bãi đỗ xe của trường rộng rãi và an toàn. positive neutral\n",
            "Giảng viên giúp sinh viên phát triển và rèn luyện kỹ năng sáng tạo. positive neutral\n",
            "Giảng viên này là người rất chu đáo và nhiệt tình. positive neutral\n",
            "Các khu vực để giải trí trong trường rất đa dạng và phong phú. positive neutral\n",
            "Phòng học được trang bị sản phẩm đánh giá như máy chiếu, máy tính, tivi, loa, đệm ngồi, ... positive neutral\n",
            "Các hoạt động giáo dục khá đa dạng và phong phú. neutral positive\n",
            "Trường luôn đảm bảo rằng các cơ sở vật chất và trang thiết bị của trường luôn phù hợp với nhu cầu học tập của sinh viên. neutral positive\n",
            "Các bài kiểm tra được thiết kế tốt và công bằng. neutral positive\n",
            "Thầy luôn dạy sinh viên cách tư duy và phát triển kỹ năng. positive neutral\n",
            "Tất cả sinh viên được đón tiếp với cách thức trị nhẹ nhàng và dễ dàng. positive neutral\n",
            "Giảng viên này đôi lúc quên chuyện chính để giải thích những chi tiết không quan trọng. negative neutral\n",
            "Lớp học được tổ chức khoa học, hỗ trợ sinh viên không chỉ giúp học mà còn giúp sinh viên rèn luyện kỹ năng quản lý thời gian. positive neutral\n",
            "Bạn của tôi rất giỏi quản lý thời gian. positive neutral\n",
            "Các giảng viên của trường rất dễ tiếp cận và hỗ trợ cho sinh viên trong quá trình học tập. neutral positive\n",
            "Trường cung cấp rất nhiều thiết bị và phần mềm hữu ích cho việc học tập và nghiên cứu. neutral positive\n",
            "Giảng viên rất thân thiện và có tư duy phản biện cao. neutral positive\n",
            "Cô ấy có khả năng đưa ra quyết định một cách đúng đắn và hiệu quả. neutral positive\n",
            "Cô giảng viên rất ủng hộ và khuyến khích sinh viên phát triển tài năng. positive neutral\n",
            "Các giảng viên đều rất am hiểu trong lĩnh vực của mình. neutral positive\n",
            "Có sự tư vấn và hỗ trợ để chuẩn bị cho thực tập, tìm kiếm việc làm sau khi tốt nghiệp. positive neutral\n",
            "Giáo trình rất thú vị và độc đáo, giúp tôi học được nhiều thứ mới lạ. positive neutral\n",
            "Khuôn viên đất nền rộng rãi và khá yên tĩnh. neutral positive\n",
            "Thầy dạy rất cẩn thận và tỉ mỉ, luôn chú ý từng chi tiết. positive neutral\n",
            "Thầy truyền cảm hứng và động viên các sinh viên có hoàn cảnh khó khăn. positive neutral\n",
            "Cô ấy rất thoải mái và tự tin trong giao tiếp đa dạng với người khác giới. positive neutral\n",
            "Anh ấy có tinh thần lạc quan và luôn giữ vững niềm tin vào bản thân. positive neutral\n",
            "Các phòng học được trang bị máy chiếu đầy đủ giúp giảng viên giảng dạy tốt hơn. neutral positive\n",
            "Giảng viên này đưa ra các ví dụ rất thực tế và hữu ích để giúp tôi hiểu bài học. neutral positive\n",
            "Anh ấy là người hỗ trợ rất tốt cho các bạn trong lớp. positive neutral\n",
            "Tôi thấy anh chàng này rất tâm lý và chú ý đến tình hình xung quanh. positive neutral\n",
            "Giảng viên này rất thích hợp trong việc giảng dạy cho học sinh đam mê chuyên môn này. positive neutral\n",
            "Giảng viên rất thân thiện và tạo không khí học tập tích cực cho sinh viên. positive neutral\n",
            "Thầy đưa ra những phương pháp dạy học hiệu quả và hữu ích cho sinh viên. neutral positive\n",
            "Cô ấy có tài giao tiếp tốt và thân thiện với những người xung quanh. positive neutral\n",
            "Tôi rất hài lòng với chương trình học nơi đây. positive neutral\n",
            "Bạn của em là người rất cá tính và không sợ thể hiện bản thân. positive neutral\n",
            "Cô ấy có phong cách dạy học vô cùng sáng tạo và thú vị. positive neutral\n",
            "Anh ta luôn có tinh thần học hỏi và mở đầu với những kiến thức mới. positive neutral\n",
            "Các buổi học được tổ chức chặt chẽ và có sự chuẩn bị kỹ lưỡng. neutral positive\n",
            "Nàng có tinh thần cởi mở và đồng cảm với người khác. positive neutral\n",
            "Giảng viên dạy rất hay và dễ hiểu. neutral positive\n",
            "Cô ấy là người có cá tính và luôn sáng tạo. positive neutral\n",
            "Tôi không thể tưởng tượng được môi trường học tập sẽ như thế nếu không có thầy/cô. negative positive\n",
            "Cậu ấy tích cực và nhiệt tình trong các hoạt động đại hội SV. positive neutral\n",
            "Tôi đã học được kỹ năng cần thiết cho sự nghiệp của mình từ giảng viên này. positive neutral\n",
            "Anh ấy rất tiếp thu được những kiến thức mới một cách nhanh chóng. positive neutral\n",
            "Phòng học được bố trí đồng nhất và gọn gàng, giúp cho sinh viên học tập tập trung hơn. positive neutral\n",
            "Giảng viên không thường xuyên liên hệ với sinh viên sau khi họ kết thúc môn học. negative neutral\n",
            "Có rất nhiều bạn học tốt và tích cực tham gia vào các hoạt động của trường. positive neutral\n",
            "Tất cả những gì họ quan tâm đến chính là tiền bạc. neutral negative\n",
            "Chương trình học của trường giúp tôi có cơ hội học tập và nghiên cứu với những giảng viên hàng đầu trong ngành của mình. positive neutral\n",
            "Giảng viên rất đáng kính và được sinh viên yêu mến đặc biệt. positive neutral\n",
            "Chương trình học giúp tôi hiểu rõ hơn về nền tảng của ngành nghề tương lai. positive neutral\n",
            "Thầy rất năng động, giúp sinh viên tập trung vào học tập một cách hiệu quả. positive neutral\n",
            "Giáo viên luôn đặt mình vào tâm trạng và khó khăn của học sinh. neutral positive\n",
            "Chất lượng giảng dạy của trường tôi rất tốt trong đó giáo viên là một phần quan trọng. neutral positive\n",
            "Tôi rất ngưỡng mộ sự kiên trì của bạn ấy. positive neutral\n",
            "Giảng viên mang lại kinh nghiệm thực tế cho học sinh. neutral positive\n",
            "Hệ thống rạp chiếu phim và trung tâm giải trí nâng cao sinh hoạt văn hóa cho sinh viên. positive neutral\n",
            "Trường có các khu vực giải trí, phòng chơi game, thư giãn cho sinh viên. positive neutral\n",
            "Phương pháp dạy học thiết thực và có tính ứng dụng cao. neutral positive\n",
            "Các khu vực phục vụ ăn uống rộng rãi và thoải mái cho sinh viên. positive neutral\n",
            "Nhiều bạn xử lý tình huống khó khăn một cách thông minh và khéo léo trong lớp học. positive neutral\n",
            "Nhân viên phục vụ trường luôn sáng suốt, vui vẻ, nhiệt tình hỗ trợ sinh viên mọi khi cần thiết positive neutral\n",
            "Tài liệu học tập nhiệt tình và đầy trải nghiệm thực tế. positive neutral\n",
            "Các bài học được thiết kế tối ưu cho việc học trực tuyến. neutral positive\n",
            "Các khu vực cấm hút thuốc được thiết kế và bố trí để đảm bảo không khí trong lành. neutral positive\n",
            "Tôi cảm thấy rất tiếc khi thời gian học tập tại trường của tôi kết thúc. neutral positive\n",
            "Cậu ấy rất có kỹ năng về sáng tạo và nghệ thuật. positive neutral\n",
            "Giảng viên này không nhàm chán. neutral negative\n",
            "Anh ta là một người rất tỉ mỉ và cẩn thận. positive neutral\n"
          ]
        }
      ],
      "source": [
        "for i, row in df_test.iterrows():\n",
        "    if row['predict'] != row['sentiment']:\n",
        "        print(row['sentence'], row['predict'], row['sentiment'])"
      ]
    },
    {
      "cell_type": "code",
      "execution_count": null,
      "metadata": {
        "id": "C59SEWloIyHU"
      },
      "outputs": [],
      "source": []
    },
    {
      "cell_type": "code",
      "execution_count": null,
      "metadata": {
        "id": "0bmpm_tEIyHU"
      },
      "outputs": [],
      "source": []
    }
  ],
  "metadata": {
    "kaggle": {
      "accelerator": "gpu",
      "dataSources": [
        {
          "datasetId": 3052448,
          "sourceId": 5245967,
          "sourceType": "datasetVersion"
        }
      ],
      "dockerImageVersionId": 30733,
      "isGpuEnabled": true,
      "isInternetEnabled": true,
      "language": "python",
      "sourceType": "notebook"
    },
    "kernelspec": {
      "display_name": "Python 3 (ipykernel)",
      "language": "python",
      "name": "python3"
    },
    "language_info": {
      "codemirror_mode": {
        "name": "ipython",
        "version": 3
      },
      "file_extension": ".py",
      "mimetype": "text/x-python",
      "name": "python",
      "nbconvert_exporter": "python",
      "pygments_lexer": "ipython3",
      "version": "3.10.13"
    },
    "colab": {
      "provenance": [],
      "toc_visible": true
    }
  },
  "nbformat": 4,
  "nbformat_minor": 0
}