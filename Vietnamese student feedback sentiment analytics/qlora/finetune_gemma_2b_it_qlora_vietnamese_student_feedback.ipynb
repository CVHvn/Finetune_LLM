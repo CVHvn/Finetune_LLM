{
  "cells": [
    {
      "cell_type": "markdown",
      "metadata": {
        "_cell_guid": "b1076dfc-b9ad-4769-8c92-a6c4dae69d19",
        "_uuid": "8f2839f25d086af736a60e9eeb907d3b93b6e0e5",
        "id": "Km7VRD7_ks6j"
      },
      "source": [
        "# Install library"
      ]
    },
    {
      "cell_type": "code",
      "execution_count": null,
      "metadata": {
        "id": "f_bDHuiIks6k",
        "outputId": "def307df-859c-4b33-c756-10350d4f8a38"
      },
      "outputs": [
        {
          "name": "stdout",
          "output_type": "stream",
          "text": [
            "\u001b[33mWARNING: Running pip as the 'root' user can result in broken permissions and conflicting behaviour with the system package manager. It is recommended to use a virtual environment instead: https://pip.pypa.io/warnings/venv\u001b[0m\u001b[33m\n",
            "\u001b[0m\u001b[33mWARNING: Running pip as the 'root' user can result in broken permissions and conflicting behaviour with the system package manager. It is recommended to use a virtual environment instead: https://pip.pypa.io/warnings/venv\u001b[0m\u001b[33m\n",
            "\u001b[0m\u001b[33mWARNING: Running pip as the 'root' user can result in broken permissions and conflicting behaviour with the system package manager. It is recommended to use a virtual environment instead: https://pip.pypa.io/warnings/venv\u001b[0m\u001b[33m\n",
            "\u001b[0m\u001b[33mWARNING: Running pip as the 'root' user can result in broken permissions and conflicting behaviour with the system package manager. It is recommended to use a virtual environment instead: https://pip.pypa.io/warnings/venv\u001b[0m\u001b[33m\n",
            "\u001b[0m\u001b[33mWARNING: Running pip as the 'root' user can result in broken permissions and conflicting behaviour with the system package manager. It is recommended to use a virtual environment instead: https://pip.pypa.io/warnings/venv\u001b[0m\u001b[33m\n",
            "\u001b[0m\u001b[33mWARNING: Running pip as the 'root' user can result in broken permissions and conflicting behaviour with the system package manager. It is recommended to use a virtual environment instead: https://pip.pypa.io/warnings/venv\u001b[0m\u001b[33m\n",
            "\u001b[0m\u001b[33mWARNING: Running pip as the 'root' user can result in broken permissions and conflicting behaviour with the system package manager. It is recommended to use a virtual environment instead: https://pip.pypa.io/warnings/venv\u001b[0m\u001b[33m\n",
            "\u001b[0m\u001b[33mWARNING: Running pip as the 'root' user can result in broken permissions and conflicting behaviour with the system package manager. It is recommended to use a virtual environment instead: https://pip.pypa.io/warnings/venv\u001b[0m\u001b[33m\n",
            "\u001b[0m\u001b[33mWARNING: Running pip as the 'root' user can result in broken permissions and conflicting behaviour with the system package manager. It is recommended to use a virtual environment instead: https://pip.pypa.io/warnings/venv\u001b[0m\u001b[33m\n",
            "\u001b[0m\u001b[33mWARNING: Running pip as the 'root' user can result in broken permissions and conflicting behaviour with the system package manager. It is recommended to use a virtual environment instead: https://pip.pypa.io/warnings/venv\u001b[0m\u001b[33m\n",
            "\u001b[0m"
          ]
        }
      ],
      "source": [
        "!pip install -q datasets==2.16.0\n",
        "!pip install -q bitsandbytes\n",
        "!pip install -q tiktoken\n",
        "!pip install -q peft\n",
        "!pip install -q trl\n",
        "!pip install -q transformers\n",
        "!pip install -q openpyxl\n",
        "!pip install -q pandas\n",
        "!pip install -q scikit-learn\n",
        "!pip install -q flash-attn\n",
        "#pip install -q transformers==4.38.1"
      ]
    },
    {
      "cell_type": "markdown",
      "metadata": {
        "id": "LzdKBLusks6l"
      },
      "source": [
        "# Import library"
      ]
    },
    {
      "cell_type": "code",
      "execution_count": null,
      "metadata": {
        "id": "QleiFVxrks6l"
      },
      "outputs": [],
      "source": [
        "import json\n",
        "import torch\n",
        "import pandas as pd\n",
        "import numpy as np\n",
        "from datasets import load_dataset\n",
        "from transformers import AutoModelForCausalLM, AutoTokenizer, BitsAndBytesConfig\n",
        "import torch\n",
        "from accelerate import PartialState\n",
        "from peft import LoraConfig, PeftModel, prepare_model_for_kbit_training, get_peft_model\n",
        "from trl import SFTTrainer\n",
        "from peft import prepare_model_for_kbit_training\n",
        "from transformers import TrainingArguments"
      ]
    },
    {
      "cell_type": "markdown",
      "metadata": {
        "id": "CuoI_mR6ks6m"
      },
      "source": [
        "# Hyperparameters"
      ]
    },
    {
      "cell_type": "code",
      "execution_count": null,
      "metadata": {
        "id": "GnKMNgwNks6m"
      },
      "outputs": [],
      "source": [
        "modelpath = \"google/gemma-2b-it\"\n",
        "lr=2e-4      # learning rate\n",
        "bs=16            # batch size\n",
        "bs_eval=16      # batch size for evals\n",
        "ga_steps=1     # gradient acc. steps\n",
        "epochs=4\n",
        "max_length=128      # max. sample length with 24GB VRAM\n",
        "output_dir=\"out\""
      ]
    },
    {
      "cell_type": "markdown",
      "metadata": {
        "id": "J4TaAfjTks6m"
      },
      "source": [
        "# Remove old model\n",
        "Because of limited storage, we can't save all models, we need to delete all models in cache by the following code:\n",
        "- rm -r out: delete out folder (because I save finetuned model in out folder), you can change folder name like (rm -r output_folder). If you doesn't have out folder, this commend do not thing.\n",
        "- all pretrained huggingface models will auto save in transformers.TRANSFORMERS_CACHE. I use glob.glob to read all folders and use shutil.rmtree to delete them."
      ]
    },
    {
      "cell_type": "code",
      "execution_count": null,
      "metadata": {
        "id": "WLzTfgZzks6m"
      },
      "outputs": [],
      "source": [
        "!rm -r out"
      ]
    },
    {
      "cell_type": "code",
      "execution_count": null,
      "metadata": {
        "id": "x4o-l2O7ks6m"
      },
      "outputs": [],
      "source": [
        "# from transformers import TRANSFORMERS_CACHE\n",
        "# print(TRANSFORMERS_CACHE)\n",
        "\n",
        "# import shutil\n",
        "# shutil.rmtree(TRANSFORMERS_CACHE)"
      ]
    },
    {
      "cell_type": "markdown",
      "metadata": {
        "id": "gdBm36joks6m"
      },
      "source": [
        "# Create Dataset\n",
        "Download dataset from [kaggle synthetic-vietnamese-students-feedback-corpus](https://www.kaggle.com/datasets/toreleon/synthetic-vietnamese-students-feedback-corpus/data)\n",
        "\n",
        "We need convert DataFrame to json line (jsonl)."
      ]
    },
    {
      "cell_type": "code",
      "execution_count": null,
      "metadata": {
        "id": "0kdny5Auks6n"
      },
      "outputs": [],
      "source": [
        "df_train = pd.read_csv(\"synthetic_train.csv\")\n",
        "df_test = pd.read_csv(\"synthetic_val.csv\")"
      ]
    },
    {
      "cell_type": "code",
      "execution_count": null,
      "metadata": {
        "id": "TgpzAKl3ks6n",
        "outputId": "0f3ac08f-86d1-44a8-aa1d-0e8d21c30223"
      },
      "outputs": [
        {
          "data": {
            "text/html": [
              "<div>\n",
              "<style scoped>\n",
              "    .dataframe tbody tr th:only-of-type {\n",
              "        vertical-align: middle;\n",
              "    }\n",
              "\n",
              "    .dataframe tbody tr th {\n",
              "        vertical-align: top;\n",
              "    }\n",
              "\n",
              "    .dataframe thead th {\n",
              "        text-align: right;\n",
              "    }\n",
              "</style>\n",
              "<table border=\"1\" class=\"dataframe\">\n",
              "  <thead>\n",
              "    <tr style=\"text-align: right;\">\n",
              "      <th></th>\n",
              "      <th>sentence</th>\n",
              "      <th>sentiment</th>\n",
              "      <th>topic</th>\n",
              "    </tr>\n",
              "  </thead>\n",
              "  <tbody>\n",
              "    <tr>\n",
              "      <th>0</th>\n",
              "      <td>Đội ngũ bảo trì quá thưa thớt dẫn đến không đả...</td>\n",
              "      <td>negative</td>\n",
              "      <td>facility</td>\n",
              "    </tr>\n",
              "    <tr>\n",
              "      <th>1</th>\n",
              "      <td>The university's musical and artistic faciliti...</td>\n",
              "      <td>neutral</td>\n",
              "      <td>facility</td>\n",
              "    </tr>\n",
              "    <tr>\n",
              "      <th>2</th>\n",
              "      <td>Phương pháp giảng dạy phù hợp với các đối tượn...</td>\n",
              "      <td>neutral</td>\n",
              "      <td>curriculum</td>\n",
              "    </tr>\n",
              "    <tr>\n",
              "      <th>3</th>\n",
              "      <td>Chương trình học giúp tôi trở thành một chuyên...</td>\n",
              "      <td>positive</td>\n",
              "      <td>curriculum</td>\n",
              "    </tr>\n",
              "    <tr>\n",
              "      <th>4</th>\n",
              "      <td>Tôi nghĩ rằng chương trình đào tạo có thể có t...</td>\n",
              "      <td>neutral</td>\n",
              "      <td>curriculum</td>\n",
              "    </tr>\n",
              "  </tbody>\n",
              "</table>\n",
              "</div>"
            ],
            "text/plain": [
              "                                            sentence sentiment       topic\n",
              "0  Đội ngũ bảo trì quá thưa thớt dẫn đến không đả...  negative    facility\n",
              "1  The university's musical and artistic faciliti...   neutral    facility\n",
              "2  Phương pháp giảng dạy phù hợp với các đối tượn...   neutral  curriculum\n",
              "3  Chương trình học giúp tôi trở thành một chuyên...  positive  curriculum\n",
              "4  Tôi nghĩ rằng chương trình đào tạo có thể có t...   neutral  curriculum"
            ]
          },
          "execution_count": 6,
          "metadata": {},
          "output_type": "execute_result"
        }
      ],
      "source": [
        "df_train.head()"
      ]
    },
    {
      "cell_type": "code",
      "execution_count": null,
      "metadata": {
        "id": "EUKrVej-ks6n",
        "outputId": "f4674d1b-ba99-4661-f1c3-0e98d9839011"
      },
      "outputs": [
        {
          "data": {
            "text/html": [
              "<div>\n",
              "<style scoped>\n",
              "    .dataframe tbody tr th:only-of-type {\n",
              "        vertical-align: middle;\n",
              "    }\n",
              "\n",
              "    .dataframe tbody tr th {\n",
              "        vertical-align: top;\n",
              "    }\n",
              "\n",
              "    .dataframe thead th {\n",
              "        text-align: right;\n",
              "    }\n",
              "</style>\n",
              "<table border=\"1\" class=\"dataframe\">\n",
              "  <thead>\n",
              "    <tr style=\"text-align: right;\">\n",
              "      <th></th>\n",
              "      <th>sentence</th>\n",
              "      <th>sentiment</th>\n",
              "      <th>topic</th>\n",
              "    </tr>\n",
              "  </thead>\n",
              "  <tbody>\n",
              "    <tr>\n",
              "      <th>0</th>\n",
              "      <td>Chất lượng vật chất kém.</td>\n",
              "      <td>negative</td>\n",
              "      <td>facility</td>\n",
              "    </tr>\n",
              "    <tr>\n",
              "      <th>1</th>\n",
              "      <td>Phần mềm học tập quá khó sử dụng, khiến sinh v...</td>\n",
              "      <td>negative</td>\n",
              "      <td>facility</td>\n",
              "    </tr>\n",
              "    <tr>\n",
              "      <th>2</th>\n",
              "      <td>Trường tôi thiếu những tiện ích cơ bản như máy...</td>\n",
              "      <td>negative</td>\n",
              "      <td>facility</td>\n",
              "    </tr>\n",
              "    <tr>\n",
              "      <th>3</th>\n",
              "      <td>Cần tạo thêm các hoạt động gắn kết giữa sinh v...</td>\n",
              "      <td>neutral</td>\n",
              "      <td>curriculum</td>\n",
              "    </tr>\n",
              "    <tr>\n",
              "      <th>4</th>\n",
              "      <td>Họ rất khoan dung và lượng giác trong quan điể...</td>\n",
              "      <td>neutral</td>\n",
              "      <td>others</td>\n",
              "    </tr>\n",
              "  </tbody>\n",
              "</table>\n",
              "</div>"
            ],
            "text/plain": [
              "                                            sentence sentiment       topic\n",
              "0                           Chất lượng vật chất kém.  negative    facility\n",
              "1  Phần mềm học tập quá khó sử dụng, khiến sinh v...  negative    facility\n",
              "2  Trường tôi thiếu những tiện ích cơ bản như máy...  negative    facility\n",
              "3  Cần tạo thêm các hoạt động gắn kết giữa sinh v...   neutral  curriculum\n",
              "4  Họ rất khoan dung và lượng giác trong quan điể...   neutral      others"
            ]
          },
          "execution_count": 7,
          "metadata": {},
          "output_type": "execute_result"
        }
      ],
      "source": [
        "df_test.head()"
      ]
    },
    {
      "cell_type": "code",
      "execution_count": null,
      "metadata": {
        "id": "fiOkvIq5ks6n",
        "outputId": "49b159cf-d14e-462a-b5a4-26952304fbda"
      },
      "outputs": [
        {
          "data": {
            "text/plain": [
              "sentiment\n",
              "neutral     2724\n",
              "negative    2711\n",
              "positive    2709\n",
              "Name: count, dtype: int64"
            ]
          },
          "execution_count": 8,
          "metadata": {},
          "output_type": "execute_result"
        }
      ],
      "source": [
        "df_train.sentiment.value_counts()"
      ]
    },
    {
      "cell_type": "code",
      "execution_count": null,
      "metadata": {
        "id": "bCJ7UBKKks6n",
        "outputId": "05d11394-b59d-4793-fd60-50a756616fee"
      },
      "outputs": [
        {
          "data": {
            "text/plain": [
              "sentiment\n",
              "negative    686\n",
              "positive    680\n",
              "neutral     670\n",
              "Name: count, dtype: int64"
            ]
          },
          "execution_count": 9,
          "metadata": {},
          "output_type": "execute_result"
        }
      ],
      "source": [
        "df_test.sentiment.value_counts()"
      ]
    },
    {
      "cell_type": "code",
      "execution_count": null,
      "metadata": {
        "id": "niIfKsRMks6n"
      },
      "outputs": [],
      "source": [
        "df_train['len'] = df_train.sentence.apply(lambda x: len(str(x).split()))\n",
        "df_test['len'] = df_test.sentence.apply(lambda x: len(str(x).split()))"
      ]
    },
    {
      "cell_type": "code",
      "execution_count": null,
      "metadata": {
        "id": "ciCvfH5pks6n",
        "outputId": "2e358700-a0c0-4d2d-f59e-d0e8345d74a0"
      },
      "outputs": [
        {
          "data": {
            "text/plain": [
              "count    8144.000000\n",
              "mean       15.549730\n",
              "std         5.018764\n",
              "min         3.000000\n",
              "25%        12.000000\n",
              "50%        15.000000\n",
              "75%        18.000000\n",
              "max        43.000000\n",
              "Name: len, dtype: float64"
            ]
          },
          "execution_count": 11,
          "metadata": {},
          "output_type": "execute_result"
        }
      ],
      "source": [
        "df_train['len'].describe()"
      ]
    },
    {
      "cell_type": "code",
      "execution_count": null,
      "metadata": {
        "id": "lXLgnsAHks6n",
        "outputId": "ac30ed77-d375-46bf-ce25-77faec6bf333"
      },
      "outputs": [
        {
          "data": {
            "text/plain": [
              "count    2036.000000\n",
              "mean       15.694990\n",
              "std         5.185957\n",
              "min         2.000000\n",
              "25%        12.000000\n",
              "50%        15.000000\n",
              "75%        19.000000\n",
              "max        48.000000\n",
              "Name: len, dtype: float64"
            ]
          },
          "execution_count": 12,
          "metadata": {},
          "output_type": "execute_result"
        }
      ],
      "source": [
        "df_test['len'].describe()"
      ]
    },
    {
      "cell_type": "code",
      "execution_count": null,
      "metadata": {
        "id": "4adZanMiks6o"
      },
      "outputs": [],
      "source": [
        "with open('train.jsonl', 'w') as outfile:\n",
        "    for i, x in df_train.iterrows():\n",
        "        comment = x['sentence']\n",
        "        label = x['sentiment']\n",
        "        #label = 'yes' if label == 'relevance' else 'no'\n",
        "        data = {\n",
        "            \"input\": f'''The sentiment of this comment \"{comment}\" is''',\n",
        "            \"output\": f\"{label}\"\n",
        "        }\n",
        "        json.dump(data, outfile)\n",
        "        outfile.write('\\n')"
      ]
    },
    {
      "cell_type": "code",
      "execution_count": null,
      "metadata": {
        "id": "RdFwvic2ks6o"
      },
      "outputs": [],
      "source": [
        "with open('test.jsonl', 'w') as outfile:\n",
        "    for i, x in df_test.iterrows():\n",
        "        comment = x['sentence']\n",
        "        label = x['sentiment']\n",
        "        #label = 'yes' if label == 'relevance' else 'no'\n",
        "        data = {\n",
        "            \"input\": f'''The sentiment of this comment \"{comment}\" is''',\n",
        "            \"output\": f\"{label}\"\n",
        "        }\n",
        "        json.dump(data, outfile)\n",
        "        outfile.write('\\n')"
      ]
    },
    {
      "cell_type": "code",
      "execution_count": null,
      "metadata": {
        "colab": {
          "referenced_widgets": [
            "9e4afa7b4ff9450b8912334c50eaaaa9",
            "ebf8674476c2453dbaeb5875c7c86431"
          ]
        },
        "id": "-8xhYh3Cks6o",
        "outputId": "1f709e95-40e2-4023-ac09-a5d39dfddc4f"
      },
      "outputs": [
        {
          "data": {
            "application/vnd.jupyter.widget-view+json": {
              "model_id": "9e4afa7b4ff9450b8912334c50eaaaa9",
              "version_major": 2,
              "version_minor": 0
            },
            "text/plain": [
              "Generating train split: 0 examples [00:00, ? examples/s]"
            ]
          },
          "metadata": {},
          "output_type": "display_data"
        },
        {
          "data": {
            "application/vnd.jupyter.widget-view+json": {
              "model_id": "ebf8674476c2453dbaeb5875c7c86431",
              "version_major": 2,
              "version_minor": 0
            },
            "text/plain": [
              "Generating validation split: 0 examples [00:00, ? examples/s]"
            ]
          },
          "metadata": {},
          "output_type": "display_data"
        }
      ],
      "source": [
        "data_files = {\n",
        "    \"train\": \"train.jsonl\",\n",
        "    \"validation\": \"test.jsonl\",\n",
        "}\n",
        "\n",
        "dataset = load_dataset(\"json\", data_files=data_files)"
      ]
    },
    {
      "cell_type": "code",
      "execution_count": null,
      "metadata": {
        "id": "OZIYulyCks6o",
        "outputId": "3208be82-bf95-4363-f745-f59e2be2c063"
      },
      "outputs": [
        {
          "data": {
            "text/plain": [
              "DatasetDict({\n",
              "    train: Dataset({\n",
              "        features: ['input', 'output'],\n",
              "        num_rows: 8144\n",
              "    })\n",
              "    validation: Dataset({\n",
              "        features: ['input', 'output'],\n",
              "        num_rows: 2036\n",
              "    })\n",
              "})"
            ]
          },
          "execution_count": 16,
          "metadata": {},
          "output_type": "execute_result"
        }
      ],
      "source": [
        "dataset"
      ]
    },
    {
      "cell_type": "markdown",
      "metadata": {
        "id": "DtubP4xSks6o"
      },
      "source": [
        "# Create prompt format\n",
        "Load tokenizer by AutoTokenizer.from_pretrained:\n",
        "- We need create and copy YOUR TOKEN from [huggingface](https://huggingface.co/settings/tokens)\n",
        "- We need use padding_side = 'right' because training library need padding_side = 'right' when training. You can use left padding but you need to make sure the library is not corrupted and check whether performance is affected by left padding!\n",
        "- If you have 1 prompt like \"test thử mô hình\" and want to tokenize it, just you tokenizer(prompt, return_tensors=\"pt\"). You can see output of tokenizer in cell below (output includes input_ids (list index of each token in prompt) and attention mask)\n",
        "- We can use tokenizer.batch_decode to see how tokenizer restore string from token tensor. You can see that it automatically adds the start token \"<bos>\" at the beginning of the string.\n",
        "- To train llm, we only need to pass 1 sentence to llm (including input and desired output) without specifying which is the input and which is the output.\n",
        "- I wrote the function formatting_prompts_func to convert input and output to prompt and tested this function, you can see below.\n",
        "- When predicting, remove the output part to let the model predict itself. See the predict section below later.\n",
        "- we only need to predict some next tokens like A. positive, and B. neutral. We don't care what the model says after sentiment. Then we do not need to add <eos token>. If you fine-tune the model with other tasks, maybe you need to add <eos token> at the end of the prompt:\n",
        "  - use tokenizer.eos_token, tokenizer.eos_token_id to see eos_token of your model and correspond id\n",
        "  - for ex: eos_token is \"<|im_end|>\". You need edit prompt like:\n",
        "    - '''...The correct answer is {output_}.''' --> '''...The correct answer is {output_}. <|im_end|>'''\n",
        "  - for ex: eos_token is \"end_token__\". You need edit prompt like:\n",
        "    - '''...The correct answer is {output_}.''' --> '''...The correct answer is {output_}. end_token__'''"
      ]
    },
    {
      "cell_type": "code",
      "execution_count": null,
      "metadata": {
        "colab": {
          "referenced_widgets": [
            "8d7af64302154ce7886a3724025301f8",
            "1fcff69e471e45bea9f4689407692ab4",
            "0865f034c9b64c2c903e8830c38859a1",
            "72d59a9f5e7a4043a7156af9276f8933"
          ]
        },
        "id": "7bvRtVh7ks6o",
        "outputId": "45dc7d96-e8d8-4dbf-aba3-97883dcb65f3"
      },
      "outputs": [
        {
          "data": {
            "application/vnd.jupyter.widget-view+json": {
              "model_id": "8d7af64302154ce7886a3724025301f8",
              "version_major": 2,
              "version_minor": 0
            },
            "text/plain": [
              "tokenizer_config.json:   0%|          | 0.00/34.2k [00:00<?, ?B/s]"
            ]
          },
          "metadata": {},
          "output_type": "display_data"
        },
        {
          "data": {
            "application/vnd.jupyter.widget-view+json": {
              "model_id": "1fcff69e471e45bea9f4689407692ab4",
              "version_major": 2,
              "version_minor": 0
            },
            "text/plain": [
              "tokenizer.model:   0%|          | 0.00/4.24M [00:00<?, ?B/s]"
            ]
          },
          "metadata": {},
          "output_type": "display_data"
        },
        {
          "data": {
            "application/vnd.jupyter.widget-view+json": {
              "model_id": "0865f034c9b64c2c903e8830c38859a1",
              "version_major": 2,
              "version_minor": 0
            },
            "text/plain": [
              "tokenizer.json:   0%|          | 0.00/17.5M [00:00<?, ?B/s]"
            ]
          },
          "metadata": {},
          "output_type": "display_data"
        },
        {
          "data": {
            "application/vnd.jupyter.widget-view+json": {
              "model_id": "72d59a9f5e7a4043a7156af9276f8933",
              "version_major": 2,
              "version_minor": 0
            },
            "text/plain": [
              "special_tokens_map.json:   0%|          | 0.00/636 [00:00<?, ?B/s]"
            ]
          },
          "metadata": {},
          "output_type": "display_data"
        }
      ],
      "source": [
        "tokenizer = AutoTokenizer.from_pretrained(\n",
        "    modelpath,\n",
        "    padding_side=\"right\",\n",
        "    # add_eos_token=True,\n",
        "    # add_bos_token=True,\n",
        "    trust_remote_code=True,\n",
        "    token = 'YOUR TOKEN HERE'\n",
        ")"
      ]
    },
    {
      "cell_type": "code",
      "execution_count": null,
      "metadata": {
        "id": "asXBBNvaks6o",
        "outputId": "e8db9090-d25b-4a7b-d45e-6237c279b90d"
      },
      "outputs": [
        {
          "name": "stdout",
          "output_type": "stream",
          "text": [
            "{'input_ids': tensor([[     2,   2195, 101869,  34580,  15885]]), 'attention_mask': tensor([[1, 1, 1, 1, 1]])}\n"
          ]
        },
        {
          "data": {
            "text/plain": [
              "['<bos>', 'test', ' thử', ' mô', ' hình']"
            ]
          },
          "execution_count": 18,
          "metadata": {},
          "output_type": "execute_result"
        }
      ],
      "source": [
        "prompt = \"test thử mô hình\"\n",
        "tokens = tokenizer(prompt, return_tensors=\"pt\")\n",
        "print(tokens)\n",
        "tokenizer.batch_decode(tokenizer.encode(prompt))"
      ]
    },
    {
      "cell_type": "code",
      "execution_count": null,
      "metadata": {
        "id": "SqbKchSAks6u"
      },
      "outputs": [],
      "source": [
        "def formatting_prompts_func(example):\n",
        "    output_texts = []\n",
        "    for i in range(len(example['input'])):\n",
        "        input_ = example['input'][i]\n",
        "        output_ = example['output'][i]\n",
        "        output_ = 'A. Positive' if output_ == 'positive' else 'B. Neutral' if output_ == 'neutral' else 'C. Negative'\n",
        "        #text = f\"### Question: {input__}\\n ### Answer: {example['output'][i]}\"\n",
        "        text = f'''{input_}\n",
        "A. Positive\n",
        "B. Neutral\n",
        "C. Negative\n",
        "\n",
        "The correct answer is {output_}.'''\n",
        "\n",
        "        output_texts.append(text)\n",
        "    return output_texts"
      ]
    },
    {
      "cell_type": "code",
      "execution_count": null,
      "metadata": {
        "id": "B7BSBREnks6u",
        "outputId": "1d00ab05-b7c6-4cab-93c8-e9c6cc17bbd1"
      },
      "outputs": [
        {
          "data": {
            "text/plain": [
              "('The sentiment of this comment \"Chất lượng vật chất kém.\" is', 'negative')"
            ]
          },
          "execution_count": 20,
          "metadata": {},
          "output_type": "execute_result"
        }
      ],
      "source": [
        "dataset[\"validation\"]['input'][0], dataset[\"validation\"]['output'][0]"
      ]
    },
    {
      "cell_type": "code",
      "execution_count": null,
      "metadata": {
        "id": "_Q0bZ2q2ks6u",
        "outputId": "1213af7b-53a8-45e3-875e-8dbedf78be49"
      },
      "outputs": [
        {
          "data": {
            "text/plain": [
              "['The sentiment of this comment \"Chất lượng vật chất kém.\" is\\nA. Positive\\nB. Neutral\\nC. Negative\\n\\nThe correct answer is C. Negative.']"
            ]
          },
          "execution_count": 21,
          "metadata": {},
          "output_type": "execute_result"
        }
      ],
      "source": [
        "formatting_prompts_func({'input': [dataset[\"validation\"]['input'][0]],\n",
        "                         'output': [dataset[\"validation\"]['output'][0]]})"
      ]
    },
    {
      "cell_type": "code",
      "execution_count": null,
      "metadata": {
        "id": "3CgbCW5Jks6u",
        "outputId": "6fd51ebb-0515-4427-eeab-64315a2beb95"
      },
      "outputs": [
        {
          "name": "stdout",
          "output_type": "stream",
          "text": [
            "The sentiment of this comment \"Chất lượng vật chất kém.\" is\n",
            "A. Positive\n",
            "B. Neutral\n",
            "C. Negative\n",
            "\n",
            "The correct answer is C. Negative.\n"
          ]
        }
      ],
      "source": [
        "print(formatting_prompts_func({'input': [dataset[\"validation\"]['input'][0]],\n",
        "                         'output': [dataset[\"validation\"]['output'][0]]})[0])"
      ]
    },
    {
      "cell_type": "markdown",
      "metadata": {
        "id": "zqan28D-ks6u"
      },
      "source": [
        "# Create model"
      ]
    },
    {
      "cell_type": "markdown",
      "metadata": {
        "id": "tsPlW9BGks6u"
      },
      "source": [
        "## Load model\n",
        "Because we use 4 bit for training, we need use BitsAndBytesConfig:\n",
        "- load_in_4bit = True: we will load model with 4 bit format.\n",
        "- bnb_4bit_use_double_quant = True: use double quant (you can search how double quant work)\n",
        "- bnb_4bit_quant_type = 'nf4': nf4 is the normalized float 4 bit data type. It quantizes floats into 4 bits (you can search about this)\n",
        "- bnb_4bit_compute_dtype: dtype before quantize (we use bfloat16, if your gpu don't support bfloat16, set it to float32).\n",
        "\n",
        "We use AutoModelForCausalLM.from_pretrained to load model:\n",
        "- device_map = 'auto': auto active gpu.\n",
        "- torch_dtype: use bfloat16, if your gpu don't support bfloat16, set it to float32\n",
        "- quantization_config: config of quantization (bnb_config above)\n",
        "- attn_implementation: you can use 'flash_attention_2', if you meet bug, maybe your gpu doesn't support it, you need delete this line.\n",
        "- token: you huggingface token like tokenizer above."
      ]
    },
    {
      "cell_type": "code",
      "execution_count": null,
      "metadata": {
        "colab": {
          "referenced_widgets": [
            "b68f68d63be74873817ecfd1e60b72d8",
            "aad55f38a3ed4fd0a8bdad3b920ba441",
            "7e3d32a99e804ed3abe4d18f9dcaf30b",
            "87d8d096e6e444458adcf5dabc03930f",
            "d498b769941841af91aeaa03c4e91e6a",
            "2f2a4f153107489bbce40deb30edc370",
            "988f10a851964cc2b58eef26261292d9"
          ]
        },
        "id": "OTEdyP2Tks6u",
        "outputId": "52afc0d3-a2aa-4ba7-f8d9-a575a9938fce"
      },
      "outputs": [
        {
          "data": {
            "application/vnd.jupyter.widget-view+json": {
              "model_id": "b68f68d63be74873817ecfd1e60b72d8",
              "version_major": 2,
              "version_minor": 0
            },
            "text/plain": [
              "config.json:   0%|          | 0.00/627 [00:00<?, ?B/s]"
            ]
          },
          "metadata": {},
          "output_type": "display_data"
        },
        {
          "data": {
            "application/vnd.jupyter.widget-view+json": {
              "model_id": "aad55f38a3ed4fd0a8bdad3b920ba441",
              "version_major": 2,
              "version_minor": 0
            },
            "text/plain": [
              "model.safetensors.index.json:   0%|          | 0.00/13.5k [00:00<?, ?B/s]"
            ]
          },
          "metadata": {},
          "output_type": "display_data"
        },
        {
          "data": {
            "application/vnd.jupyter.widget-view+json": {
              "model_id": "7e3d32a99e804ed3abe4d18f9dcaf30b",
              "version_major": 2,
              "version_minor": 0
            },
            "text/plain": [
              "Downloading shards:   0%|          | 0/2 [00:00<?, ?it/s]"
            ]
          },
          "metadata": {},
          "output_type": "display_data"
        },
        {
          "data": {
            "application/vnd.jupyter.widget-view+json": {
              "model_id": "87d8d096e6e444458adcf5dabc03930f",
              "version_major": 2,
              "version_minor": 0
            },
            "text/plain": [
              "model-00001-of-00002.safetensors:   0%|          | 0.00/4.95G [00:00<?, ?B/s]"
            ]
          },
          "metadata": {},
          "output_type": "display_data"
        },
        {
          "data": {
            "application/vnd.jupyter.widget-view+json": {
              "model_id": "d498b769941841af91aeaa03c4e91e6a",
              "version_major": 2,
              "version_minor": 0
            },
            "text/plain": [
              "model-00002-of-00002.safetensors:   0%|          | 0.00/67.1M [00:00<?, ?B/s]"
            ]
          },
          "metadata": {},
          "output_type": "display_data"
        },
        {
          "name": "stderr",
          "output_type": "stream",
          "text": [
            "`config.hidden_act` is ignored, you should use `config.hidden_activation` instead.\n",
            "Gemma's activation function will be set to `gelu_pytorch_tanh`. Please, use\n",
            "`config.hidden_activation` if you want to override this behaviour.\n",
            "See https://github.com/huggingface/transformers/pull/29402 for more details.\n"
          ]
        },
        {
          "data": {
            "application/vnd.jupyter.widget-view+json": {
              "model_id": "2f2a4f153107489bbce40deb30edc370",
              "version_major": 2,
              "version_minor": 0
            },
            "text/plain": [
              "Loading checkpoint shards:   0%|          | 0/2 [00:00<?, ?it/s]"
            ]
          },
          "metadata": {},
          "output_type": "display_data"
        },
        {
          "data": {
            "application/vnd.jupyter.widget-view+json": {
              "model_id": "988f10a851964cc2b58eef26261292d9",
              "version_major": 2,
              "version_minor": 0
            },
            "text/plain": [
              "generation_config.json:   0%|          | 0.00/137 [00:00<?, ?B/s]"
            ]
          },
          "metadata": {},
          "output_type": "display_data"
        }
      ],
      "source": [
        "bnb_config = BitsAndBytesConfig(\n",
        "    load_in_4bit=True,\n",
        "    bnb_4bit_use_double_quant=True,\n",
        "    bnb_4bit_quant_type=\"nf4\",\n",
        "    bnb_4bit_compute_dtype=torch.bfloat16,\n",
        ")\n",
        "\n",
        "model = AutoModelForCausalLM.from_pretrained(\n",
        "    modelpath,\n",
        "    device_map=\"auto\",\n",
        "    torch_dtype=torch.bfloat16,\n",
        "    #torch_dtype=torch.float32,\n",
        "    quantization_config=bnb_config,\n",
        "    attn_implementation=\"flash_attention_2\",\n",
        "    trust_remote_code=True,\n",
        "    token = 'YOUR TOKEN HERE'\n",
        ")"
      ]
    },
    {
      "cell_type": "code",
      "execution_count": null,
      "metadata": {
        "id": "rNj2o4y5ks6u",
        "outputId": "9c896483-6e15-4de1-da13-4303b6bd19f7"
      },
      "outputs": [
        {
          "data": {
            "text/plain": [
              "GemmaForCausalLM(\n",
              "  (model): GemmaModel(\n",
              "    (embed_tokens): Embedding(256000, 2048, padding_idx=0)\n",
              "    (layers): ModuleList(\n",
              "      (0-17): 18 x GemmaDecoderLayer(\n",
              "        (self_attn): GemmaFlashAttention2(\n",
              "          (q_proj): Linear4bit(in_features=2048, out_features=2048, bias=False)\n",
              "          (k_proj): Linear4bit(in_features=2048, out_features=256, bias=False)\n",
              "          (v_proj): Linear4bit(in_features=2048, out_features=256, bias=False)\n",
              "          (o_proj): Linear4bit(in_features=2048, out_features=2048, bias=False)\n",
              "          (rotary_emb): GemmaRotaryEmbedding()\n",
              "        )\n",
              "        (mlp): GemmaMLP(\n",
              "          (gate_proj): Linear4bit(in_features=2048, out_features=16384, bias=False)\n",
              "          (up_proj): Linear4bit(in_features=2048, out_features=16384, bias=False)\n",
              "          (down_proj): Linear4bit(in_features=16384, out_features=2048, bias=False)\n",
              "          (act_fn): PytorchGELUTanh()\n",
              "        )\n",
              "        (input_layernorm): GemmaRMSNorm()\n",
              "        (post_attention_layernorm): GemmaRMSNorm()\n",
              "      )\n",
              "    )\n",
              "    (norm): GemmaRMSNorm()\n",
              "  )\n",
              "  (lm_head): Linear(in_features=2048, out_features=256000, bias=False)\n",
              ")"
            ]
          },
          "execution_count": 24,
          "metadata": {},
          "output_type": "execute_result"
        }
      ],
      "source": [
        "model"
      ]
    },
    {
      "cell_type": "markdown",
      "metadata": {
        "id": "kvmIAKy9ks6v"
      },
      "source": [
        "## Eval model before training\n",
        "We use create_prompt function to generate prompt (without output), our model will predict output. We will eval model before finetune. You can see some predict below.\n",
        "\n",
        "You can see that pretrained model can't clarify neutral class!"
      ]
    },
    {
      "cell_type": "code",
      "execution_count": null,
      "metadata": {
        "id": "u-wUAb8aks6v",
        "outputId": "b7b4a5b8-5770-4c4b-d78b-0f2c16ff1885"
      },
      "outputs": [
        {
          "name": "stdout",
          "output_type": "stream",
          "text": [
            "The sentiment of this comment: \"món ăn rất ngon\" is\n",
            "A. Positive\n",
            "B. Neutral\n",
            "C. Negative\n",
            "\n",
            "The correct answer is\n"
          ]
        },
        {
          "name": "stderr",
          "output_type": "stream",
          "text": [
            "/opt/conda/lib/python3.10/site-packages/transformers/generation/configuration_utils.py:540: UserWarning: `do_sample` is set to `False`. However, `temperature` is set to `0.1` -- this flag is only used in sample-based generation modes. You should set `do_sample=True` or unset `temperature`.\n",
            "  warnings.warn(\n",
            "The input hidden states seems to be silently casted in float32, this might be related to the fact you have upcasted embedding or layer norm layers in float32. We will cast back the input in torch.bfloat16.\n"
          ]
        },
        {
          "name": "stdout",
          "output_type": "stream",
          "text": [
            "<bos>The sentiment of this comment: \"món ăn rất ngon\" is\n",
            "A. Positive\n",
            "B. Neutral\n",
            "C. Negative\n",
            "\n",
            "The correct answer is A. Positive.\n",
            "\n",
            "\"Mon ăn rất ngon\" means \"This food is very delicious\".<eos>\n"
          ]
        }
      ],
      "source": [
        "def create_prompt(input_, output_):\n",
        "    output_ = 'A. Positive' if output_ == 'positive' else 'B. Neutral' if output_ == 'neutral' else 'C. Negative'\n",
        "        #text = f\"### Question: {input__}\\n ### Answer: {example['output'][i]}\"\n",
        "    text = f'''{input_}\n",
        "A. Positive\n",
        "B. Neutral\n",
        "C. Negative\n",
        "\n",
        "The correct answer is'''\n",
        "\n",
        "    return text\n",
        "\n",
        "sentence = 'món ăn rất ngon'\n",
        "input_ = f'''The sentiment of this comment: \"{sentence}\" is'''\n",
        "prompt = create_prompt(input_, \"\")\n",
        "print(prompt)\n",
        "\n",
        "inputs = torch.tensor([tokenizer.encode(prompt)])\n",
        "\n",
        "tokens = model.generate(\n",
        "    inputs.to(model.device),\n",
        "    max_new_tokens=50,\n",
        "    temperature=0.1,\n",
        "    do_sample=False\n",
        ")\n",
        "print(tokenizer.decode(tokens[0], skip_special_tokens=False))"
      ]
    },
    {
      "cell_type": "code",
      "execution_count": null,
      "metadata": {
        "id": "v2FHef1wks6v",
        "outputId": "ea8493db-d2cc-4df0-8cb1-be8f96305d0f"
      },
      "outputs": [
        {
          "name": "stderr",
          "output_type": "stream",
          "text": [
            "The attention mask is not set and cannot be inferred from input because pad token is same as eos token.As a consequence, you may observe unexpected behavior. Please pass your input's `attention_mask` to obtain reliable results.\n"
          ]
        },
        {
          "name": "stdout",
          "output_type": "stream",
          "text": [
            "0 100.0 0:00:00.094615 0:00:00.094618\n",
            "100 64.35643564356435 0:00:09.207557 0:00:00.091164\n",
            "200 66.16915422885572 0:00:18.205571 0:00:00.090575\n",
            "300 64.11960132890366 0:00:27.193370 0:00:00.090343\n",
            "400 65.5860349127182 0:00:36.242059 0:00:00.090379\n",
            "500 66.46706586826348 0:00:45.228362 0:00:00.090276\n",
            "600 64.72545757071548 0:00:54.239705 0:00:00.090249\n",
            "700 63.7660485021398 0:01:03.279808 0:00:00.090271\n",
            "800 64.54431960049938 0:01:12.326279 0:00:00.090295\n",
            "900 63.4850166481687 0:01:21.344465 0:00:00.090282\n",
            "1000 63.73626373626373 0:01:30.366041 0:00:00.090276\n",
            "1100 63.21525885558583 0:01:39.423528 0:00:00.090303\n",
            "1200 62.781015820149875 0:01:48.456868 0:00:00.090305\n",
            "1300 63.18216756341276 0:01:57.472199 0:00:00.090294\n",
            "1400 63.24054246966453 0:02:06.496202 0:00:00.090290\n",
            "1500 63.49100599600267 0:02:15.501607 0:00:00.090274\n",
            "1600 63.897564022485945 0:02:24.539199 0:00:00.090281\n",
            "1700 63.78600823045267 0:02:33.549107 0:00:00.090270\n",
            "1800 63.96446418656302 0:02:42.632562 0:00:00.090301\n",
            "1900 63.96633350867964 0:02:51.747545 0:00:00.090346\n",
            "2000 63.618190904547724 0:03:00.863568 0:00:00.090387\n"
          ]
        }
      ],
      "source": [
        "from datetime import datetime\n",
        "\n",
        "start = datetime.now()\n",
        "\n",
        "prediction = []\n",
        "response = []\n",
        "accuracy = []\n",
        "labels = []\n",
        "\n",
        "for i, x in df_test.iterrows():\n",
        "    sentence = x['sentence']\n",
        "    label = x['sentiment']\n",
        "    input_ = f'''The sentiment of this comment: \"{sentence}\" is'''\n",
        "    prompt = create_prompt(input_, label)\n",
        "\n",
        "    inputs = tokenizer.encode(\n",
        "        prompt,\n",
        "        # add_generation_prompt=True,\n",
        "        return_tensors='pt'\n",
        "    )\n",
        "\n",
        "    tokens = model.generate(\n",
        "        inputs.to(model.device),\n",
        "        max_new_tokens=3,\n",
        "        temperature=0.1,\n",
        "        do_sample=False,\n",
        "        pad_token_id=tokenizer.eos_token_id\n",
        "    )\n",
        "    #break\n",
        "\n",
        "    answer = tokenizer.decode(tokens[0], skip_special_tokens=False).split(\"The correct answer is \")[-1]\n",
        "    answer = 'positive' if 'positive' in answer.lower() else 'negative' if 'negative' in answer.lower() else 'neutral'\n",
        "    prediction.append(answer.lower())\n",
        "    response.append(tokenizer.decode(tokens[0], skip_special_tokens=False))\n",
        "\n",
        "    accuracy.append(prediction[-1] == label)\n",
        "    labels.append(label)\n",
        "\n",
        "    if i % 100 == 0:\n",
        "        print(i, np.array(accuracy).sum()/len(prediction)*100, datetime.now() - start, (datetime.now() - start)/len(prediction))"
      ]
    },
    {
      "cell_type": "code",
      "execution_count": null,
      "metadata": {
        "id": "Mz0iYDD1ks6v",
        "outputId": "a316098c-a440-436a-db43-3ad48cadbbbd"
      },
      "outputs": [
        {
          "name": "stdout",
          "output_type": "stream",
          "text": [
            "              precision    recall  f1-score   support\n",
            "\n",
            "    negative     0.9670    0.8965    0.9304       686\n",
            "     neutral     0.0000    0.0000    0.0000       670\n",
            "    positive     0.4857    1.0000    0.6538       680\n",
            "\n",
            "    accuracy                         0.6361      2036\n",
            "   macro avg     0.4842    0.6322    0.5281      2036\n",
            "weighted avg     0.4880    0.6361    0.5319      2036\n",
            "\n"
          ]
        },
        {
          "name": "stderr",
          "output_type": "stream",
          "text": [
            "/opt/conda/lib/python3.10/site-packages/sklearn/metrics/_classification.py:1517: UndefinedMetricWarning: Precision is ill-defined and being set to 0.0 in labels with no predicted samples. Use `zero_division` parameter to control this behavior.\n",
            "  _warn_prf(average, modifier, f\"{metric.capitalize()} is\", len(result))\n",
            "/opt/conda/lib/python3.10/site-packages/sklearn/metrics/_classification.py:1517: UndefinedMetricWarning: Precision is ill-defined and being set to 0.0 in labels with no predicted samples. Use `zero_division` parameter to control this behavior.\n",
            "  _warn_prf(average, modifier, f\"{metric.capitalize()} is\", len(result))\n",
            "/opt/conda/lib/python3.10/site-packages/sklearn/metrics/_classification.py:1517: UndefinedMetricWarning: Precision is ill-defined and being set to 0.0 in labels with no predicted samples. Use `zero_division` parameter to control this behavior.\n",
            "  _warn_prf(average, modifier, f\"{metric.capitalize()} is\", len(result))\n"
          ]
        }
      ],
      "source": [
        "from sklearn.metrics import classification_report, f1_score\n",
        "import sklearn\n",
        "\n",
        "print(sklearn.metrics.classification_report(labels, prediction, digits=4))"
      ]
    },
    {
      "cell_type": "code",
      "execution_count": null,
      "metadata": {
        "id": "PZSQIzzpks6v",
        "outputId": "70ae456f-6c2a-49dc-e12d-aaf4ebe830e2"
      },
      "outputs": [
        {
          "name": "stdout",
          "output_type": "stream",
          "text": [
            "<bos>The sentiment of this comment: \"The facilities of the university are versatile and helpful.\" is\n",
            "A. Positive\n",
            "B. Neutral\n",
            "C. Negative\n",
            "\n",
            "The correct answer is A. Positive\n",
            "\n",
            "\n",
            "<bos>The sentiment of this comment: \"Mấy bạn đó hay đòi hỏi nhưng không bao giờ giúp đỡ người khác.\" is\n",
            "A. Positive\n",
            "B. Neutral\n",
            "C. Negative\n",
            "\n",
            "The correct answer is C. Negative\n",
            "\n",
            "\n",
            "<bos>The sentiment of this comment: \"Cậu ấy rất có kỹ năng về sáng tạo và nghệ thuật.\" is\n",
            "A. Positive\n",
            "B. Neutral\n",
            "C. Negative\n",
            "\n",
            "The correct answer is A. Positive\n",
            "\n",
            "\n",
            "<bos>The sentiment of this comment: \"Giảng viên này không nhàm chán.\" is\n",
            "A. Positive\n",
            "B. Neutral\n",
            "C. Negative\n",
            "\n",
            "The correct answer is A. Positive\n",
            "\n",
            "\n",
            "<bos>The sentiment of this comment: \"Anh ta là một người rất tỉ mỉ và cẩn thận.\" is\n",
            "A. Positive\n",
            "B. Neutral\n",
            "C. Negative\n",
            "\n",
            "The correct answer is A. Positive\n",
            "\n",
            "\n",
            "<bos>The sentiment of this comment: \"Giáo viên đưa ra các phương tiện hỗ trợ giảng dạy rất tốt và hiệu quả.\" is\n",
            "A. Positive\n",
            "B. Neutral\n",
            "C. Negative\n",
            "\n",
            "The correct answer is A. Positive\n",
            "\n",
            "\n",
            "<bos>The sentiment of this comment: \"The university's computer facilities are up-to-date and well-maintained.\" is\n",
            "A. Positive\n",
            "B. Neutral\n",
            "C. Negative\n",
            "\n",
            "The correct answer is A. Positive\n",
            "\n",
            "\n",
            "<bos>The sentiment of this comment: \"Thiếu tính linh hoạt trong hình thức giảng dạy và đánh giá kết quả học tập.\" is\n",
            "A. Positive\n",
            "B. Neutral\n",
            "C. Negative\n",
            "\n",
            "The correct answer is C. Negative\n",
            "\n",
            "\n",
            "<bos>The sentiment of this comment: \"Cô ấy rất sắc sảo và có khả năng phân tích chi tiết rất tốt.\" is\n",
            "A. Positive\n",
            "B. Neutral\n",
            "C. Negative\n",
            "\n",
            "The correct answer is A. Positive\n",
            "\n",
            "\n",
            "<bos>The sentiment of this comment: \"Anh ấy có tài năng về âm nhạc và luôn tìm cách tạo ra các bản nhạc mới, giúp nhóm thêm hoàn hảo và đa dạng hơn.\" is\n",
            "A. Positive\n",
            "B. Neutral\n",
            "C. Negative\n",
            "\n",
            "The correct answer is A. Positive\n",
            "\n",
            "\n"
          ]
        }
      ],
      "source": [
        "for x in response[-10:]:\n",
        "    print(x)\n",
        "    print(\"\\n\")"
      ]
    },
    {
      "cell_type": "markdown",
      "source": [
        "## Create peft\n",
        "- To training model with 4 bit, we need you prepare_model_for_kbit_training.\n",
        "- For lora training, we need craete LoraConfig:\n",
        "  - lora_alpha, r, dropout is basic hyperarameter.\n",
        "  - almost LLM use bias = 'none' when finetune then we set is to None\n",
        "  - target_modules are list of layer we want to finetune, I set it to 'all-linear', then all linear layers will be finetuned. If you just finetune some layers like q_proj, k_proj, you can pass list ['q_proj', 'k_proj'].\n",
        "  - modules_to_save is other layers we want to finetune (but don't use lora), in my experience, finetune all embedding layers will make model work betters than I set modules_to_save as list of all embedding layers."
      ],
      "metadata": {
        "id": "pgBgjGn-lVQV"
      }
    },
    {
      "cell_type": "code",
      "execution_count": null,
      "metadata": {
        "id": "1Xg2UJ0Oks6v"
      },
      "outputs": [],
      "source": [
        "from peft import prepare_model_for_kbit_training\n",
        "\n",
        "model = prepare_model_for_kbit_training(model)"
      ]
    },
    {
      "cell_type": "code",
      "execution_count": null,
      "metadata": {
        "id": "RKtQrX9eks6y",
        "outputId": "5a3a7e0e-95df-4edc-ac7f-f27efb8c0277"
      },
      "outputs": [
        {
          "name": "stdout",
          "output_type": "stream",
          "text": [
            "trainable params: 534,093,824 || all params: 3,040,266,240 || trainable%: 17.5673\n"
          ]
        }
      ],
      "source": [
        "peft_config = LoraConfig(\n",
        "    lora_alpha=32,\n",
        "    lora_dropout=0.1,\n",
        "    r=8,\n",
        "    bias=\"none\",\n",
        "    task_type=\"CAUSAL_LM\",\n",
        "    target_modules = 'all-linear',\n",
        "#     target_modules=[\"q_proj\",\n",
        "#         \"k_proj\",\n",
        "#         \"v_proj\",\n",
        "#         \"o_proj\",\n",
        "#         \"gate_proj\",\n",
        "#         \"up_proj\",\n",
        "#         \"down_proj\",\n",
        "#         \"lm_head\",],\n",
        "    modules_to_save=[\"embed_tokens\", \"rotary_emb\"]\n",
        "                     #\"input_layernorm\", \"post_attention_layernorm\", \"norm\"]\n",
        ")\n",
        "model = get_peft_model(model, peft_config)\n",
        "\n",
        "model.print_trainable_parameters() #"
      ]
    },
    {
      "cell_type": "markdown",
      "metadata": {
        "id": "lk0s2GA6ks6y"
      },
      "source": [
        "## Create TrainingArguments\n",
        "If your model doesn't support bfloat16, set bf16 = False and turn on fb16 = True."
      ]
    },
    {
      "cell_type": "code",
      "execution_count": null,
      "metadata": {
        "id": "LMdggplUks6y",
        "outputId": "a064a480-61f7-4c41-a85e-e44ad0e32fd5"
      },
      "outputs": [
        {
          "name": "stdout",
          "output_type": "stream",
          "text": [
            "509\n"
          ]
        }
      ],
      "source": [
        "print(len(df_train)//bs//ga_steps*epochs//4)"
      ]
    },
    {
      "cell_type": "code",
      "execution_count": null,
      "metadata": {
        "id": "c-z8rGZ0ks6y",
        "outputId": "d4f0f7a1-0687-415e-c774-9590dfbe6a07"
      },
      "outputs": [
        {
          "name": "stdout",
          "output_type": "stream",
          "text": [
            "509\n"
          ]
        }
      ],
      "source": [
        "save_step = len(df_train)//bs//ga_steps*epochs//4\n",
        "print(save_step)"
      ]
    },
    {
      "cell_type": "code",
      "execution_count": null,
      "metadata": {
        "id": "zU7aOWH2ks6y",
        "outputId": "7b5e42dd-4803-498f-d6fc-81cda4a072b5"
      },
      "outputs": [
        {
          "name": "stderr",
          "output_type": "stream",
          "text": [
            "/opt/conda/lib/python3.10/site-packages/transformers/training_args.py:1494: FutureWarning: `evaluation_strategy` is deprecated and will be removed in version 4.46 of 🤗 Transformers. Use `eval_strategy` instead\n",
            "  warnings.warn(\n"
          ]
        }
      ],
      "source": [
        "training_arguments = TrainingArguments(\n",
        "    output_dir=output_dir,\n",
        "    num_train_epochs=epochs,\n",
        "    per_device_train_batch_size=bs,\n",
        "    per_device_eval_batch_size=bs_eval,\n",
        "    evaluation_strategy=\"steps\",\n",
        "    eval_steps=save_step,\n",
        "    gradient_accumulation_steps=ga_steps,\n",
        "    optim=\"paged_adamw_32bit\",\n",
        "    save_steps=save_step,\n",
        "    save_strategy=\"steps\",\n",
        "    logging_steps=save_step,\n",
        "    learning_rate=lr,\n",
        "    weight_decay=0.001,\n",
        "    fp16=False,\n",
        "    bf16=True,\n",
        "    max_grad_norm=0.3,\n",
        "    max_steps=-1,\n",
        "    warmup_ratio=0.03,\n",
        "    group_by_length=True,\n",
        "    lr_scheduler_type=\"constant\",\n",
        "    report_to=\"none\",\n",
        "    save_total_limit=1,\n",
        "    #load_best_model_at_end=True\n",
        ")"
      ]
    },
    {
      "cell_type": "markdown",
      "metadata": {
        "id": "YR2F2c-9ks6y"
      },
      "source": [
        "## Create trainer"
      ]
    },
    {
      "cell_type": "code",
      "execution_count": null,
      "metadata": {
        "colab": {
          "referenced_widgets": [
            "88ff9d07dc2d42ac9899db560785a5c2",
            "9da2ae809e12487c9b75126c573b323b"
          ]
        },
        "id": "I2uU5MH9ks6y",
        "outputId": "5014ac3e-59e5-4d3a-bc8b-9cca8ab353e5"
      },
      "outputs": [
        {
          "name": "stderr",
          "output_type": "stream",
          "text": [
            "/opt/conda/lib/python3.10/site-packages/huggingface_hub/utils/_deprecation.py:100: FutureWarning: Deprecated argument(s) used in '__init__': max_seq_length. Will not be supported from version '1.0.0'.\n",
            "\n",
            "Deprecated positional argument(s) used in SFTTrainer, please use the SFTConfig to set these arguments instead.\n",
            "  warnings.warn(message, FutureWarning)\n",
            "/opt/conda/lib/python3.10/site-packages/transformers/training_args.py:1494: FutureWarning: `evaluation_strategy` is deprecated and will be removed in version 4.46 of 🤗 Transformers. Use `eval_strategy` instead\n",
            "  warnings.warn(\n",
            "/opt/conda/lib/python3.10/site-packages/transformers/training_args.py:1961: FutureWarning: `--push_to_hub_token` is deprecated and will be removed in version 5 of 🤗 Transformers. Use `--hub_token` instead.\n",
            "  warnings.warn(\n",
            "/opt/conda/lib/python3.10/site-packages/trl/trainer/sft_trainer.py:269: UserWarning: You passed a `max_seq_length` argument to the SFTTrainer, the value you passed will override the one in the `SFTConfig`.\n",
            "  warnings.warn(\n"
          ]
        },
        {
          "data": {
            "application/vnd.jupyter.widget-view+json": {
              "model_id": "88ff9d07dc2d42ac9899db560785a5c2",
              "version_major": 2,
              "version_minor": 0
            },
            "text/plain": [
              "Map:   0%|          | 0/8144 [00:00<?, ? examples/s]"
            ]
          },
          "metadata": {},
          "output_type": "display_data"
        },
        {
          "data": {
            "application/vnd.jupyter.widget-view+json": {
              "model_id": "9da2ae809e12487c9b75126c573b323b",
              "version_major": 2,
              "version_minor": 0
            },
            "text/plain": [
              "Map:   0%|          | 0/2036 [00:00<?, ? examples/s]"
            ]
          },
          "metadata": {},
          "output_type": "display_data"
        },
        {
          "name": "stderr",
          "output_type": "stream",
          "text": [
            "Detected kernel version 5.4.0, which is below the recommended minimum of 5.5.0; this can cause the process to hang. It is recommended to upgrade the kernel to the minimum version or higher.\n"
          ]
        }
      ],
      "source": [
        "trainer = SFTTrainer(\n",
        "    model=model,\n",
        "    train_dataset=dataset[\"train\"],\n",
        "    eval_dataset=dataset[\"validation\"],\n",
        "    peft_config=peft_config,\n",
        "    max_seq_length= 128,\n",
        "    #dataset_text_field=[\"input\", \"output\"],\n",
        "    tokenizer=tokenizer,\n",
        "    args=training_arguments,\n",
        "    packing= False,\n",
        "    formatting_func = formatting_prompts_func,\n",
        "    #data_collator=collator\n",
        ")"
      ]
    },
    {
      "cell_type": "markdown",
      "metadata": {
        "id": "PL5CTM38ks6z"
      },
      "source": [
        "# Train"
      ]
    },
    {
      "cell_type": "code",
      "execution_count": null,
      "metadata": {
        "id": "jBICOmZNks6z",
        "outputId": "876e4d5e-ffad-4b57-bb53-ee01fe086587"
      },
      "outputs": [
        {
          "name": "stderr",
          "output_type": "stream",
          "text": [
            "`use_cache=True` is incompatible with gradient checkpointing. Setting `use_cache=False`.\n",
            "/opt/conda/lib/python3.10/site-packages/torch/utils/checkpoint.py:460: UserWarning: torch.utils.checkpoint: please pass in use_reentrant=True or use_reentrant=False explicitly. The default value of use_reentrant will be updated to be False in the future. To maintain current behavior, pass use_reentrant=True. It is recommended that you use use_reentrant=False. Refer to docs for more details on the differences between the two variants.\n",
            "  warnings.warn(\n"
          ]
        },
        {
          "data": {
            "text/html": [
              "\n",
              "    <div>\n",
              "      \n",
              "      <progress value='2036' max='2036' style='width:300px; height:20px; vertical-align: middle;'></progress>\n",
              "      [2036/2036 12:19, Epoch 4/4]\n",
              "    </div>\n",
              "    <table border=\"1\" class=\"dataframe\">\n",
              "  <thead>\n",
              " <tr style=\"text-align: left;\">\n",
              "      <th>Step</th>\n",
              "      <th>Training Loss</th>\n",
              "      <th>Validation Loss</th>\n",
              "    </tr>\n",
              "  </thead>\n",
              "  <tbody>\n",
              "    <tr>\n",
              "      <td>509</td>\n",
              "      <td>0.835900</td>\n",
              "      <td>0.775727</td>\n",
              "    </tr>\n",
              "    <tr>\n",
              "      <td>1018</td>\n",
              "      <td>0.678900</td>\n",
              "      <td>0.783178</td>\n",
              "    </tr>\n",
              "    <tr>\n",
              "      <td>1527</td>\n",
              "      <td>0.582300</td>\n",
              "      <td>0.805292</td>\n",
              "    </tr>\n",
              "    <tr>\n",
              "      <td>2036</td>\n",
              "      <td>0.504200</td>\n",
              "      <td>0.857617</td>\n",
              "    </tr>\n",
              "  </tbody>\n",
              "</table><p>"
            ],
            "text/plain": [
              "<IPython.core.display.HTML object>"
            ]
          },
          "metadata": {},
          "output_type": "display_data"
        },
        {
          "name": "stderr",
          "output_type": "stream",
          "text": [
            "/opt/conda/lib/python3.10/site-packages/peft/utils/other.py:611: UserWarning: Unable to fetch remote file due to the following error 401 Client Error. (Request ID: Root=1-667e879b-71bae10f3a5a460d5e832a24;6a6edf87-2ada-4024-95d1-fa4dce9bdca3)\n",
            "\n",
            "Cannot access gated repo for url https://huggingface.co/google/gemma-2b-it/resolve/main/config.json.\n",
            "Access to model google/gemma-2b-it is restricted. You must be authenticated to access it. - silently ignoring the lookup for the file config.json in google/gemma-2b-it.\n",
            "  warnings.warn(\n",
            "/opt/conda/lib/python3.10/site-packages/peft/utils/save_and_load.py:195: UserWarning: Could not find a config file in google/gemma-2b-it - will assume that the vocabulary was not modified.\n",
            "  warnings.warn(\n",
            "/opt/conda/lib/python3.10/site-packages/torch/utils/checkpoint.py:460: UserWarning: torch.utils.checkpoint: please pass in use_reentrant=True or use_reentrant=False explicitly. The default value of use_reentrant will be updated to be False in the future. To maintain current behavior, pass use_reentrant=True. It is recommended that you use use_reentrant=False. Refer to docs for more details on the differences between the two variants.\n",
            "  warnings.warn(\n",
            "/opt/conda/lib/python3.10/site-packages/peft/utils/other.py:611: UserWarning: Unable to fetch remote file due to the following error 401 Client Error. (Request ID: Root=1-667e8854-6c2d3b4f6c4a8aff51be0d03;3e51ed88-69bb-422b-a4a7-3ffbbbba389a)\n",
            "\n",
            "Cannot access gated repo for url https://huggingface.co/google/gemma-2b-it/resolve/main/config.json.\n",
            "Access to model google/gemma-2b-it is restricted. You must be authenticated to access it. - silently ignoring the lookup for the file config.json in google/gemma-2b-it.\n",
            "  warnings.warn(\n",
            "/opt/conda/lib/python3.10/site-packages/peft/utils/save_and_load.py:195: UserWarning: Could not find a config file in google/gemma-2b-it - will assume that the vocabulary was not modified.\n",
            "  warnings.warn(\n",
            "/opt/conda/lib/python3.10/site-packages/torch/utils/checkpoint.py:460: UserWarning: torch.utils.checkpoint: please pass in use_reentrant=True or use_reentrant=False explicitly. The default value of use_reentrant will be updated to be False in the future. To maintain current behavior, pass use_reentrant=True. It is recommended that you use use_reentrant=False. Refer to docs for more details on the differences between the two variants.\n",
            "  warnings.warn(\n",
            "/opt/conda/lib/python3.10/site-packages/peft/utils/other.py:611: UserWarning: Unable to fetch remote file due to the following error 401 Client Error. (Request ID: Root=1-667e890d-4edcfd861e5b3dd43550c283;60fa54ec-99cb-4365-8aff-506f77b5209b)\n",
            "\n",
            "Cannot access gated repo for url https://huggingface.co/google/gemma-2b-it/resolve/main/config.json.\n",
            "Access to model google/gemma-2b-it is restricted. You must be authenticated to access it. - silently ignoring the lookup for the file config.json in google/gemma-2b-it.\n",
            "  warnings.warn(\n",
            "/opt/conda/lib/python3.10/site-packages/peft/utils/save_and_load.py:195: UserWarning: Could not find a config file in google/gemma-2b-it - will assume that the vocabulary was not modified.\n",
            "  warnings.warn(\n",
            "/opt/conda/lib/python3.10/site-packages/torch/utils/checkpoint.py:460: UserWarning: torch.utils.checkpoint: please pass in use_reentrant=True or use_reentrant=False explicitly. The default value of use_reentrant will be updated to be False in the future. To maintain current behavior, pass use_reentrant=True. It is recommended that you use use_reentrant=False. Refer to docs for more details on the differences between the two variants.\n",
            "  warnings.warn(\n",
            "/opt/conda/lib/python3.10/site-packages/peft/utils/other.py:611: UserWarning: Unable to fetch remote file due to the following error 401 Client Error. (Request ID: Root=1-667e89c7-2f36c4b25b0c15c5356370b7;a0e077a5-9ff8-464b-bef6-40321539fc53)\n",
            "\n",
            "Cannot access gated repo for url https://huggingface.co/google/gemma-2b-it/resolve/main/config.json.\n",
            "Access to model google/gemma-2b-it is restricted. You must be authenticated to access it. - silently ignoring the lookup for the file config.json in google/gemma-2b-it.\n",
            "  warnings.warn(\n",
            "/opt/conda/lib/python3.10/site-packages/peft/utils/save_and_load.py:195: UserWarning: Could not find a config file in google/gemma-2b-it - will assume that the vocabulary was not modified.\n",
            "  warnings.warn(\n"
          ]
        },
        {
          "data": {
            "text/plain": [
              "TrainOutput(global_step=2036, training_loss=0.6503350908020858, metrics={'train_runtime': 740.7535, 'train_samples_per_second': 43.977, 'train_steps_per_second': 2.749, 'total_flos': 1.834279790247936e+16, 'train_loss': 0.6503350908020858, 'epoch': 4.0})"
            ]
          },
          "execution_count": 35,
          "metadata": {},
          "output_type": "execute_result"
        }
      ],
      "source": [
        "trainer.train()"
      ]
    },
    {
      "cell_type": "markdown",
      "metadata": {
        "id": "27yNgLZuks6z"
      },
      "source": [
        "# Eval\n",
        "- If you save the model to the output_dir folder, the training code above will automatically save the model to output_dir/checkpoint-{save_step} (in my case: out/checkpoint-2036). We will load the model from this folder:\n",
        "  - I calculate _id = save_step * num_epoch = 509 * 4 = 2036\n",
        "  - My model will saved at \"{output_dir}/checkpoint-{_id}\"\n",
        "- I use del model, gc.collect() and torch.cuda.empty_cache() to release trained model (save gpu memory).\n",
        "- We use PeftConfig.from_pretrained to lead peft config (this is the same as peft config at training)\n",
        "- we load pretrained model like before.\n",
        "- We load the tokenizer in this folder by passing the saved folder to AutoTokenizer.from_pretrained()\n",
        "- We use PeftModel.from_pretrained(model, peft_model_id) to merge pre-trained model with finetuned lora model (note that when we use peft lora, training code only saves lora model, this saves our storage and saving time)"
      ]
    },
    {
      "cell_type": "code",
      "execution_count": null,
      "metadata": {
        "id": "a1SANAgbks6z",
        "outputId": "9e294b7d-66f0-4a9c-cd9a-3beefc148a4a"
      },
      "outputs": [
        {
          "name": "stdout",
          "output_type": "stream",
          "text": [
            "509\n"
          ]
        }
      ],
      "source": [
        "save_step = len(df_train)//bs//ga_steps*epochs//4\n",
        "print(save_step)"
      ]
    },
    {
      "cell_type": "code",
      "execution_count": null,
      "metadata": {
        "id": "UDzY0h9Uks6z"
      },
      "outputs": [],
      "source": [
        "import gc\n",
        "\n",
        "del model\n",
        "gc.collect()\n",
        "torch.cuda.empty_cache()"
      ]
    },
    {
      "cell_type": "code",
      "execution_count": null,
      "metadata": {
        "colab": {
          "referenced_widgets": [
            "573464f2b6c44f03a84a5007fb365244"
          ]
        },
        "id": "lewDq4iWks6z",
        "outputId": "016c64ff-9f01-4149-f1bf-c2652573b9a4"
      },
      "outputs": [
        {
          "data": {
            "application/vnd.jupyter.widget-view+json": {
              "model_id": "573464f2b6c44f03a84a5007fb365244",
              "version_major": 2,
              "version_minor": 0
            },
            "text/plain": [
              "Loading checkpoint shards:   0%|          | 0/2 [00:00<?, ?it/s]"
            ]
          },
          "metadata": {},
          "output_type": "display_data"
        }
      ],
      "source": [
        "from peft import PeftModel, PeftConfig\n",
        "from transformers import AutoModelForCausalLM, AutoTokenizer\n",
        "import torch\n",
        "\n",
        "_id = save_step*4\n",
        "\n",
        "peft_model_id = f\"{output_dir}/checkpoint-{_id}\"\n",
        "\n",
        "config = PeftConfig.from_pretrained(peft_model_id)\n",
        "\n",
        "bnb_config = BitsAndBytesConfig(\n",
        "    load_in_4bit=True,\n",
        "    bnb_4bit_use_double_quant=False,\n",
        "    bnb_4bit_quant_type=\"nf4\",\n",
        "    bnb_4bit_compute_dtype=torch.float16,\n",
        ")\n",
        "\n",
        "model = AutoModelForCausalLM.from_pretrained(\n",
        "    modelpath,\n",
        "    device_map=\"auto\",\n",
        "    #torch_dtype=torch.float16,\n",
        "    torch_dtype=torch.bfloat16,\n",
        "    quantization_config=bnb_config,\n",
        "    attn_implementation=\"flash_attention_2\",\n",
        "    trust_remote_code=True,\n",
        "    token = 'YOUR TOKEN HERE'\n",
        ")\n",
        "\n",
        "tokenizer = AutoTokenizer.from_pretrained(f\"{output_dir}/checkpoint-{_id}\",\n",
        "                                          trust_remote_code=True,\n",
        "                                          padding_side='left',\n",
        "                                          token='YOUR TOKEN HERE')\n",
        "\n",
        "# Load the Lora model\n",
        "model = PeftModel.from_pretrained(model, peft_model_id)"
      ]
    },
    {
      "cell_type": "code",
      "execution_count": null,
      "metadata": {
        "id": "B-NVwDKAks6z"
      },
      "outputs": [],
      "source": [
        "def create_prompt(input_, output_):\n",
        "    output_ = 'A. Positive' if output_ == 'positive' else 'B. Neutral' if output_ == 'neutral' else 'C. Negative'\n",
        "        #text = f\"### Question: {input__}\\n ### Answer: {example['output'][i]}\"\n",
        "    text = f'''{input_}\n",
        "A. Positive\n",
        "B. Neutral\n",
        "C. Negative\n",
        "\n",
        "The correct answer is'''\n",
        "\n",
        "    return text"
      ]
    },
    {
      "cell_type": "code",
      "execution_count": null,
      "metadata": {
        "id": "GmD6YMAbks6z",
        "outputId": "d74d56cf-0a5d-4eca-f331-372cca629f28"
      },
      "outputs": [
        {
          "name": "stdout",
          "output_type": "stream",
          "text": [
            "The sentiment of this comment: \"món ăn rất ngon\" is\n",
            "A. Positive\n",
            "B. Neutral\n",
            "C. Negative\n",
            "\n",
            "The correct answer is\n"
          ]
        }
      ],
      "source": [
        "sentence = 'món ăn rất ngon'\n",
        "input_ = f'''The sentiment of this comment: \"{sentence}\" is'''\n",
        "prompt = create_prompt(input_, \"\")\n",
        "print(prompt)"
      ]
    },
    {
      "cell_type": "code",
      "execution_count": null,
      "metadata": {
        "id": "l9r0wTTeks60",
        "outputId": "cf9f80df-ba62-4241-d9f5-ca62c2a3cf7e"
      },
      "outputs": [
        {
          "data": {
            "text/plain": [
              "tensor([[     2,    651,  25627,    576,    736,   4986, 235292,    664,  92020,\n",
              "          28644,  31085,  60774, 235281,    603,    108, 235280, 235265,  40695,\n",
              "            108, 235305, 235265,  62407,    108, 235288, 235265,  48314,    109,\n",
              "            651,   5112,   3448,    603]])"
            ]
          },
          "execution_count": 41,
          "metadata": {},
          "output_type": "execute_result"
        }
      ],
      "source": [
        "inputs = torch.tensor([tokenizer.encode(prompt)])\n",
        "inputs"
      ]
    },
    {
      "cell_type": "code",
      "execution_count": null,
      "metadata": {
        "id": "0QjACMQCks60"
      },
      "outputs": [],
      "source": [
        "tokens = model.generate(\n",
        "    inputs.to(model.device),\n",
        "    max_new_tokens=50,\n",
        "    temperature=0.1,\n",
        "    do_sample=True\n",
        ")"
      ]
    },
    {
      "cell_type": "code",
      "execution_count": null,
      "metadata": {
        "id": "QuuEHWg0ks61",
        "outputId": "3a61e1a4-eeba-45ec-a0f6-9ad90d663a9f"
      },
      "outputs": [
        {
          "name": "stdout",
          "output_type": "stream",
          "text": [
            "<bos>The sentiment of this comment: \"món ăn rất ngon\" is\n",
            "A. Positive\n",
            "B. Neutral\n",
            "C. Negative\n",
            "\n",
            "The correct answer is B. Neutral.\n",
            "\n",
            "The neutral sentiment of this comment \"Không có khu vực để sinh viên thư giãn sau giờ học.\" is a middle ground between positive and negative.<eos>\n"
          ]
        }
      ],
      "source": [
        "print(tokenizer.decode(tokens[0], skip_special_tokens=False))"
      ]
    },
    {
      "cell_type": "code",
      "execution_count": null,
      "metadata": {
        "id": "dKtPkf84ks61",
        "outputId": "1833f587-55f8-4dd6-a77f-3730211b5725"
      },
      "outputs": [
        {
          "name": "stdout",
          "output_type": "stream",
          "text": [
            "<bos>The sentiment of this comment: \"món ăn rất ngon\" is\n",
            "A. Positive\n",
            "B. Neutral\n",
            "C. Negative\n",
            "\n",
            "The correct answer is B. Neutral\n"
          ]
        },
        {
          "name": "stderr",
          "output_type": "stream",
          "text": [
            "/opt/conda/lib/python3.10/site-packages/transformers/generation/configuration_utils.py:540: UserWarning: `do_sample` is set to `False`. However, `temperature` is set to `0.1` -- this flag is only used in sample-based generation modes. You should set `do_sample=True` or unset `temperature`.\n",
            "  warnings.warn(\n"
          ]
        }
      ],
      "source": [
        "tokens = model.generate(\n",
        "    inputs.to(model.device),\n",
        "    max_new_tokens=3,\n",
        "    temperature=0.1,\n",
        "    do_sample=False\n",
        ")\n",
        "print(tokenizer.decode(tokens[0], skip_special_tokens=False))"
      ]
    },
    {
      "cell_type": "code",
      "execution_count": null,
      "metadata": {
        "id": "NnJTgQCBks61",
        "outputId": "f4f320cd-842c-4c3f-d76b-d288ef26963b"
      },
      "outputs": [
        {
          "name": "stdout",
          "output_type": "stream",
          "text": [
            "0 100.0 0:00:00.122506 0:00:00.122509\n",
            "100 88.11881188118812 0:00:12.185316 0:00:00.120647\n",
            "200 84.07960199004975 0:00:24.150237 0:00:00.120150\n",
            "300 84.38538205980066 0:00:36.177115 0:00:00.120190\n",
            "400 84.53865336658353 0:00:48.170303 0:00:00.120125\n",
            "500 84.83033932135729 0:01:00.213893 0:00:00.120187\n",
            "600 85.19134775374376 0:01:12.246645 0:00:00.120211\n",
            "700 85.30670470756063 0:01:24.269723 0:00:00.120214\n",
            "800 85.39325842696628 0:01:36.232939 0:00:00.120141\n",
            "900 86.01553829078802 0:01:48.269853 0:00:00.120166\n",
            "1000 86.11388611388612 0:02:00.242135 0:00:00.120122\n",
            "1100 86.37602179836512 0:02:12.229190 0:00:00.120099\n",
            "1200 85.67860116569526 0:02:24.258395 0:00:00.120115\n",
            "1300 85.7033051498847 0:02:36.222706 0:00:00.120079\n",
            "1400 86.0813704496788 0:02:48.214244 0:00:00.120067\n",
            "1500 85.67621585609594 0:03:00.188641 0:00:00.120046\n",
            "1600 85.8213616489694 0:03:12.124168 0:00:00.120003\n",
            "1700 86.0082304526749 0:03:24.116642 0:00:00.119998\n",
            "1800 86.17434758467517 0:03:36.194998 0:00:00.120042\n",
            "1900 86.21778011572856 0:03:48.182514 0:00:00.120033\n",
            "2000 86.2568715642179 0:04:00.100780 0:00:00.119990\n"
          ]
        }
      ],
      "source": [
        "from datetime import datetime\n",
        "\n",
        "start = datetime.now()\n",
        "\n",
        "prediction = []\n",
        "response = []\n",
        "accuracy = []\n",
        "labels = []\n",
        "\n",
        "for i, x in df_test.iterrows():\n",
        "    sentence = x['sentence']\n",
        "    label = x['sentiment']\n",
        "    input_ = f'''The sentiment of this comment: \"{sentence}\" is'''\n",
        "    prompt = create_prompt(input_, label)\n",
        "\n",
        "    inputs = tokenizer.encode(\n",
        "        prompt,\n",
        "        # add_generation_prompt=True,\n",
        "        return_tensors='pt'\n",
        "    )\n",
        "\n",
        "    tokens = model.generate(\n",
        "        inputs.to(model.device),\n",
        "        max_new_tokens=3,\n",
        "        temperature=0.1,\n",
        "        do_sample=False,\n",
        "        pad_token_id=tokenizer.eos_token_id\n",
        "    )\n",
        "    #break\n",
        "\n",
        "    answer = tokenizer.decode(tokens[0], skip_special_tokens=False).split(\"The correct answer is \")[-1]\n",
        "    answer = 'positive' if 'positive' in answer.lower() else 'negative' if 'negative' in answer.lower() else 'neutral'\n",
        "    prediction.append(answer.lower())\n",
        "    response.append(tokenizer.decode(tokens[0], skip_special_tokens=False))\n",
        "\n",
        "    accuracy.append(prediction[-1] == label)\n",
        "    labels.append(label)\n",
        "\n",
        "    if i % 100 == 0:\n",
        "        print(i, np.array(accuracy).sum()/len(prediction)*100, datetime.now() - start, (datetime.now() - start)/len(prediction))"
      ]
    },
    {
      "cell_type": "code",
      "execution_count": null,
      "metadata": {
        "id": "nYavygjyks62",
        "outputId": "b164c8d9-c7af-41c9-a850-6aa018cd4bb2"
      },
      "outputs": [
        {
          "name": "stdout",
          "output_type": "stream",
          "text": [
            "              precision    recall  f1-score   support\n",
            "\n",
            "    negative     0.9742    0.9898    0.9819       686\n",
            "     neutral     0.7877    0.8030    0.7953       670\n",
            "    positive     0.8171    0.7882    0.8024       680\n",
            "\n",
            "    accuracy                         0.8610      2036\n",
            "   macro avg     0.8596    0.8603    0.8599      2036\n",
            "weighted avg     0.8603    0.8610    0.8605      2036\n",
            "\n"
          ]
        }
      ],
      "source": [
        "from sklearn.metrics import classification_report, f1_score\n",
        "import sklearn\n",
        "\n",
        "print(sklearn.metrics.classification_report(labels, prediction, digits=4))"
      ]
    },
    {
      "cell_type": "markdown",
      "metadata": {
        "id": "rkPqQM4Jks62"
      },
      "source": [
        "# Check results\n",
        "- I print all sentences have wrong prediction and see that almost cases is bug.\n",
        "- Conclusion, dataset is not clean than finetune LLM can't better than finetune roberta (~89..90%), because roberta will overfit even in test dataset.\n",
        "- In additionally, when I print example: \"món ăn này rất ngon\", we can see that model before finetune work better. Model after finetune only think about school (because finetune dataset is about school) and it don't know about food review. Than I think we only need finetune for special cases and finetune dataset need be clean and large enough."
      ]
    },
    {
      "cell_type": "code",
      "execution_count": null,
      "metadata": {
        "id": "yAogGARpks62"
      },
      "outputs": [],
      "source": [
        "df_test['predict'] = prediction"
      ]
    },
    {
      "cell_type": "code",
      "execution_count": null,
      "metadata": {
        "id": "bnfx99_uks62",
        "outputId": "e8126a2e-126d-404d-de3a-7ff3a8eab221"
      },
      "outputs": [
        {
          "name": "stdout",
          "output_type": "stream",
          "text": [
            "Ngôn ngữ tiếng Anh được sử dụng trong nhiều môn học như là ngôn ngữ chính. positive neutral\n",
            "Tôi có thể ứng dụng các kiến thức có được từ chương trình đào tạo vào công việc của mình. neutral positive\n",
            "Trường này giúp tốt cho việc thực hành và phát triển kỹ năng. neutral positive\n",
            "Giảng viên rất tài năng và có nhiều kinh nghiệm trong công tác giảng dạy. positive neutral\n",
            "Được học tập với các giáo viên giàu kinh nghiệm và thực tiễn. positive neutral\n",
            "Nhà hàng và các cửa hàng tiện lợi ở gần trường rất đa dạng và phong phú. neutral positive\n",
            "Cô ấy là một giáo viên rất thông minh và chuyên nghiệp. neutral positive\n",
            "Anh ấy có một tầm nhìn đỉnh cao và khả năng giải quyết vấn đề tốt. positive neutral\n",
            "Có nhiều hoạt động ngoại khóa và phong phú cho sinh viên. neutral positive\n",
            "Giảng viên đầy năng lượng và sáng tạo trong việc truyền đạt kiến thức. neutral positive\n",
            "Sân cỏ của trường được tu bổ và định hướng riêng cho các hoạt động thể thao. positive neutral\n",
            "Phòng học được trang bị đầy đủ tiện nghi giúp sinh viên luôn dễ dàng tiếp cận tài liệu và thông tin liên quan. positive neutral\n",
            "Chương trình học đáp ứng được nhu cầu của thị trường lao động hiện nay, giúp tôi có nhiều cơ hội việc làm. neutral positive\n",
            "Thầy dạy rất chuyên nghiệp và nhiệt tình. neutral positive\n",
            "Đại học này có nhiều hội thảo và khóa tập huấn giúp sinh viên trau dồi kiến thức và kỹ năng. neutral positive\n",
            "Các phòng thí nghiệm được trang bị đầy đủ các thiết bị cần thiết. positive neutral\n",
            "Khu vực học tập tại thư viện rất yên tĩnh và thoải mái. neutral positive\n",
            "Thầy/cô đánh giá và đề xuất những ý kiến xây dựng tích cực giúp sinh viên phát triển hơn. neutral positive\n",
            "Trường có các hoạt động ngoại khóa thú vị và hấp dẫn cho sinh viên. neutral positive\n",
            "Giảng viên rất chân thành và nhiệt tình. neutral positive\n",
            "Giảng viên này có tâm huyết công việc và đam mê với nghề giảng dạy. neutral positive\n",
            "Hệ thống thư viện và tài nguyên học tập rất đầy đủ và tiện lợi. positive neutral\n",
            "Chương trình đào tạo có nhiều tính ứng dụng giúp sinh viên tự tin và thành công trong công việc. neutral positive\n",
            "Trường cần có chính sách hỗ trợ chi phí học tập phù hợp cho sinh viên. neutral negative\n",
            "Thầy cho học sinh một cái nhìn tổng quan về chuyên ngành của mình. neutral positive\n",
            "Sinh viên được khuyến khích tham gia các hoạt động trường đoản cú và hội thảo. positive neutral\n",
            "Các phòng học được trang bị đầy đủ tiện nghi và thiết bị. positive neutral\n",
            "Chương trình đào tạo rất đa dạng về cả nội dung lẫn hình thức đào tạo. neutral positive\n",
            "Trường cung cấp cho tôi nhiều cơ hội học tập trực tuyến và giúp tôi tiết kiệm thời gian. positive neutral\n",
            "Chương trình học giúp tôi hiểu rõ hơn về cách tập trung vào khách hàng và giúp tôi phát triển những giá trị ở phần còn lại của doanh nghiệp. neutral positive\n",
            "Trường đại học cung cấp nhiều chương trình học bổng hỗ trợ cho sinh viên khó khăn kinh tế. neutral positive\n",
            "Khu vực sống động của trường rất thú vị cho sinh viên. positive neutral\n",
            "Thư viện của trường có nhiều tài liệu bổ ích và đa dạng. positive neutral\n",
            "Cậu ấy luôn sẵn sàng đóng góp ý kiến và đưa ra giải pháp cho các vấn đề khó khăn trong dự án. neutral positive\n",
            "Hệ thống an ninh tại trường rất chặt chẽ và đảm bảo an toàn cho sinh viên. neutral positive\n",
            "Thầy giải thích cặn kẽ và dễ hiểu. neutral positive\n",
            "Thầy cô giảng dạy đều rất nhiệt tình và có kinh nghiệm trong lĩnh vực đang giảng dạy. neutral positive\n",
            "Tôi rất ấn tượng với sự trang trí trong trường, chúng tạo cảm giác thoải mái và thư giãn cho sinh viên. positive neutral\n",
            "Không gian của từng phòng học đều được bố trí theo thiết kế hiện đại. positive neutral\n",
            "Cô ấy luôn sẵn sàng giúp đỡ và hỗ trợ người khác. positive neutral\n",
            "Tôi học được nhiều kỹ năng quan trọng trong lớp học và trên thực tế. neutral positive\n",
            "Trường có hệ thống thông tin quản lý hiện đại và đáp ứng được các yêu cầu của sinh viên. positive neutral\n",
            "Giảng viên luôn tạo ra môi trường cởi mở để học sinh có thể tự do thảo luận. neutral positive\n",
            "Anh ấy rất lịch sự và tôn trọng người khác. positive neutral\n",
            "Giảng viên đưa ra những câu hỏi thú vị và khó giải quyết, giúp sinh viên rèn luyện kỹ năng suy luận và phân tích. positive neutral\n",
            "Giảng viên giúp tôi hiểu được vấn đề hơn và đưa ra nhiều ví dụ thực tế để áp dụng vào cuộc sống. neutral positive\n",
            "Thầy có những trải nghiệm và lời khuyên quý giá được chia sẻ với sinh viên. neutral positive\n",
            "Bạn của em là người dễ thương và trẻ trung. positive neutral\n",
            "Thầy có những phương pháp giảng dạy độc đáo và hiệu quả. neutral positive\n",
            "Cô ấy rất sáng tạo và nghệ thuật. positive neutral\n",
            "Chương trình đào tạo giúp tôi phát triển mối quan hệ với các sinh viên khác và các giảng viên. neutral positive\n",
            "Nàng có sự tập trung cao độ và luôn đạt được những thành tích tốt. positive neutral\n",
            "Phòng học được bố trí nhiều ánh sáng tự nhiên giúp sinh viên tiết kiệm được điện trong quá trình học tập. neutral positive\n",
            "Khuyến khích và tạo điều kiện cho sinh viên tham gia các hoạt động từ thiện và xã hội. neutral positive\n",
            "Chương trình giáo dục giúp tôi hiểu rõ hơn về bản thân và định hướng nghề nghiệp sau này của mình. neutral positive\n",
            "Thư viện đầy đủ sách vở cần thiết. neutral positive\n",
            "Tôi rất hài lòng với chương trình đào tạo vì có cả các môn học ngắn hạn cho sinh viên. neutral positive\n",
            "Tôi rất thích kết hợp của một số môn học cơ bản và những chủ đề thú vị và lạ lẫm. neutral positive\n",
            "Giảng viên có thể sử dụng nhiều phương pháp giảng dạy khác nhau để thu hút sinh viên học tập. neutral positive\n",
            "Thầy giúp đỡ sinh viên định hướng nghề nghiệp và phát triển bản thân. positive neutral\n",
            "Các phòng học được trang bị đầy đủ vật dụng và thiết bị để đáp ứng nhu cầu học tập. positive neutral\n",
            "Giảng dạy của thầy rất đặc sắc và sinh động. neutral positive\n",
            "Tôi rất thích lối thiết kế và trang trí của trường, nó cực kỳ ấn tượng và sáng tạo. positive neutral\n",
            "Giảng viên hướng dẫn giỏi với lượng kinh nghiệm thực tiễn phong phú. neutral positive\n",
            "Thầy cung cấp cho chúng tôi nhiều tài liệu và bài giảng hữu ích. neutral positive\n",
            "Em thấy bạn của mình rất nhanh nhẹn và chăm chỉ học. positive neutral\n",
            "Giảng viên luôn tạo cảm giác thoải mái cho sinh viên khi học để họ dễ dàng học hỏi và tiếp thu kiến thức. neutral positive\n",
            "Khu vực sinh hoạt của sinh viên được quản lý tốt, an ninh. neutral positive\n",
            "Cơ hội để thực tập trong một môi trường thực tế. neutral positive\n",
            "Chương trình học rất thú vị và đa dạng. neutral positive\n",
            "Cách đánh giá và phương pháp giảng dạy của trường rất khuyến khích và tạo động lực cho học sinh. neutral positive\n",
            "Thầy giảng dạy rất chu đáo và chuyên nghiệp. neutral positive\n",
            "Giáo viên rất nhiệt tình và giúp đỡ sinh viên trong quá trình học tập. positive neutral\n",
            "Giảng viên luôn mong muốn sinh viên học tập có cho chính mình lợi ích. negative neutral\n",
            "Bạn của tôi là người rất duyên dáng và sành điệu. positive neutral\n",
            "Môn học trong chương trình đào tạo được giảng dạy bởi những giáo viên giỏi và có chuyên môn cao. positive neutral\n",
            "Anh ấy là một người học tập tích cực và đam mê trong việc tìm hiểu kiến thức mới. positive neutral\n",
            "Cơ sở vật chất của trường được trang bị hiện đại và chất lượng. positive neutral\n",
            "Thầy luôn đưa ra những ví dụ cụ thể và minh hoạ để giúp sinh viên hiểu bài tập. neutral positive\n",
            "Môn học giúp tôi học được nhiều kinh nghiệm và kỹ năng cần thiết cho công việc của mình. neutral positive\n",
            "Thầy là một giảng viên rất giỏi trong việc truyền đạt kiến thức và kỹ năng cho sinh viên. positive neutral\n",
            "Những bài kiểm tra và đánh giá đầy thử thách trong chương trình đào tạo giúp tôi trở nên chuyên nghiệp hơn. neutral positive\n",
            "Cô ấy rất năng động và thân thiện đối với mọi người trong lớp. positive neutral\n",
            "Anh ấy là một người giỏi về công nghệ và có khả năng giải quyết vấn đề kỹ thuật. positive neutral\n",
            "Thời gian và địa điểm học tập không phù hợp cho một số sinh viên. neutral negative\n",
            "Anh bạn cùng lớp rất hòa đồng và dễ gần. positive neutral\n",
            "Chương trình đào tạo giúp tôi trang bị những kỹ năng mềm cần thiết để thành công trong tương lai. positive neutral\n",
            "Các khu vực tiếp khách của trường được bố trí thông thoáng và chuyên nghiệp. neutral positive\n",
            "Giảng viên này dạy rất tốt và truyền cảm hứng cho học sinh. neutral positive\n",
            "Thầy tạo ra môi trường học tập vui vẻ và ấm cúng. positive neutral\n",
            "Trường luôn giữ gìn sạch sẽ và dễ dàng bảo trì hơn nhờ vào các thiết bị trang trí và cơ sở vật chất. positive neutral\n",
            "Điểm yếu của chương trình là thiếu sự khuyến khích và hỗ trợ cho sinh viên tự học. negative neutral\n",
            "Đội ngũ kỹ thuật của trường luôn có mặt để giúp đỡ và giải quyết các vấn đề kỹ thuật cho sinh viên. positive neutral\n",
            "Cô ấy là người có tài năng đặc biệt và luôn cố gắng vượt qua giới hạn của bản thân. negative positive\n",
            "Chương trình giảng dạy rất phù hợp với nhu cầu của sinh viên. neutral positive\n",
            "Thầy cô đề cao các trẻ em trên hết và mang đến cho chúng ta một môi trường học tập khuyến khích và thân thiện. negative neutral\n",
            "Khu vực cho sinh viên tự học khá thoải mái và tiện nghi. neutral positive\n",
            "Các khu vực đặt tủ hồ sơ của trường được bảo quản an toàn và chín chu. neutral positive\n",
            "Thầy là người rất tận tâm và trách nhiệm trong công việc giảng dạy. neutral positive\n",
            "Giảng viên rất thông cảm và hỗ trợ chúng tôi trong quá trình học tập. neutral positive\n",
            "Tôi cảm thấy rất ấm áp và thoải mái khi sử dụng phòng sinh hoạt chung. positive neutral\n",
            "Không gian nội thất của phòng học rất tốt, được thiết kế để giúp tăng sự tập trung của sinh viên. positive neutral\n",
            "Tôi cảm thấy rất cảm kích vì giảng viên của mình luôn sẵn sàng giúp đỡ sinh viên trong bất cứ lúc nào. positive neutral\n",
            "Tôi rất hài lòng với các phòng học ở đây. positive neutral\n",
            "Giúp sinh viên nắm bắt được những quy tắc và đạo đức trong ngành. neutral positive\n",
            "Học tại đây đòi hỏi tôi tính kỷ luật và sự đóng góp sáng tạo. negative positive\n",
            "Thông tin trường được đăng tải đầy đủ và chi tiết. neutral positive\n",
            "Anh ấy là người rất chu đáo và sẵn sàng giúp đỡ người khác. neutral positive\n",
            "Tôi rất thích phần thực tập trong một số khóa học, giúp tôi học được nhiều kỹ năng thực tế và hoàn thiện bản thân. neutral positive\n",
            "Các hội trường đều rộng rãi và được trang bị những trang thiết bị hiện đại. positive neutral\n",
            "Giảng viên này là người rất thông minh và có nhiều kiến thức về lĩnh vực của mình. neutral positive\n",
            "Giáo trình được cập nhật thường xuyên và phù hợp với chương trình học của trường. neutral positive\n",
            "Phòng thực hành có trang thiết bị và công cụ hiện đại. positive neutral\n",
            "Các phòng thí nghiệm của trường được trang bị đầy đủ thiết bị và công nghệ hiện đại. positive neutral\n",
            "Tôi thật sự đánh giá cao cơ sở vật chất của trường, nó đáp ứng tốt nhu cầu học tập và giải trí của sinh viên. positive neutral\n",
            "Cơ hội để đi du học và tham gia các chương trình trao đổi với các trường đại học nước ngoài. neutral positive\n",
            "Môn học tập trung vào việc thực hành và ứng dụng kiến thức vào thực tế. positive neutral\n",
            "Các khu vực lưu trú của trường được trang bị đầy đủ tiện nghi để đảm bảo sự thoải mái cho sinh viên. positive neutral\n",
            "Nhà hàng của trường cung cấp các món ăn ngon và đa dạng. positive neutral\n",
            "Chị ấy rất năng động và có khả năng lãnh đạo tốt. neutral positive\n",
            "Trường có nhiều chương trình hỗ trợ cho sinh viên đạt thành tích cao. neutral positive\n",
            "Anh ta là một người vui tính và dễ gần. positive neutral\n",
            "Các giảng viên rất tận tâm và nhiệt tình trong việc giảng dạy. neutral positive\n",
            "Đội ngũ nhân viên bảo trì trường luôn hỗ trợ và sử dụng các tiện ích tốt nhất. positive neutral\n",
            "Khu vực khuân viên quanh trường xanh tươi, những tin tức, thông báo của trường được phát trực tiếp, rõ ràng, dễ tiếp cận. positive neutral\n",
            "Bài giảng rất rõ ràng và dễ hiểu. neutral positive\n",
            "Cô bạn này rất hiền lành và tốt bụng. positive neutral\n",
            "Chương trình đào tạo rất đa dạng và đầy đủ, giúp sinh viên có thể nắm bắt được nhiều kiến thức khác nhau. neutral positive\n",
            "Giờ học của thầy rất hiệu quả và cấu trúc. neutral positive\n",
            "Những bài giảng của giáo viên rất chi tiết và đầy đủ thông tin. neutral positive\n",
            "Chương trình đào tạo giúp sinh viên phát triển kỹ năng quản lý thời gian và tự chủ trong học tập. positive neutral\n",
            "Chương trình học của trường đặt nhiều giá trị vào đạo đức, tinh thần và giá trị con người. positive neutral\n",
            "Học viên có thể trao đổi với nhau và chia sẻ kiến thức, kinh nghiệm học tập. neutral positive\n",
            "Thầy luôn cập nhật kiến thức mới nhất để giảng dạy cho sinh viên. positive neutral\n",
            "Giảng viên rất tinh tế khi đưa ra các bài giảng sâu sắc. neutral positive\n",
            "Chương trình giảng dạy kết hợp giữa lý thuyết và thực hành tốt. neutral positive\n",
            "Thầy dạy cho sinh viên cách suy nghĩ đa chiều và phân tích dữ liệu một cách nâng cao. positive neutral\n",
            "Thầy đưa ra những tài liệu và thí nghiệm thực tế để giúp học sinh học tập tốt hơn. neutral positive\n",
            "Thiết bị và phương tiện giảng dạy của trường cần được nâng cấp. neutral negative\n",
            "Giảng viên rất dễ tiếp cận và thân thiện, dễ tạo được môi trường học tập tích cực. positive neutral\n",
            "Cơ hội được học hỏi từ các giảng viên nước ngoài. positive neutral\n",
            "Cô bạn này rất lịch sự và tế nhị. positive neutral\n",
            "Anh ta là người rất năng động và luôn tạo động lực cho người khác. positive neutral\n",
            "Các hoạt động đối ngoại của trường đa dạng và hấp dẫn cho sinh viên. neutral positive\n",
            "Giảng đường rộng rãi và sạch sẽ. neutral positive\n",
            "Đại học tôi có nhiều công trình kiến trúc đẹp và ấn tượng. positive neutral\n",
            "Trường cần thay đổi đồ nội thất mới hơn. neutral negative\n",
            "Tôi rất ngưỡng mộ khả năng làm việc của anh ấy. positive neutral\n",
            "Giảng viên rất thông minh và có kiến thức sâu rộng. positive neutral\n",
            "Anh ấy luôn đặt các mục tiêu và hoàn thành chúng một cách tốt đẹp. positive neutral\n",
            "Thầy dạy rất thông minh và tập trung vào việc giảng dạy cho học sinh hiểu bài học. neutral positive\n",
            "Thư viện trường có nhiều chủ đề khác nhau giúp sinh viên tìm được nguồn tài liệu phù hợp với nhu cầu học tập của mình. neutral positive\n",
            "Tôi rất hài lòng với các dịch vụ hỗ trợ của trường, đặc biệt là các dịch vụ tư vấn và tài chính. positive neutral\n",
            "Anh ta có tính cách điềm đạm và không bao giờ hoảng loạn. neutral positive\n",
            "Các hoạt động ngoại khóa của trường đa dạng và hấp dẫn cho người tham gia. neutral positive\n",
            "Thầy cung cấp cho sinh viên các tài nguyên và công cụ hỗ trợ giảng dạy hiệu quả. neutral positive\n",
            "Thầy là người giảng dạy giỏi nhất mà tôi từng gặp. positive neutral\n",
            "Trường có cung cấp wifi miễn phí cho sinh viên, giúp các em tiện lợi hơn trong việc truy cập internet. positive neutral\n",
            "Có rất nhiều cơ hội để bạn phát triển năng lực không chỉ trong lớp học mà còn ngoài đời thực. positive neutral\n",
            "Khu vực ngồi chờ đợi được trang bị đầy đủ ghế và trang thiết bị giúp sinh viên chờ đợi một cách thoải mái. positive neutral\n",
            "Giảng viên này đưa ra những bài giảng rõ ràng và hấp dẫn, giúp cho học sinh hiểu bài học dễ dàng hơn. neutral positive\n",
            "Cô bạn này là một giảng viên tuyệt vời, luôn hỗ trợ và giúp đỡ sinh viên. positive neutral\n",
            "Cô ấy có nhiều kỹ năng và luôn cố gắng chia sẻ những kinh nghiệm của mình với nhau. neutral positive\n",
            "Tôi rất thích cách mà chương trình đào tạo được tổ chức và quản lý. positive neutral\n",
            "Chương trình tiên tiến chưa được triển khai rộng rãi cho sinh viên. negative neutral\n",
            "Cô ấy là một người rất giỏi trong việc giảng dạy và rất nhiệt tình. positive neutral\n",
            "Anh ấy là một người có khả năng truyền cảm hứng và động viên người khác. positive neutral\n",
            "Giảng viên này thường chỉ giảng cho các sinh viên sáng gió. neutral negative\n",
            "Ký túc xá của trường rất tiện nghi và sạch sẽ. positive neutral\n",
            "Giảng viên luôn tạo điều kiện để sinh viên có thể tự tìm hiểu và tốt hơn trong học tập. neutral positive\n",
            "Chị ấy có khả năng làm việc nhóm tốt và tạo ra một môi trường hợp tác tốt nhất cho tất cả mọi người. neutral positive\n",
            "Chương trình học tập đáp ứng được những yêu cầu của nghề nghiệp. neutral positive\n",
            "Hệ thống camera an ninh hoạt động tốt và đảm bảo an toàn cho sinh viên. positive neutral\n",
            "Cô ấy có kiến thức sâu rộng và giọng nói dễ nghe. positive neutral\n",
            "Có nhiều vấn đề về thiết bị và hệ thống mạng trong các phòng học. negative neutral\n",
            "Bạn của tôi là người rất năng động và luôn có những ý tưởng mới lạ. positive neutral\n",
            "Thầy rất nhiệt tình với các câu hỏi của sinh viên. neutral positive\n",
            "Trường đại học này là nơi lý tưởng để giao lưu và kết nối với những người bạn mới. positive neutral\n",
            "Trường hỗ trợ sinh viên đăng ký tham gia các kỳ thi chứng chỉ và đào tạo khác. neutral positive\n",
            "Thầy rất nhanh nhạy và thuận tiện trong việc giảng dạy online. neutral positive\n",
            "Cơ sở vật chất tại đại học này đáp ứng tốt nhu cầu học tập của sinh viên. neutral positive\n",
            "Môn học không phù hợp với chuyên ngành cụ thể và độ khó quá cao. negative neutral\n",
            "Anh ấy có trí thông minh sáng suốt và sự nghiệp của anh ấy tuyệt vời. positive neutral\n",
            "Khả năng cải thiện kỹ năng dự án và kỹ năng giải quyết vấn đề. negative neutral\n",
            "Sự đa dạng của chương trình đào tạo giúp tăng tính linh hoạt cho sinh viên. neutral positive\n",
            "Thầy có khả năng dạy học đa dạng để phù hợp với các học sinh có nền tảng kém. neutral positive\n",
            "Thầy thường tạo ra các hoạt động nhóm để tăng cường tương tác giữa học viên và học viên. neutral positive\n",
            "Bạn sẽ không thể tìm thấy một giảng viên tốt hơn ở bất kỳ nơi nào khác. negative positive\n",
            "Anh ấy là một người rất tận tâm với công việc và gia đình. neutral positive\n",
            "Các phòng học và phòng thí nghiệm trong trường được trang bị đầy đủ thiết bị để đảm bảo chất lượng học tập. positive neutral\n",
            "Giảng viên là một người có tác phong và phong cách giảng dạy rất chuyên nghiệp. neutral positive\n",
            "Thầy cô giảng dạy đều rất hòa nhã và thân thiện, giúp tôi cảm thấy thoải mái hơn trong lớp học. neutral positive\n",
            "Các dịch vụ thư viện của trường rất tốt và được cập nhật thường xuyên. positive neutral\n",
            "Giảng viên rất nhiệt tình trong việc trao đổi và thảo luận để giải quyết những khó khăn trong quá trình học tập. neutral positive\n",
            "Giảng viên dạy rất chất lượng và hiệu quả. neutral positive\n",
            "Chương trình đào tạo rất chuyên nghiệp. neutral positive\n",
            "Tôi mong đợi giảng viên sẽ sửa ngay lập tức những sai sót trong bài giảng để tránh nhầm lẫn. negative neutral\n",
            "Thầy là một người dạy rất nhiệt tình và sáng tạo. neutral positive\n",
            "Không giới hạn về thời gian học tập. neutral positive\n",
            "Cô ấy có đạo đức và phẩm chất tốt. positive neutral\n",
            "Giảng viên thường sử dụng những phương pháp dạy học độc đáo và hiệu quả. negative positive\n",
            "Các phòng học được cải tạo định kỳ để đáp ứng nhu cầu học tập của sinh viên. neutral positive\n",
            "Tôi cảm thấy kiến thức được truyền đạt sâu sắc và có tính ứng dụng cao. positive neutral\n",
            "Chương trình học phù hợp với yêu cầu của thị trường và đáp ứng được nhu cầu của học viên. neutral positive\n",
            "Khuôn viên trường rộng lớn và được bố trí hợp lí. neutral positive\n",
            "Trường có các chương trình học bổng và tài trợ giúp đỡ những sinh viên có thành tích học tập cao. positive neutral\n",
            "Các căn tin ở đây rất ngon và giá cả phải chăng. positive neutral\n",
            "Tôi cảm thấy chương trình học không thực sự đáp ứng được nhu cầu ngành nghề hiện tại. neutral negative\n",
            "Học phí được giảm giá cho những sinh viên đăng ký sớm. neutral positive\n",
            "Thầy này tổ chức và quản lý giảng dạy rất tốt. neutral positive\n",
            "Giảng viên này quá đòi hỏi cao về điểm số và đôi khi làm khó học sinh. negative neutral\n",
            "Tôi rất yêu thích không gian của thư viện và các dịch vụ bổ trợ tại đây. positive neutral\n",
            "Các phòng học được trang bị tiện nghi và đầy đủ thiết bị. positive neutral\n",
            "Thầy rất trung thực và chính trực trong giảng dạy. neutral positive\n",
            "Chương trình học rất linh hoạt và có thể phù hợp với nhu cầu của từng sinh viên. neutral positive\n",
            "Thầy này lắng nghe học sinh rất chu đáo. neutral positive\n",
            "Giảng viên này không giúp được học sinh đạt được những mục tiêu của họ. negative neutral\n",
            "Ký túc xá của trường có các dịch vụ tiện ích như tập gym và quầy cà phê. neutral positive\n",
            "Trường đặt nhiều ưu tiên cho sự phát triển toàn diện của sinh viên. positive neutral\n",
            "Thầy hỗ trợ sinh viên trong việc giải quyết các vấn đề học thuật và cá nhân. neutral positive\n",
            "Đội ngũ nhân viên ở đây luôn hỗ trợ và đáp ứng mọi nhu cầu của sinh viên. positive neutral\n",
            "Tôi hướng đến mục tiêu của bản thân với sự giúp đỡ của giảng viên. neutral positive\n",
            "Phòng thí nghiệm ở trường được trang bị đầy đủ thiết bị và máy móc. positive neutral\n",
            "Đội ngũ giáo viên có nhiều tri thức và kinh nghiệm giúp sinh viên nắm vững kiến thức chuyên môn. neutral positive\n",
            "Bạn của tôi luôn đặt lợi ích của người khác lên hàng đầu và luôn làm việc vì sự thịnh vượng của cộng đồng. negative positive\n",
            "Trường đại học này luôn giữ vệ sinh và sửa chữa tốt hệ thống cơ sở vật chất. positive neutral\n",
            "Bạn của tôi rất cởi mở và dễ thương với mọi người. positive neutral\n",
            "Thầy là một giảng viên rất thân thiện và luôn sẵn sàng trợ giúp sinh viên. neutral positive\n",
            "Cô ấy rất cẩn thận và chú ý đến chi tiết nhỏ nhất. neutral positive\n",
            "Phòng học được trang bị sản phẩm đánh giá như máy chiếu, máy tính, tivi, loa, đệm ngồi, ... positive neutral\n",
            "Các hoạt động giáo dục khá đa dạng và phong phú. neutral positive\n",
            "Các bài kiểm tra được thiết kế tốt và công bằng. neutral positive\n",
            "Thầy luôn dạy sinh viên cách tư duy và phát triển kỹ năng. positive neutral\n",
            "Trường cần cải thiện cơ sở vật chất để đáp ứng nhu cầu của sinh viên. neutral negative\n",
            "Tôi rất thích khung giờ học có sắp xếp phù hợp với lịch trình của sinh viên. neutral positive\n",
            "Lớp học được tổ chức khoa học, hỗ trợ sinh viên không chỉ giúp học mà còn giúp sinh viên rèn luyện kỹ năng quản lý thời gian. positive neutral\n",
            "Anh bạn này luôn cố gắng hết sức cho những bài kiểm tra của mình. neutral positive\n",
            "Cơ sở vật chất của trường đáp ứng được các nhu cầu học tập và thực hành của sinh viên. positive neutral\n",
            "Giảng viên rất thân thiện và có tư duy phản biện cao. neutral positive\n",
            "Cô ấy có khả năng đưa ra quyết định một cách đúng đắn và hiệu quả. neutral positive\n",
            "Trường được trang bị đầy đủ thiết bị thông tin liên lạc giữa sinh viên và giảng viên. positive neutral\n",
            "Anh ấy là một người tài năng và có tinh thần tự thách thức bản thân. neutral positive\n",
            "Các giảng viên đều rất am hiểu trong lĩnh vực của mình. neutral positive\n",
            "Người này là người rất năng động và luôn tìm cách tạo sự khác biệt. negative neutral\n",
            "Giáo trình rất thú vị và độc đáo, giúp tôi học được nhiều thứ mới lạ. positive neutral\n",
            "Khuôn viên đất nền rộng rãi và khá yên tĩnh. neutral positive\n",
            "Giảng viên này đưa ra những giải pháp đột phá và sáng tạo cho việc học tập. neutral positive\n",
            "Thầy dạy rất cẩn thận và tỉ mỉ, luôn chú ý từng chi tiết. positive neutral\n",
            "Thầy truyền cảm hứng và động viên các sinh viên có hoàn cảnh khó khăn. positive neutral\n",
            "Anh ấy có tinh thần lạc quan và luôn giữ vững niềm tin vào bản thân. positive neutral\n",
            "Giảng viên hướng dẫn sinh viên tạo ra một mục tiêu cho bản thân và đạt được nó. positive neutral\n",
            "Giảng viên này đưa ra các ví dụ rất thực tế và hữu ích để giúp tôi hiểu bài học. neutral positive\n",
            "Giảng viên rất thân thiện và tạo không khí học tập tích cực cho sinh viên. positive neutral\n",
            "Thầy đưa ra những phương pháp dạy học hiệu quả và hữu ích cho sinh viên. neutral positive\n",
            "Tôi rất hài lòng với chương trình học nơi đây. positive neutral\n",
            "Bạn của em là người rất cá tính và không sợ thể hiện bản thân. positive neutral\n",
            "Cô ấy có phong cách dạy học vô cùng sáng tạo và thú vị. positive neutral\n",
            "Có rất nhiều nguồn tài nguyên hỗ trợ học viên trong quá trình học tập. neutral positive\n",
            "Anh ta luôn có tinh thần học hỏi và mở đầu với những kiến thức mới. positive neutral\n",
            "Các buổi học được tổ chức chặt chẽ và có sự chuẩn bị kỹ lưỡng. neutral positive\n",
            "Nàng có tinh thần cởi mở và đồng cảm với người khác. positive neutral\n",
            "Giảng viên dạy rất hay và dễ hiểu. neutral positive\n",
            "Phòng học được bố trí đồng nhất và gọn gàng, giúp cho sinh viên học tập tập trung hơn. positive neutral\n",
            "Giảng viên không thường xuyên liên hệ với sinh viên sau khi họ kết thúc môn học. negative neutral\n",
            "Có rất nhiều bạn học tốt và tích cực tham gia vào các hoạt động của trường. positive neutral\n",
            "Anh ta là một giảng viên rất tận tâm và sáng tạo. neutral positive\n",
            "Chương trình học của trường giúp tôi có cơ hội học tập và nghiên cứu với những giảng viên hàng đầu trong ngành của mình. positive neutral\n",
            "Cậu bạn này rất thân thiện và hòa đồng. neutral positive\n",
            "Giảng viên rất đáng kính và được sinh viên yêu mến đặc biệt. positive neutral\n",
            "Thầy rất năng động, giúp sinh viên tập trung vào học tập một cách hiệu quả. positive neutral\n",
            "Giảng viên này tạo ra một môi trường học tập vui nhộn và hấp dẫn. neutral positive\n",
            "Chất lượng giảng dạy của trường tôi rất tốt trong đó giáo viên là một phần quan trọng. neutral positive\n",
            "Giảng viên mang lại kinh nghiệm thực tế cho học sinh. neutral positive\n",
            "Hệ thống rạp chiếu phim và trung tâm giải trí nâng cao sinh hoạt văn hóa cho sinh viên. positive neutral\n",
            "Phương pháp dạy học thiết thực và có tính ứng dụng cao. neutral positive\n",
            "Anh ấy rất hiểu biết và luôn giữ lời hứa. neutral positive\n",
            "Các phòng thí nghiệm được trang bị hệ thống giám sát hoạt động tốt. positive neutral\n",
            "Nhân viên phục vụ trường luôn sáng suốt, vui vẻ, nhiệt tình hỗ trợ sinh viên mọi khi cần thiết positive neutral\n",
            "Tài liệu học tập nhiệt tình và đầy trải nghiệm thực tế. positive neutral\n",
            "Các bài học được thiết kế tối ưu cho việc học trực tuyến. neutral positive\n",
            "Tôi cảm thấy rất tiếc khi thời gian học tập tại trường của tôi kết thúc. negative positive\n",
            "Thầy giáo của tôi rất tự tin và giỏi giang trong giảng dạy. neutral positive\n",
            "Cậu ấy rất có kỹ năng về sáng tạo và nghệ thuật. positive neutral\n"
          ]
        }
      ],
      "source": [
        "for i, row in df_test.iterrows():\n",
        "    if row['predict'] != row['sentiment']:\n",
        "        print(row['sentence'], row['predict'], row['sentiment'])"
      ]
    },
    {
      "cell_type": "code",
      "execution_count": null,
      "metadata": {
        "id": "AxnOP8EZks62"
      },
      "outputs": [],
      "source": []
    },
    {
      "cell_type": "code",
      "execution_count": null,
      "metadata": {
        "id": "Kf3dAltMks62"
      },
      "outputs": [],
      "source": []
    }
  ],
  "metadata": {
    "kaggle": {
      "accelerator": "gpu",
      "dataSources": [
        {
          "datasetId": 3052448,
          "sourceId": 5245967,
          "sourceType": "datasetVersion"
        }
      ],
      "dockerImageVersionId": 30733,
      "isGpuEnabled": true,
      "isInternetEnabled": true,
      "language": "python",
      "sourceType": "notebook"
    },
    "kernelspec": {
      "display_name": "Python 3 (ipykernel)",
      "language": "python",
      "name": "python3"
    },
    "language_info": {
      "codemirror_mode": {
        "name": "ipython",
        "version": 3
      },
      "file_extension": ".py",
      "mimetype": "text/x-python",
      "name": "python",
      "nbconvert_exporter": "python",
      "pygments_lexer": "ipython3",
      "version": "3.10.13"
    },
    "colab": {
      "provenance": [],
      "toc_visible": true
    }
  },
  "nbformat": 4,
  "nbformat_minor": 0
}