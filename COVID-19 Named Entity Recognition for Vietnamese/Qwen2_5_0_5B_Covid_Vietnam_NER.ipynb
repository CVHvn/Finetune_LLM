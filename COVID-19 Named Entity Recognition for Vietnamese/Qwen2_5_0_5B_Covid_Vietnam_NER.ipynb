{
  "cells": [
    {
      "cell_type": "markdown",
      "metadata": {
        "id": "GVvOQ2aCJkAd"
      },
      "source": [
        "#Install library"
      ]
    },
    {
      "cell_type": "code",
      "execution_count": null,
      "metadata": {
        "colab": {
          "base_uri": "https://localhost:8080/"
        },
        "id": "vdGSezhYJYH8",
        "outputId": "0e70b293-8dac-4637-8c01-cd2790ef77c7"
      },
      "outputs": [
        {
          "name": "stdout",
          "output_type": "stream",
          "text": [
            "\u001b[33mWARNING: Running pip as the 'root' user can result in broken permissions and conflicting behaviour with the system package manager. It is recommended to use a virtual environment instead: https://pip.pypa.io/warnings/venv\u001b[0m\u001b[33m\n",
            "\u001b[0m\u001b[33mWARNING: Running pip as the 'root' user can result in broken permissions and conflicting behaviour with the system package manager. It is recommended to use a virtual environment instead: https://pip.pypa.io/warnings/venv\u001b[0m\u001b[33m\n",
            "\u001b[0m\u001b[33mWARNING: Running pip as the 'root' user can result in broken permissions and conflicting behaviour with the system package manager. It is recommended to use a virtual environment instead: https://pip.pypa.io/warnings/venv\u001b[0m\u001b[33m\n",
            "\u001b[0m\u001b[33mWARNING: Running pip as the 'root' user can result in broken permissions and conflicting behaviour with the system package manager. It is recommended to use a virtual environment instead: https://pip.pypa.io/warnings/venv\u001b[0m\u001b[33m\n",
            "\u001b[0m\u001b[33mWARNING: Running pip as the 'root' user can result in broken permissions and conflicting behaviour with the system package manager. It is recommended to use a virtual environment instead: https://pip.pypa.io/warnings/venv\u001b[0m\u001b[33m\n",
            "\u001b[0m\u001b[33mWARNING: Running pip as the 'root' user can result in broken permissions and conflicting behaviour with the system package manager. It is recommended to use a virtual environment instead: https://pip.pypa.io/warnings/venv\u001b[0m\u001b[33m\n",
            "\u001b[0m\u001b[33mWARNING: Running pip as the 'root' user can result in broken permissions and conflicting behaviour with the system package manager. It is recommended to use a virtual environment instead: https://pip.pypa.io/warnings/venv\u001b[0m\u001b[33m\n",
            "\u001b[0m\u001b[33mWARNING: Running pip as the 'root' user can result in broken permissions and conflicting behaviour with the system package manager. It is recommended to use a virtual environment instead: https://pip.pypa.io/warnings/venv\u001b[0m\u001b[33m\n",
            "\u001b[0m\u001b[33mWARNING: Running pip as the 'root' user can result in broken permissions and conflicting behaviour with the system package manager. It is recommended to use a virtual environment instead: https://pip.pypa.io/warnings/venv\u001b[0m\u001b[33m\n",
            "\u001b[0m"
          ]
        }
      ],
      "source": [
        "!pip install -q datasets==2.16.0\n",
        "!pip install -q bitsandbytes\n",
        "!pip install -q tiktoken\n",
        "!pip install -q peft\n",
        "!pip install -q trl\n",
        "!pip install -q transformers\n",
        "!pip install -q openpyxl\n",
        "!pip install -q pandas\n",
        "!pip install -q scikit-learn\n",
        "#!pip install -q flash-attn\n",
        "#pip install -q transformers==4.38.1"
      ]
    },
    {
      "cell_type": "markdown",
      "metadata": {
        "id": "fzUYt1ovJlcF"
      },
      "source": [
        "#Import library"
      ]
    },
    {
      "cell_type": "code",
      "execution_count": null,
      "metadata": {
        "id": "T-A_yZcXJn4M"
      },
      "outputs": [],
      "source": [
        "import json\n",
        "import torch\n",
        "import pandas as pd\n",
        "import numpy as np\n",
        "from datasets import load_dataset\n",
        "from transformers import AutoModelForCausalLM, AutoTokenizer, BitsAndBytesConfig\n",
        "import torch\n",
        "from accelerate import PartialState\n",
        "from peft import LoraConfig, PeftModel, prepare_model_for_kbit_training, get_peft_model\n",
        "from trl import SFTTrainer\n",
        "from peft import prepare_model_for_kbit_training\n",
        "from transformers import TrainingArguments"
      ]
    },
    {
      "cell_type": "markdown",
      "metadata": {
        "id": "2_N5MuLeJqQV"
      },
      "source": [
        "#Hyperparameters"
      ]
    },
    {
      "cell_type": "code",
      "execution_count": null,
      "metadata": {
        "id": "tJHp3pCuJsJ9"
      },
      "outputs": [],
      "source": [
        "from IPython.display import clear_output\n",
        "\n",
        "modelpath = \"Qwen/Qwen2.5-0.5B-Instruct\"\n",
        "lr=2e-4      # learning rate\n",
        "bs=8            # batch size\n",
        "bs_eval=8      # batch size for evals\n",
        "ga_steps=2     # gradient acc. steps\n",
        "epochs=4\n",
        "max_length=2048      # max. sample length with 24GB VRAM\n",
        "output_dir=\"out\""
      ]
    },
    {
      "cell_type": "code",
      "execution_count": null,
      "metadata": {
        "id": "7ONclc_UkETm"
      },
      "outputs": [],
      "source": [
        "huggingface_token = input()\n",
        "clear_output()"
      ]
    },
    {
      "cell_type": "markdown",
      "metadata": {
        "id": "dp1YlRvsJynM"
      },
      "source": [
        "#Create Dataset\n",
        "- Because I don't need evaluate data when training (always use lastest model). I merge train and dev dataset.\n",
        "- Dataset is download from [PhoNER_COVID19](https://github.com/VinAIResearch/PhoNER_COVID19)\n",
        "- First I read dataset from json (actually jsonl)\n",
        "- I list all tags and review dataset, I convert list of tag (each tag for each word) to list of entity [(entity_name, entity_tag)] as [('Trung tâm Chống độc , Bệnh viện Bạch Mai', 'ORGANIZATION'),\n",
        "  ('7/3', 'DATE'),\n",
        "  ('ngộ độc thuốc', 'SYMPTOM_AND_DISEASE')]. I add this output to each sample dictionary with key = 'outputs'.\n",
        "- I create dataset file (to use dataset package easily):\n",
        "    - for each sample, create input and output from words and outputs of this sample\n",
        "    - dump dataset to jsonl\n",
        "    - use load_dataset to load train and val dataset."
      ]
    },
    {
      "cell_type": "code",
      "execution_count": null,
      "metadata": {
        "colab": {
          "base_uri": "https://localhost:8080/"
        },
        "id": "F_9RwGPOIlIh",
        "outputId": "d0ec6523-973e-45d1-a3cd-9b0c795c942f"
      },
      "outputs": [
        {
          "name": "stdout",
          "output_type": "stream",
          "text": [
            "Cloning into 'PhoNER_COVID19'...\n",
            "remote: Enumerating objects: 61, done.\u001b[K\n",
            "remote: Counting objects: 100% (61/61), done.\u001b[K\n",
            "remote: Compressing objects: 100% (42/42), done.\u001b[K\n",
            "remote: Total 61 (delta 24), reused 41 (delta 17), pack-reused 0 (from 0)\u001b[K\n",
            "Receiving objects: 100% (61/61), 3.61 MiB | 15.29 MiB/s, done.\n",
            "Resolving deltas: 100% (24/24), done.\n"
          ]
        }
      ],
      "source": [
        "!git clone https://github.com/VinAIResearch/PhoNER_COVID19"
      ]
    },
    {
      "cell_type": "code",
      "execution_count": null,
      "metadata": {
        "id": "G-aFGBCrLYoT"
      },
      "outputs": [],
      "source": [
        "train_data_json = []\n",
        "\n",
        "with open('PhoNER_COVID19/data/syllable/train_syllable.json', \"r\") as f:\n",
        "    for line in f:\n",
        "        data = json.loads(line)\n",
        "        #print(data)\n",
        "        train_data_json.append(data)"
      ]
    },
    {
      "cell_type": "code",
      "execution_count": null,
      "metadata": {
        "id": "svPMnf5DLY0b"
      },
      "outputs": [],
      "source": [
        "dev_data_json = []\n",
        "\n",
        "with open('PhoNER_COVID19/data/syllable/dev_syllable.json', \"r\") as f:\n",
        "    for line in f:\n",
        "        data = json.loads(line)\n",
        "        #print(data)\n",
        "        dev_data_json.append(data)"
      ]
    },
    {
      "cell_type": "code",
      "execution_count": null,
      "metadata": {
        "id": "BZ0bJZXDJ4SU"
      },
      "outputs": [],
      "source": [
        "test_data_json = []\n",
        "\n",
        "with open('PhoNER_COVID19/data/syllable/test_syllable.json', \"r\") as f:\n",
        "    for line in f:\n",
        "        data = json.loads(line)\n",
        "        #print(data)\n",
        "        test_data_json.append(data)"
      ]
    },
    {
      "cell_type": "code",
      "execution_count": null,
      "metadata": {
        "id": "Ah1hRf0gkETn"
      },
      "outputs": [],
      "source": [
        "train_data_json = train_data_json + dev_data_json"
      ]
    },
    {
      "cell_type": "code",
      "execution_count": null,
      "metadata": {
        "colab": {
          "base_uri": "https://localhost:8080/"
        },
        "id": "QIuOBLpzKCd8",
        "outputId": "b03b2982-8b2b-4c33-98ba-c4ced746e457"
      },
      "outputs": [
        {
          "name": "stdout",
          "output_type": "stream",
          "text": [
            "{'words': ['Từ', '24', '-', '7', 'đến', '31', '-', '7', ',', 'bệnh', 'nhân', 'được', 'mẹ', 'là', 'bà', 'H.T.P', '(', '47', 'tuổi', ')', 'đón', 'về', 'nhà', 'ở', 'phường', 'Phước', 'Hoà', '(', 'bằng', 'xe', 'máy', ')', ',', 'không', 'đi', 'đâu', 'chỉ', 'ra', 'Tạp', 'hoá', 'Phượng', ',', 'chợ', 'Vườn', 'Lài', ',', 'phường', 'An', 'Sơn', 'cùng', 'mẹ', 'bán', 'tạp', 'hoá', 'ở', 'đây', '.'], 'tags': ['O', 'B-DATE', 'I-DATE', 'I-DATE', 'O', 'B-DATE', 'I-DATE', 'I-DATE', 'O', 'O', 'O', 'O', 'O', 'O', 'O', 'B-NAME', 'O', 'B-AGE', 'O', 'O', 'O', 'O', 'O', 'O', 'B-LOCATION', 'I-LOCATION', 'I-LOCATION', 'O', 'O', 'O', 'O', 'O', 'O', 'O', 'O', 'O', 'O', 'O', 'B-LOCATION', 'I-LOCATION', 'I-LOCATION', 'O', 'B-LOCATION', 'I-LOCATION', 'I-LOCATION', 'O', 'B-LOCATION', 'I-LOCATION', 'I-LOCATION', 'O', 'O', 'B-JOB', 'I-JOB', 'I-JOB', 'O', 'O', 'O']}\n",
            "word: Từ --- have tag: O\n",
            "word: 24 --- have tag: B-DATE\n",
            "word: - --- have tag: I-DATE\n",
            "word: 7 --- have tag: I-DATE\n",
            "word: đến --- have tag: O\n",
            "word: 31 --- have tag: B-DATE\n",
            "word: - --- have tag: I-DATE\n",
            "word: 7 --- have tag: I-DATE\n",
            "word: , --- have tag: O\n",
            "word: bệnh --- have tag: O\n",
            "word: nhân --- have tag: O\n",
            "word: được --- have tag: O\n",
            "word: mẹ --- have tag: O\n",
            "word: là --- have tag: O\n",
            "word: bà --- have tag: O\n",
            "word: H.T.P --- have tag: B-NAME\n",
            "word: ( --- have tag: O\n",
            "word: 47 --- have tag: B-AGE\n",
            "word: tuổi --- have tag: O\n",
            "word: ) --- have tag: O\n",
            "word: đón --- have tag: O\n",
            "word: về --- have tag: O\n",
            "word: nhà --- have tag: O\n",
            "word: ở --- have tag: O\n",
            "word: phường --- have tag: B-LOCATION\n",
            "word: Phước --- have tag: I-LOCATION\n",
            "word: Hoà --- have tag: I-LOCATION\n",
            "word: ( --- have tag: O\n",
            "word: bằng --- have tag: O\n",
            "word: xe --- have tag: O\n",
            "word: máy --- have tag: O\n",
            "word: ) --- have tag: O\n",
            "word: , --- have tag: O\n",
            "word: không --- have tag: O\n",
            "word: đi --- have tag: O\n",
            "word: đâu --- have tag: O\n",
            "word: chỉ --- have tag: O\n",
            "word: ra --- have tag: O\n",
            "word: Tạp --- have tag: B-LOCATION\n",
            "word: hoá --- have tag: I-LOCATION\n",
            "word: Phượng --- have tag: I-LOCATION\n",
            "word: , --- have tag: O\n",
            "word: chợ --- have tag: B-LOCATION\n",
            "word: Vườn --- have tag: I-LOCATION\n",
            "word: Lài --- have tag: I-LOCATION\n",
            "word: , --- have tag: O\n",
            "word: phường --- have tag: B-LOCATION\n",
            "word: An --- have tag: I-LOCATION\n",
            "word: Sơn --- have tag: I-LOCATION\n",
            "word: cùng --- have tag: O\n",
            "word: mẹ --- have tag: O\n",
            "word: bán --- have tag: B-JOB\n",
            "word: tạp --- have tag: I-JOB\n",
            "word: hoá --- have tag: I-JOB\n",
            "word: ở --- have tag: O\n",
            "word: đây --- have tag: O\n",
            "word: . --- have tag: O\n"
          ]
        }
      ],
      "source": [
        "print(test_data_json[0])\n",
        "\n",
        "words = test_data_json[0]['words']\n",
        "tags = test_data_json[0]['tags']\n",
        "\n",
        "for w, t in zip(words, tags):\n",
        "    print(f\"word: {w} --- have tag: {t}\")"
      ]
    },
    {
      "cell_type": "code",
      "execution_count": null,
      "metadata": {
        "colab": {
          "base_uri": "https://localhost:8080/"
        },
        "id": "mJs2kwhHLevb",
        "outputId": "1eb79596-c59a-4dec-bd66-993fe0635a00"
      },
      "outputs": [
        {
          "name": "stdout",
          "output_type": "stream",
          "text": [
            "{'ORGANIZATION': 1688, 'SYMPTOM_AND_DISEASE': 2205, 'LOCATION': 8135, 'DATE': 3652, 'PATIENT_ID': 4516, 'AGE': 1043, 'NAME': 537, 'JOB': 337, 'TRANSPORTATION': 313, 'GENDER': 819}\n",
            "{'ORGANIZATION': 551, 'DATE': 1103, 'SYMPTOM_AND_DISEASE': 766, 'PATIENT_ID': 1276, 'GENDER': 277, 'AGE': 361, 'JOB': 132, 'LOCATION': 2737, 'NAME': 188, 'TRANSPORTATION': 87}\n",
            "{'DATE': 1654, 'NAME': 318, 'AGE': 582, 'LOCATION': 4441, 'JOB': 173, 'ORGANIZATION': 771, 'PATIENT_ID': 2005, 'SYMPTOM_AND_DISEASE': 1136, 'GENDER': 462, 'TRANSPORTATION': 193}\n",
            "['TRANSPORTATION', 'LOCATION', 'NAME', 'ORGANIZATION', 'JOB', 'GENDER', 'PATIENT_ID', 'SYMPTOM_AND_DISEASE', 'DATE', 'AGE']\n"
          ]
        }
      ],
      "source": [
        "train_tag_labels = dict()\n",
        "dev_tag_labels = dict()\n",
        "test_tag_labels = dict()\n",
        "\n",
        "for i, sample in enumerate(train_data_json):\n",
        "    tags = sample['tags']\n",
        "    words = sample['words']\n",
        "    outputs = []\n",
        "    object_name = \"\"\n",
        "    object_tag = \"\"\n",
        "    for j, (word, tag) in enumerate(zip(words, tags)):\n",
        "        if tag != 'O':\n",
        "            if tag[:2] == 'B-':\n",
        "                if object_name != \"\":\n",
        "                    outputs.append((object_name, object_tag))\n",
        "                object_name = word\n",
        "                object_tag = tag[2:]\n",
        "            elif tag[:2] != 'B-':\n",
        "                object_name += \" \" + word\n",
        "                if j == len(tags) - 1:\n",
        "                    outputs.append((object_name, object_tag))\n",
        "        else:\n",
        "            if object_name != \"\":\n",
        "                outputs.append((object_name, object_tag))\n",
        "            object_name = \"\"\n",
        "\n",
        "        if tag == 'O' or tag[:2] != 'B-':\n",
        "            continue\n",
        "        tag = tag[2:]\n",
        "        if tag in train_tag_labels:\n",
        "            train_tag_labels[tag] += 1\n",
        "        else:\n",
        "            train_tag_labels[tag] = 1\n",
        "    train_data_json[i] = {'words': train_data_json[i]['words'], 'tags': train_data_json[i]['tags'], 'outputs': outputs}\n",
        "\n",
        "for i, sample in enumerate(dev_data_json):\n",
        "    tags = sample['tags']\n",
        "    words = sample['words']\n",
        "    outputs = []\n",
        "    object_name = \"\"\n",
        "    object_tag = \"\"\n",
        "    for j, (word, tag) in enumerate(zip(words, tags)):\n",
        "        if tag != 'O':\n",
        "            if tag[:2] == 'B-':\n",
        "                if object_name != \"\":\n",
        "                    outputs.append((object_name, object_tag))\n",
        "                object_name = word\n",
        "                object_tag = tag[2:]\n",
        "            elif tag[:2] != 'B-':\n",
        "                object_name += \" \" + word\n",
        "                if j == len(tags) - 1:\n",
        "                    outputs.append((object_name, object_tag))\n",
        "        else:\n",
        "            if object_name != \"\":\n",
        "                outputs.append((object_name, object_tag))\n",
        "            object_name = \"\"\n",
        "\n",
        "        if tag == 'O' or tag[:2] != 'B-':\n",
        "            continue\n",
        "        tag = tag[2:]\n",
        "        if tag in dev_tag_labels:\n",
        "            dev_tag_labels[tag] += 1\n",
        "        else:\n",
        "            dev_tag_labels[tag] = 1\n",
        "    dev_data_json[i] = {'words': dev_data_json[i]['words'], 'tags': dev_data_json[i]['tags'], 'outputs': outputs}\n",
        "\n",
        "for i, sample in enumerate(test_data_json):\n",
        "    tags = sample['tags']\n",
        "    words = sample['words']\n",
        "    outputs = []\n",
        "    object_name = \"\"\n",
        "    object_tag = \"\"\n",
        "    for j, (word, tag) in enumerate(zip(words, tags)):\n",
        "        if tag != 'O':\n",
        "            if tag[:2] == 'B-':\n",
        "                if object_name != \"\":\n",
        "                    outputs.append((object_name, object_tag))\n",
        "                object_name = word\n",
        "                object_tag = tag[2:]\n",
        "            elif tag[:2] != 'B-':\n",
        "                object_name += \" \" + word\n",
        "                if j == len(tags) - 1:\n",
        "                    outputs.append((object_name, object_tag))\n",
        "        else:\n",
        "            if object_name != \"\":\n",
        "                outputs.append((object_name, object_tag))\n",
        "            object_name = \"\"\n",
        "\n",
        "        if tag == 'O' or tag[:2] != 'B-':\n",
        "            continue\n",
        "        tag = tag[2:]\n",
        "        if tag in test_tag_labels:\n",
        "            test_tag_labels[tag] += 1\n",
        "        else:\n",
        "            test_tag_labels[tag] = 1\n",
        "    test_data_json[i] = {'words': test_data_json[i]['words'], 'tags': test_data_json[i]['tags'], 'outputs': outputs}\n",
        "\n",
        "\n",
        "print(train_tag_labels)\n",
        "print(dev_tag_labels)\n",
        "print(test_tag_labels)\n",
        "tag_labels = list(set(list(train_tag_labels.keys()) + list(dev_tag_labels.keys()) + list(test_tag_labels.keys())))\n",
        "print(tag_labels)"
      ]
    },
    {
      "cell_type": "code",
      "execution_count": null,
      "metadata": {
        "colab": {
          "base_uri": "https://localhost:8080/"
        },
        "id": "Oh5CSRLbw_wR",
        "outputId": "bd4f1f8e-78d0-4804-b160-82e0d94c9e95"
      },
      "outputs": [
        {
          "data": {
            "text/plain": [
              "{'words': ['Bác',\n",
              "  'sĩ',\n",
              "  'Nguyễn',\n",
              "  'Trung',\n",
              "  'Nguyên',\n",
              "  ',',\n",
              "  'Giám',\n",
              "  'đốc',\n",
              "  'Trung',\n",
              "  'tâm',\n",
              "  'Chống',\n",
              "  'độc',\n",
              "  ',',\n",
              "  'Bệnh',\n",
              "  'viện',\n",
              "  'Bạch',\n",
              "  'Mai',\n",
              "  ',',\n",
              "  'cho',\n",
              "  'biết',\n",
              "  'bệnh',\n",
              "  'nhân',\n",
              "  'được',\n",
              "  'chuyển',\n",
              "  'đến',\n",
              "  'bệnh',\n",
              "  'viện',\n",
              "  'ngày',\n",
              "  '7/3',\n",
              "  ',',\n",
              "  'chẩn',\n",
              "  'đoán',\n",
              "  'ngộ',\n",
              "  'độc',\n",
              "  'thuốc',\n",
              "  'điều',\n",
              "  'trị',\n",
              "  'sốt',\n",
              "  'rét',\n",
              "  'chloroquine',\n",
              "  '.'],\n",
              " 'tags': ['O',\n",
              "  'O',\n",
              "  'O',\n",
              "  'O',\n",
              "  'O',\n",
              "  'O',\n",
              "  'O',\n",
              "  'O',\n",
              "  'B-ORGANIZATION',\n",
              "  'I-ORGANIZATION',\n",
              "  'I-ORGANIZATION',\n",
              "  'I-ORGANIZATION',\n",
              "  'I-ORGANIZATION',\n",
              "  'I-ORGANIZATION',\n",
              "  'I-ORGANIZATION',\n",
              "  'I-ORGANIZATION',\n",
              "  'I-ORGANIZATION',\n",
              "  'O',\n",
              "  'O',\n",
              "  'O',\n",
              "  'O',\n",
              "  'O',\n",
              "  'O',\n",
              "  'O',\n",
              "  'O',\n",
              "  'O',\n",
              "  'O',\n",
              "  'O',\n",
              "  'B-DATE',\n",
              "  'O',\n",
              "  'O',\n",
              "  'O',\n",
              "  'B-SYMPTOM_AND_DISEASE',\n",
              "  'I-SYMPTOM_AND_DISEASE',\n",
              "  'I-SYMPTOM_AND_DISEASE',\n",
              "  'O',\n",
              "  'O',\n",
              "  'O',\n",
              "  'O',\n",
              "  'O',\n",
              "  'O'],\n",
              " 'outputs': [('Trung tâm Chống độc , Bệnh viện Bạch Mai', 'ORGANIZATION'),\n",
              "  ('7/3', 'DATE'),\n",
              "  ('ngộ độc thuốc', 'SYMPTOM_AND_DISEASE')]}"
            ]
          },
          "execution_count": 10,
          "metadata": {},
          "output_type": "execute_result"
        }
      ],
      "source": [
        "dev_data_json[0]"
      ]
    },
    {
      "cell_type": "code",
      "execution_count": null,
      "metadata": {
        "colab": {
          "base_uri": "https://localhost:8080/"
        },
        "id": "PQZ0ckD0LwDb",
        "outputId": "cd6e1a16-73f7-40e7-9bf9-4337a32b225d"
      },
      "outputs": [
        {
          "name": "stdout",
          "output_type": "stream",
          "text": [
            "                     train   dev  test\n",
            "ORGANIZATION          1688   551   771\n",
            "SYMPTOM_AND_DISEASE   2205   766  1136\n",
            "LOCATION              8135  2737  4441\n",
            "DATE                  3652  1103  1654\n",
            "PATIENT_ID            4516  1276  2005\n",
            "AGE                   1043   361   582\n",
            "NAME                   537   188   318\n",
            "JOB                    337   132   173\n",
            "TRANSPORTATION         313    87   193\n",
            "GENDER                 819   277   462\n"
          ]
        }
      ],
      "source": [
        "df = pd.DataFrame([train_tag_labels, dev_tag_labels, test_tag_labels])\n",
        "df = df.T\n",
        "df.columns = ['train', 'dev', 'test']\n",
        "df = df.fillna(0).astype(int)\n",
        "print(df)"
      ]
    },
    {
      "cell_type": "code",
      "execution_count": null,
      "metadata": {
        "colab": {
          "base_uri": "https://localhost:8080/"
        },
        "id": "X2JhbBElNxAr",
        "outputId": "f21c21be-ec7b-4169-bef6-20b06b2b2ebf"
      },
      "outputs": [
        {
          "data": {
            "text/plain": [
              "['TRANSPORTATION',\n",
              " 'LOCATION',\n",
              " 'NAME',\n",
              " 'ORGANIZATION',\n",
              " 'JOB',\n",
              " 'GENDER',\n",
              " 'PATIENT_ID',\n",
              " 'SYMPTOM_AND_DISEASE',\n",
              " 'DATE',\n",
              " 'AGE']"
            ]
          },
          "execution_count": 12,
          "metadata": {},
          "output_type": "execute_result"
        }
      ],
      "source": [
        "tag_labels"
      ]
    },
    {
      "cell_type": "code",
      "execution_count": null,
      "metadata": {
        "id": "eG-zrhv_M1cP"
      },
      "outputs": [],
      "source": [
        "max_length_dataset = 0\n",
        "\n",
        "with open('train.jsonl', 'w', encoding='utf-8') as outfile:\n",
        "    for x in train_data_json:\n",
        "        words = \" \".join(x['words'])\n",
        "        tags = \" \".join(x['tags'])\n",
        "        outputs = str(x['outputs'])\n",
        "        #label = 'yes' if label == 'relevance' else 'no'\n",
        "        data = {\n",
        "            \"input\": f'''Named Entity Recognition Task\n",
        "\n",
        "Sentence: {words}\n",
        "\n",
        "Identify and label the named entities in the above sentence. The possible entity types are:\n",
        "NAME, GENDER, TRANSPORTATION, SYMPTOM_AND_DISEASE, DATE, ORGANIZATION, LOCATION, PATIENT_ID, JOB, AGE\n",
        "\n",
        "Format your response as a list of tuples: (entity, entity_type)\n",
        "''',\n",
        "            \"output\": f\"{outputs}\"\n",
        "        }\n",
        "        max_length_dataset = max(max_length_dataset, len(data['input'].split()) + len(data['output'].split()) + 2)\n",
        "        json.dump(data, outfile, ensure_ascii=False)\n",
        "        outfile.write('\\n')"
      ]
    },
    {
      "cell_type": "code",
      "execution_count": null,
      "metadata": {
        "id": "9Y7GyJmmM7k6"
      },
      "outputs": [],
      "source": [
        "with open('dev.jsonl', 'w', encoding='utf-8') as outfile:\n",
        "    for x in dev_data_json:\n",
        "        words = \" \".join(x['words'])\n",
        "        tags = \" \".join(x['tags'])\n",
        "        outputs = str(x['outputs'])\n",
        "        #label = 'yes' if label == 'relevance' else 'no'\n",
        "        data = {\n",
        "            \"input\": f'''Named Entity Recognition Task\n",
        "\n",
        "Sentence: {words}\n",
        "\n",
        "Identify and label the named entities in the above sentence. The possible entity types are:\n",
        "NAME, GENDER, TRANSPORTATION, SYMPTOM_AND_DISEASE, DATE, ORGANIZATION, LOCATION, PATIENT_ID, JOB, AGE\n",
        "\n",
        "Format your response as a list of tuples: (entity, entity_type)\n",
        "''',\n",
        "            \"output\": f\"{outputs}\"\n",
        "        }\n",
        "        max_length_dataset = max(max_length_dataset, len(data['input'].split()) + len(data['output'].split()) + 2)\n",
        "        json.dump(data, outfile, ensure_ascii=False)\n",
        "        outfile.write('\\n')"
      ]
    },
    {
      "cell_type": "code",
      "execution_count": null,
      "metadata": {
        "id": "OEvMgGCsM6dj"
      },
      "outputs": [],
      "source": [
        "with open('test.jsonl', 'w', encoding='utf-8') as outfile:\n",
        "    for x in test_data_json:\n",
        "        words = \" \".join(x['words'])\n",
        "        tags = \" \".join(x['tags'])\n",
        "        outputs = str(x['outputs'])\n",
        "        #label = 'yes' if label == 'relevance' else 'no'\n",
        "        data = {\n",
        "            \"input\": f'''Named Entity Recognition Task\n",
        "\n",
        "Sentence: {words}\n",
        "\n",
        "Identify and label the named entities in the above sentence. The possible entity types are:\n",
        "NAME, GENDER, TRANSPORTATION, SYMPTOM_AND_DISEASE, DATE, ORGANIZATION, LOCATION, PATIENT_ID, JOB, AGE\n",
        "\n",
        "Format your response as a list of tuples: (entity, entity_type)\n",
        "''',\n",
        "            \"output\": f\"{outputs}\"\n",
        "        }\n",
        "        max_length_dataset = max(max_length_dataset, len(data['input'].split()) + len(data['output'].split()) + 2)\n",
        "        json.dump(data, outfile, ensure_ascii=False)\n",
        "        outfile.write('\\n')"
      ]
    },
    {
      "cell_type": "code",
      "execution_count": null,
      "metadata": {
        "colab": {
          "base_uri": "https://localhost:8080/"
        },
        "id": "qd6L1Hr-RyLq",
        "outputId": "28485b25-4517-40d2-9c39-54dfabc3b914"
      },
      "outputs": [
        {
          "data": {
            "text/plain": [
              "372"
            ]
          },
          "execution_count": 17,
          "metadata": {},
          "output_type": "execute_result"
        }
      ],
      "source": [
        "max_length_dataset"
      ]
    },
    {
      "cell_type": "code",
      "execution_count": null,
      "metadata": {
        "colab": {
          "base_uri": "https://localhost:8080/",
          "height": 81,
          "referenced_widgets": [
            "ad685298d45d486499c123471b709c1b",
            "3f7dcc9a65894f8aa55bce26a5f27325",
            "68067171bc0745eea0b8b43d3a7694b7",
            "d943ecde451344608e2160fdc40c96a8",
            "c94c32f159a9427bb8d8aba0f69c299a",
            "d3538b6531ef4d1693eb455c59c674b7",
            "803d355df0404e1d9cf2a2ec3fff1a98",
            "7e915750d549459eb95b07f91dd122f0",
            "599607286d8842a6bd21307c4d66bdb5",
            "158b4684e76143769e789d2c715060b8",
            "c0aad3f6b9c246bea33c7229820ae367",
            "306d7e0871e147b29bef48dcb351048e",
            "ef1cd2ba68b74d5eb5c30434ebfd8d43",
            "0e95e117365542f7a96167250fb98143",
            "22700dc8624245cdb0c9555305c1b87b",
            "66368197562e401a95fbda72f38105dd",
            "50ff0355795142868702b4ee893133fc",
            "0f83c4086cff4eb4aaab92f27f7a7f95",
            "daf1bda8fd0a4a3b960dbebbd1db67d6",
            "04de32b6ec0b42159af893f77a09a2e1",
            "c678b76a052a44c7ab94e716626bfb38",
            "fbc00f101b474b7196ff237d2f4dd404",
            "5d00094aaadd4d169b195364ff3fdc03",
            "154215123f5b40a6b4c5cdc1c0bd2f6c"
          ]
        },
        "id": "sOb_F005O4ng",
        "outputId": "f07c571e-5ef5-4d60-fbb4-e7a7bfca1973"
      },
      "outputs": [
        {
          "data": {
            "application/vnd.jupyter.widget-view+json": {
              "model_id": "5d00094aaadd4d169b195364ff3fdc03",
              "version_major": 2,
              "version_minor": 0
            },
            "text/plain": [
              "Generating train split: 0 examples [00:00, ? examples/s]"
            ]
          },
          "metadata": {},
          "output_type": "display_data"
        },
        {
          "data": {
            "application/vnd.jupyter.widget-view+json": {
              "model_id": "154215123f5b40a6b4c5cdc1c0bd2f6c",
              "version_major": 2,
              "version_minor": 0
            },
            "text/plain": [
              "Generating validation split: 0 examples [00:00, ? examples/s]"
            ]
          },
          "metadata": {},
          "output_type": "display_data"
        }
      ],
      "source": [
        "data_files = {\n",
        "    \"train\": \"train.jsonl\",\n",
        "    \"validation\": \"test.jsonl\",\n",
        "}\n",
        "\n",
        "dataset = load_dataset(\"json\", data_files=data_files)"
      ]
    },
    {
      "cell_type": "code",
      "execution_count": null,
      "metadata": {
        "colab": {
          "base_uri": "https://localhost:8080/"
        },
        "id": "9e2sq6VvPj6P",
        "outputId": "12bdee17-bbd5-4df4-9c6e-8f54ddab583c"
      },
      "outputs": [
        {
          "data": {
            "text/plain": [
              "DatasetDict({\n",
              "    train: Dataset({\n",
              "        features: ['input', 'output'],\n",
              "        num_rows: 7027\n",
              "    })\n",
              "    validation: Dataset({\n",
              "        features: ['input', 'output'],\n",
              "        num_rows: 3000\n",
              "    })\n",
              "})"
            ]
          },
          "execution_count": 19,
          "metadata": {},
          "output_type": "execute_result"
        }
      ],
      "source": [
        "dataset"
      ]
    },
    {
      "cell_type": "code",
      "execution_count": null,
      "metadata": {
        "id": "u0MRyqoyPm9p"
      },
      "outputs": [],
      "source": []
    },
    {
      "cell_type": "markdown",
      "metadata": {
        "id": "TCHms2MqPq-B"
      },
      "source": [
        "#Create prompt format\n",
        "To train LLM, we need convert input and output to prompt. I use formatting_prompts_func function to convert. This function just concat input and output. Note that I add \" <|im_end|>\" at the end of prompt to help LLM know when we need stop generate output (<|im_end|> is eos token of Qwen2)"
      ]
    },
    {
      "cell_type": "code",
      "execution_count": null,
      "metadata": {
        "id": "BYmNDbSOPrew"
      },
      "outputs": [],
      "source": [
        "#from google.colab import userdata\n",
        "\n",
        "tokenizer = AutoTokenizer.from_pretrained(\n",
        "    modelpath,\n",
        "    padding_side=\"right\",\n",
        "    # add_eos_token=True,\n",
        "    # add_bos_token=True,\n",
        "    trust_remote_code=True,\n",
        "    token = huggingface_token#userdata.get('huggingface_token')\n",
        ")"
      ]
    },
    {
      "cell_type": "code",
      "execution_count": null,
      "metadata": {
        "colab": {
          "base_uri": "https://localhost:8080/"
        },
        "id": "-r5PSHjiP6aF",
        "outputId": "36389f67-be14-4f5c-8e94-e52b851897be"
      },
      "outputs": [
        {
          "name": "stdout",
          "output_type": "stream",
          "text": [
            "{'input_ids': tensor([[  1944, 131885, 130179, 128338]]), 'attention_mask': tensor([[1, 1, 1, 1]])}\n"
          ]
        },
        {
          "data": {
            "text/plain": [
              "['test', ' thử', ' mô', ' hình']"
            ]
          },
          "execution_count": 21,
          "metadata": {},
          "output_type": "execute_result"
        }
      ],
      "source": [
        "prompt = \"test thử mô hình\"\n",
        "tokens = tokenizer(prompt, return_tensors=\"pt\")\n",
        "print(tokens)\n",
        "tokenizer.batch_decode(tokenizer.encode(prompt))"
      ]
    },
    {
      "cell_type": "code",
      "execution_count": null,
      "metadata": {
        "id": "qGb3rlxHP9Hx"
      },
      "outputs": [],
      "source": [
        "def formatting_prompts_func(example):\n",
        "    output_texts = []\n",
        "    for i in range(len(example['input'])):\n",
        "        input_ = example['input'][i]\n",
        "        output_ = example['output'][i]\n",
        "        #text = f\"### Question: {input__}\\n ### Answer: {example['output'][i]}\"\n",
        "        text = f'''{input_}\n",
        "{output_} <|im_end|>'''\n",
        "\n",
        "        output_texts.append(text)\n",
        "    return output_texts"
      ]
    },
    {
      "cell_type": "code",
      "execution_count": null,
      "metadata": {
        "id": "UJgCJQmtyA89"
      },
      "outputs": [],
      "source": []
    },
    {
      "cell_type": "code",
      "execution_count": null,
      "metadata": {
        "colab": {
          "base_uri": "https://localhost:8080/"
        },
        "id": "y33-BWMnrnvH",
        "outputId": "518c2794-9cea-4f33-966f-33a243222e2f"
      },
      "outputs": [
        {
          "name": "stdout",
          "output_type": "stream",
          "text": [
            "['Bác', 'sĩ', 'Nguyễn', 'Trung', 'Nguyên', ',', 'Giám', 'đốc', 'Trung', 'tâm', 'Chống', 'độc', ',', 'Bệnh', 'viện', 'Bạch', 'Mai', ',', 'cho', 'biết', 'bệnh', 'nhân', 'được', 'chuyển', 'đến', 'bệnh', 'viện', 'ngày', '7/3', ',', 'chẩn', 'đoán', 'ngộ', 'độc', 'thuốc', 'điều', 'trị', 'sốt', 'rét', 'chloroquine', '.'] 41\n",
            "['O', 'O', 'O', 'O', 'O', 'O', 'O', 'O', 'B-ORGANIZATION', 'I-ORGANIZATION', 'I-ORGANIZATION', 'I-ORGANIZATION', 'I-ORGANIZATION', 'I-ORGANIZATION', 'I-ORGANIZATION', 'I-ORGANIZATION', 'I-ORGANIZATION', 'O', 'O', 'O', 'O', 'O', 'O', 'O', 'O', 'O', 'O', 'O', 'B-DATE', 'O', 'O', 'O', 'B-SYMPTOM_AND_DISEASE', 'I-SYMPTOM_AND_DISEASE', 'I-SYMPTOM_AND_DISEASE', 'O', 'O', 'O', 'O', 'O', 'O'] 41\n"
          ]
        }
      ],
      "source": [
        "print(dev_data_json[0]['words'], len(dev_data_json[0]['words']))\n",
        "print(dev_data_json[0]['tags'], len(dev_data_json[0]['tags']))"
      ]
    },
    {
      "cell_type": "code",
      "execution_count": null,
      "metadata": {
        "colab": {
          "base_uri": "https://localhost:8080/"
        },
        "id": "73CL4IexQE8h",
        "outputId": "10f10190-948e-4bc7-b1bb-921927de71ac"
      },
      "outputs": [
        {
          "data": {
            "text/plain": [
              "('Named Entity Recognition Task\\n\\nSentence: Từ 24 - 7 đến 31 - 7 , bệnh nhân được mẹ là bà H.T.P ( 47 tuổi ) đón về nhà ở phường Phước Hoà ( bằng xe máy ) , không đi đâu chỉ ra Tạp hoá Phượng , chợ Vườn Lài , phường An Sơn cùng mẹ bán tạp hoá ở đây .\\n\\nIdentify and label the named entities in the above sentence. The possible entity types are:\\nNAME, GENDER, TRANSPORTATION, SYMPTOM_AND_DISEASE, DATE, ORGANIZATION, LOCATION, PATIENT_ID, JOB, AGE\\n\\nFormat your response as a list of tuples: (entity, entity_type)\\n',\n",
              " \"[('24 - 7', 'DATE'), ('31 - 7', 'DATE'), ('H.T.P', 'NAME'), ('47', 'AGE'), ('phường Phước Hoà', 'LOCATION'), ('Tạp hoá Phượng', 'LOCATION'), ('chợ Vườn Lài', 'LOCATION'), ('phường An Sơn', 'LOCATION'), ('bán tạp hoá', 'JOB')]\")"
            ]
          },
          "execution_count": 24,
          "metadata": {},
          "output_type": "execute_result"
        }
      ],
      "source": [
        "dataset[\"validation\"]['input'][0], dataset[\"validation\"]['output'][0]"
      ]
    },
    {
      "cell_type": "code",
      "execution_count": null,
      "metadata": {
        "colab": {
          "base_uri": "https://localhost:8080/"
        },
        "id": "d68atpwHQGkF",
        "outputId": "c9723320-6c43-437f-8b96-78cf7237dad8"
      },
      "outputs": [
        {
          "data": {
            "text/plain": [
              "[\"Named Entity Recognition Task\\n\\nSentence: Từ 24 - 7 đến 31 - 7 , bệnh nhân được mẹ là bà H.T.P ( 47 tuổi ) đón về nhà ở phường Phước Hoà ( bằng xe máy ) , không đi đâu chỉ ra Tạp hoá Phượng , chợ Vườn Lài , phường An Sơn cùng mẹ bán tạp hoá ở đây .\\n\\nIdentify and label the named entities in the above sentence. The possible entity types are:\\nNAME, GENDER, TRANSPORTATION, SYMPTOM_AND_DISEASE, DATE, ORGANIZATION, LOCATION, PATIENT_ID, JOB, AGE\\n\\nFormat your response as a list of tuples: (entity, entity_type)\\n\\n[('24 - 7', 'DATE'), ('31 - 7', 'DATE'), ('H.T.P', 'NAME'), ('47', 'AGE'), ('phường Phước Hoà', 'LOCATION'), ('Tạp hoá Phượng', 'LOCATION'), ('chợ Vườn Lài', 'LOCATION'), ('phường An Sơn', 'LOCATION'), ('bán tạp hoá', 'JOB')] <|im_end|>\"]"
            ]
          },
          "execution_count": 25,
          "metadata": {},
          "output_type": "execute_result"
        }
      ],
      "source": [
        "formatting_prompts_func({'input': [dataset[\"validation\"]['input'][0]],\n",
        "                         'output': [dataset[\"validation\"]['output'][0]]})"
      ]
    },
    {
      "cell_type": "code",
      "execution_count": null,
      "metadata": {
        "colab": {
          "base_uri": "https://localhost:8080/"
        },
        "id": "9xsdPDTGQI5o",
        "outputId": "5a07c452-168c-4489-a9ed-575e73d831a4"
      },
      "outputs": [
        {
          "name": "stdout",
          "output_type": "stream",
          "text": [
            "Named Entity Recognition Task\n",
            "\n",
            "Sentence: Từ 24 - 7 đến 31 - 7 , bệnh nhân được mẹ là bà H.T.P ( 47 tuổi ) đón về nhà ở phường Phước Hoà ( bằng xe máy ) , không đi đâu chỉ ra Tạp hoá Phượng , chợ Vườn Lài , phường An Sơn cùng mẹ bán tạp hoá ở đây .\n",
            "\n",
            "Identify and label the named entities in the above sentence. The possible entity types are:\n",
            "NAME, GENDER, TRANSPORTATION, SYMPTOM_AND_DISEASE, DATE, ORGANIZATION, LOCATION, PATIENT_ID, JOB, AGE\n",
            "\n",
            "Format your response as a list of tuples: (entity, entity_type)\n",
            "\n",
            "[('24 - 7', 'DATE'), ('31 - 7', 'DATE'), ('H.T.P', 'NAME'), ('47', 'AGE'), ('phường Phước Hoà', 'LOCATION'), ('Tạp hoá Phượng', 'LOCATION'), ('chợ Vườn Lài', 'LOCATION'), ('phường An Sơn', 'LOCATION'), ('bán tạp hoá', 'JOB')] <|im_end|>\n"
          ]
        }
      ],
      "source": [
        "print(formatting_prompts_func({'input': [dataset[\"validation\"]['input'][0]],\n",
        "                         'output': [dataset[\"validation\"]['output'][0]]})[0])"
      ]
    },
    {
      "cell_type": "code",
      "execution_count": null,
      "metadata": {
        "id": "pjwssRIwrnvI"
      },
      "outputs": [],
      "source": []
    },
    {
      "cell_type": "markdown",
      "metadata": {
        "id": "F1G_KnGlQPVp"
      },
      "source": [
        "#Create model"
      ]
    },
    {
      "cell_type": "code",
      "execution_count": null,
      "metadata": {
        "id": "c_IaX2VXQKUs"
      },
      "outputs": [],
      "source": [
        "# bnb_config = BitsAndBytesConfig(\n",
        "#     load_in_4bit=True,\n",
        "#     bnb_4bit_use_double_quant=True,\n",
        "#     bnb_4bit_quant_type=\"nf4\",\n",
        "#     bnb_4bit_compute_dtype=torch.bfloat16,\n",
        "# )\n",
        "\n",
        "model = AutoModelForCausalLM.from_pretrained(\n",
        "    modelpath,\n",
        "    device_map=\"auto\",\n",
        "    torch_dtype=torch.bfloat16,\n",
        "    #torch_dtype=torch.float32,\n",
        "    #quantization_config=bnb_config,\n",
        "    #attn_implementation=\"flash_attention_2\",\n",
        "    trust_remote_code=True,\n",
        "    token = huggingface_token#userdata.get('huggingface_token')\n",
        ")"
      ]
    },
    {
      "cell_type": "code",
      "execution_count": null,
      "metadata": {
        "colab": {
          "base_uri": "https://localhost:8080/"
        },
        "id": "joci9mgfQUSQ",
        "outputId": "f3ada611-2123-4b51-8196-75f2a28d5704"
      },
      "outputs": [
        {
          "data": {
            "text/plain": [
              "Qwen2ForCausalLM(\n",
              "  (model): Qwen2Model(\n",
              "    (embed_tokens): Embedding(151936, 896)\n",
              "    (layers): ModuleList(\n",
              "      (0-23): 24 x Qwen2DecoderLayer(\n",
              "        (self_attn): Qwen2SdpaAttention(\n",
              "          (q_proj): Linear(in_features=896, out_features=896, bias=True)\n",
              "          (k_proj): Linear(in_features=896, out_features=128, bias=True)\n",
              "          (v_proj): Linear(in_features=896, out_features=128, bias=True)\n",
              "          (o_proj): Linear(in_features=896, out_features=896, bias=False)\n",
              "          (rotary_emb): Qwen2RotaryEmbedding()\n",
              "        )\n",
              "        (mlp): Qwen2MLP(\n",
              "          (gate_proj): Linear(in_features=896, out_features=4864, bias=False)\n",
              "          (up_proj): Linear(in_features=896, out_features=4864, bias=False)\n",
              "          (down_proj): Linear(in_features=4864, out_features=896, bias=False)\n",
              "          (act_fn): SiLU()\n",
              "        )\n",
              "        (input_layernorm): Qwen2RMSNorm((896,), eps=1e-06)\n",
              "        (post_attention_layernorm): Qwen2RMSNorm((896,), eps=1e-06)\n",
              "      )\n",
              "    )\n",
              "    (norm): Qwen2RMSNorm((896,), eps=1e-06)\n",
              "    (rotary_emb): Qwen2RotaryEmbedding()\n",
              "  )\n",
              "  (lm_head): Linear(in_features=896, out_features=151936, bias=False)\n",
              ")"
            ]
          },
          "execution_count": 28,
          "metadata": {},
          "output_type": "execute_result"
        }
      ],
      "source": [
        "model"
      ]
    },
    {
      "cell_type": "markdown",
      "metadata": {
        "id": "gvjINLYRQeoB"
      },
      "source": [
        "#Create peft"
      ]
    },
    {
      "cell_type": "code",
      "execution_count": null,
      "metadata": {
        "id": "lBahUNK_QXVZ"
      },
      "outputs": [],
      "source": [
        "peft_config = LoraConfig(\n",
        "    lora_alpha=32,\n",
        "    lora_dropout=0.1,\n",
        "    r=8,\n",
        "    bias=\"none\",\n",
        "    task_type=\"CAUSAL_LM\",\n",
        "    target_modules = 'all-linear',\n",
        "#     target_modules=[\"q_proj\",\n",
        "#         \"k_proj\",\n",
        "#         \"v_proj\",\n",
        "#         \"o_proj\",\n",
        "#         \"gate_proj\",\n",
        "#         \"up_proj\",\n",
        "#         \"down_proj\",\n",
        "#         \"lm_head\",],\n",
        "    modules_to_save=[\"embed_tokens\", \"rotary_emb\"]\n",
        "                     #\"input_layernorm\", \"post_attention_layernorm\", \"norm\"]\n",
        ")\n",
        "model = get_peft_model(model, peft_config)"
      ]
    },
    {
      "cell_type": "code",
      "execution_count": null,
      "metadata": {
        "colab": {
          "base_uri": "https://localhost:8080/"
        },
        "id": "X70vh0A5QhV-",
        "outputId": "45e85ac2-ce9a-4acf-bd19-4923f0ccf560"
      },
      "outputs": [
        {
          "name": "stdout",
          "output_type": "stream",
          "text": [
            "trainable params: 140,533,760 || all params: 634,566,528 || trainable%: 22.1464\n"
          ]
        }
      ],
      "source": [
        "model.print_trainable_parameters()"
      ]
    },
    {
      "cell_type": "markdown",
      "metadata": {
        "id": "-xIMjAadQzai"
      },
      "source": [
        "#Create TrainingArguments"
      ]
    },
    {
      "cell_type": "code",
      "execution_count": null,
      "metadata": {
        "colab": {
          "base_uri": "https://localhost:8080/"
        },
        "id": "XIkNznHyQjEI",
        "outputId": "c4b79a3a-b0bc-4c36-9d72-b272fa60d678"
      },
      "outputs": [
        {
          "name": "stdout",
          "output_type": "stream",
          "text": [
            "439\n"
          ]
        }
      ],
      "source": [
        "print(len(train_data_json)//bs//ga_steps*epochs//4)"
      ]
    },
    {
      "cell_type": "code",
      "execution_count": null,
      "metadata": {
        "colab": {
          "base_uri": "https://localhost:8080/"
        },
        "id": "s0m9-nLAQ1-m",
        "outputId": "3af8d26a-0b0e-4f6b-9c12-e675ac67a865"
      },
      "outputs": [
        {
          "name": "stdout",
          "output_type": "stream",
          "text": [
            "439\n"
          ]
        }
      ],
      "source": [
        "save_step = len(train_data_json)//bs//ga_steps*epochs//4\n",
        "print(save_step)"
      ]
    },
    {
      "cell_type": "code",
      "execution_count": null,
      "metadata": {
        "colab": {
          "base_uri": "https://localhost:8080/"
        },
        "id": "TAkqYh6GQ3TM",
        "outputId": "9bc3cc7c-1463-4b60-907b-661d30fe814f"
      },
      "outputs": [
        {
          "name": "stderr",
          "output_type": "stream",
          "text": [
            "/opt/conda/lib/python3.11/site-packages/transformers/training_args.py:1545: FutureWarning: `evaluation_strategy` is deprecated and will be removed in version 4.46 of 🤗 Transformers. Use `eval_strategy` instead\n",
            "  warnings.warn(\n"
          ]
        }
      ],
      "source": [
        "training_arguments = TrainingArguments(\n",
        "    output_dir=output_dir,\n",
        "    num_train_epochs=epochs,\n",
        "    per_device_train_batch_size=bs,\n",
        "    per_device_eval_batch_size=bs_eval,\n",
        "    evaluation_strategy=\"steps\",\n",
        "    eval_steps=save_step,\n",
        "    gradient_accumulation_steps=ga_steps,\n",
        "    optim=\"paged_adamw_32bit\",\n",
        "    save_steps=save_step,\n",
        "    save_strategy=\"steps\",\n",
        "    logging_steps=save_step,\n",
        "    learning_rate=lr,\n",
        "    weight_decay=0.001,\n",
        "    fp16=False,\n",
        "    bf16=True,\n",
        "    max_grad_norm=0.3,\n",
        "    max_steps=-1,\n",
        "    warmup_ratio=0.03,\n",
        "    group_by_length=True,\n",
        "    lr_scheduler_type=\"constant\",\n",
        "    report_to=\"none\",\n",
        "    save_total_limit=1,\n",
        "    #load_best_model_at_end=True\n",
        ")"
      ]
    },
    {
      "cell_type": "markdown",
      "metadata": {
        "id": "tFMKV36URIPR"
      },
      "source": [
        "#Create trainer"
      ]
    },
    {
      "cell_type": "code",
      "execution_count": null,
      "metadata": {
        "colab": {
          "base_uri": "https://localhost:8080/",
          "height": 240,
          "referenced_widgets": [
            "9fed19edacec4c9f9c1fa3c9e016c43b",
            "f9e0f9dd9e3e4ccf951ffd2335c9ecc1",
            "aa81585d7af74886b959532e455f8eca",
            "b77543676b674a349ae7c6ac1de8d8bb",
            "78fd8766cce940c1a6c7ab47f92f6502",
            "31b0729893e549b08a9a3b74c4b99fd2",
            "69e8d813279149c5b0f7324e79d0fecc",
            "1c3442d63cae4cd6943089d55a7089a6",
            "41b8523b5a6246c4abfa97da0cde8c08",
            "203c319d5f854f1584202093402aef72",
            "39f3049bbe7b4f6fbff248d9362e06ad",
            "9f8c8b9b9f71462080c37eeb77828686",
            "dd0755f13d1d4fe5b6296f5fe1abab4f",
            "4c4d1604b800451a9c00b649e0a4b3f7",
            "6cd0482e44ca496f95a9afbdb1fa227b",
            "e31645f44bd74af8b4d41ffd02420536",
            "de16420202bd43409f17f997df406462",
            "0b42f1c214f347e8ba29ced16c7f8d56",
            "30bfbb549d0f4dc79621340e35d82489",
            "74899266d620482a9026de0845dab2b8",
            "2923cf7edd704cc4aa2f0b630c22800e",
            "6711e76ad414459abfadf946166353a5",
            "262704cacae54ed8bb45c6c8daaa378d",
            "307981c3e42c412ba7ad1997f9a3f929"
          ]
        },
        "id": "2GI3uQtURDYi",
        "outputId": "90e51f96-8d50-4e7a-f9eb-6cee51e1c793"
      },
      "outputs": [
        {
          "name": "stderr",
          "output_type": "stream",
          "text": [
            "/opt/conda/lib/python3.11/site-packages/huggingface_hub/utils/_deprecation.py:100: FutureWarning: Deprecated argument(s) used in '__init__': max_seq_length. Will not be supported from version '1.0.0'.\n",
            "\n",
            "Deprecated positional argument(s) used in SFTTrainer, please use the SFTConfig to set these arguments instead.\n",
            "  warnings.warn(message, FutureWarning)\n",
            "/opt/conda/lib/python3.11/site-packages/transformers/training_args.py:1545: FutureWarning: `evaluation_strategy` is deprecated and will be removed in version 4.46 of 🤗 Transformers. Use `eval_strategy` instead\n",
            "  warnings.warn(\n",
            "/opt/conda/lib/python3.11/site-packages/trl/trainer/sft_trainer.py:283: UserWarning: You passed a `max_seq_length` argument to the SFTTrainer, the value you passed will override the one in the `SFTConfig`.\n",
            "  warnings.warn(\n"
          ]
        },
        {
          "data": {
            "application/vnd.jupyter.widget-view+json": {
              "model_id": "262704cacae54ed8bb45c6c8daaa378d",
              "version_major": 2,
              "version_minor": 0
            },
            "text/plain": [
              "Map:   0%|          | 0/7027 [00:00<?, ? examples/s]"
            ]
          },
          "metadata": {},
          "output_type": "display_data"
        },
        {
          "data": {
            "application/vnd.jupyter.widget-view+json": {
              "model_id": "307981c3e42c412ba7ad1997f9a3f929",
              "version_major": 2,
              "version_minor": 0
            },
            "text/plain": [
              "Map:   0%|          | 0/3000 [00:00<?, ? examples/s]"
            ]
          },
          "metadata": {},
          "output_type": "display_data"
        }
      ],
      "source": [
        "trainer = SFTTrainer(\n",
        "    model=model,\n",
        "    train_dataset=dataset[\"train\"],\n",
        "    eval_dataset=dataset[\"validation\"],\n",
        "    peft_config=peft_config,\n",
        "    max_seq_length= max_length,\n",
        "    #dataset_text_field=[\"input\", \"output\"],\n",
        "    tokenizer=tokenizer,\n",
        "    args=training_arguments,\n",
        "    packing= False,\n",
        "    formatting_func = formatting_prompts_func,\n",
        "    #data_collator=collator\n",
        ")\n"
      ]
    },
    {
      "cell_type": "code",
      "execution_count": null,
      "metadata": {
        "colab": {
          "base_uri": "https://localhost:8080/",
          "height": 317
        },
        "id": "vc0MfnhgRNF0",
        "outputId": "ad3e859d-b204-43b8-9fa6-661f0b644b8d"
      },
      "outputs": [
        {
          "data": {
            "text/html": [
              "\n",
              "    <div>\n",
              "      \n",
              "      <progress value='1756' max='1756' style='width:300px; height:20px; vertical-align: middle;'></progress>\n",
              "      [1756/1756 15:07, Epoch 3/4]\n",
              "    </div>\n",
              "    <table border=\"1\" class=\"dataframe\">\n",
              "  <thead>\n",
              " <tr style=\"text-align: left;\">\n",
              "      <th>Step</th>\n",
              "      <th>Training Loss</th>\n",
              "      <th>Validation Loss</th>\n",
              "    </tr>\n",
              "  </thead>\n",
              "  <tbody>\n",
              "    <tr>\n",
              "      <td>439</td>\n",
              "      <td>0.620700</td>\n",
              "      <td>0.619406</td>\n",
              "    </tr>\n",
              "    <tr>\n",
              "      <td>878</td>\n",
              "      <td>0.509200</td>\n",
              "      <td>0.581862</td>\n",
              "    </tr>\n",
              "    <tr>\n",
              "      <td>1317</td>\n",
              "      <td>0.452700</td>\n",
              "      <td>0.574239</td>\n",
              "    </tr>\n",
              "    <tr>\n",
              "      <td>1756</td>\n",
              "      <td>0.403000</td>\n",
              "      <td>0.576836</td>\n",
              "    </tr>\n",
              "  </tbody>\n",
              "</table><p>"
            ],
            "text/plain": [
              "<IPython.core.display.HTML object>"
            ]
          },
          "metadata": {},
          "output_type": "display_data"
        },
        {
          "data": {
            "text/plain": [
              "TrainOutput(global_step=1756, training_loss=0.49642897412554277, metrics={'train_runtime': 909.2407, 'train_samples_per_second': 30.914, 'train_steps_per_second': 1.931, 'total_flos': 9580549900993536.0, 'train_loss': 0.49642897412554277, 'epoch': 3.995449374288965})"
            ]
          },
          "execution_count": 35,
          "metadata": {},
          "output_type": "execute_result"
        }
      ],
      "source": [
        "trainer.train()"
      ]
    },
    {
      "cell_type": "markdown",
      "source": [
        "# Evaluate"
      ],
      "metadata": {
        "id": "XhsUE6DBm3hL"
      }
    },
    {
      "cell_type": "code",
      "execution_count": null,
      "metadata": {
        "colab": {
          "base_uri": "https://localhost:8080/"
        },
        "id": "vvP5K7tTRQdH",
        "outputId": "e2925c64-a5b2-48f2-f175-e0c2d6437ccd"
      },
      "outputs": [
        {
          "name": "stdout",
          "output_type": "stream",
          "text": [
            "439\n"
          ]
        }
      ],
      "source": [
        "save_step = len(train_data_json)//bs//ga_steps*epochs//4\n",
        "print(save_step)"
      ]
    },
    {
      "cell_type": "code",
      "execution_count": null,
      "metadata": {
        "id": "Xjv4A4YDRRuY"
      },
      "outputs": [],
      "source": [
        "import gc\n",
        "\n",
        "del model\n",
        "gc.collect()\n",
        "torch.cuda.empty_cache()"
      ]
    },
    {
      "cell_type": "code",
      "execution_count": null,
      "metadata": {
        "id": "Wj8pm131RSyB"
      },
      "outputs": [],
      "source": [
        "from peft import PeftModel, PeftConfig\n",
        "from transformers import AutoModelForCausalLM, AutoTokenizer\n",
        "import torch\n",
        "\n",
        "_id = save_step*epochs\n",
        "\n",
        "peft_model_id = f\"{output_dir}/checkpoint-{_id}\"\n",
        "\n",
        "config = PeftConfig.from_pretrained(peft_model_id)\n",
        "\n",
        "# bnb_config = BitsAndBytesConfig(\n",
        "#     load_in_4bit=True,\n",
        "#     bnb_4bit_use_double_quant=False,\n",
        "#     bnb_4bit_quant_type=\"nf4\",\n",
        "#     bnb_4bit_compute_dtype=torch.float16,\n",
        "# )\n",
        "\n",
        "model = AutoModelForCausalLM.from_pretrained(\n",
        "    modelpath,\n",
        "    device_map=\"auto\",\n",
        "    #torch_dtype=torch.float16,\n",
        "    torch_dtype=torch.bfloat16,\n",
        "    #quantization_config=bnb_config,\n",
        "    #attn_implementation=\"flash_attention_2\",\n",
        "    trust_remote_code=True,\n",
        "    token = huggingface_token#userdata.get('huggingface_token')\n",
        ")\n",
        "\n",
        "tokenizer = AutoTokenizer.from_pretrained(f\"{output_dir}/checkpoint-{_id}\",\n",
        "                                          trust_remote_code=True,\n",
        "                                          padding_side='left',\n",
        "                                          token=huggingface_token,\n",
        "                                          return_tensors=\"pt\")#userdata.get('huggingface_token'))\n",
        "\n",
        "# Load the Lora model\n",
        "model = PeftModel.from_pretrained(model, peft_model_id)"
      ]
    },
    {
      "cell_type": "markdown",
      "source": [
        "## Test with 1 sample"
      ],
      "metadata": {
        "id": "_RdVhadnm7lN"
      }
    },
    {
      "cell_type": "code",
      "execution_count": null,
      "metadata": {
        "id": "st7MJcUTRW5h"
      },
      "outputs": [],
      "source": [
        "def create_prompt(input_, output_):\n",
        "    text = f'''{input_}\n",
        "'''\n",
        "    return text"
      ]
    },
    {
      "cell_type": "code",
      "execution_count": null,
      "metadata": {
        "colab": {
          "base_uri": "https://localhost:8080/"
        },
        "id": "HMXtzUEBSofB",
        "outputId": "80fd5377-dff1-4fa5-a8a8-b943b1d64bb3"
      },
      "outputs": [
        {
          "name": "stdout",
          "output_type": "stream",
          "text": [
            "Named Entity Recognition Task\n",
            "\n",
            "Sentence: Từ 24 - 7 đến 31 - 7 , bệnh nhân được mẹ là bà H.T.P ( 47 tuổi ) đón về nhà ở phường Phước Hoà ( bằng xe máy ) , không đi đâu chỉ ra Tạp hoá Phượng , chợ Vườn Lài , phường An Sơn cùng mẹ bán tạp hoá ở đây .\n",
            "\n",
            "Identify and label the named entities in the above sentence. The possible entity types are:\n",
            "NAME, GENDER, TRANSPORTATION, SYMPTOM_AND_DISEASE, DATE, ORGANIZATION, LOCATION, PATIENT_ID, JOB, AGE\n",
            "\n",
            "Format your response as a list of tuples: (entity, entity_type)\n",
            "\n",
            "\n"
          ]
        }
      ],
      "source": [
        "words = \" \".join(test_data_json[0]['words'])\n",
        "input_ = f'''Named Entity Recognition Task\n",
        "\n",
        "Sentence: {words}\n",
        "\n",
        "Identify and label the named entities in the above sentence. The possible entity types are:\n",
        "NAME, GENDER, TRANSPORTATION, SYMPTOM_AND_DISEASE, DATE, ORGANIZATION, LOCATION, PATIENT_ID, JOB, AGE\n",
        "\n",
        "Format your response as a list of tuples: (entity, entity_type)\n",
        "'''\n",
        "prompt = create_prompt(input_, \"\")\n",
        "print(prompt)"
      ]
    },
    {
      "cell_type": "code",
      "execution_count": null,
      "metadata": {
        "colab": {
          "base_uri": "https://localhost:8080/"
        },
        "id": "JhmbSxLDSpfX",
        "outputId": "b6aacf03-0225-4471-f866-3b142ebac62e"
      },
      "outputs": [
        {
          "data": {
            "text/plain": [
              "tensor([[ 15810,  10390,  47598,   5430,    271,  84564,     25, 130232,    220,\n",
              "             17,     19,    481,    220,     22, 128263,    220,     18,     16,\n",
              "            481,    220,     22,   1154, 128453, 128310,  63478, 128850,  37915,\n",
              "         129302,    472,    836,   1069,    320,    220,     19,     22, 128790,\n",
              "            873,  14854,   3165, 128265, 128275, 128269, 140515,   2350, 124603,\n",
              "          17275,   6362,    320, 128411,  82790, 128392,    873,   1154,  53037,\n",
              "          73586, 129625,  98127,  15122,    350, 127432, 137692,   2350,  98210,\n",
              "           1154, 136625,    647,  51990,     77,    444,  52551,   1154, 140515,\n",
              "           1527, 131279, 128340, 128850, 128627, 138628, 137692, 128269, 128358,\n",
              "           6762,  28301,   1437,    323,   2383,    279,   6941,  14744,    304,\n",
              "            279,   3403,  11652,     13,    576,   3204,   5387,   4494,    525,\n",
              "            510,   7535,     11,    479,  43604,     11,  40347,  54800,   3495,\n",
              "             11,  16079,     44,   2828,   1898,  21767,   1557,   9133,   4066,\n",
              "             11,  28543,     11,   2726,  58487,  49025,     11,  65583,     11,\n",
              "          44370,  10757,   3450,     11,  61659,     11,  90588,    271,   4061,\n",
              "            697,   2033,    438,    264,   1140,    315,  45225,     25,    320,\n",
              "           2996,     11,   5387,   1819,    692]])"
            ]
          },
          "execution_count": 41,
          "metadata": {},
          "output_type": "execute_result"
        }
      ],
      "source": [
        "inputs = torch.tensor([tokenizer.encode(prompt)])\n",
        "inputs"
      ]
    },
    {
      "cell_type": "code",
      "execution_count": null,
      "metadata": {
        "colab": {
          "base_uri": "https://localhost:8080/"
        },
        "id": "BpJPk8UCSqfC",
        "outputId": "7d2ead22-9455-4fd8-be83-142981b412fc"
      },
      "outputs": [
        {
          "name": "stderr",
          "output_type": "stream",
          "text": [
            "The attention mask is not set and cannot be inferred from input because pad token is same as eos token. As a consequence, you may observe unexpected behavior. Please pass your input's `attention_mask` to obtain reliable results.\n",
            "Starting from v4.46, the `logits` model output will have the same type as the model (except at train time, where it will always be FP32)\n"
          ]
        }
      ],
      "source": [
        "tokens = model.generate(\n",
        "    inputs.to(model.device),\n",
        "    max_new_tokens=1024,\n",
        "    temperature=0.1,\n",
        "    do_sample=True\n",
        ")"
      ]
    },
    {
      "cell_type": "code",
      "execution_count": null,
      "metadata": {
        "colab": {
          "base_uri": "https://localhost:8080/"
        },
        "id": "5MppHwSOSrgx",
        "outputId": "5ef8e449-8177-4be9-a6a3-4be345f25dfb"
      },
      "outputs": [
        {
          "name": "stdout",
          "output_type": "stream",
          "text": [
            "Named Entity Recognition Task\n",
            "\n",
            "Sentence: Từ 24 - 7 đến 31 - 7 , bệnh nhân được mẹ là bà H.T.P ( 47 tuổi ) đón về nhà ở phường Phước Hoà ( bằng xe máy ) , không đi đâu chỉ ra Tạp hoá Phượng , chợ Vườn Lài , phường An Sơn cùng mẹ bán tạp hoá ở đây .\n",
            "\n",
            "Identify and label the named entities in the above sentence. The possible entity types are:\n",
            "NAME, GENDER, TRANSPORTATION, SYMPTOM_AND_DISEASE, DATE, ORGANIZATION, LOCATION, PATIENT_ID, JOB, AGE\n",
            "\n",
            "Format your response as a list of tuples: (entity, entity_type)\n",
            "\n",
            "[('24 - 7', 'DATE'), ('31 - 7', 'DATE'), ('H.T.P', 'NAME'), ('47', 'AGE'), ('phường Phước Hoà', 'LOCATION'), ('Tạp hoá Phượng', 'LOCATION'), ('chợ Vườn Lài', 'LOCATION'), ('phường An Sơn', 'LOCATION')] <|im_end|>\n"
          ]
        }
      ],
      "source": [
        "print(tokenizer.decode(tokens[0], skip_special_tokens=False))"
      ]
    },
    {
      "cell_type": "code",
      "execution_count": null,
      "metadata": {
        "colab": {
          "base_uri": "https://localhost:8080/"
        },
        "id": "0m-EmC5GSxCJ",
        "outputId": "4cc7256c-7848-48eb-fc5d-671774accd79"
      },
      "outputs": [
        {
          "name": "stderr",
          "output_type": "stream",
          "text": [
            "/opt/conda/lib/python3.11/site-packages/transformers/generation/configuration_utils.py:601: UserWarning: `do_sample` is set to `False`. However, `temperature` is set to `0.1` -- this flag is only used in sample-based generation modes. You should set `do_sample=True` or unset `temperature`.\n",
            "  warnings.warn(\n",
            "/opt/conda/lib/python3.11/site-packages/transformers/generation/configuration_utils.py:606: UserWarning: `do_sample` is set to `False`. However, `top_p` is set to `0.8` -- this flag is only used in sample-based generation modes. You should set `do_sample=True` or unset `top_p`.\n",
            "  warnings.warn(\n",
            "/opt/conda/lib/python3.11/site-packages/transformers/generation/configuration_utils.py:623: UserWarning: `do_sample` is set to `False`. However, `top_k` is set to `20` -- this flag is only used in sample-based generation modes. You should set `do_sample=True` or unset `top_k`.\n",
            "  warnings.warn(\n"
          ]
        },
        {
          "name": "stdout",
          "output_type": "stream",
          "text": [
            "Named Entity Recognition Task\n",
            "\n",
            "Sentence: Từ 24 - 7 đến 31 - 7 , bệnh nhân được mẹ là bà H.T.P ( 47 tuổi ) đón về nhà ở phường Phước Hoà ( bằng xe máy ) , không đi đâu chỉ ra Tạp hoá Phượng , chợ Vườn Lài , phường An Sơn cùng mẹ bán tạp hoá ở đây .\n",
            "\n",
            "Identify and label the named entities in the above sentence. The possible entity types are:\n",
            "NAME, GENDER, TRANSPORTATION, SYMPTOM_AND_DISEASE, DATE, ORGANIZATION, LOCATION, PATIENT_ID, JOB, AGE\n",
            "\n",
            "Format your response as a list of tuples: (entity, entity_type)\n",
            "\n",
            "[('24 - 7', 'DATE'), ('31 - 7', 'DATE'), ('H.T.P', 'NAME'), ('47', 'AGE'), ('phường Phước Hoà', 'LOCATION'), ('Tạp hoá Phượng', 'LOCATION'), ('chợ Vườn Lài', 'LOCATION'), ('phường An Sơn', 'LOCATION')] <|im_end|>\n"
          ]
        }
      ],
      "source": [
        "tokens = model.generate(\n",
        "    inputs.to(model.device),\n",
        "    max_new_tokens=256,\n",
        "    temperature=0.1,\n",
        "    do_sample=False\n",
        ")\n",
        "print(tokenizer.decode(tokens[0], skip_special_tokens=False))"
      ]
    },
    {
      "cell_type": "code",
      "execution_count": null,
      "metadata": {
        "colab": {
          "base_uri": "https://localhost:8080/"
        },
        "id": "Kjn6hEfJrnvX",
        "outputId": "65c6a82c-45a3-4695-e089-65b98d7f475a"
      },
      "outputs": [
        {
          "name": "stdout",
          "output_type": "stream",
          "text": [
            "[('24 - 7', 'DATE'), ('31 - 7', 'DATE'), ('H.T.P', 'NAME'), ('47', 'AGE'), ('phường Phước Hoà', 'LOCATION'), ('Tạp hoá Phượng', 'LOCATION'), ('chợ Vườn Lài', 'LOCATION'), ('phường An Sơn', 'LOCATION'), ('bán tạp hoá', 'JOB')]\n"
          ]
        }
      ],
      "source": [
        "print(test_data_json[0]['outputs'])"
      ]
    },
    {
      "cell_type": "code",
      "execution_count": null,
      "metadata": {
        "colab": {
          "base_uri": "https://localhost:8080/",
          "height": 70
        },
        "id": "1nS7fJ3wrnvY",
        "outputId": "84f928ed-8e5d-409d-ae8b-481a80180ded"
      },
      "outputs": [
        {
          "data": {
            "text/plain": [
              "\"[('24 - 7', 'DATE'), ('31 - 7', 'DATE'), ('H.T.P', 'NAME'), ('47', 'AGE'), ('phường Phước Hoà', 'LOCATION'), ('Tạp hoá Phượng', 'LOCATION'), ('chợ Vườn Lài', 'LOCATION'), ('phường An Sơn', 'LOCATION')]\""
            ]
          },
          "execution_count": 46,
          "metadata": {},
          "output_type": "execute_result"
        }
      ],
      "source": [
        "tokenizer.decode(tokens[0], skip_special_tokens=False).split(\"\\n\")[-1].split(\" <|im_end|>\")[0]"
      ]
    },
    {
      "cell_type": "markdown",
      "source": [
        "# test batch generate with 2 samples"
      ],
      "metadata": {
        "id": "v2DnJUaLnLbE"
      }
    },
    {
      "cell_type": "code",
      "execution_count": null,
      "metadata": {
        "colab": {
          "base_uri": "https://localhost:8080/"
        },
        "id": "5iCdYpCe8Uvq",
        "outputId": "b50b0d33-f46d-4d24-a777-6562c82cb718"
      },
      "outputs": [
        {
          "name": "stdout",
          "output_type": "stream",
          "text": [
            "['Named Entity Recognition Task\\n\\nSentence: Từ 24 - 7 đến 31 - 7 , bệnh nhân được mẹ là bà H.T.P ( 47 tuổi ) đón về nhà ở phường Phước Hoà ( bằng xe máy ) , không đi đâu chỉ ra Tạp hoá Phượng , chợ Vườn Lài , phường An Sơn cùng mẹ bán tạp hoá ở đây .\\n\\nIdentify and label the named entities in the above sentence. The possible entity types are:\\nNAME, GENDER, TRANSPORTATION, SYMPTOM_AND_DISEASE, DATE, ORGANIZATION, LOCATION, PATIENT_ID, JOB, AGE\\n\\nFormat your response as a list of tuples: (entity, entity_type)\\n\\n', 'Named Entity Recognition Task\\n\\nSentence: Bác sĩ Trần Thanh Linh , từ Bệnh viện Chợ Rẫy chi viện phụ trách đơn nguyên hồi sức tích cực , cho biết \" bệnh nhân 416 \" vẫn đang duy trì ECMO , thở máy , hiện xơ phổi rất nhiều .\\n\\nIdentify and label the named entities in the above sentence. The possible entity types are:\\nNAME, GENDER, TRANSPORTATION, SYMPTOM_AND_DISEASE, DATE, ORGANIZATION, LOCATION, PATIENT_ID, JOB, AGE\\n\\nFormat your response as a list of tuples: (entity, entity_type)\\n\\n']\n"
          ]
        }
      ],
      "source": [
        "words1 = \" \".join(test_data_json[0]['words'])\n",
        "input_1 = f'''Named Entity Recognition Task\n",
        "\n",
        "Sentence: {words1}\n",
        "\n",
        "Identify and label the named entities in the above sentence. The possible entity types are:\n",
        "NAME, GENDER, TRANSPORTATION, SYMPTOM_AND_DISEASE, DATE, ORGANIZATION, LOCATION, PATIENT_ID, JOB, AGE\n",
        "\n",
        "Format your response as a list of tuples: (entity, entity_type)\n",
        "'''\n",
        "\n",
        "words2 = \" \".join(test_data_json[1]['words'])\n",
        "input_2 = f'''Named Entity Recognition Task\n",
        "\n",
        "Sentence: {words2}\n",
        "\n",
        "Identify and label the named entities in the above sentence. The possible entity types are:\n",
        "NAME, GENDER, TRANSPORTATION, SYMPTOM_AND_DISEASE, DATE, ORGANIZATION, LOCATION, PATIENT_ID, JOB, AGE\n",
        "\n",
        "Format your response as a list of tuples: (entity, entity_type)\n",
        "'''\n",
        "\n",
        "prompts = [create_prompt(input_1, \"\"), create_prompt(input_2, \"\")]\n",
        "print(prompts)"
      ]
    },
    {
      "cell_type": "code",
      "execution_count": null,
      "metadata": {
        "colab": {
          "base_uri": "https://localhost:8080/",
          "height": 140
        },
        "id": "QVr-eZUB9DiZ",
        "outputId": "8b5294d0-a78e-4bbc-fd75-ee614f37e36b"
      },
      "outputs": [
        {
          "data": {
            "text/plain": [
              "'Named Entity Recognition Task\\n\\nSentence: Từ 24 - 7 đến 31 - 7 , bệnh nhân được mẹ là bà H.T.P ( 47 tuổi ) đón về nhà ở phường Phước Hoà ( bằng xe máy ) , không đi đâu chỉ ra Tạp hoá Phượng , chợ Vườn Lài , phường An Sơn cùng mẹ bán tạp hoá ở đây .\\n\\nIdentify and label the named entities in the above sentence. The possible entity types are:\\nNAME, GENDER, TRANSPORTATION, SYMPTOM_AND_DISEASE, DATE, ORGANIZATION, LOCATION, PATIENT_ID, JOB, AGE\\n\\nFormat your response as a list of tuples: (entity, entity_type)\\n\\n'"
            ]
          },
          "execution_count": 48,
          "metadata": {},
          "output_type": "execute_result"
        }
      ],
      "source": [
        "prompts[0]"
      ]
    },
    {
      "cell_type": "code",
      "execution_count": null,
      "metadata": {
        "colab": {
          "base_uri": "https://localhost:8080/"
        },
        "id": "hU7uRX3S8Uyw",
        "outputId": "6091cd41-cff7-44e0-ecb8-bc58316d9d6d"
      },
      "outputs": [
        {
          "name": "stderr",
          "output_type": "stream",
          "text": [
            "/tmp/ipykernel_3448/59478143.py:1: UserWarning: To copy construct from a tensor, it is recommended to use sourceTensor.clone().detach() or sourceTensor.clone().detach().requires_grad_(True), rather than torch.tensor(sourceTensor).\n",
            "  torch.tensor(tokenizer(prompts, return_tensors=\"pt\", padding=True, truncation=True).input_ids).shape\n"
          ]
        },
        {
          "data": {
            "text/plain": [
              "torch.Size([2, 149])"
            ]
          },
          "execution_count": 49,
          "metadata": {},
          "output_type": "execute_result"
        }
      ],
      "source": [
        "torch.tensor(tokenizer(prompts, return_tensors=\"pt\", padding=True, truncation=True).input_ids).shape"
      ]
    },
    {
      "cell_type": "code",
      "execution_count": null,
      "metadata": {
        "colab": {
          "base_uri": "https://localhost:8080/"
        },
        "id": "hFBTMLfv8U1x",
        "outputId": "d93d3a9a-112c-4c46-9120-ae8ebbf06f69"
      },
      "outputs": [
        {
          "data": {
            "text/plain": [
              "{'input_ids': tensor([[ 15810,  10390,  47598,   5430,    271,  84564,     25, 130232,    220,\n",
              "             17,     19,    481,    220,     22, 128263,    220,     18,     16,\n",
              "            481,    220,     22,   1154, 128453, 128310,  63478, 128850,  37915,\n",
              "         129302,    472,    836,   1069,    320,    220,     19,     22, 128790,\n",
              "            873,  14854,   3165, 128265, 128275, 128269, 140515,   2350, 124603,\n",
              "          17275,   6362,    320, 128411,  82790, 128392,    873,   1154,  53037,\n",
              "          73586, 129625,  98127,  15122,    350, 127432, 137692,   2350,  98210,\n",
              "           1154, 136625,    647,  51990,     77,    444,  52551,   1154, 140515,\n",
              "           1527, 131279, 128340, 128850, 128627, 138628, 137692, 128269, 128358,\n",
              "           6762,  28301,   1437,    323,   2383,    279,   6941,  14744,    304,\n",
              "            279,   3403,  11652,     13,    576,   3204,   5387,   4494,    525,\n",
              "            510,   7535,     11,    479,  43604,     11,  40347,  54800,   3495,\n",
              "             11,  16079,     44,   2828,   1898,  21767,   1557,   9133,   4066,\n",
              "             11,  28543,     11,   2726,  58487,  49025,     11,  65583,     11,\n",
              "          44370,  10757,   3450,     11,  61659,     11,  90588,    271,   4061,\n",
              "            697,   2033,    438,    264,   1140,    315,  45225,     25,    320,\n",
              "           2996,     11,   5387,   1819,    692],\n",
              "        [151643, 151643, 151643, 151643, 151643, 151643, 151643, 151643, 151643,\n",
              "         151643, 151643, 151643, 151643, 151643, 151643, 151643, 151643, 151643,\n",
              "         151643,  15810,  10390,  47598,   5430,    271,  84564,     25,    425,\n",
              "          29341, 128916, 131479,    663,  27924,   8564,     71,   1154,  94576,\n",
              "         135256, 129972,    910,  84300,    431, 124503,     88,  25798, 129972,\n",
              "         128877, 131368, 128666, 129031, 130344, 128738, 128761, 129541,   1154,\n",
              "           2600, 128345,    330, 128453, 128310,    220,     19,     16,     21,\n",
              "            330, 128487, 128348, 141839, 132630,  79600,     46,   1154, 138762,\n",
              "         128392,   1154, 128283,    856,  38715,   1319,  97516, 128323, 128271,\n",
              "           6762,  28301,   1437,    323,   2383,    279,   6941,  14744,    304,\n",
              "            279,   3403,  11652,     13,    576,   3204,   5387,   4494,    525,\n",
              "            510,   7535,     11,    479,  43604,     11,  40347,  54800,   3495,\n",
              "             11,  16079,     44,   2828,   1898,  21767,   1557,   9133,   4066,\n",
              "             11,  28543,     11,   2726,  58487,  49025,     11,  65583,     11,\n",
              "          44370,  10757,   3450,     11,  61659,     11,  90588,    271,   4061,\n",
              "            697,   2033,    438,    264,   1140,    315,  45225,     25,    320,\n",
              "           2996,     11,   5387,   1819,    692]]), 'attention_mask': tensor([[1, 1, 1, 1, 1, 1, 1, 1, 1, 1, 1, 1, 1, 1, 1, 1, 1, 1, 1, 1, 1, 1, 1, 1,\n",
              "         1, 1, 1, 1, 1, 1, 1, 1, 1, 1, 1, 1, 1, 1, 1, 1, 1, 1, 1, 1, 1, 1, 1, 1,\n",
              "         1, 1, 1, 1, 1, 1, 1, 1, 1, 1, 1, 1, 1, 1, 1, 1, 1, 1, 1, 1, 1, 1, 1, 1,\n",
              "         1, 1, 1, 1, 1, 1, 1, 1, 1, 1, 1, 1, 1, 1, 1, 1, 1, 1, 1, 1, 1, 1, 1, 1,\n",
              "         1, 1, 1, 1, 1, 1, 1, 1, 1, 1, 1, 1, 1, 1, 1, 1, 1, 1, 1, 1, 1, 1, 1, 1,\n",
              "         1, 1, 1, 1, 1, 1, 1, 1, 1, 1, 1, 1, 1, 1, 1, 1, 1, 1, 1, 1, 1, 1, 1, 1,\n",
              "         1, 1, 1, 1, 1],\n",
              "        [0, 0, 0, 0, 0, 0, 0, 0, 0, 0, 0, 0, 0, 0, 0, 0, 0, 0, 0, 1, 1, 1, 1, 1,\n",
              "         1, 1, 1, 1, 1, 1, 1, 1, 1, 1, 1, 1, 1, 1, 1, 1, 1, 1, 1, 1, 1, 1, 1, 1,\n",
              "         1, 1, 1, 1, 1, 1, 1, 1, 1, 1, 1, 1, 1, 1, 1, 1, 1, 1, 1, 1, 1, 1, 1, 1,\n",
              "         1, 1, 1, 1, 1, 1, 1, 1, 1, 1, 1, 1, 1, 1, 1, 1, 1, 1, 1, 1, 1, 1, 1, 1,\n",
              "         1, 1, 1, 1, 1, 1, 1, 1, 1, 1, 1, 1, 1, 1, 1, 1, 1, 1, 1, 1, 1, 1, 1, 1,\n",
              "         1, 1, 1, 1, 1, 1, 1, 1, 1, 1, 1, 1, 1, 1, 1, 1, 1, 1, 1, 1, 1, 1, 1, 1,\n",
              "         1, 1, 1, 1, 1]])}"
            ]
          },
          "execution_count": 59,
          "metadata": {},
          "output_type": "execute_result"
        }
      ],
      "source": [
        "tokenizer(prompts, return_tensors=\"pt\", padding=True, truncation=True)"
      ]
    },
    {
      "cell_type": "code",
      "execution_count": null,
      "metadata": {
        "id": "4yYART88-Q9N"
      },
      "outputs": [],
      "source": [
        "inputs = tokenizer(prompts, return_tensors=\"pt\", padding=True, truncation=True).to(model.device)"
      ]
    },
    {
      "cell_type": "code",
      "execution_count": null,
      "metadata": {
        "id": "CbX_N2Bx8U4l"
      },
      "outputs": [],
      "source": [
        "with torch.no_grad():\n",
        "            outputs = model.generate(\n",
        "                inputs.input_ids,\n",
        "                attention_mask=inputs.attention_mask,\n",
        "                max_new_tokens=1024,\n",
        "                temperature=0.1,\n",
        "                do_sample=False,\n",
        "                pad_token_id=tokenizer.eos_token_id\n",
        "            )"
      ]
    },
    {
      "cell_type": "code",
      "execution_count": null,
      "metadata": {
        "id": "NIF27mJzkETx",
        "outputId": "91cf4591-b06d-455e-c092-3b5f44e01230"
      },
      "outputs": [
        {
          "data": {
            "text/plain": [
              "tensor([[ 15810,  10390,  47598,   5430,    271,  84564,     25, 130232,    220,\n",
              "             17,     19,    481,    220,     22, 128263,    220,     18,     16,\n",
              "            481,    220,     22,   1154, 128453, 128310,  63478, 128850,  37915,\n",
              "         129302,    472,    836,   1069,    320,    220,     19,     22, 128790,\n",
              "            873,  14854,   3165, 128265, 128275, 128269, 140515,   2350, 124603,\n",
              "          17275,   6362,    320, 128411,  82790, 128392,    873,   1154,  53037,\n",
              "          73586, 129625,  98127,  15122,    350, 127432, 137692,   2350,  98210,\n",
              "           1154, 136625,    647,  51990,     77,    444,  52551,   1154, 140515,\n",
              "           1527, 131279, 128340, 128850, 128627, 138628, 137692, 128269, 128358,\n",
              "           6762,  28301,   1437,    323,   2383,    279,   6941,  14744,    304,\n",
              "            279,   3403,  11652,     13,    576,   3204,   5387,   4494,    525,\n",
              "            510,   7535,     11,    479,  43604,     11,  40347,  54800,   3495,\n",
              "             11,  16079,     44,   2828,   1898,  21767,   1557,   9133,   4066,\n",
              "             11,  28543,     11,   2726,  58487,  49025,     11,  65583,     11,\n",
              "          44370,  10757,   3450,     11,  61659,     11,  90588,    271,   4061,\n",
              "            697,   2033,    438,    264,   1140,    315,  45225,     25,    320,\n",
              "           2996,     11,   5387,   1819,    692,     58,    492,     17,     19,\n",
              "            481,    220,     22,    516,    364,   7097,   4567,   4319,     18,\n",
              "             16,    481,    220,     22,    516,    364,   7097,   4567,   4319,\n",
              "             39,    836,   1069,    516,    364,   7535,   4567,   4319,     19,\n",
              "             22,    516,    364,   3585,   4567,   4319,    759,  77869,   2350,\n",
              "         124603,  17275,   6362,    516,    364,  34224,   4567,   4319,     51,\n",
              "         127432, 137692,   2350,  98210,    516,    364,  34224,   4567,   4319,\n",
              "            331,  84300,    647,  51990,     77,    444,  52551,    516,    364,\n",
              "          34224,   4567,   4319,    759,  77869,   1527, 131279,    516,    364,\n",
              "          34224,  51028,    220, 151645],\n",
              "        [151643, 151643, 151643, 151643, 151643, 151643, 151643, 151643, 151643,\n",
              "         151643, 151643, 151643, 151643, 151643, 151643, 151643, 151643, 151643,\n",
              "         151643,  15810,  10390,  47598,   5430,    271,  84564,     25,    425,\n",
              "          29341, 128916, 131479,    663,  27924,   8564,     71,   1154,  94576,\n",
              "         135256, 129972,    910,  84300,    431, 124503,     88,  25798, 129972,\n",
              "         128877, 131368, 128666, 129031, 130344, 128738, 128761, 129541,   1154,\n",
              "           2600, 128345,    330, 128453, 128310,    220,     19,     16,     21,\n",
              "            330, 128487, 128348, 141839, 132630,  79600,     46,   1154, 138762,\n",
              "         128392,   1154, 128283,    856,  38715,   1319,  97516, 128323, 128271,\n",
              "           6762,  28301,   1437,    323,   2383,    279,   6941,  14744,    304,\n",
              "            279,   3403,  11652,     13,    576,   3204,   5387,   4494,    525,\n",
              "            510,   7535,     11,    479,  43604,     11,  40347,  54800,   3495,\n",
              "             11,  16079,     44,   2828,   1898,  21767,   1557,   9133,   4066,\n",
              "             11,  28543,     11,   2726,  58487,  49025,     11,  65583,     11,\n",
              "          44370,  10757,   3450,     11,  61659,     11,  90588,    271,   4061,\n",
              "            697,   2033,    438,    264,   1140,    315,  45225,     25,    320,\n",
              "           2996,     11,   5387,   1819,    692,     58,    492,     33, 125032,\n",
              "         129972,    910,  84300,    431, 124503,     88,    516,    364,  34224,\n",
              "           4567,   4319,     19,     16,     21,    516,    364,  92485,  10757,\n",
              "           3450,  51028,    220, 151645, 151645, 151645, 151645, 151645, 151645,\n",
              "         151645, 151645, 151645, 151645, 151645, 151645, 151645, 151645, 151645,\n",
              "         151645, 151645, 151645, 151645, 151645, 151645, 151645, 151645, 151645,\n",
              "         151645, 151645, 151645, 151645, 151645, 151645, 151645, 151645, 151645,\n",
              "         151645, 151645, 151645, 151645, 151645, 151645, 151645, 151645, 151645,\n",
              "         151645, 151645, 151645, 151645, 151645, 151645, 151645, 151645, 151645,\n",
              "         151645, 151645, 151645, 151645]], device='cuda:0')"
            ]
          },
          "execution_count": 57,
          "metadata": {},
          "output_type": "execute_result"
        }
      ],
      "source": [
        "outputs"
      ]
    },
    {
      "cell_type": "code",
      "execution_count": null,
      "metadata": {
        "colab": {
          "base_uri": "https://localhost:8080/"
        },
        "id": "7nPl-PRn8U7b",
        "outputId": "a2ee1a47-bdf2-4e93-e90f-31b2457f1034"
      },
      "outputs": [
        {
          "name": "stdout",
          "output_type": "stream",
          "text": [
            "Named Entity Recognition Task\n",
            "\n",
            "Sentence: Bác sĩ Trần Thanh Linh , từ Bệnh viện Chợ Rẫy chi viện phụ trách đơn nguyên hồi sức tích cực , cho biết \" bệnh nhân 416 \" vẫn đang duy trì ECMO , thở máy , hiện xơ phổi rất nhiều .\n",
            "\n",
            "Identify and label the named entities in the above sentence. The possible entity types are:\n",
            "NAME, GENDER, TRANSPORTATION, SYMPTOM_AND_DISEASE, DATE, ORGANIZATION, LOCATION, PATIENT_ID, JOB, AGE\n",
            "\n",
            "Format your response as a list of tuples: (entity, entity_type)\n",
            "\n",
            "[('Bệnh viện Chợ Rẫy', 'LOCATION'), ('416', 'PATIENT_ID')] \n"
          ]
        }
      ],
      "source": [
        "decoded_outputs = tokenizer.batch_decode(outputs, skip_special_tokens=True)\n",
        "print(decoded_outputs[1])"
      ]
    },
    {
      "cell_type": "code",
      "execution_count": null,
      "metadata": {
        "colab": {
          "base_uri": "https://localhost:8080/"
        },
        "id": "fWWfITkE-iSO",
        "outputId": "701ed19f-4f42-4b14-f2f5-b7dc1e997d40"
      },
      "outputs": [
        {
          "data": {
            "text/plain": [
              "[('Bệnh viện Chợ Rẫy', 'ORGANIZATION'),\n",
              " ('416', 'PATIENT_ID'),\n",
              " ('xơ phổi rất nhiều', 'SYMPTOM_AND_DISEASE')]"
            ]
          },
          "execution_count": 54,
          "metadata": {},
          "output_type": "execute_result"
        }
      ],
      "source": [
        "test_data_json[1]['outputs']"
      ]
    },
    {
      "cell_type": "code",
      "execution_count": null,
      "metadata": {
        "id": "l_9eQr_c-4jE",
        "outputId": "e789cc14-b0c8-4a09-94d6-19f577238416"
      },
      "outputs": [
        {
          "name": "stdout",
          "output_type": "stream",
          "text": [
            "Named Entity Recognition Task\n",
            "\n",
            "Sentence: Từ 24 - 7 đến 31 - 7 , bệnh nhân được mẹ là bà H.T.P ( 47 tuổi ) đón về nhà ở phường Phước Hoà ( bằng xe máy ) , không đi đâu chỉ ra Tạp hoá Phượng , chợ Vườn Lài , phường An Sơn cùng mẹ bán tạp hoá ở đây .\n",
            "\n",
            "Identify and label the named entities in the above sentence. The possible entity types are:\n",
            "NAME, GENDER, TRANSPORTATION, SYMPTOM_AND_DISEASE, DATE, ORGANIZATION, LOCATION, PATIENT_ID, JOB, AGE\n",
            "\n",
            "Format your response as a list of tuples: (entity, entity_type)\n",
            "\n",
            "[('24 - 7', 'DATE'), ('31 - 7', 'DATE'), ('H.T.P', 'NAME'), ('47', 'AGE'), ('phường Phước Hoà', 'LOCATION'), ('Tạp hoá Phượng', 'LOCATION'), ('chợ Vườn Lài', 'LOCATION'), ('phường An Sơn', 'LOCATION')] \n"
          ]
        }
      ],
      "source": [
        "print(decoded_outputs[0])"
      ]
    },
    {
      "cell_type": "code",
      "execution_count": null,
      "metadata": {
        "id": "S9f0VCB-kETy",
        "outputId": "c5b02610-b537-481a-e9b4-803c0e340420"
      },
      "outputs": [
        {
          "name": "stdout",
          "output_type": "stream",
          "text": [
            "[('24 - 7', 'DATE'), ('31 - 7', 'DATE'), ('H.T.P', 'NAME'), ('47', 'AGE'), ('phường Phước Hoà', 'LOCATION'), ('Tạp hoá Phượng', 'LOCATION'), ('chợ Vườn Lài', 'LOCATION'), ('phường An Sơn', 'LOCATION')]\n"
          ]
        }
      ],
      "source": [
        "print(decoded_outputs[0].split(\"\\n\")[-1][:-1])"
      ]
    },
    {
      "cell_type": "code",
      "execution_count": null,
      "metadata": {
        "id": "SOXii9ntkETy",
        "outputId": "054d1225-5245-4156-ef2f-436e84921ce9"
      },
      "outputs": [
        {
          "data": {
            "text/plain": [
              "[('Bệnh viện Chợ Rẫy', 'ORGANIZATION'),\n",
              " ('416', 'PATIENT_ID'),\n",
              " ('xơ phổi rất nhiều', 'SYMPTOM_AND_DISEASE')]"
            ]
          },
          "execution_count": 56,
          "metadata": {},
          "output_type": "execute_result"
        }
      ],
      "source": [
        "test_data_json[1]['outputs']"
      ]
    },
    {
      "cell_type": "code",
      "execution_count": null,
      "metadata": {
        "id": "Aodej4U7-4mG"
      },
      "outputs": [],
      "source": []
    },
    {
      "cell_type": "markdown",
      "source": [
        "# predict for test dataset\n",
        "We can see that The model can predict correctly for 65.1% of the samples when all entities of a given input match the labels exactly."
      ],
      "metadata": {
        "id": "13OpzRe7nTfs"
      }
    },
    {
      "cell_type": "code",
      "execution_count": null,
      "metadata": {
        "id": "RkG0qZr28Q2h",
        "outputId": "5e5e93e9-87ea-4d0b-b9b2-d130751631af"
      },
      "outputs": [
        {
          "name": "stdout",
          "output_type": "stream",
          "text": [
            "0 56.25 0:00:10.097161 0:00:00.631073\n",
            "10 46.02272727272727 0:01:01.016046 0:00:00.346682\n",
            "20 45.535714285714285 0:02:06.597968 0:00:00.376780\n",
            "30 45.564516129032256 0:03:02.472894 0:00:00.367889\n",
            "40 45.27439024390244 0:03:56.073506 0:00:00.359868\n",
            "50 46.32352941176471 0:04:57.886063 0:00:00.365056\n",
            "60 46.41393442622951 0:05:56.116896 0:00:00.364874\n",
            "70 46.478873239436616 0:06:55.350422 0:00:00.365625\n",
            "80 48.99691358024691 0:08:00.314906 0:00:00.370613\n",
            "90 51.579670329670336 0:08:46.687924 0:00:00.361736\n",
            "100 54.146039603960396 0:09:33.387144 0:00:00.354819\n",
            "110 56.70045045045045 0:10:23.414660 0:00:00.351022\n",
            "120 58.16115702479338 0:11:02.255238 0:00:00.342074\n",
            "130 59.78053435114504 0:11:53.228222 0:00:00.340281\n",
            "140 60.54964539007093 0:12:35.831597 0:00:00.335032\n",
            "150 61.75496688741722 0:13:22.193459 0:00:00.332034\n",
            "160 63.04347826086957 0:14:10.280399 0:00:00.330078\n",
            "170 63.888888888888886 0:14:55.931582 0:00:00.327460\n",
            "180 64.74447513812154 0:15:43.989315 0:00:00.325963\n"
          ]
        }
      ],
      "source": [
        "from datetime import datetime\n",
        "\n",
        "start = datetime.now()\n",
        "\n",
        "prediction = []\n",
        "response = []\n",
        "accuracy = []\n",
        "labels = []\n",
        "\n",
        "batchsize = 16\n",
        "\n",
        "for i in range(len(test_data_json) // batchsize + int(len(test_data_json) % batchsize != 0)):\n",
        "    batch_data = test_data_json[i * batchsize: min((i+1) * batchsize, len(test_data_json))]\n",
        "    batch_words = [x['words'] for x in batch_data]\n",
        "    batch_words = [\" \".join(x) for x in batch_words]\n",
        "    batch_tags = [x['tags'] for x in batch_data]\n",
        "    batch_outputs = [x['outputs'] for x in batch_data]\n",
        "    batch_input_ = [f'''Named Entity Recognition Task\n",
        "\n",
        "Sentence: {words}\n",
        "\n",
        "Identify and label the named entities in the above sentence. The possible entity types are:\n",
        "NAME, GENDER, TRANSPORTATION, SYMPTOM_AND_DISEASE, DATE, ORGANIZATION, LOCATION, PATIENT_ID, JOB, AGE\n",
        "\n",
        "Format your response as a list of tuples: (entity, entity_type)\n",
        "''' for words in batch_words]\n",
        "    batch_prompts = [create_prompt(input_, tags) for input_ in batch_input_]\n",
        "\n",
        "    inputs =  tokenizer(batch_prompts, return_tensors=\"pt\", padding=True, truncation=True).to(model.device)\n",
        "\n",
        "    with torch.no_grad():\n",
        "        batch_tokens = model.generate(\n",
        "                inputs.input_ids,\n",
        "                attention_mask=inputs.attention_mask,\n",
        "                max_new_tokens=1024,\n",
        "                temperature=0.1,\n",
        "                do_sample=False,\n",
        "                pad_token_id=tokenizer.eos_token_id\n",
        "            )\n",
        "\n",
        "    decoded_outputs = tokenizer.batch_decode(batch_tokens, skip_special_tokens=True)\n",
        "    batch_answer = [answer.split(\"\\n\")[-1][:-1] for answer in decoded_outputs]\n",
        "    prediction += batch_answer\n",
        "    response += decoded_outputs\n",
        "\n",
        "    accuracy += [answer == str(output) for answer, output in zip(batch_answer, batch_outputs)]\n",
        "    labels += batch_outputs\n",
        "\n",
        "    if i % 10 == 0:\n",
        "        print(i, np.array(accuracy).sum()/len(prediction)*100, datetime.now() - start, (datetime.now() - start)/len(prediction))"
      ]
    },
    {
      "cell_type": "code",
      "execution_count": null,
      "metadata": {
        "id": "WIk0CEsJkETz",
        "outputId": "9c011e38-569a-45fc-a5d8-3f30ecd1c32a"
      },
      "outputs": [
        {
          "data": {
            "text/plain": [
              "65.10000000000001"
            ]
          },
          "execution_count": 68,
          "metadata": {},
          "output_type": "execute_result"
        }
      ],
      "source": [
        "np.array(accuracy).sum()/len(prediction)*100"
      ]
    },
    {
      "cell_type": "code",
      "execution_count": null,
      "metadata": {
        "id": "QCV_0jeekETz"
      },
      "outputs": [],
      "source": [
        "with open(\"test_response.json\", \"w\", encoding=\"utf-8\") as file:\n",
        "    json.dump(response, file, ensure_ascii=False)"
      ]
    },
    {
      "cell_type": "code",
      "execution_count": null,
      "metadata": {
        "id": "2k4N2JT-kETz"
      },
      "outputs": [],
      "source": [
        "df = pd.DataFrame(data = {'words': [x['words'] for x in test_data_json],\n",
        "                         'outputs': labels,\n",
        "                        'outputs_string': [str(x) for x in labels],\n",
        "                         'response': response,\n",
        "                         'prediction': prediction})\n",
        "df['check'] = df['outputs_string'] == df['prediction']"
      ]
    },
    {
      "cell_type": "markdown",
      "source": [
        "## Evaluate for each tags\n",
        "Model will predict poorly for JOB entites"
      ],
      "metadata": {
        "id": "YQlUX7avoWK5"
      }
    },
    {
      "cell_type": "code",
      "execution_count": null,
      "metadata": {
        "id": "bB0bI2ZAkET0",
        "outputId": "3d8f3b0f-d849-47a3-8998-29e7237842d2"
      },
      "outputs": [
        {
          "name": "stdout",
          "output_type": "stream",
          "text": [
            "{'TRANSPORTATION': {'Precision': 0.9838709677419355, 'Recall': 0.9481865284974094, 'F1-score': 0.9656992084432717}, 'LOCATION': {'Precision': 0.8805903398926654, 'Recall': 0.8913535536441829, 'F1-score': 0.8859392575928009}, 'NAME': {'Precision': 0.8884892086330936, 'Recall': 0.7942122186495176, 'F1-score': 0.8387096774193549}, 'ORGANIZATION': {'Precision': 0.8112244897959183, 'Recall': 0.8249027237354085, 'F1-score': 0.8180064308681672}, 'JOB': {'Precision': 0.4880952380952381, 'Recall': 0.47398843930635837, 'F1-score': 0.4809384164222874}, 'GENDER': {'Precision': 0.9239130434782609, 'Recall': 0.9199134199134199, 'F1-score': 0.9219088937093276}, 'PATIENT_ID': {'Precision': 0.9745762711864406, 'Recall': 0.9181636726546906, 'F1-score': 0.9455292908530318}, 'SYMPTOM_AND_DISEASE': {'Precision': 0.842, 'Recall': 0.7411971830985915, 'F1-score': 0.7883895131086143}, 'DATE': {'Precision': 0.975181598062954, 'Recall': 0.9740024183796856, 'F1-score': 0.9745916515426497}, 'AGE': {'Precision': 0.9527145359019265, 'Recall': 0.9347079037800687, 'F1-score': 0.9436253252385083}, 'O': {'Precision': 0.0, 'Recall': 0.0, 'F1-score': 0.0}, 'Average': {'Precision': 0.7927868811625849, 'Recall': 0.7655116419690302, 'F1-score': 0.7784852422907286}}\n"
          ]
        }
      ],
      "source": [
        "import ast\n",
        "from sklearn.metrics import precision_score, recall_score, f1_score\n",
        "\n",
        "def evaluate_ner(outputs, true_outputs, entity_labels):\n",
        "    \"\"\"\n",
        "    Đánh giá NER dựa trên đầu ra dự đoán và nhãn thật.\n",
        "\n",
        "    Args:\n",
        "    - outputs: List đầu ra dự đoán từ mô hình, với định dạng [[('entity', 'label')]].\n",
        "    - true_outputs: List nhãn thật (ground truth), với định dạng giống với outputs.\n",
        "    - entity_labels: List các nhãn thực thể cần đánh giá (ví dụ: ['DATE', 'NAME', 'AGE', 'LOCATION']).\n",
        "\n",
        "    Returns:\n",
        "    - Một dict chứa Precision, Recall, và F1-score cho từng nhãn và trung bình.\n",
        "    \"\"\"\n",
        "    # Danh sách lưu lại các giá trị true và predicted cho từng token (flattened)\n",
        "    y_true = []\n",
        "    y_pred = []\n",
        "\n",
        "    # Flatten danh sách nhãn thật và nhãn dự đoán\n",
        "    for predicted_sentence, true_sentence in zip(outputs, true_outputs):\n",
        "        # for pred_entity, true_entity in zip(predicted_sentence, true_sentence):\n",
        "        #     y_pred.append(pred_entity[1])  # Lấy nhãn dự đoán\n",
        "        #     y_true.append(true_entity[1])  # Lấy nhãn thật\n",
        "        predicted_sentence = {x[0]:x[1] for x in predicted_sentence}\n",
        "        for true_entity in true_sentence:\n",
        "            if true_entity[0] in predicted_sentence:\n",
        "                y_pred.append(predicted_sentence[true_entity[0]])\n",
        "                y_true.append(true_entity[1])\n",
        "            else:\n",
        "                y_true.append(true_entity[1])\n",
        "                y_pred.append('O')\n",
        "        true_sentence = {x[0]:x[1] for x in true_sentence}\n",
        "        for pred_entity in predicted_sentence.keys():\n",
        "            if pred_entity not in true_sentence:\n",
        "                y_true.append('O')\n",
        "                y_pred.append(predicted_sentence[pred_entity])\n",
        "\n",
        "    # Tạo dict lưu kết quả Precision, Recall, F1-score cho từng nhãn\n",
        "    results = {}\n",
        "    for label in entity_labels:\n",
        "        precision = precision_score([1 if y == label else 0 for y in y_true],\n",
        "                                    [1 if y == label else 0 for y in y_pred], zero_division=0)\n",
        "        recall = recall_score([1 if y == label else 0 for y in y_true],\n",
        "                              [1 if y == label else 0 for y in y_pred], zero_division=0)\n",
        "        f1 = f1_score([1 if y == label else 0 for y in y_true],\n",
        "                      [1 if y == label else 0 for y in y_pred], zero_division=0)\n",
        "        results[label] = {'Precision': precision, 'Recall': recall, 'F1-score': f1}\n",
        "\n",
        "    # Tính F1-score, Precision, Recall trung bình cho toàn bộ các nhãn\n",
        "    avg_precision = precision_score(y_true, y_pred, labels=entity_labels, average='macro', zero_division=0)\n",
        "    avg_recall = recall_score(y_true, y_pred, labels=entity_labels, average='macro', zero_division=0)\n",
        "    avg_f1 = f1_score(y_true, y_pred, labels=entity_labels, average='macro', zero_division=0)\n",
        "\n",
        "    results['Average'] = {'Precision': avg_precision, 'Recall': avg_recall, 'F1-score': avg_f1}\n",
        "\n",
        "    return results\n",
        "\n",
        "entity_labels = tag_labels + ['O']\n",
        "\n",
        "results = evaluate_ner([ast.literal_eval(x) for x in prediction], labels, entity_labels)\n",
        "print(results)"
      ]
    },
    {
      "cell_type": "code",
      "execution_count": null,
      "metadata": {
        "id": "OBqdGiNFkET0",
        "outputId": "b8788898-469b-4383-e746-488f5692d03a"
      },
      "outputs": [
        {
          "data": {
            "text/plain": [
              "{'TRANSPORTATION': {'Precision': 0.9838709677419355,\n",
              "  'Recall': 0.9481865284974094,\n",
              "  'F1-score': 0.9656992084432717},\n",
              " 'LOCATION': {'Precision': 0.8805903398926654,\n",
              "  'Recall': 0.8913535536441829,\n",
              "  'F1-score': 0.8859392575928009},\n",
              " 'NAME': {'Precision': 0.8884892086330936,\n",
              "  'Recall': 0.7942122186495176,\n",
              "  'F1-score': 0.8387096774193549},\n",
              " 'ORGANIZATION': {'Precision': 0.8112244897959183,\n",
              "  'Recall': 0.8249027237354085,\n",
              "  'F1-score': 0.8180064308681672},\n",
              " 'JOB': {'Precision': 0.4880952380952381,\n",
              "  'Recall': 0.47398843930635837,\n",
              "  'F1-score': 0.4809384164222874},\n",
              " 'GENDER': {'Precision': 0.9239130434782609,\n",
              "  'Recall': 0.9199134199134199,\n",
              "  'F1-score': 0.9219088937093276},\n",
              " 'PATIENT_ID': {'Precision': 0.9745762711864406,\n",
              "  'Recall': 0.9181636726546906,\n",
              "  'F1-score': 0.9455292908530318},\n",
              " 'SYMPTOM_AND_DISEASE': {'Precision': 0.842,\n",
              "  'Recall': 0.7411971830985915,\n",
              "  'F1-score': 0.7883895131086143},\n",
              " 'DATE': {'Precision': 0.975181598062954,\n",
              "  'Recall': 0.9740024183796856,\n",
              "  'F1-score': 0.9745916515426497},\n",
              " 'AGE': {'Precision': 0.9527145359019265,\n",
              "  'Recall': 0.9347079037800687,\n",
              "  'F1-score': 0.9436253252385083},\n",
              " 'O': {'Precision': 0.0, 'Recall': 0.0, 'F1-score': 0.0},\n",
              " 'Average': {'Precision': 0.7927868811625849,\n",
              "  'Recall': 0.7655116419690302,\n",
              "  'F1-score': 0.7784852422907286}}"
            ]
          },
          "execution_count": 87,
          "metadata": {},
          "output_type": "execute_result"
        }
      ],
      "source": [
        "results"
      ]
    },
    {
      "cell_type": "markdown",
      "source": [
        "## Evaluate for the original tag format.\n",
        "I need convert LLM output back to original tag format. If 1 sample can't convert because LLM output wrong format, I will set output to list of 'O' (don't predict any entities)"
      ],
      "metadata": {
        "id": "ZPPxrUy4ozM8"
      }
    },
    {
      "cell_type": "code",
      "execution_count": null,
      "metadata": {
        "id": "DRjmxE_TkET0",
        "outputId": "1b6e1d42-106c-404b-efd0-1a9deb646fac"
      },
      "outputs": [
        {
          "name": "stdout",
          "output_type": "stream",
          "text": [
            "Từ: O\n",
            "24: B-DATE\n",
            "-: I-DATE\n",
            "7: I-DATE\n",
            "đến: O\n",
            "31: B-DATE\n",
            "-: I-DATE\n",
            "7: I-DATE\n",
            ",: O\n",
            "bệnh: O\n",
            "nhân: O\n",
            "được: O\n",
            "mẹ: O\n",
            "là: O\n",
            "bà: O\n",
            "H.T.P: B-NAME\n",
            "(: O\n",
            "47: B-AGE\n",
            "tuổi: O\n",
            "): O\n",
            "đón: O\n",
            "về: O\n",
            "nhà: O\n",
            "ở: O\n",
            "phường: B-LOCATION\n",
            "Phước: I-LOCATION\n",
            "Hoà: I-LOCATION\n",
            "(: O\n",
            "bằng: O\n",
            "xe: O\n",
            "máy: O\n",
            "): O\n",
            ",: O\n",
            "không: O\n",
            "đi: O\n",
            "đâu: O\n",
            "chỉ: O\n",
            "ra: O\n",
            "Tạp: B-LOCATION\n",
            "hoá: I-LOCATION\n",
            "Phượng: I-LOCATION\n",
            ",: O\n",
            "chợ: B-LOCATION\n",
            "Vườn: I-LOCATION\n",
            "Lài: I-LOCATION\n",
            ",: O\n",
            "phường: B-LOCATION\n",
            "An: I-LOCATION\n",
            "Sơn: I-LOCATION\n",
            "cùng: O\n",
            "mẹ: O\n",
            "bán: O\n",
            "tạp: O\n",
            "hoá: O\n",
            "ở: O\n",
            "đây: O\n",
            ".: O\n",
            "\n",
            "Comparison with original tags:\n",
            "bán: Predicted: O, Original: B-JOB\n",
            "tạp: Predicted: O, Original: I-JOB\n",
            "hoá: Predicted: O, Original: I-JOB\n"
          ]
        }
      ],
      "source": [
        "def predictions_to_tags(sentence, predictions):\n",
        "    \"\"\"\n",
        "    Convert model predictions (list of entity tuples) back to tags format.\n",
        "\n",
        "    :param sentence: List of tokens in the original sentence\n",
        "    :param predictions: List of (entity, entity_type) tuples\n",
        "    :return: List of tags in BIO format\n",
        "    \"\"\"\n",
        "    tags = ['O'] * len(sentence)  # Initialize all tags as 'O'\n",
        "\n",
        "    for entity, entity_type in predictions:\n",
        "        entity_tokens = entity.split()\n",
        "\n",
        "        # Find the start index of the entity in the sentence\n",
        "        for i in range(len(sentence) - len(entity_tokens) + 1):\n",
        "            if sentence[i:i+len(entity_tokens)] == entity_tokens:\n",
        "                # Mark the first token of the entity\n",
        "                tags[i] = f'B-{entity_type}'\n",
        "                # Mark the rest of the tokens of the entity\n",
        "                for j in range(1, len(entity_tokens)):\n",
        "                    tags[i+j] = f'I-{entity_type}'\n",
        "                break  # Stop after finding the first occurrence\n",
        "\n",
        "    return tags\n",
        "\n",
        "# Example usage\n",
        "sentence = test_data_json[0]['words']\n",
        "model_predictions = ast.literal_eval(prediction[0])\n",
        "predicted_tags = predictions_to_tags(sentence, model_predictions)\n",
        "\n",
        "# Print the results\n",
        "for token, tag in zip(sentence, predicted_tags):\n",
        "    print(f\"{token}: {tag}\")\n",
        "\n",
        "# Optionally, compare with the original tags\n",
        "original_tags = test_data_json[0]['tags']\n",
        "\n",
        "print(\"\\nComparison with original tags:\")\n",
        "for token, pred_tag, orig_tag in zip(sentence, predicted_tags, original_tags):\n",
        "    if pred_tag != orig_tag:\n",
        "        print(f\"{token}: Predicted: {pred_tag}, Original: {orig_tag}\")"
      ]
    },
    {
      "cell_type": "code",
      "execution_count": null,
      "metadata": {
        "id": "FRsBnAfokET0",
        "outputId": "d86abe9f-332d-4550-e25f-c58b58e547f6"
      },
      "outputs": [
        {
          "name": "stdout",
          "output_type": "stream",
          "text": [
            "['O', 'B-DATE', 'I-DATE', 'I-DATE', 'O', 'B-DATE', 'I-DATE', 'I-DATE', 'O', 'O', 'O', 'O', 'O', 'O', 'O', 'B-NAME', 'O', 'B-AGE', 'O', 'O', 'O', 'O', 'O', 'O', 'B-LOCATION', 'I-LOCATION', 'I-LOCATION', 'O', 'O', 'O', 'O', 'O', 'O', 'O', 'O', 'O', 'O', 'O', 'B-LOCATION', 'I-LOCATION', 'I-LOCATION', 'O', 'B-LOCATION', 'I-LOCATION', 'I-LOCATION', 'O', 'B-LOCATION', 'I-LOCATION', 'I-LOCATION', 'O', 'O', 'O', 'O', 'O', 'O', 'O', 'O']\n",
            "['O', 'B-DATE', 'I-DATE', 'I-DATE', 'O', 'B-DATE', 'I-DATE', 'I-DATE', 'O', 'O', 'O', 'O', 'O', 'O', 'O', 'B-NAME', 'O', 'B-AGE', 'O', 'O', 'O', 'O', 'O', 'O', 'B-LOCATION', 'I-LOCATION', 'I-LOCATION', 'O', 'O', 'O', 'O', 'O', 'O', 'O', 'O', 'O', 'O', 'O', 'B-LOCATION', 'I-LOCATION', 'I-LOCATION', 'O', 'B-LOCATION', 'I-LOCATION', 'I-LOCATION', 'O', 'B-LOCATION', 'I-LOCATION', 'I-LOCATION', 'O', 'O', 'B-JOB', 'I-JOB', 'I-JOB', 'O', 'O', 'O']\n"
          ]
        }
      ],
      "source": [
        "print(predicted_tags)\n",
        "print(original_tags)"
      ]
    },
    {
      "cell_type": "code",
      "execution_count": null,
      "metadata": {
        "id": "pIQoXZGtkET0"
      },
      "outputs": [],
      "source": [
        "sentence = test_data_json[0]['words']\n",
        "model_predictions = ast.literal_eval(prediction[0])\n",
        "predicted_tags = predictions_to_tags(sentence, model_predictions)"
      ]
    },
    {
      "cell_type": "code",
      "execution_count": null,
      "metadata": {
        "id": "p-sZzuPokET0",
        "outputId": "ef612d99-97b5-482d-8345-eae6b8d74ad1"
      },
      "outputs": [
        {
          "data": {
            "text/plain": [
              "(['Người',\n",
              "  'phụ',\n",
              "  'nữ',\n",
              "  'đi',\n",
              "  'bộ',\n",
              "  'trên',\n",
              "  'phố',\n",
              "  '\"',\n",
              "  'thời',\n",
              "  'trang',\n",
              "  'bình',\n",
              "  'dân',\n",
              "  '\"',\n",
              "  'Chùa',\n",
              "  'Bộc',\n",
              "  ',',\n",
              "  'quận',\n",
              "  'Đống',\n",
              "  'Đa',\n",
              "  'ngày',\n",
              "  '13/4',\n",
              "  '.'],\n",
              " [('phố thôn Chùa Bộc', 'quận Đống Đa', '13/4')])"
            ]
          },
          "execution_count": 106,
          "metadata": {},
          "output_type": "execute_result"
        }
      ],
      "source": [
        "words, predict"
      ]
    },
    {
      "cell_type": "code",
      "execution_count": null,
      "metadata": {
        "id": "glmCZfwJkET0"
      },
      "outputs": [],
      "source": [
        "df['tags'] = [x['tags'] for x in test_data_json]\n",
        "predict_tags = []\n",
        "sentences = [x['words'] for x in test_data_json]\n",
        "bugs = []\n",
        "\n",
        "for words, predict in zip(sentences, prediction):\n",
        "    predict = ast.literal_eval(predict)\n",
        "    try:\n",
        "        predict_tag = predictions_to_tags(words, predict)\n",
        "        bugs.append(False)\n",
        "    except:\n",
        "        predict_tag = ['O' for _ in words]\n",
        "        bugs.append(True)\n",
        "    predict_tags.append(predict_tag)\n",
        "    #print(predict, words, predict_tags[-1])\n",
        "\n",
        "df['predict_tags'] = predict_tags\n",
        "df['bugs'] = bugs"
      ]
    },
    {
      "cell_type": "code",
      "execution_count": null,
      "metadata": {
        "id": "9bs5a6JWkET1",
        "outputId": "bff278f5-0bb7-49a6-b8a8-66ef01a03658"
      },
      "outputs": [
        {
          "data": {
            "text/html": [
              "<div>\n",
              "<style scoped>\n",
              "    .dataframe tbody tr th:only-of-type {\n",
              "        vertical-align: middle;\n",
              "    }\n",
              "\n",
              "    .dataframe tbody tr th {\n",
              "        vertical-align: top;\n",
              "    }\n",
              "\n",
              "    .dataframe thead th {\n",
              "        text-align: right;\n",
              "    }\n",
              "</style>\n",
              "<table border=\"1\" class=\"dataframe\">\n",
              "  <thead>\n",
              "    <tr style=\"text-align: right;\">\n",
              "      <th></th>\n",
              "      <th>words</th>\n",
              "      <th>outputs</th>\n",
              "      <th>outputs_string</th>\n",
              "      <th>response</th>\n",
              "      <th>prediction</th>\n",
              "      <th>check</th>\n",
              "      <th>tags</th>\n",
              "      <th>predict_tags</th>\n",
              "      <th>bugs</th>\n",
              "    </tr>\n",
              "  </thead>\n",
              "  <tbody>\n",
              "    <tr>\n",
              "      <th>0</th>\n",
              "      <td>[Từ, 24, -, 7, đến, 31, -, 7, ,, bệnh, nhân, đ...</td>\n",
              "      <td>[(24 - 7, DATE), (31 - 7, DATE), (H.T.P, NAME)...</td>\n",
              "      <td>[('24 - 7', 'DATE'), ('31 - 7', 'DATE'), ('H.T...</td>\n",
              "      <td>Named Entity Recognition Task\\n\\nSentence: Từ ...</td>\n",
              "      <td>[('24 - 7', 'DATE'), ('31 - 7', 'DATE'), ('H.T...</td>\n",
              "      <td>False</td>\n",
              "      <td>[O, B-DATE, I-DATE, I-DATE, O, B-DATE, I-DATE,...</td>\n",
              "      <td>[O, B-DATE, I-DATE, I-DATE, O, B-DATE, I-DATE,...</td>\n",
              "      <td>False</td>\n",
              "    </tr>\n",
              "    <tr>\n",
              "      <th>1</th>\n",
              "      <td>[Bác, sĩ, Trần, Thanh, Linh, ,, từ, Bệnh, viện...</td>\n",
              "      <td>[(Bệnh viện Chợ Rẫy, ORGANIZATION), (416, PATI...</td>\n",
              "      <td>[('Bệnh viện Chợ Rẫy', 'ORGANIZATION'), ('416'...</td>\n",
              "      <td>Named Entity Recognition Task\\n\\nSentence: Bác...</td>\n",
              "      <td>[('Bệnh viện Chợ Rẫy', 'LOCATION'), ('416', 'P...</td>\n",
              "      <td>False</td>\n",
              "      <td>[O, O, O, O, O, O, O, B-ORGANIZATION, I-ORGANI...</td>\n",
              "      <td>[O, O, O, O, O, O, O, B-LOCATION, I-LOCATION, ...</td>\n",
              "      <td>False</td>\n",
              "    </tr>\n",
              "    <tr>\n",
              "      <th>2</th>\n",
              "      <td>[Theo, đó, ,, Sở, Y, tế, Bình, Thuận, cho, biế...</td>\n",
              "      <td>[(Sở Y tế Bình Thuận, ORGANIZATION), (34, PATI...</td>\n",
              "      <td>[('Sở Y tế Bình Thuận', 'ORGANIZATION'), ('34'...</td>\n",
              "      <td>Named Entity Recognition Task\\n\\nSentence: The...</td>\n",
              "      <td>[('Sở Y tế Bình Thuận', 'ORGANIZATION'), ('34'...</td>\n",
              "      <td>True</td>\n",
              "      <td>[O, O, O, B-ORGANIZATION, I-ORGANIZATION, I-OR...</td>\n",
              "      <td>[O, O, O, B-ORGANIZATION, I-ORGANIZATION, I-OR...</td>\n",
              "      <td>False</td>\n",
              "    </tr>\n",
              "    <tr>\n",
              "      <th>3</th>\n",
              "      <td>[Bệnh, nhân, 218, :, nữ, ,, 43, tuổi, ,, quốc,...</td>\n",
              "      <td>[(218, PATIENT_ID), (nữ, GENDER), (43, AGE), (...</td>\n",
              "      <td>[('218', 'PATIENT_ID'), ('nữ', 'GENDER'), ('43...</td>\n",
              "      <td>Named Entity Recognition Task\\n\\nSentence: Bện...</td>\n",
              "      <td>[('218', 'PATIENT_ID'), ('nữ', 'GENDER'), ('43...</td>\n",
              "      <td>False</td>\n",
              "      <td>[O, O, B-PATIENT_ID, O, B-GENDER, O, B-AGE, O,...</td>\n",
              "      <td>[O, O, B-PATIENT_ID, O, B-GENDER, O, B-AGE, O,...</td>\n",
              "      <td>False</td>\n",
              "    </tr>\n",
              "    <tr>\n",
              "      <th>4</th>\n",
              "      <td>[Ông, cùng, 4, người, khác, hôm, 4/3, từ, Mala...</td>\n",
              "      <td>[(4/3, DATE), (Malaysia, LOCATION), (sân bay T...</td>\n",
              "      <td>[('4/3', 'DATE'), ('Malaysia', 'LOCATION'), ('...</td>\n",
              "      <td>Named Entity Recognition Task\\n\\nSentence: Ông...</td>\n",
              "      <td>[('4/3', 'DATE'), ('Malaysia', 'LOCATION'), ('...</td>\n",
              "      <td>True</td>\n",
              "      <td>[O, O, O, O, O, O, B-DATE, O, B-LOCATION, O, B...</td>\n",
              "      <td>[O, O, O, O, O, O, B-DATE, O, B-LOCATION, O, B...</td>\n",
              "      <td>False</td>\n",
              "    </tr>\n",
              "  </tbody>\n",
              "</table>\n",
              "</div>"
            ],
            "text/plain": [
              "                                               words  \\\n",
              "0  [Từ, 24, -, 7, đến, 31, -, 7, ,, bệnh, nhân, đ...   \n",
              "1  [Bác, sĩ, Trần, Thanh, Linh, ,, từ, Bệnh, viện...   \n",
              "2  [Theo, đó, ,, Sở, Y, tế, Bình, Thuận, cho, biế...   \n",
              "3  [Bệnh, nhân, 218, :, nữ, ,, 43, tuổi, ,, quốc,...   \n",
              "4  [Ông, cùng, 4, người, khác, hôm, 4/3, từ, Mala...   \n",
              "\n",
              "                                             outputs  \\\n",
              "0  [(24 - 7, DATE), (31 - 7, DATE), (H.T.P, NAME)...   \n",
              "1  [(Bệnh viện Chợ Rẫy, ORGANIZATION), (416, PATI...   \n",
              "2  [(Sở Y tế Bình Thuận, ORGANIZATION), (34, PATI...   \n",
              "3  [(218, PATIENT_ID), (nữ, GENDER), (43, AGE), (...   \n",
              "4  [(4/3, DATE), (Malaysia, LOCATION), (sân bay T...   \n",
              "\n",
              "                                      outputs_string  \\\n",
              "0  [('24 - 7', 'DATE'), ('31 - 7', 'DATE'), ('H.T...   \n",
              "1  [('Bệnh viện Chợ Rẫy', 'ORGANIZATION'), ('416'...   \n",
              "2  [('Sở Y tế Bình Thuận', 'ORGANIZATION'), ('34'...   \n",
              "3  [('218', 'PATIENT_ID'), ('nữ', 'GENDER'), ('43...   \n",
              "4  [('4/3', 'DATE'), ('Malaysia', 'LOCATION'), ('...   \n",
              "\n",
              "                                            response  \\\n",
              "0  Named Entity Recognition Task\\n\\nSentence: Từ ...   \n",
              "1  Named Entity Recognition Task\\n\\nSentence: Bác...   \n",
              "2  Named Entity Recognition Task\\n\\nSentence: The...   \n",
              "3  Named Entity Recognition Task\\n\\nSentence: Bện...   \n",
              "4  Named Entity Recognition Task\\n\\nSentence: Ông...   \n",
              "\n",
              "                                          prediction  check  \\\n",
              "0  [('24 - 7', 'DATE'), ('31 - 7', 'DATE'), ('H.T...  False   \n",
              "1  [('Bệnh viện Chợ Rẫy', 'LOCATION'), ('416', 'P...  False   \n",
              "2  [('Sở Y tế Bình Thuận', 'ORGANIZATION'), ('34'...   True   \n",
              "3  [('218', 'PATIENT_ID'), ('nữ', 'GENDER'), ('43...  False   \n",
              "4  [('4/3', 'DATE'), ('Malaysia', 'LOCATION'), ('...   True   \n",
              "\n",
              "                                                tags  \\\n",
              "0  [O, B-DATE, I-DATE, I-DATE, O, B-DATE, I-DATE,...   \n",
              "1  [O, O, O, O, O, O, O, B-ORGANIZATION, I-ORGANI...   \n",
              "2  [O, O, O, B-ORGANIZATION, I-ORGANIZATION, I-OR...   \n",
              "3  [O, O, B-PATIENT_ID, O, B-GENDER, O, B-AGE, O,...   \n",
              "4  [O, O, O, O, O, O, B-DATE, O, B-LOCATION, O, B...   \n",
              "\n",
              "                                        predict_tags   bugs  \n",
              "0  [O, B-DATE, I-DATE, I-DATE, O, B-DATE, I-DATE,...  False  \n",
              "1  [O, O, O, O, O, O, O, B-LOCATION, I-LOCATION, ...  False  \n",
              "2  [O, O, O, B-ORGANIZATION, I-ORGANIZATION, I-OR...  False  \n",
              "3  [O, O, B-PATIENT_ID, O, B-GENDER, O, B-AGE, O,...  False  \n",
              "4  [O, O, O, O, O, O, B-DATE, O, B-LOCATION, O, B...  False  "
            ]
          },
          "execution_count": 115,
          "metadata": {},
          "output_type": "execute_result"
        }
      ],
      "source": [
        "df.head()"
      ]
    },
    {
      "cell_type": "code",
      "execution_count": null,
      "metadata": {
        "id": "Cgo3eoshkET1",
        "outputId": "4e6460ee-5cf4-4680-98cb-4de2e254e484"
      },
      "outputs": [
        {
          "name": "stdout",
          "output_type": "stream",
          "text": [
            "                       precision    recall  f1-score   support\n",
            "\n",
            "                B-AGE     0.9533    0.9124    0.9324       582\n",
            "               B-DATE     0.9829    0.9716    0.9772      1654\n",
            "             B-GENDER     0.9404    0.8203    0.8763       462\n",
            "                B-JOB     0.6309    0.5434    0.5839       173\n",
            "           B-LOCATION     0.9177    0.8633    0.8897      4441\n",
            "               B-NAME     0.9449    0.7547    0.8392       318\n",
            "       B-ORGANIZATION     0.8564    0.8353    0.8457       771\n",
            "         B-PATIENT_ID     0.9772    0.8349    0.9005      2005\n",
            "B-SYMPTOM_AND_DISEASE     0.9370    0.7861    0.8550      1136\n",
            "     B-TRANSPORTATION     0.9838    0.9430    0.9630       193\n",
            "                I-AGE     0.4000    0.3333    0.3636         6\n",
            "               I-DATE     0.9854    0.9640    0.9746      1752\n",
            "             I-GENDER     0.0000    0.0000    0.0000         1\n",
            "                I-JOB     0.7027    0.4496    0.5483       347\n",
            "           I-LOCATION     0.9514    0.8652    0.9063     10729\n",
            "               I-NAME     0.8750    0.5000    0.6364        84\n",
            "       I-ORGANIZATION     0.8799    0.8303    0.8544      3672\n",
            "         I-PATIENT_ID     0.6154    0.2963    0.4000        27\n",
            "I-SYMPTOM_AND_DISEASE     0.9591    0.6957    0.8065      2156\n",
            "     I-TRANSPORTATION     0.9714    0.9444    0.9577        72\n",
            "                    O     0.9541    0.9902    0.9718     77773\n",
            "\n",
            "             accuracy                         0.9495    108354\n",
            "            macro avg     0.8295    0.7207    0.7658    108354\n",
            "         weighted avg     0.9489    0.9495    0.9479    108354\n",
            "\n",
            "{'B-TRANSPORTATION': {'Precision': 0.9837837837837838, 'Recall': 0.9430051813471503, 'F1-score': 0.9629629629629629}, 'B-LOCATION': {'Precision': 0.9176639540449976, 'Recall': 0.8633190722810178, 'F1-score': 0.8896623738252698}, 'B-NAME': {'Precision': 0.9448818897637795, 'Recall': 0.7547169811320755, 'F1-score': 0.8391608391608392}, 'B-ORGANIZATION': {'Precision': 0.8563829787234043, 'Recall': 0.8352788586251622, 'F1-score': 0.8456992777413}, 'B-JOB': {'Precision': 0.6308724832214765, 'Recall': 0.5433526011560693, 'F1-score': 0.5838509316770186}, 'B-GENDER': {'Precision': 0.9404466501240695, 'Recall': 0.8203463203463204, 'F1-score': 0.8763005780346821}, 'B-PATIENT_ID': {'Precision': 0.9772329246935202, 'Recall': 0.8349127182044888, 'F1-score': 0.900484131253362}, 'B-SYMPTOM_AND_DISEASE': {'Precision': 0.9370409233997902, 'Recall': 0.7860915492957746, 'F1-score': 0.8549545236955481}, 'B-DATE': {'Precision': 0.982874617737003, 'Recall': 0.971584038694075, 'F1-score': 0.9771967163271511}, 'B-AGE': {'Precision': 0.9533213644524237, 'Recall': 0.9123711340206185, 'F1-score': 0.932396839332748}, 'I-TRANSPORTATION': {'Precision': 0.9714285714285714, 'Recall': 0.9444444444444444, 'F1-score': 0.9577464788732394}, 'I-LOCATION': {'Precision': 0.9514194936968331, 'Recall': 0.865225090875198, 'F1-score': 0.9062774577760422}, 'I-NAME': {'Precision': 0.875, 'Recall': 0.5, 'F1-score': 0.6363636363636364}, 'I-ORGANIZATION': {'Precision': 0.8799422799422799, 'Recall': 0.8303376906318083, 'F1-score': 0.8544206249124282}, 'I-JOB': {'Precision': 0.7027027027027027, 'Recall': 0.4495677233429395, 'F1-score': 0.5483304042179262}, 'I-GENDER': {'Precision': 0.0, 'Recall': 0.0, 'F1-score': 0.0}, 'I-PATIENT_ID': {'Precision': 0.6153846153846154, 'Recall': 0.2962962962962963, 'F1-score': 0.4}, 'I-SYMPTOM_AND_DISEASE': {'Precision': 0.959079283887468, 'Recall': 0.6957328385899815, 'F1-score': 0.8064516129032258}, 'I-DATE': {'Precision': 0.985414235705951, 'Recall': 0.964041095890411, 'F1-score': 0.9746105020196192}, 'I-AGE': {'Precision': 0.4, 'Recall': 0.3333333333333333, 'F1-score': 0.36363636363636365}, 'O': {'Precision': 0.9540960451977402, 'Recall': 0.9901508235505896, 'F1-score': 0.9717891283086727}, 'Average': {'Precision': 0.829474704661448, 'Recall': 0.7206717996217977, 'F1-score': 0.765823589667716, 'Accuracy': 0.9494988648319398}}\n"
          ]
        }
      ],
      "source": [
        "from sklearn.metrics import precision_score, recall_score, f1_score, accuracy_score, classification_report\n",
        "\n",
        "def evaluate_ner_multiple_samples(predicted_tags_list, original_tags_list, entity_labels):\n",
        "    \"\"\"\n",
        "    Đánh giá NER dựa trên nhiều câu (multiple samples) với nhãn BIO đã dự đoán và nhãn thật.\n",
        "\n",
        "    Args:\n",
        "    - predicted_tags_list: List các nhãn dự đoán từ mô hình (mỗi phần tử là một danh sách nhãn cho một câu).\n",
        "    - original_tags_list: List các nhãn thật (mỗi phần tử là một danh sách nhãn cho một câu).\n",
        "    - entity_labels: List các nhãn thực thể cần đánh giá (ví dụ: ['B-DATE', 'I-DATE', 'B-NAME', 'B-AGE', 'B-LOCATION', ...]).\n",
        "\n",
        "    Returns:\n",
        "    - Một dict chứa Precision, Recall, F1-score, Accuracy cho từng nhãn và trung bình.\n",
        "    \"\"\"\n",
        "    # Flatten the predicted and original tags from multiple samples into one list each\n",
        "    set_entity_labels = set(entity_labels)\n",
        "    flattened_predicted_tags = [tag if tag in set_entity_labels else 'O' for sample in predicted_tags_list for tag in sample]\n",
        "    flattened_original_tags = [tag for sample in original_tags_list for tag in sample]\n",
        "\n",
        "    # Precision, Recall, F1 cho từng nhãn trong entity_labels\n",
        "    results = {}\n",
        "    for label in entity_labels:\n",
        "        precision = precision_score([1 if y == label else 0 for y in flattened_original_tags],\n",
        "                                    [1 if y == label else 0 for y in flattened_predicted_tags], zero_division=0)\n",
        "        recall = recall_score([1 if y == label else 0 for y in flattened_original_tags],\n",
        "                              [1 if y == label else 0 for y in flattened_predicted_tags], zero_division=0)\n",
        "        f1 = f1_score([1 if y == label else 0 for y in flattened_original_tags],\n",
        "                      [1 if y == label else 0 for y in flattened_predicted_tags], zero_division=0)\n",
        "        results[label] = {'Precision': precision, 'Recall': recall, 'F1-score': f1}\n",
        "\n",
        "    # Tính Accuracy chung cho tất cả các nhãn\n",
        "    overall_accuracy = accuracy_score(flattened_original_tags, flattened_predicted_tags)\n",
        "\n",
        "    # Tính F1-score, Precision, Recall trung bình cho toàn bộ các nhãn\n",
        "    avg_precision = precision_score(flattened_original_tags, flattened_predicted_tags, labels=entity_labels, average='macro', zero_division=0)\n",
        "    avg_recall = recall_score(flattened_original_tags, flattened_predicted_tags, labels=entity_labels, average='macro', zero_division=0)\n",
        "    avg_f1 = f1_score(flattened_original_tags, flattened_predicted_tags, labels=entity_labels, average='macro', zero_division=0)\n",
        "\n",
        "    results['Average'] = {'Precision': avg_precision, 'Recall': avg_recall, 'F1-score': avg_f1, 'Accuracy': overall_accuracy}\n",
        "\n",
        "    print(classification_report(flattened_original_tags, flattened_predicted_tags, digits = 4))\n",
        "\n",
        "    return results\n",
        "\n",
        "predicted_tags_list = predict_tags\n",
        "original_tags_list = [x['tags'] for x in test_data_json]\n",
        "entity_labels = ['B-' + x for x in tag_labels] + ['I-' + x for x in tag_labels] + ['O']\n",
        "\n",
        "results = evaluate_ner_multiple_samples(predicted_tags_list, original_tags_list, entity_labels)\n",
        "print(results)"
      ]
    },
    {
      "cell_type": "code",
      "execution_count": null,
      "metadata": {
        "id": "cmHOr22YkET1",
        "outputId": "a5901a55-c6a0-410e-a68f-c03973efbdd5"
      },
      "outputs": [
        {
          "data": {
            "text/plain": [
              "{'B-TRANSPORTATION': {'Precision': 0.9837837837837838,\n",
              "  'Recall': 0.9430051813471503,\n",
              "  'F1-score': 0.9629629629629629},\n",
              " 'B-LOCATION': {'Precision': 0.9176639540449976,\n",
              "  'Recall': 0.8633190722810178,\n",
              "  'F1-score': 0.8896623738252698},\n",
              " 'B-NAME': {'Precision': 0.9448818897637795,\n",
              "  'Recall': 0.7547169811320755,\n",
              "  'F1-score': 0.8391608391608392},\n",
              " 'B-ORGANIZATION': {'Precision': 0.8563829787234043,\n",
              "  'Recall': 0.8352788586251622,\n",
              "  'F1-score': 0.8456992777413},\n",
              " 'B-JOB': {'Precision': 0.6308724832214765,\n",
              "  'Recall': 0.5433526011560693,\n",
              "  'F1-score': 0.5838509316770186},\n",
              " 'B-GENDER': {'Precision': 0.9404466501240695,\n",
              "  'Recall': 0.8203463203463204,\n",
              "  'F1-score': 0.8763005780346821},\n",
              " 'B-PATIENT_ID': {'Precision': 0.9772329246935202,\n",
              "  'Recall': 0.8349127182044888,\n",
              "  'F1-score': 0.900484131253362},\n",
              " 'B-SYMPTOM_AND_DISEASE': {'Precision': 0.9370409233997902,\n",
              "  'Recall': 0.7860915492957746,\n",
              "  'F1-score': 0.8549545236955481},\n",
              " 'B-DATE': {'Precision': 0.982874617737003,\n",
              "  'Recall': 0.971584038694075,\n",
              "  'F1-score': 0.9771967163271511},\n",
              " 'B-AGE': {'Precision': 0.9533213644524237,\n",
              "  'Recall': 0.9123711340206185,\n",
              "  'F1-score': 0.932396839332748},\n",
              " 'I-TRANSPORTATION': {'Precision': 0.9714285714285714,\n",
              "  'Recall': 0.9444444444444444,\n",
              "  'F1-score': 0.9577464788732394},\n",
              " 'I-LOCATION': {'Precision': 0.9514194936968331,\n",
              "  'Recall': 0.865225090875198,\n",
              "  'F1-score': 0.9062774577760422},\n",
              " 'I-NAME': {'Precision': 0.875, 'Recall': 0.5, 'F1-score': 0.6363636363636364},\n",
              " 'I-ORGANIZATION': {'Precision': 0.8799422799422799,\n",
              "  'Recall': 0.8303376906318083,\n",
              "  'F1-score': 0.8544206249124282},\n",
              " 'I-JOB': {'Precision': 0.7027027027027027,\n",
              "  'Recall': 0.4495677233429395,\n",
              "  'F1-score': 0.5483304042179262},\n",
              " 'I-GENDER': {'Precision': 0.0, 'Recall': 0.0, 'F1-score': 0.0},\n",
              " 'I-PATIENT_ID': {'Precision': 0.6153846153846154,\n",
              "  'Recall': 0.2962962962962963,\n",
              "  'F1-score': 0.4},\n",
              " 'I-SYMPTOM_AND_DISEASE': {'Precision': 0.959079283887468,\n",
              "  'Recall': 0.6957328385899815,\n",
              "  'F1-score': 0.8064516129032258},\n",
              " 'I-DATE': {'Precision': 0.985414235705951,\n",
              "  'Recall': 0.964041095890411,\n",
              "  'F1-score': 0.9746105020196192},\n",
              " 'I-AGE': {'Precision': 0.4,\n",
              "  'Recall': 0.3333333333333333,\n",
              "  'F1-score': 0.36363636363636365},\n",
              " 'O': {'Precision': 0.9540960451977402,\n",
              "  'Recall': 0.9901508235505896,\n",
              "  'F1-score': 0.9717891283086727},\n",
              " 'Average': {'Precision': 0.829474704661448,\n",
              "  'Recall': 0.7206717996217977,\n",
              "  'F1-score': 0.765823589667716,\n",
              "  'Accuracy': 0.9494988648319398}}"
            ]
          },
          "execution_count": 156,
          "metadata": {},
          "output_type": "execute_result"
        }
      ],
      "source": [
        "results"
      ]
    },
    {
      "cell_type": "code",
      "execution_count": null,
      "metadata": {
        "id": "GF4C7VgfkET1",
        "outputId": "e63f0b0f-128b-47d1-93e1-95cdaac53d00"
      },
      "outputs": [
        {
          "data": {
            "text/html": [
              "<div>\n",
              "<style scoped>\n",
              "    .dataframe tbody tr th:only-of-type {\n",
              "        vertical-align: middle;\n",
              "    }\n",
              "\n",
              "    .dataframe tbody tr th {\n",
              "        vertical-align: top;\n",
              "    }\n",
              "\n",
              "    .dataframe thead th {\n",
              "        text-align: right;\n",
              "    }\n",
              "</style>\n",
              "<table border=\"1\" class=\"dataframe\">\n",
              "  <thead>\n",
              "    <tr style=\"text-align: right;\">\n",
              "      <th></th>\n",
              "      <th>words</th>\n",
              "      <th>outputs</th>\n",
              "      <th>outputs_string</th>\n",
              "      <th>response</th>\n",
              "      <th>prediction</th>\n",
              "      <th>check</th>\n",
              "      <th>tags</th>\n",
              "      <th>predict_tags</th>\n",
              "      <th>bugs</th>\n",
              "    </tr>\n",
              "  </thead>\n",
              "  <tbody>\n",
              "    <tr>\n",
              "      <th>0</th>\n",
              "      <td>[Từ, 24, -, 7, đến, 31, -, 7, ,, bệnh, nhân, đ...</td>\n",
              "      <td>[(24 - 7, DATE), (31 - 7, DATE), (H.T.P, NAME)...</td>\n",
              "      <td>[('24 - 7', 'DATE'), ('31 - 7', 'DATE'), ('H.T...</td>\n",
              "      <td>Named Entity Recognition Task\\n\\nSentence: Từ ...</td>\n",
              "      <td>[('24 - 7', 'DATE'), ('31 - 7', 'DATE'), ('H.T...</td>\n",
              "      <td>False</td>\n",
              "      <td>[O, B-DATE, I-DATE, I-DATE, O, B-DATE, I-DATE,...</td>\n",
              "      <td>[O, B-DATE, I-DATE, I-DATE, O, B-DATE, I-DATE,...</td>\n",
              "      <td>False</td>\n",
              "    </tr>\n",
              "    <tr>\n",
              "      <th>1</th>\n",
              "      <td>[Bác, sĩ, Trần, Thanh, Linh, ,, từ, Bệnh, viện...</td>\n",
              "      <td>[(Bệnh viện Chợ Rẫy, ORGANIZATION), (416, PATI...</td>\n",
              "      <td>[('Bệnh viện Chợ Rẫy', 'ORGANIZATION'), ('416'...</td>\n",
              "      <td>Named Entity Recognition Task\\n\\nSentence: Bác...</td>\n",
              "      <td>[('Bệnh viện Chợ Rẫy', 'LOCATION'), ('416', 'P...</td>\n",
              "      <td>False</td>\n",
              "      <td>[O, O, O, O, O, O, O, B-ORGANIZATION, I-ORGANI...</td>\n",
              "      <td>[O, O, O, O, O, O, O, B-LOCATION, I-LOCATION, ...</td>\n",
              "      <td>False</td>\n",
              "    </tr>\n",
              "    <tr>\n",
              "      <th>2</th>\n",
              "      <td>[Theo, đó, ,, Sở, Y, tế, Bình, Thuận, cho, biế...</td>\n",
              "      <td>[(Sở Y tế Bình Thuận, ORGANIZATION), (34, PATI...</td>\n",
              "      <td>[('Sở Y tế Bình Thuận', 'ORGANIZATION'), ('34'...</td>\n",
              "      <td>Named Entity Recognition Task\\n\\nSentence: The...</td>\n",
              "      <td>[('Sở Y tế Bình Thuận', 'ORGANIZATION'), ('34'...</td>\n",
              "      <td>True</td>\n",
              "      <td>[O, O, O, B-ORGANIZATION, I-ORGANIZATION, I-OR...</td>\n",
              "      <td>[O, O, O, B-ORGANIZATION, I-ORGANIZATION, I-OR...</td>\n",
              "      <td>False</td>\n",
              "    </tr>\n",
              "    <tr>\n",
              "      <th>3</th>\n",
              "      <td>[Bệnh, nhân, 218, :, nữ, ,, 43, tuổi, ,, quốc,...</td>\n",
              "      <td>[(218, PATIENT_ID), (nữ, GENDER), (43, AGE), (...</td>\n",
              "      <td>[('218', 'PATIENT_ID'), ('nữ', 'GENDER'), ('43...</td>\n",
              "      <td>Named Entity Recognition Task\\n\\nSentence: Bện...</td>\n",
              "      <td>[('218', 'PATIENT_ID'), ('nữ', 'GENDER'), ('43...</td>\n",
              "      <td>False</td>\n",
              "      <td>[O, O, B-PATIENT_ID, O, B-GENDER, O, B-AGE, O,...</td>\n",
              "      <td>[O, O, B-PATIENT_ID, O, B-GENDER, O, B-AGE, O,...</td>\n",
              "      <td>False</td>\n",
              "    </tr>\n",
              "    <tr>\n",
              "      <th>4</th>\n",
              "      <td>[Ông, cùng, 4, người, khác, hôm, 4/3, từ, Mala...</td>\n",
              "      <td>[(4/3, DATE), (Malaysia, LOCATION), (sân bay T...</td>\n",
              "      <td>[('4/3', 'DATE'), ('Malaysia', 'LOCATION'), ('...</td>\n",
              "      <td>Named Entity Recognition Task\\n\\nSentence: Ông...</td>\n",
              "      <td>[('4/3', 'DATE'), ('Malaysia', 'LOCATION'), ('...</td>\n",
              "      <td>True</td>\n",
              "      <td>[O, O, O, O, O, O, B-DATE, O, B-LOCATION, O, B...</td>\n",
              "      <td>[O, O, O, O, O, O, B-DATE, O, B-LOCATION, O, B...</td>\n",
              "      <td>False</td>\n",
              "    </tr>\n",
              "  </tbody>\n",
              "</table>\n",
              "</div>"
            ],
            "text/plain": [
              "                                               words  \\\n",
              "0  [Từ, 24, -, 7, đến, 31, -, 7, ,, bệnh, nhân, đ...   \n",
              "1  [Bác, sĩ, Trần, Thanh, Linh, ,, từ, Bệnh, viện...   \n",
              "2  [Theo, đó, ,, Sở, Y, tế, Bình, Thuận, cho, biế...   \n",
              "3  [Bệnh, nhân, 218, :, nữ, ,, 43, tuổi, ,, quốc,...   \n",
              "4  [Ông, cùng, 4, người, khác, hôm, 4/3, từ, Mala...   \n",
              "\n",
              "                                             outputs  \\\n",
              "0  [(24 - 7, DATE), (31 - 7, DATE), (H.T.P, NAME)...   \n",
              "1  [(Bệnh viện Chợ Rẫy, ORGANIZATION), (416, PATI...   \n",
              "2  [(Sở Y tế Bình Thuận, ORGANIZATION), (34, PATI...   \n",
              "3  [(218, PATIENT_ID), (nữ, GENDER), (43, AGE), (...   \n",
              "4  [(4/3, DATE), (Malaysia, LOCATION), (sân bay T...   \n",
              "\n",
              "                                      outputs_string  \\\n",
              "0  [('24 - 7', 'DATE'), ('31 - 7', 'DATE'), ('H.T...   \n",
              "1  [('Bệnh viện Chợ Rẫy', 'ORGANIZATION'), ('416'...   \n",
              "2  [('Sở Y tế Bình Thuận', 'ORGANIZATION'), ('34'...   \n",
              "3  [('218', 'PATIENT_ID'), ('nữ', 'GENDER'), ('43...   \n",
              "4  [('4/3', 'DATE'), ('Malaysia', 'LOCATION'), ('...   \n",
              "\n",
              "                                            response  \\\n",
              "0  Named Entity Recognition Task\\n\\nSentence: Từ ...   \n",
              "1  Named Entity Recognition Task\\n\\nSentence: Bác...   \n",
              "2  Named Entity Recognition Task\\n\\nSentence: The...   \n",
              "3  Named Entity Recognition Task\\n\\nSentence: Bện...   \n",
              "4  Named Entity Recognition Task\\n\\nSentence: Ông...   \n",
              "\n",
              "                                          prediction  check  \\\n",
              "0  [('24 - 7', 'DATE'), ('31 - 7', 'DATE'), ('H.T...  False   \n",
              "1  [('Bệnh viện Chợ Rẫy', 'LOCATION'), ('416', 'P...  False   \n",
              "2  [('Sở Y tế Bình Thuận', 'ORGANIZATION'), ('34'...   True   \n",
              "3  [('218', 'PATIENT_ID'), ('nữ', 'GENDER'), ('43...  False   \n",
              "4  [('4/3', 'DATE'), ('Malaysia', 'LOCATION'), ('...   True   \n",
              "\n",
              "                                                tags  \\\n",
              "0  [O, B-DATE, I-DATE, I-DATE, O, B-DATE, I-DATE,...   \n",
              "1  [O, O, O, O, O, O, O, B-ORGANIZATION, I-ORGANI...   \n",
              "2  [O, O, O, B-ORGANIZATION, I-ORGANIZATION, I-OR...   \n",
              "3  [O, O, B-PATIENT_ID, O, B-GENDER, O, B-AGE, O,...   \n",
              "4  [O, O, O, O, O, O, B-DATE, O, B-LOCATION, O, B...   \n",
              "\n",
              "                                        predict_tags   bugs  \n",
              "0  [O, B-DATE, I-DATE, I-DATE, O, B-DATE, I-DATE,...  False  \n",
              "1  [O, O, O, O, O, O, O, B-LOCATION, I-LOCATION, ...  False  \n",
              "2  [O, O, O, B-ORGANIZATION, I-ORGANIZATION, I-OR...  False  \n",
              "3  [O, O, B-PATIENT_ID, O, B-GENDER, O, B-AGE, O,...  False  \n",
              "4  [O, O, O, O, O, O, B-DATE, O, B-LOCATION, O, B...  False  "
            ]
          },
          "execution_count": 141,
          "metadata": {},
          "output_type": "execute_result"
        }
      ],
      "source": [
        "df.head()"
      ]
    },
    {
      "cell_type": "code",
      "execution_count": null,
      "metadata": {
        "id": "CwoHT2cqkET1"
      },
      "outputs": [],
      "source": [
        "df.to_excel(\"predict.xlsx\", index=False)"
      ]
    },
    {
      "cell_type": "code",
      "execution_count": null,
      "metadata": {
        "id": "Jn-LiTdhrnva"
      },
      "outputs": [],
      "source": []
    }
  ],
  "metadata": {
    "accelerator": "GPU",
    "colab": {
      "gpuType": "T4",
      "provenance": []
    },
    "kernelspec": {
      "display_name": "Python 3 (ipykernel)",
      "language": "python",
      "name": "python3"
    },
    "language_info": {
      "codemirror_mode": {
        "name": "ipython",
        "version": 3
      },
      "file_extension": ".py",
      "mimetype": "text/x-python",
      "name": "python",
      "nbconvert_exporter": "python",
      "pygments_lexer": "ipython3",
      "version": "3.11.9"
    },
    "widgets": {
      "application/vnd.jupyter.widget-state+json": {
        "04de32b6ec0b42159af893f77a09a2e1": {
          "model_module": "@jupyter-widgets/controls",
          "model_module_version": "1.5.0",
          "model_name": "ProgressStyleModel",
          "state": {
            "_model_module": "@jupyter-widgets/controls",
            "_model_module_version": "1.5.0",
            "_model_name": "ProgressStyleModel",
            "_view_count": null,
            "_view_module": "@jupyter-widgets/base",
            "_view_module_version": "1.2.0",
            "_view_name": "StyleView",
            "bar_color": null,
            "description_width": ""
          }
        },
        "0b42f1c214f347e8ba29ced16c7f8d56": {
          "model_module": "@jupyter-widgets/controls",
          "model_module_version": "1.5.0",
          "model_name": "DescriptionStyleModel",
          "state": {
            "_model_module": "@jupyter-widgets/controls",
            "_model_module_version": "1.5.0",
            "_model_name": "DescriptionStyleModel",
            "_view_count": null,
            "_view_module": "@jupyter-widgets/base",
            "_view_module_version": "1.2.0",
            "_view_name": "StyleView",
            "description_width": ""
          }
        },
        "0e95e117365542f7a96167250fb98143": {
          "model_module": "@jupyter-widgets/controls",
          "model_module_version": "1.5.0",
          "model_name": "FloatProgressModel",
          "state": {
            "_dom_classes": [],
            "_model_module": "@jupyter-widgets/controls",
            "_model_module_version": "1.5.0",
            "_model_name": "FloatProgressModel",
            "_view_count": null,
            "_view_module": "@jupyter-widgets/controls",
            "_view_module_version": "1.5.0",
            "_view_name": "ProgressView",
            "bar_style": "success",
            "description": "",
            "description_tooltip": null,
            "layout": "IPY_MODEL_daf1bda8fd0a4a3b960dbebbd1db67d6",
            "max": 1,
            "min": 0,
            "orientation": "horizontal",
            "style": "IPY_MODEL_04de32b6ec0b42159af893f77a09a2e1",
            "value": 1
          }
        },
        "0f83c4086cff4eb4aaab92f27f7a7f95": {
          "model_module": "@jupyter-widgets/controls",
          "model_module_version": "1.5.0",
          "model_name": "DescriptionStyleModel",
          "state": {
            "_model_module": "@jupyter-widgets/controls",
            "_model_module_version": "1.5.0",
            "_model_name": "DescriptionStyleModel",
            "_view_count": null,
            "_view_module": "@jupyter-widgets/base",
            "_view_module_version": "1.2.0",
            "_view_name": "StyleView",
            "description_width": ""
          }
        },
        "158b4684e76143769e789d2c715060b8": {
          "model_module": "@jupyter-widgets/base",
          "model_module_version": "1.2.0",
          "model_name": "LayoutModel",
          "state": {
            "_model_module": "@jupyter-widgets/base",
            "_model_module_version": "1.2.0",
            "_model_name": "LayoutModel",
            "_view_count": null,
            "_view_module": "@jupyter-widgets/base",
            "_view_module_version": "1.2.0",
            "_view_name": "LayoutView",
            "align_content": null,
            "align_items": null,
            "align_self": null,
            "border": null,
            "bottom": null,
            "display": null,
            "flex": null,
            "flex_flow": null,
            "grid_area": null,
            "grid_auto_columns": null,
            "grid_auto_flow": null,
            "grid_auto_rows": null,
            "grid_column": null,
            "grid_gap": null,
            "grid_row": null,
            "grid_template_areas": null,
            "grid_template_columns": null,
            "grid_template_rows": null,
            "height": null,
            "justify_content": null,
            "justify_items": null,
            "left": null,
            "margin": null,
            "max_height": null,
            "max_width": null,
            "min_height": null,
            "min_width": null,
            "object_fit": null,
            "object_position": null,
            "order": null,
            "overflow": null,
            "overflow_x": null,
            "overflow_y": null,
            "padding": null,
            "right": null,
            "top": null,
            "visibility": null,
            "width": null
          }
        },
        "1c3442d63cae4cd6943089d55a7089a6": {
          "model_module": "@jupyter-widgets/base",
          "model_module_version": "1.2.0",
          "model_name": "LayoutModel",
          "state": {
            "_model_module": "@jupyter-widgets/base",
            "_model_module_version": "1.2.0",
            "_model_name": "LayoutModel",
            "_view_count": null,
            "_view_module": "@jupyter-widgets/base",
            "_view_module_version": "1.2.0",
            "_view_name": "LayoutView",
            "align_content": null,
            "align_items": null,
            "align_self": null,
            "border": null,
            "bottom": null,
            "display": null,
            "flex": null,
            "flex_flow": null,
            "grid_area": null,
            "grid_auto_columns": null,
            "grid_auto_flow": null,
            "grid_auto_rows": null,
            "grid_column": null,
            "grid_gap": null,
            "grid_row": null,
            "grid_template_areas": null,
            "grid_template_columns": null,
            "grid_template_rows": null,
            "height": null,
            "justify_content": null,
            "justify_items": null,
            "left": null,
            "margin": null,
            "max_height": null,
            "max_width": null,
            "min_height": null,
            "min_width": null,
            "object_fit": null,
            "object_position": null,
            "order": null,
            "overflow": null,
            "overflow_x": null,
            "overflow_y": null,
            "padding": null,
            "right": null,
            "top": null,
            "visibility": null,
            "width": null
          }
        },
        "203c319d5f854f1584202093402aef72": {
          "model_module": "@jupyter-widgets/base",
          "model_module_version": "1.2.0",
          "model_name": "LayoutModel",
          "state": {
            "_model_module": "@jupyter-widgets/base",
            "_model_module_version": "1.2.0",
            "_model_name": "LayoutModel",
            "_view_count": null,
            "_view_module": "@jupyter-widgets/base",
            "_view_module_version": "1.2.0",
            "_view_name": "LayoutView",
            "align_content": null,
            "align_items": null,
            "align_self": null,
            "border": null,
            "bottom": null,
            "display": null,
            "flex": null,
            "flex_flow": null,
            "grid_area": null,
            "grid_auto_columns": null,
            "grid_auto_flow": null,
            "grid_auto_rows": null,
            "grid_column": null,
            "grid_gap": null,
            "grid_row": null,
            "grid_template_areas": null,
            "grid_template_columns": null,
            "grid_template_rows": null,
            "height": null,
            "justify_content": null,
            "justify_items": null,
            "left": null,
            "margin": null,
            "max_height": null,
            "max_width": null,
            "min_height": null,
            "min_width": null,
            "object_fit": null,
            "object_position": null,
            "order": null,
            "overflow": null,
            "overflow_x": null,
            "overflow_y": null,
            "padding": null,
            "right": null,
            "top": null,
            "visibility": null,
            "width": null
          }
        },
        "22700dc8624245cdb0c9555305c1b87b": {
          "model_module": "@jupyter-widgets/controls",
          "model_module_version": "1.5.0",
          "model_name": "HTMLModel",
          "state": {
            "_dom_classes": [],
            "_model_module": "@jupyter-widgets/controls",
            "_model_module_version": "1.5.0",
            "_model_name": "HTMLModel",
            "_view_count": null,
            "_view_module": "@jupyter-widgets/controls",
            "_view_module_version": "1.5.0",
            "_view_name": "HTMLView",
            "description": "",
            "description_tooltip": null,
            "layout": "IPY_MODEL_c678b76a052a44c7ab94e716626bfb38",
            "placeholder": "​",
            "style": "IPY_MODEL_fbc00f101b474b7196ff237d2f4dd404",
            "value": " 2000/0 [00:00&lt;00:00, 23926.43 examples/s]"
          }
        },
        "2923cf7edd704cc4aa2f0b630c22800e": {
          "model_module": "@jupyter-widgets/base",
          "model_module_version": "1.2.0",
          "model_name": "LayoutModel",
          "state": {
            "_model_module": "@jupyter-widgets/base",
            "_model_module_version": "1.2.0",
            "_model_name": "LayoutModel",
            "_view_count": null,
            "_view_module": "@jupyter-widgets/base",
            "_view_module_version": "1.2.0",
            "_view_name": "LayoutView",
            "align_content": null,
            "align_items": null,
            "align_self": null,
            "border": null,
            "bottom": null,
            "display": null,
            "flex": null,
            "flex_flow": null,
            "grid_area": null,
            "grid_auto_columns": null,
            "grid_auto_flow": null,
            "grid_auto_rows": null,
            "grid_column": null,
            "grid_gap": null,
            "grid_row": null,
            "grid_template_areas": null,
            "grid_template_columns": null,
            "grid_template_rows": null,
            "height": null,
            "justify_content": null,
            "justify_items": null,
            "left": null,
            "margin": null,
            "max_height": null,
            "max_width": null,
            "min_height": null,
            "min_width": null,
            "object_fit": null,
            "object_position": null,
            "order": null,
            "overflow": null,
            "overflow_x": null,
            "overflow_y": null,
            "padding": null,
            "right": null,
            "top": null,
            "visibility": null,
            "width": null
          }
        },
        "306d7e0871e147b29bef48dcb351048e": {
          "model_module": "@jupyter-widgets/controls",
          "model_module_version": "1.5.0",
          "model_name": "HBoxModel",
          "state": {
            "_dom_classes": [],
            "_model_module": "@jupyter-widgets/controls",
            "_model_module_version": "1.5.0",
            "_model_name": "HBoxModel",
            "_view_count": null,
            "_view_module": "@jupyter-widgets/controls",
            "_view_module_version": "1.5.0",
            "_view_name": "HBoxView",
            "box_style": "",
            "children": [
              "IPY_MODEL_ef1cd2ba68b74d5eb5c30434ebfd8d43",
              "IPY_MODEL_0e95e117365542f7a96167250fb98143",
              "IPY_MODEL_22700dc8624245cdb0c9555305c1b87b"
            ],
            "layout": "IPY_MODEL_66368197562e401a95fbda72f38105dd"
          }
        },
        "30bfbb549d0f4dc79621340e35d82489": {
          "model_module": "@jupyter-widgets/base",
          "model_module_version": "1.2.0",
          "model_name": "LayoutModel",
          "state": {
            "_model_module": "@jupyter-widgets/base",
            "_model_module_version": "1.2.0",
            "_model_name": "LayoutModel",
            "_view_count": null,
            "_view_module": "@jupyter-widgets/base",
            "_view_module_version": "1.2.0",
            "_view_name": "LayoutView",
            "align_content": null,
            "align_items": null,
            "align_self": null,
            "border": null,
            "bottom": null,
            "display": null,
            "flex": null,
            "flex_flow": null,
            "grid_area": null,
            "grid_auto_columns": null,
            "grid_auto_flow": null,
            "grid_auto_rows": null,
            "grid_column": null,
            "grid_gap": null,
            "grid_row": null,
            "grid_template_areas": null,
            "grid_template_columns": null,
            "grid_template_rows": null,
            "height": null,
            "justify_content": null,
            "justify_items": null,
            "left": null,
            "margin": null,
            "max_height": null,
            "max_width": null,
            "min_height": null,
            "min_width": null,
            "object_fit": null,
            "object_position": null,
            "order": null,
            "overflow": null,
            "overflow_x": null,
            "overflow_y": null,
            "padding": null,
            "right": null,
            "top": null,
            "visibility": null,
            "width": null
          }
        },
        "31b0729893e549b08a9a3b74c4b99fd2": {
          "model_module": "@jupyter-widgets/base",
          "model_module_version": "1.2.0",
          "model_name": "LayoutModel",
          "state": {
            "_model_module": "@jupyter-widgets/base",
            "_model_module_version": "1.2.0",
            "_model_name": "LayoutModel",
            "_view_count": null,
            "_view_module": "@jupyter-widgets/base",
            "_view_module_version": "1.2.0",
            "_view_name": "LayoutView",
            "align_content": null,
            "align_items": null,
            "align_self": null,
            "border": null,
            "bottom": null,
            "display": null,
            "flex": null,
            "flex_flow": null,
            "grid_area": null,
            "grid_auto_columns": null,
            "grid_auto_flow": null,
            "grid_auto_rows": null,
            "grid_column": null,
            "grid_gap": null,
            "grid_row": null,
            "grid_template_areas": null,
            "grid_template_columns": null,
            "grid_template_rows": null,
            "height": null,
            "justify_content": null,
            "justify_items": null,
            "left": null,
            "margin": null,
            "max_height": null,
            "max_width": null,
            "min_height": null,
            "min_width": null,
            "object_fit": null,
            "object_position": null,
            "order": null,
            "overflow": null,
            "overflow_x": null,
            "overflow_y": null,
            "padding": null,
            "right": null,
            "top": null,
            "visibility": null,
            "width": null
          }
        },
        "39f3049bbe7b4f6fbff248d9362e06ad": {
          "model_module": "@jupyter-widgets/controls",
          "model_module_version": "1.5.0",
          "model_name": "DescriptionStyleModel",
          "state": {
            "_model_module": "@jupyter-widgets/controls",
            "_model_module_version": "1.5.0",
            "_model_name": "DescriptionStyleModel",
            "_view_count": null,
            "_view_module": "@jupyter-widgets/base",
            "_view_module_version": "1.2.0",
            "_view_name": "StyleView",
            "description_width": ""
          }
        },
        "3f7dcc9a65894f8aa55bce26a5f27325": {
          "model_module": "@jupyter-widgets/controls",
          "model_module_version": "1.5.0",
          "model_name": "HTMLModel",
          "state": {
            "_dom_classes": [],
            "_model_module": "@jupyter-widgets/controls",
            "_model_module_version": "1.5.0",
            "_model_name": "HTMLModel",
            "_view_count": null,
            "_view_module": "@jupyter-widgets/controls",
            "_view_module_version": "1.5.0",
            "_view_name": "HTMLView",
            "description": "",
            "description_tooltip": null,
            "layout": "IPY_MODEL_d3538b6531ef4d1693eb455c59c674b7",
            "placeholder": "​",
            "style": "IPY_MODEL_803d355df0404e1d9cf2a2ec3fff1a98",
            "value": "Generating train split: "
          }
        },
        "41b8523b5a6246c4abfa97da0cde8c08": {
          "model_module": "@jupyter-widgets/controls",
          "model_module_version": "1.5.0",
          "model_name": "ProgressStyleModel",
          "state": {
            "_model_module": "@jupyter-widgets/controls",
            "_model_module_version": "1.5.0",
            "_model_name": "ProgressStyleModel",
            "_view_count": null,
            "_view_module": "@jupyter-widgets/base",
            "_view_module_version": "1.2.0",
            "_view_name": "StyleView",
            "bar_color": null,
            "description_width": ""
          }
        },
        "4c4d1604b800451a9c00b649e0a4b3f7": {
          "model_module": "@jupyter-widgets/controls",
          "model_module_version": "1.5.0",
          "model_name": "FloatProgressModel",
          "state": {
            "_dom_classes": [],
            "_model_module": "@jupyter-widgets/controls",
            "_model_module_version": "1.5.0",
            "_model_name": "FloatProgressModel",
            "_view_count": null,
            "_view_module": "@jupyter-widgets/controls",
            "_view_module_version": "1.5.0",
            "_view_name": "ProgressView",
            "bar_style": "success",
            "description": "",
            "description_tooltip": null,
            "layout": "IPY_MODEL_30bfbb549d0f4dc79621340e35d82489",
            "max": 2000,
            "min": 0,
            "orientation": "horizontal",
            "style": "IPY_MODEL_74899266d620482a9026de0845dab2b8",
            "value": 2000
          }
        },
        "50ff0355795142868702b4ee893133fc": {
          "model_module": "@jupyter-widgets/base",
          "model_module_version": "1.2.0",
          "model_name": "LayoutModel",
          "state": {
            "_model_module": "@jupyter-widgets/base",
            "_model_module_version": "1.2.0",
            "_model_name": "LayoutModel",
            "_view_count": null,
            "_view_module": "@jupyter-widgets/base",
            "_view_module_version": "1.2.0",
            "_view_name": "LayoutView",
            "align_content": null,
            "align_items": null,
            "align_self": null,
            "border": null,
            "bottom": null,
            "display": null,
            "flex": null,
            "flex_flow": null,
            "grid_area": null,
            "grid_auto_columns": null,
            "grid_auto_flow": null,
            "grid_auto_rows": null,
            "grid_column": null,
            "grid_gap": null,
            "grid_row": null,
            "grid_template_areas": null,
            "grid_template_columns": null,
            "grid_template_rows": null,
            "height": null,
            "justify_content": null,
            "justify_items": null,
            "left": null,
            "margin": null,
            "max_height": null,
            "max_width": null,
            "min_height": null,
            "min_width": null,
            "object_fit": null,
            "object_position": null,
            "order": null,
            "overflow": null,
            "overflow_x": null,
            "overflow_y": null,
            "padding": null,
            "right": null,
            "top": null,
            "visibility": null,
            "width": null
          }
        },
        "599607286d8842a6bd21307c4d66bdb5": {
          "model_module": "@jupyter-widgets/controls",
          "model_module_version": "1.5.0",
          "model_name": "ProgressStyleModel",
          "state": {
            "_model_module": "@jupyter-widgets/controls",
            "_model_module_version": "1.5.0",
            "_model_name": "ProgressStyleModel",
            "_view_count": null,
            "_view_module": "@jupyter-widgets/base",
            "_view_module_version": "1.2.0",
            "_view_name": "StyleView",
            "bar_color": null,
            "description_width": ""
          }
        },
        "66368197562e401a95fbda72f38105dd": {
          "model_module": "@jupyter-widgets/base",
          "model_module_version": "1.2.0",
          "model_name": "LayoutModel",
          "state": {
            "_model_module": "@jupyter-widgets/base",
            "_model_module_version": "1.2.0",
            "_model_name": "LayoutModel",
            "_view_count": null,
            "_view_module": "@jupyter-widgets/base",
            "_view_module_version": "1.2.0",
            "_view_name": "LayoutView",
            "align_content": null,
            "align_items": null,
            "align_self": null,
            "border": null,
            "bottom": null,
            "display": null,
            "flex": null,
            "flex_flow": null,
            "grid_area": null,
            "grid_auto_columns": null,
            "grid_auto_flow": null,
            "grid_auto_rows": null,
            "grid_column": null,
            "grid_gap": null,
            "grid_row": null,
            "grid_template_areas": null,
            "grid_template_columns": null,
            "grid_template_rows": null,
            "height": null,
            "justify_content": null,
            "justify_items": null,
            "left": null,
            "margin": null,
            "max_height": null,
            "max_width": null,
            "min_height": null,
            "min_width": null,
            "object_fit": null,
            "object_position": null,
            "order": null,
            "overflow": null,
            "overflow_x": null,
            "overflow_y": null,
            "padding": null,
            "right": null,
            "top": null,
            "visibility": null,
            "width": null
          }
        },
        "6711e76ad414459abfadf946166353a5": {
          "model_module": "@jupyter-widgets/controls",
          "model_module_version": "1.5.0",
          "model_name": "DescriptionStyleModel",
          "state": {
            "_model_module": "@jupyter-widgets/controls",
            "_model_module_version": "1.5.0",
            "_model_name": "DescriptionStyleModel",
            "_view_count": null,
            "_view_module": "@jupyter-widgets/base",
            "_view_module_version": "1.2.0",
            "_view_name": "StyleView",
            "description_width": ""
          }
        },
        "68067171bc0745eea0b8b43d3a7694b7": {
          "model_module": "@jupyter-widgets/controls",
          "model_module_version": "1.5.0",
          "model_name": "FloatProgressModel",
          "state": {
            "_dom_classes": [],
            "_model_module": "@jupyter-widgets/controls",
            "_model_module_version": "1.5.0",
            "_model_name": "FloatProgressModel",
            "_view_count": null,
            "_view_module": "@jupyter-widgets/controls",
            "_view_module_version": "1.5.0",
            "_view_name": "ProgressView",
            "bar_style": "success",
            "description": "",
            "description_tooltip": null,
            "layout": "IPY_MODEL_7e915750d549459eb95b07f91dd122f0",
            "max": 1,
            "min": 0,
            "orientation": "horizontal",
            "style": "IPY_MODEL_599607286d8842a6bd21307c4d66bdb5",
            "value": 1
          }
        },
        "69e8d813279149c5b0f7324e79d0fecc": {
          "model_module": "@jupyter-widgets/controls",
          "model_module_version": "1.5.0",
          "model_name": "DescriptionStyleModel",
          "state": {
            "_model_module": "@jupyter-widgets/controls",
            "_model_module_version": "1.5.0",
            "_model_name": "DescriptionStyleModel",
            "_view_count": null,
            "_view_module": "@jupyter-widgets/base",
            "_view_module_version": "1.2.0",
            "_view_name": "StyleView",
            "description_width": ""
          }
        },
        "6cd0482e44ca496f95a9afbdb1fa227b": {
          "model_module": "@jupyter-widgets/controls",
          "model_module_version": "1.5.0",
          "model_name": "HTMLModel",
          "state": {
            "_dom_classes": [],
            "_model_module": "@jupyter-widgets/controls",
            "_model_module_version": "1.5.0",
            "_model_name": "HTMLModel",
            "_view_count": null,
            "_view_module": "@jupyter-widgets/controls",
            "_view_module_version": "1.5.0",
            "_view_name": "HTMLView",
            "description": "",
            "description_tooltip": null,
            "layout": "IPY_MODEL_2923cf7edd704cc4aa2f0b630c22800e",
            "placeholder": "​",
            "style": "IPY_MODEL_6711e76ad414459abfadf946166353a5",
            "value": " 2000/2000 [00:01&lt;00:00, 1635.92 examples/s]"
          }
        },
        "74899266d620482a9026de0845dab2b8": {
          "model_module": "@jupyter-widgets/controls",
          "model_module_version": "1.5.0",
          "model_name": "ProgressStyleModel",
          "state": {
            "_model_module": "@jupyter-widgets/controls",
            "_model_module_version": "1.5.0",
            "_model_name": "ProgressStyleModel",
            "_view_count": null,
            "_view_module": "@jupyter-widgets/base",
            "_view_module_version": "1.2.0",
            "_view_name": "StyleView",
            "bar_color": null,
            "description_width": ""
          }
        },
        "78fd8766cce940c1a6c7ab47f92f6502": {
          "model_module": "@jupyter-widgets/base",
          "model_module_version": "1.2.0",
          "model_name": "LayoutModel",
          "state": {
            "_model_module": "@jupyter-widgets/base",
            "_model_module_version": "1.2.0",
            "_model_name": "LayoutModel",
            "_view_count": null,
            "_view_module": "@jupyter-widgets/base",
            "_view_module_version": "1.2.0",
            "_view_name": "LayoutView",
            "align_content": null,
            "align_items": null,
            "align_self": null,
            "border": null,
            "bottom": null,
            "display": null,
            "flex": null,
            "flex_flow": null,
            "grid_area": null,
            "grid_auto_columns": null,
            "grid_auto_flow": null,
            "grid_auto_rows": null,
            "grid_column": null,
            "grid_gap": null,
            "grid_row": null,
            "grid_template_areas": null,
            "grid_template_columns": null,
            "grid_template_rows": null,
            "height": null,
            "justify_content": null,
            "justify_items": null,
            "left": null,
            "margin": null,
            "max_height": null,
            "max_width": null,
            "min_height": null,
            "min_width": null,
            "object_fit": null,
            "object_position": null,
            "order": null,
            "overflow": null,
            "overflow_x": null,
            "overflow_y": null,
            "padding": null,
            "right": null,
            "top": null,
            "visibility": null,
            "width": null
          }
        },
        "7e915750d549459eb95b07f91dd122f0": {
          "model_module": "@jupyter-widgets/base",
          "model_module_version": "1.2.0",
          "model_name": "LayoutModel",
          "state": {
            "_model_module": "@jupyter-widgets/base",
            "_model_module_version": "1.2.0",
            "_model_name": "LayoutModel",
            "_view_count": null,
            "_view_module": "@jupyter-widgets/base",
            "_view_module_version": "1.2.0",
            "_view_name": "LayoutView",
            "align_content": null,
            "align_items": null,
            "align_self": null,
            "border": null,
            "bottom": null,
            "display": null,
            "flex": null,
            "flex_flow": null,
            "grid_area": null,
            "grid_auto_columns": null,
            "grid_auto_flow": null,
            "grid_auto_rows": null,
            "grid_column": null,
            "grid_gap": null,
            "grid_row": null,
            "grid_template_areas": null,
            "grid_template_columns": null,
            "grid_template_rows": null,
            "height": null,
            "justify_content": null,
            "justify_items": null,
            "left": null,
            "margin": null,
            "max_height": null,
            "max_width": null,
            "min_height": null,
            "min_width": null,
            "object_fit": null,
            "object_position": null,
            "order": null,
            "overflow": null,
            "overflow_x": null,
            "overflow_y": null,
            "padding": null,
            "right": null,
            "top": null,
            "visibility": null,
            "width": "20px"
          }
        },
        "803d355df0404e1d9cf2a2ec3fff1a98": {
          "model_module": "@jupyter-widgets/controls",
          "model_module_version": "1.5.0",
          "model_name": "DescriptionStyleModel",
          "state": {
            "_model_module": "@jupyter-widgets/controls",
            "_model_module_version": "1.5.0",
            "_model_name": "DescriptionStyleModel",
            "_view_count": null,
            "_view_module": "@jupyter-widgets/base",
            "_view_module_version": "1.2.0",
            "_view_name": "StyleView",
            "description_width": ""
          }
        },
        "9f8c8b9b9f71462080c37eeb77828686": {
          "model_module": "@jupyter-widgets/controls",
          "model_module_version": "1.5.0",
          "model_name": "HBoxModel",
          "state": {
            "_dom_classes": [],
            "_model_module": "@jupyter-widgets/controls",
            "_model_module_version": "1.5.0",
            "_model_name": "HBoxModel",
            "_view_count": null,
            "_view_module": "@jupyter-widgets/controls",
            "_view_module_version": "1.5.0",
            "_view_name": "HBoxView",
            "box_style": "",
            "children": [
              "IPY_MODEL_dd0755f13d1d4fe5b6296f5fe1abab4f",
              "IPY_MODEL_4c4d1604b800451a9c00b649e0a4b3f7",
              "IPY_MODEL_6cd0482e44ca496f95a9afbdb1fa227b"
            ],
            "layout": "IPY_MODEL_e31645f44bd74af8b4d41ffd02420536"
          }
        },
        "9fed19edacec4c9f9c1fa3c9e016c43b": {
          "model_module": "@jupyter-widgets/controls",
          "model_module_version": "1.5.0",
          "model_name": "HBoxModel",
          "state": {
            "_dom_classes": [],
            "_model_module": "@jupyter-widgets/controls",
            "_model_module_version": "1.5.0",
            "_model_name": "HBoxModel",
            "_view_count": null,
            "_view_module": "@jupyter-widgets/controls",
            "_view_module_version": "1.5.0",
            "_view_name": "HBoxView",
            "box_style": "",
            "children": [
              "IPY_MODEL_f9e0f9dd9e3e4ccf951ffd2335c9ecc1",
              "IPY_MODEL_aa81585d7af74886b959532e455f8eca",
              "IPY_MODEL_b77543676b674a349ae7c6ac1de8d8bb"
            ],
            "layout": "IPY_MODEL_78fd8766cce940c1a6c7ab47f92f6502"
          }
        },
        "aa81585d7af74886b959532e455f8eca": {
          "model_module": "@jupyter-widgets/controls",
          "model_module_version": "1.5.0",
          "model_name": "FloatProgressModel",
          "state": {
            "_dom_classes": [],
            "_model_module": "@jupyter-widgets/controls",
            "_model_module_version": "1.5.0",
            "_model_name": "FloatProgressModel",
            "_view_count": null,
            "_view_module": "@jupyter-widgets/controls",
            "_view_module_version": "1.5.0",
            "_view_name": "ProgressView",
            "bar_style": "success",
            "description": "",
            "description_tooltip": null,
            "layout": "IPY_MODEL_1c3442d63cae4cd6943089d55a7089a6",
            "max": 5027,
            "min": 0,
            "orientation": "horizontal",
            "style": "IPY_MODEL_41b8523b5a6246c4abfa97da0cde8c08",
            "value": 5027
          }
        },
        "ad685298d45d486499c123471b709c1b": {
          "model_module": "@jupyter-widgets/controls",
          "model_module_version": "1.5.0",
          "model_name": "HBoxModel",
          "state": {
            "_dom_classes": [],
            "_model_module": "@jupyter-widgets/controls",
            "_model_module_version": "1.5.0",
            "_model_name": "HBoxModel",
            "_view_count": null,
            "_view_module": "@jupyter-widgets/controls",
            "_view_module_version": "1.5.0",
            "_view_name": "HBoxView",
            "box_style": "",
            "children": [
              "IPY_MODEL_3f7dcc9a65894f8aa55bce26a5f27325",
              "IPY_MODEL_68067171bc0745eea0b8b43d3a7694b7",
              "IPY_MODEL_d943ecde451344608e2160fdc40c96a8"
            ],
            "layout": "IPY_MODEL_c94c32f159a9427bb8d8aba0f69c299a"
          }
        },
        "b77543676b674a349ae7c6ac1de8d8bb": {
          "model_module": "@jupyter-widgets/controls",
          "model_module_version": "1.5.0",
          "model_name": "HTMLModel",
          "state": {
            "_dom_classes": [],
            "_model_module": "@jupyter-widgets/controls",
            "_model_module_version": "1.5.0",
            "_model_name": "HTMLModel",
            "_view_count": null,
            "_view_module": "@jupyter-widgets/controls",
            "_view_module_version": "1.5.0",
            "_view_name": "HTMLView",
            "description": "",
            "description_tooltip": null,
            "layout": "IPY_MODEL_203c319d5f854f1584202093402aef72",
            "placeholder": "​",
            "style": "IPY_MODEL_39f3049bbe7b4f6fbff248d9362e06ad",
            "value": " 5027/5027 [00:03&lt;00:00, 1500.84 examples/s]"
          }
        },
        "c0aad3f6b9c246bea33c7229820ae367": {
          "model_module": "@jupyter-widgets/controls",
          "model_module_version": "1.5.0",
          "model_name": "DescriptionStyleModel",
          "state": {
            "_model_module": "@jupyter-widgets/controls",
            "_model_module_version": "1.5.0",
            "_model_name": "DescriptionStyleModel",
            "_view_count": null,
            "_view_module": "@jupyter-widgets/base",
            "_view_module_version": "1.2.0",
            "_view_name": "StyleView",
            "description_width": ""
          }
        },
        "c678b76a052a44c7ab94e716626bfb38": {
          "model_module": "@jupyter-widgets/base",
          "model_module_version": "1.2.0",
          "model_name": "LayoutModel",
          "state": {
            "_model_module": "@jupyter-widgets/base",
            "_model_module_version": "1.2.0",
            "_model_name": "LayoutModel",
            "_view_count": null,
            "_view_module": "@jupyter-widgets/base",
            "_view_module_version": "1.2.0",
            "_view_name": "LayoutView",
            "align_content": null,
            "align_items": null,
            "align_self": null,
            "border": null,
            "bottom": null,
            "display": null,
            "flex": null,
            "flex_flow": null,
            "grid_area": null,
            "grid_auto_columns": null,
            "grid_auto_flow": null,
            "grid_auto_rows": null,
            "grid_column": null,
            "grid_gap": null,
            "grid_row": null,
            "grid_template_areas": null,
            "grid_template_columns": null,
            "grid_template_rows": null,
            "height": null,
            "justify_content": null,
            "justify_items": null,
            "left": null,
            "margin": null,
            "max_height": null,
            "max_width": null,
            "min_height": null,
            "min_width": null,
            "object_fit": null,
            "object_position": null,
            "order": null,
            "overflow": null,
            "overflow_x": null,
            "overflow_y": null,
            "padding": null,
            "right": null,
            "top": null,
            "visibility": null,
            "width": null
          }
        },
        "c94c32f159a9427bb8d8aba0f69c299a": {
          "model_module": "@jupyter-widgets/base",
          "model_module_version": "1.2.0",
          "model_name": "LayoutModel",
          "state": {
            "_model_module": "@jupyter-widgets/base",
            "_model_module_version": "1.2.0",
            "_model_name": "LayoutModel",
            "_view_count": null,
            "_view_module": "@jupyter-widgets/base",
            "_view_module_version": "1.2.0",
            "_view_name": "LayoutView",
            "align_content": null,
            "align_items": null,
            "align_self": null,
            "border": null,
            "bottom": null,
            "display": null,
            "flex": null,
            "flex_flow": null,
            "grid_area": null,
            "grid_auto_columns": null,
            "grid_auto_flow": null,
            "grid_auto_rows": null,
            "grid_column": null,
            "grid_gap": null,
            "grid_row": null,
            "grid_template_areas": null,
            "grid_template_columns": null,
            "grid_template_rows": null,
            "height": null,
            "justify_content": null,
            "justify_items": null,
            "left": null,
            "margin": null,
            "max_height": null,
            "max_width": null,
            "min_height": null,
            "min_width": null,
            "object_fit": null,
            "object_position": null,
            "order": null,
            "overflow": null,
            "overflow_x": null,
            "overflow_y": null,
            "padding": null,
            "right": null,
            "top": null,
            "visibility": null,
            "width": null
          }
        },
        "d3538b6531ef4d1693eb455c59c674b7": {
          "model_module": "@jupyter-widgets/base",
          "model_module_version": "1.2.0",
          "model_name": "LayoutModel",
          "state": {
            "_model_module": "@jupyter-widgets/base",
            "_model_module_version": "1.2.0",
            "_model_name": "LayoutModel",
            "_view_count": null,
            "_view_module": "@jupyter-widgets/base",
            "_view_module_version": "1.2.0",
            "_view_name": "LayoutView",
            "align_content": null,
            "align_items": null,
            "align_self": null,
            "border": null,
            "bottom": null,
            "display": null,
            "flex": null,
            "flex_flow": null,
            "grid_area": null,
            "grid_auto_columns": null,
            "grid_auto_flow": null,
            "grid_auto_rows": null,
            "grid_column": null,
            "grid_gap": null,
            "grid_row": null,
            "grid_template_areas": null,
            "grid_template_columns": null,
            "grid_template_rows": null,
            "height": null,
            "justify_content": null,
            "justify_items": null,
            "left": null,
            "margin": null,
            "max_height": null,
            "max_width": null,
            "min_height": null,
            "min_width": null,
            "object_fit": null,
            "object_position": null,
            "order": null,
            "overflow": null,
            "overflow_x": null,
            "overflow_y": null,
            "padding": null,
            "right": null,
            "top": null,
            "visibility": null,
            "width": null
          }
        },
        "d943ecde451344608e2160fdc40c96a8": {
          "model_module": "@jupyter-widgets/controls",
          "model_module_version": "1.5.0",
          "model_name": "HTMLModel",
          "state": {
            "_dom_classes": [],
            "_model_module": "@jupyter-widgets/controls",
            "_model_module_version": "1.5.0",
            "_model_name": "HTMLModel",
            "_view_count": null,
            "_view_module": "@jupyter-widgets/controls",
            "_view_module_version": "1.5.0",
            "_view_name": "HTMLView",
            "description": "",
            "description_tooltip": null,
            "layout": "IPY_MODEL_158b4684e76143769e789d2c715060b8",
            "placeholder": "​",
            "style": "IPY_MODEL_c0aad3f6b9c246bea33c7229820ae367",
            "value": " 5027/0 [00:00&lt;00:00, 61683.47 examples/s]"
          }
        },
        "daf1bda8fd0a4a3b960dbebbd1db67d6": {
          "model_module": "@jupyter-widgets/base",
          "model_module_version": "1.2.0",
          "model_name": "LayoutModel",
          "state": {
            "_model_module": "@jupyter-widgets/base",
            "_model_module_version": "1.2.0",
            "_model_name": "LayoutModel",
            "_view_count": null,
            "_view_module": "@jupyter-widgets/base",
            "_view_module_version": "1.2.0",
            "_view_name": "LayoutView",
            "align_content": null,
            "align_items": null,
            "align_self": null,
            "border": null,
            "bottom": null,
            "display": null,
            "flex": null,
            "flex_flow": null,
            "grid_area": null,
            "grid_auto_columns": null,
            "grid_auto_flow": null,
            "grid_auto_rows": null,
            "grid_column": null,
            "grid_gap": null,
            "grid_row": null,
            "grid_template_areas": null,
            "grid_template_columns": null,
            "grid_template_rows": null,
            "height": null,
            "justify_content": null,
            "justify_items": null,
            "left": null,
            "margin": null,
            "max_height": null,
            "max_width": null,
            "min_height": null,
            "min_width": null,
            "object_fit": null,
            "object_position": null,
            "order": null,
            "overflow": null,
            "overflow_x": null,
            "overflow_y": null,
            "padding": null,
            "right": null,
            "top": null,
            "visibility": null,
            "width": "20px"
          }
        },
        "dd0755f13d1d4fe5b6296f5fe1abab4f": {
          "model_module": "@jupyter-widgets/controls",
          "model_module_version": "1.5.0",
          "model_name": "HTMLModel",
          "state": {
            "_dom_classes": [],
            "_model_module": "@jupyter-widgets/controls",
            "_model_module_version": "1.5.0",
            "_model_name": "HTMLModel",
            "_view_count": null,
            "_view_module": "@jupyter-widgets/controls",
            "_view_module_version": "1.5.0",
            "_view_name": "HTMLView",
            "description": "",
            "description_tooltip": null,
            "layout": "IPY_MODEL_de16420202bd43409f17f997df406462",
            "placeholder": "​",
            "style": "IPY_MODEL_0b42f1c214f347e8ba29ced16c7f8d56",
            "value": "Map: 100%"
          }
        },
        "de16420202bd43409f17f997df406462": {
          "model_module": "@jupyter-widgets/base",
          "model_module_version": "1.2.0",
          "model_name": "LayoutModel",
          "state": {
            "_model_module": "@jupyter-widgets/base",
            "_model_module_version": "1.2.0",
            "_model_name": "LayoutModel",
            "_view_count": null,
            "_view_module": "@jupyter-widgets/base",
            "_view_module_version": "1.2.0",
            "_view_name": "LayoutView",
            "align_content": null,
            "align_items": null,
            "align_self": null,
            "border": null,
            "bottom": null,
            "display": null,
            "flex": null,
            "flex_flow": null,
            "grid_area": null,
            "grid_auto_columns": null,
            "grid_auto_flow": null,
            "grid_auto_rows": null,
            "grid_column": null,
            "grid_gap": null,
            "grid_row": null,
            "grid_template_areas": null,
            "grid_template_columns": null,
            "grid_template_rows": null,
            "height": null,
            "justify_content": null,
            "justify_items": null,
            "left": null,
            "margin": null,
            "max_height": null,
            "max_width": null,
            "min_height": null,
            "min_width": null,
            "object_fit": null,
            "object_position": null,
            "order": null,
            "overflow": null,
            "overflow_x": null,
            "overflow_y": null,
            "padding": null,
            "right": null,
            "top": null,
            "visibility": null,
            "width": null
          }
        },
        "e31645f44bd74af8b4d41ffd02420536": {
          "model_module": "@jupyter-widgets/base",
          "model_module_version": "1.2.0",
          "model_name": "LayoutModel",
          "state": {
            "_model_module": "@jupyter-widgets/base",
            "_model_module_version": "1.2.0",
            "_model_name": "LayoutModel",
            "_view_count": null,
            "_view_module": "@jupyter-widgets/base",
            "_view_module_version": "1.2.0",
            "_view_name": "LayoutView",
            "align_content": null,
            "align_items": null,
            "align_self": null,
            "border": null,
            "bottom": null,
            "display": null,
            "flex": null,
            "flex_flow": null,
            "grid_area": null,
            "grid_auto_columns": null,
            "grid_auto_flow": null,
            "grid_auto_rows": null,
            "grid_column": null,
            "grid_gap": null,
            "grid_row": null,
            "grid_template_areas": null,
            "grid_template_columns": null,
            "grid_template_rows": null,
            "height": null,
            "justify_content": null,
            "justify_items": null,
            "left": null,
            "margin": null,
            "max_height": null,
            "max_width": null,
            "min_height": null,
            "min_width": null,
            "object_fit": null,
            "object_position": null,
            "order": null,
            "overflow": null,
            "overflow_x": null,
            "overflow_y": null,
            "padding": null,
            "right": null,
            "top": null,
            "visibility": null,
            "width": null
          }
        },
        "ef1cd2ba68b74d5eb5c30434ebfd8d43": {
          "model_module": "@jupyter-widgets/controls",
          "model_module_version": "1.5.0",
          "model_name": "HTMLModel",
          "state": {
            "_dom_classes": [],
            "_model_module": "@jupyter-widgets/controls",
            "_model_module_version": "1.5.0",
            "_model_name": "HTMLModel",
            "_view_count": null,
            "_view_module": "@jupyter-widgets/controls",
            "_view_module_version": "1.5.0",
            "_view_name": "HTMLView",
            "description": "",
            "description_tooltip": null,
            "layout": "IPY_MODEL_50ff0355795142868702b4ee893133fc",
            "placeholder": "​",
            "style": "IPY_MODEL_0f83c4086cff4eb4aaab92f27f7a7f95",
            "value": "Generating validation split: "
          }
        },
        "f9e0f9dd9e3e4ccf951ffd2335c9ecc1": {
          "model_module": "@jupyter-widgets/controls",
          "model_module_version": "1.5.0",
          "model_name": "HTMLModel",
          "state": {
            "_dom_classes": [],
            "_model_module": "@jupyter-widgets/controls",
            "_model_module_version": "1.5.0",
            "_model_name": "HTMLModel",
            "_view_count": null,
            "_view_module": "@jupyter-widgets/controls",
            "_view_module_version": "1.5.0",
            "_view_name": "HTMLView",
            "description": "",
            "description_tooltip": null,
            "layout": "IPY_MODEL_31b0729893e549b08a9a3b74c4b99fd2",
            "placeholder": "​",
            "style": "IPY_MODEL_69e8d813279149c5b0f7324e79d0fecc",
            "value": "Map: 100%"
          }
        },
        "fbc00f101b474b7196ff237d2f4dd404": {
          "model_module": "@jupyter-widgets/controls",
          "model_module_version": "1.5.0",
          "model_name": "DescriptionStyleModel",
          "state": {
            "_model_module": "@jupyter-widgets/controls",
            "_model_module_version": "1.5.0",
            "_model_name": "DescriptionStyleModel",
            "_view_count": null,
            "_view_module": "@jupyter-widgets/base",
            "_view_module_version": "1.2.0",
            "_view_name": "StyleView",
            "description_width": ""
          }
        }
      }
    }
  },
  "nbformat": 4,
  "nbformat_minor": 0
}